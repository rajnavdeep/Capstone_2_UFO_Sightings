{
 "cells": [
  {
   "cell_type": "markdown",
   "metadata": {},
   "source": [
    "# 3 Exploratory Data Analysis<a id='3_Exploratory_Data_Analysis'></a>"
   ]
  },
  {
   "cell_type": "markdown",
   "metadata": {},
   "source": [
    "## 3.1 Contents<a id='3.1_Contents'></a>\n",
    "* [3 Exploratory Data Analysis](#3_Exploratory_Data_Analysis)\n",
    "  * [3.1 Contents](#3.1_Contents)\n",
    "  * [3.2 Introduction](#3.2_Introduction)\n",
    "  * [3.3 Imports](#3.3_Imports)\n",
    "  * [3.4 Load The Data](#3.4_Load_The_Data)\n",
    "    * [3.4.1 UFO Clean Dataset](#3.4.1_UFO_Clean_Dataset)\n",
    "    * [3.4.2 Final cleaning if any required](#3.4.2_Final_cleaning_if_any_required)\n",
    "  * [3.5 Univariate Data Exploration](#3.5_Univariate_Data_Exploration)\n",
    "    * [3.5.1 Top_10_UFO Sightings by Country](#3.5.1_Top_10_UFO_Sightings_by_Country)\n",
    "    * [3.5.2 Top UFO Sightings in US by State](#3.5.2_Top_UFO_Sightings_in_US_by_State)\n",
    "    * [3.5.3 UFO Sightings Trend by Year](#3.5.3_UFO_Sightings_Trend_by_Year)\n",
    "    * [3.5.4 UFO Sightings Trend by Day of the Year](#3.5.4_UFO_Sightings_Trend_by_day_of_the_Year)\n",
    "    * [3.5.5 UFO Sightings Distribution by Month](#3.5.5_UFO_Sightings_Distribution_by_Month)\n",
    "    * [3.5.6 Sightings by Time of Day](#3.5.6_Sightings_by_Time_of_day)\n",
    "    * [3.5.7 Sightings by Decade](#3.5.7_Sightings_by_Decade)\n",
    "    * [3.5.8 Sightings by Season](#3.5.8_Sightings_by_Season)\n",
    "    * [3.5.9 Sightings Duration Analysis](#3.5.9_Sightings_Duration_Analysis)\n",
    "    * [3.5.10 Sightings by Shape](#3.5.10_Sightings_by_Shape)\n",
    "  * [3.6 Bivariate Data Exploration](#3.6_Bivariate_Data_Exploration)\n",
    "    * [3.6.1 Avg Duration by Country](#3.6.1_Avg_Duration_by_Country)\n",
    "    * [3.6.2 Avg Duration by Shape](#3.6.2_Avg_Duration_by_Shape)\n",
    "    * [3.6.3 Avg Duration over the Years](#3.6.3_Avg_Duration_over_the_Years)\n",
    "  * [3.7 Significance Hypothesis](#3.7_Significance_Hypothesis)  \n",
    "  \n",
    "     "
   ]
  },
  {
   "cell_type": "markdown",
   "metadata": {},
   "source": [
    "## 3.2 Introduction<a id='3.2_Introduction'></a>"
   ]
  },
  {
   "cell_type": "markdown",
   "metadata": {},
   "source": [
    "* At this point, after doing some wrangling on our original dataset, we now have a pretty clean, nicely formatted and consistent dataset for our deep exploration of its features and to understand their relationship with each other. \n",
    "* In this we will also try to find our target variable for modelling as well as a hypothesis to gain some meaningful insight about the features "
   ]
  },
  {
   "cell_type": "markdown",
   "metadata": {},
   "source": [
    "## 3.3 Imports<a id='3.3_Imports'></a>"
   ]
  },
  {
   "cell_type": "code",
   "execution_count": 415,
   "metadata": {
    "execution": {
     "iopub.execute_input": "2020-10-07T07:04:19.124917Z",
     "iopub.status.busy": "2020-10-07T07:04:19.124711Z",
     "iopub.status.idle": "2020-10-07T07:04:19.128523Z",
     "shell.execute_reply": "2020-10-07T07:04:19.128112Z",
     "shell.execute_reply.started": "2020-10-07T07:04:19.124888Z"
    }
   },
   "outputs": [],
   "source": [
    "import pandas as pd\n",
    "import numpy as np\n",
    "import os\n",
    "import matplotlib.pyplot as plt\n",
    "from matplotlib import cm as cm\n",
    "import seaborn as sns\n",
    "from datetime import datetime\n",
    "import geopandas as gpd\n",
    "import plotly.graph_objects as go\n",
    "from sklearn.preprocessing import MultiLabelBinarizer\n",
    "\n",
    "import statsmodels.api as sm\n",
    "import statsmodels.stats.multicomp\n",
    "import scipy.stats as stats\n",
    "from statsmodels.formula.api import ols\n",
    "from statsmodels.stats.anova import anova_lm"
   ]
  },
  {
   "cell_type": "code",
   "execution_count": 266,
   "metadata": {},
   "outputs": [
    {
     "name": "stdout",
     "output_type": "stream",
     "text": [
      "3.7.3\n"
     ]
    }
   ],
   "source": [
    "from platform import python_version\n",
    "print(python_version())"
   ]
  },
  {
   "cell_type": "markdown",
   "metadata": {},
   "source": [
    "## 3.4 Load The Data<a id='3.4_Load_The_Data'></a>"
   ]
  },
  {
   "cell_type": "markdown",
   "metadata": {},
   "source": [
    "### 3.4.1 UFO Clean Dataset<a id='3.4.1_UFO_Clean_Dataset'></a>"
   ]
  },
  {
   "cell_type": "code",
   "execution_count": 3,
   "metadata": {},
   "outputs": [],
   "source": [
    "ufo = pd.read_csv(r'ufo_cleaned.csv',low_memory = False, parse_dates = True)"
   ]
  },
  {
   "cell_type": "code",
   "execution_count": 4,
   "metadata": {},
   "outputs": [
    {
     "name": "stdout",
     "output_type": "stream",
     "text": [
      "<class 'pandas.core.frame.DataFrame'>\n",
      "RangeIndex: 83392 entries, 0 to 83391\n",
      "Data columns (total 11 columns):\n",
      " #   Column            Non-Null Count  Dtype \n",
      "---  ------            --------------  ----- \n",
      " 0   Date_time         83392 non-null  object\n",
      " 1   Duration_minutes  83189 non-null  object\n",
      " 2   Description       83392 non-null  object\n",
      " 3   Date_posted       83392 non-null  object\n",
      " 4   lat_long          83392 non-null  object\n",
      " 5   Country           83388 non-null  object\n",
      " 6   State             83329 non-null  object\n",
      " 7   City              83392 non-null  object\n",
      " 8   Shape_final       83392 non-null  object\n",
      " 9   Year              83392 non-null  int64 \n",
      " 10  Month             83392 non-null  object\n",
      "dtypes: int64(1), object(10)\n",
      "memory usage: 7.0+ MB\n"
     ]
    }
   ],
   "source": [
    "ufo.info()"
   ]
  },
  {
   "cell_type": "code",
   "execution_count": 5,
   "metadata": {},
   "outputs": [
    {
     "data": {
      "text/html": [
       "<div>\n",
       "<style scoped>\n",
       "    .dataframe tbody tr th:only-of-type {\n",
       "        vertical-align: middle;\n",
       "    }\n",
       "\n",
       "    .dataframe tbody tr th {\n",
       "        vertical-align: top;\n",
       "    }\n",
       "\n",
       "    .dataframe thead th {\n",
       "        text-align: right;\n",
       "    }\n",
       "</style>\n",
       "<table border=\"1\" class=\"dataframe\">\n",
       "  <thead>\n",
       "    <tr style=\"text-align: right;\">\n",
       "      <th></th>\n",
       "      <th>Date_time</th>\n",
       "      <th>Duration_minutes</th>\n",
       "      <th>Description</th>\n",
       "      <th>Date_posted</th>\n",
       "      <th>lat_long</th>\n",
       "      <th>Country</th>\n",
       "      <th>State</th>\n",
       "      <th>City</th>\n",
       "      <th>Shape_final</th>\n",
       "      <th>Year</th>\n",
       "      <th>Month</th>\n",
       "    </tr>\n",
       "  </thead>\n",
       "  <tbody>\n",
       "    <tr>\n",
       "      <th>0</th>\n",
       "      <td>1949-10-10 20:30:00</td>\n",
       "      <td>45.0</td>\n",
       "      <td>This event took place in early fall around 194...</td>\n",
       "      <td>2004-04-27 00:00:00</td>\n",
       "      <td>(29.8830556, -97.9411111)</td>\n",
       "      <td>US</td>\n",
       "      <td>Texas</td>\n",
       "      <td>San Marcos</td>\n",
       "      <td>['cylinder']</td>\n",
       "      <td>1949</td>\n",
       "      <td>October</td>\n",
       "    </tr>\n",
       "    <tr>\n",
       "      <th>1</th>\n",
       "      <td>1949-10-10 21:00:00</td>\n",
       "      <td>60.0</td>\n",
       "      <td>1949 Lackland AFB&amp;#44 TX.  Lights racing acros...</td>\n",
       "      <td>2005-12-16 00:00:00</td>\n",
       "      <td>(29.38421, -98.581082)</td>\n",
       "      <td>US</td>\n",
       "      <td>Texas</td>\n",
       "      <td>Lackland Air Force Base</td>\n",
       "      <td>['light']</td>\n",
       "      <td>1949</td>\n",
       "      <td>October</td>\n",
       "    </tr>\n",
       "    <tr>\n",
       "      <th>2</th>\n",
       "      <td>1955-10-10 17:00:00</td>\n",
       "      <td>0.3333333333333333</td>\n",
       "      <td>Green/Orange circular disc over Chester&amp;#44 En...</td>\n",
       "      <td>2008-01-21 00:00:00</td>\n",
       "      <td>(53.2, -2.916667)</td>\n",
       "      <td>GB</td>\n",
       "      <td>England</td>\n",
       "      <td>Blacon</td>\n",
       "      <td>['circle']</td>\n",
       "      <td>1955</td>\n",
       "      <td>October</td>\n",
       "    </tr>\n",
       "    <tr>\n",
       "      <th>3</th>\n",
       "      <td>1956-10-10 21:00:00</td>\n",
       "      <td>30.0</td>\n",
       "      <td>My older brother and twin sister were leaving ...</td>\n",
       "      <td>2004-01-17 00:00:00</td>\n",
       "      <td>(28.9783333, -96.6458333)</td>\n",
       "      <td>US</td>\n",
       "      <td>Texas</td>\n",
       "      <td>Edna</td>\n",
       "      <td>['circle']</td>\n",
       "      <td>1956</td>\n",
       "      <td>October</td>\n",
       "    </tr>\n",
       "    <tr>\n",
       "      <th>4</th>\n",
       "      <td>1960-10-10 20:00:00</td>\n",
       "      <td>15.0</td>\n",
       "      <td>AS a Marine 1st Lt. flying an FJ4B fighter/att...</td>\n",
       "      <td>2004-01-22 00:00:00</td>\n",
       "      <td>(21.4180556, -157.8036111)</td>\n",
       "      <td>US</td>\n",
       "      <td>Hawaii</td>\n",
       "      <td>Kane'ohe</td>\n",
       "      <td>['light']</td>\n",
       "      <td>1960</td>\n",
       "      <td>October</td>\n",
       "    </tr>\n",
       "  </tbody>\n",
       "</table>\n",
       "</div>"
      ],
      "text/plain": [
       "             Date_time    Duration_minutes  \\\n",
       "0  1949-10-10 20:30:00                45.0   \n",
       "1  1949-10-10 21:00:00                60.0   \n",
       "2  1955-10-10 17:00:00  0.3333333333333333   \n",
       "3  1956-10-10 21:00:00                30.0   \n",
       "4  1960-10-10 20:00:00                15.0   \n",
       "\n",
       "                                         Description          Date_posted  \\\n",
       "0  This event took place in early fall around 194...  2004-04-27 00:00:00   \n",
       "1  1949 Lackland AFB&#44 TX.  Lights racing acros...  2005-12-16 00:00:00   \n",
       "2  Green/Orange circular disc over Chester&#44 En...  2008-01-21 00:00:00   \n",
       "3  My older brother and twin sister were leaving ...  2004-01-17 00:00:00   \n",
       "4  AS a Marine 1st Lt. flying an FJ4B fighter/att...  2004-01-22 00:00:00   \n",
       "\n",
       "                     lat_long Country    State                     City  \\\n",
       "0   (29.8830556, -97.9411111)      US    Texas               San Marcos   \n",
       "1      (29.38421, -98.581082)      US    Texas  Lackland Air Force Base   \n",
       "2           (53.2, -2.916667)      GB  England                   Blacon   \n",
       "3   (28.9783333, -96.6458333)      US    Texas                     Edna   \n",
       "4  (21.4180556, -157.8036111)      US   Hawaii                 Kane'ohe   \n",
       "\n",
       "    Shape_final  Year    Month  \n",
       "0  ['cylinder']  1949  October  \n",
       "1     ['light']  1949  October  \n",
       "2    ['circle']  1955  October  \n",
       "3    ['circle']  1956  October  \n",
       "4     ['light']  1960  October  "
      ]
     },
     "execution_count": 5,
     "metadata": {},
     "output_type": "execute_result"
    }
   ],
   "source": [
    "ufo.head()"
   ]
  },
  {
   "cell_type": "markdown",
   "metadata": {},
   "source": [
    "### 3.4.2 Final cleaning if any required<a id='3.4.2_Final_cleaning_if_any_required'></a>"
   ]
  },
  {
   "cell_type": "code",
   "execution_count": 6,
   "metadata": {},
   "outputs": [],
   "source": [
    " ufo['Date_time'] = ufo['Date_time'].map({t:pd.to_datetime(t,errors=\"coerce\") for t in ufo.Date_time.unique()})\n",
    " ufo['Date_posted'] = ufo['Date_posted'].map({t:pd.to_datetime(t,errors=\"coerce\") for t in ufo.Date_posted.unique()})"
   ]
  },
  {
   "cell_type": "code",
   "execution_count": 7,
   "metadata": {
    "scrolled": true
   },
   "outputs": [],
   "source": [
    "ufo['Duration_minutes'] = pd.to_numeric(ufo['Duration_minutes'],errors='coerce')"
   ]
  },
  {
   "cell_type": "code",
   "execution_count": 8,
   "metadata": {},
   "outputs": [],
   "source": [
    "ufo = ufo.dropna(subset = ['Duration_minutes'])"
   ]
  },
  {
   "cell_type": "code",
   "execution_count": 9,
   "metadata": {},
   "outputs": [],
   "source": [
    "ufo = ufo.dropna(subset = ['State'])"
   ]
  },
  {
   "cell_type": "code",
   "execution_count": 10,
   "metadata": {},
   "outputs": [],
   "source": [
    "ufo = ufo.dropna(subset = ['Country'])"
   ]
  },
  {
   "cell_type": "code",
   "execution_count": 11,
   "metadata": {},
   "outputs": [
    {
     "data": {
      "text/plain": [
       "Date_time           0\n",
       "Duration_minutes    0\n",
       "Description         0\n",
       "Date_posted         0\n",
       "lat_long            0\n",
       "Country             0\n",
       "State               0\n",
       "City                0\n",
       "Shape_final         0\n",
       "Year                0\n",
       "Month               0\n",
       "dtype: int64"
      ]
     },
     "execution_count": 11,
     "metadata": {},
     "output_type": "execute_result"
    }
   ],
   "source": [
    "ufo.isnull().sum()"
   ]
  },
  {
   "cell_type": "code",
   "execution_count": 12,
   "metadata": {},
   "outputs": [
    {
     "name": "stdout",
     "output_type": "stream",
     "text": [
      "<class 'pandas.core.frame.DataFrame'>\n",
      "Int64Index: 77546 entries, 0 to 83389\n",
      "Data columns (total 11 columns):\n",
      " #   Column            Non-Null Count  Dtype         \n",
      "---  ------            --------------  -----         \n",
      " 0   Date_time         77546 non-null  datetime64[ns]\n",
      " 1   Duration_minutes  77546 non-null  float64       \n",
      " 2   Description       77546 non-null  object        \n",
      " 3   Date_posted       77546 non-null  datetime64[ns]\n",
      " 4   lat_long          77546 non-null  object        \n",
      " 5   Country           77546 non-null  object        \n",
      " 6   State             77546 non-null  object        \n",
      " 7   City              77546 non-null  object        \n",
      " 8   Shape_final       77546 non-null  object        \n",
      " 9   Year              77546 non-null  int64         \n",
      " 10  Month             77546 non-null  object        \n",
      "dtypes: datetime64[ns](2), float64(1), int64(1), object(7)\n",
      "memory usage: 7.1+ MB\n"
     ]
    }
   ],
   "source": [
    "ufo.info()"
   ]
  },
  {
   "cell_type": "markdown",
   "metadata": {},
   "source": [
    "<b> After loading and cleaning the data before exploring, steps here included\n",
    "      \n",
    "    * Checking and making sure there are no null vales\n",
    "    * correcting the data types\n",
    "    For Final dataset for exploration, we have 77546 Records with 11 features"
   ]
  },
  {
   "cell_type": "markdown",
   "metadata": {},
   "source": [
    "## 3.5 Univariate Data Exploration<a id='3.5_Univariate_Data_Exploration'></a>"
   ]
  },
  {
   "cell_type": "markdown",
   "metadata": {},
   "source": [
    "### 3.5.1 Top_10_UFO Sightings by Country<a id='3.5.1_Top_10_UFO_Sightings_by_Country'></a>"
   ]
  },
  {
   "cell_type": "code",
   "execution_count": 13,
   "metadata": {},
   "outputs": [],
   "source": [
    "ufo_co = ufo.groupby('Country')['Date_time'].count()"
   ]
  },
  {
   "cell_type": "code",
   "execution_count": 14,
   "metadata": {},
   "outputs": [],
   "source": [
    "ufo_co_10 = ufo_co.sort_values(ascending = False).head(10)"
   ]
  },
  {
   "cell_type": "code",
   "execution_count": 15,
   "metadata": {},
   "outputs": [
    {
     "data": {
      "text/plain": [
       "Country\n",
       "US    67410\n",
       "CA     3419\n",
       "GB     2256\n",
       "GH     1298\n",
       "AU      609\n",
       "MX      217\n",
       "IN      207\n",
       "DE      129\n",
       "NL      107\n",
       "BR       95\n",
       "Name: Date_time, dtype: int64"
      ]
     },
     "execution_count": 15,
     "metadata": {},
     "output_type": "execute_result"
    }
   ],
   "source": [
    "ufo_co_10"
   ]
  },
  {
   "cell_type": "code",
   "execution_count": 16,
   "metadata": {},
   "outputs": [
    {
     "data": {
      "image/png": "[encoded data removed]",
      "text/plain": [
       "<Figure size 1080x576 with 1 Axes>"
      ]
     },
     "metadata": {
      "needs_background": "light"
     },
     "output_type": "display_data"
    }
   ],
   "source": [
    "fig, ax = plt.subplots(figsize=(15,8))\n",
    "\n",
    "ufo_co_10.plot(kind = 'bar', color='green', alpha=0.85)\n",
    "plt.xlabel('Country')\n",
    "plt.ylabel('Number of sightings')\n",
    "plt.title(\"Top 10 UFO Sightings by Country\")\n",
    "\n",
    "for index,data in enumerate(ufo_co_10):\n",
    "    plt.text(x=index , y =data , s=f\"{data}\" , fontdict=dict(fontsize=12), ha = 'center', va = 'bottom')\n",
    "plt.show()\n"
   ]
  },
  {
   "cell_type": "markdown",
   "metadata": {},
   "source": [
    "<b> looking at country wise distriubtion for UFO Sightinggs, We find that Most of the UFOs are seen in USA but it can be beause the data procurred is from an American Agency, NUFORC, followed by Canada and Great Britain which have far less sightings"
   ]
  },
  {
   "cell_type": "markdown",
   "metadata": {},
   "source": [
    "### 3.5.2 Top UFO Sightings in US by State<a id='3.5.2_Top_UFO_Sightings_in_US_by_State'></a>"
   ]
  },
  {
   "cell_type": "code",
   "execution_count": 284,
   "metadata": {},
   "outputs": [],
   "source": [
    "ufo_us = ufo[ufo['Country'] == 'US']"
   ]
  },
  {
   "cell_type": "code",
   "execution_count": 298,
   "metadata": {},
   "outputs": [],
   "source": [
    "import us"
   ]
  },
  {
   "cell_type": "code",
   "execution_count": 305,
   "metadata": {},
   "outputs": [
    {
     "data": {
      "text/html": [
       "<div>\n",
       "<style scoped>\n",
       "    .dataframe tbody tr th:only-of-type {\n",
       "        vertical-align: middle;\n",
       "    }\n",
       "\n",
       "    .dataframe tbody tr th {\n",
       "        vertical-align: top;\n",
       "    }\n",
       "\n",
       "    .dataframe thead th {\n",
       "        text-align: right;\n",
       "    }\n",
       "</style>\n",
       "<table border=\"1\" class=\"dataframe\">\n",
       "  <thead>\n",
       "    <tr style=\"text-align: right;\">\n",
       "      <th></th>\n",
       "      <th>Date_time</th>\n",
       "      <th>Duration_minutes</th>\n",
       "      <th>Description</th>\n",
       "      <th>Date_posted</th>\n",
       "      <th>lat_long</th>\n",
       "      <th>Country</th>\n",
       "      <th>State</th>\n",
       "      <th>City</th>\n",
       "      <th>Shape_final</th>\n",
       "      <th>Year</th>\n",
       "      <th>Month</th>\n",
       "      <th>state_code</th>\n",
       "    </tr>\n",
       "  </thead>\n",
       "  <tbody>\n",
       "    <tr>\n",
       "      <th>0</th>\n",
       "      <td>1949-10-10 20:30:00</td>\n",
       "      <td>45.000</td>\n",
       "      <td>This event took place in early fall around 194...</td>\n",
       "      <td>2004-04-27</td>\n",
       "      <td>(29.8830556, -97.9411111)</td>\n",
       "      <td>US</td>\n",
       "      <td>Texas</td>\n",
       "      <td>San Marcos</td>\n",
       "      <td>['cylinder']</td>\n",
       "      <td>1949</td>\n",
       "      <td>October</td>\n",
       "      <td>None</td>\n",
       "    </tr>\n",
       "    <tr>\n",
       "      <th>1</th>\n",
       "      <td>1949-10-10 21:00:00</td>\n",
       "      <td>60.000</td>\n",
       "      <td>1949 Lackland AFB&amp;#44 TX.  Lights racing acros...</td>\n",
       "      <td>2005-12-16</td>\n",
       "      <td>(29.38421, -98.581082)</td>\n",
       "      <td>US</td>\n",
       "      <td>Texas</td>\n",
       "      <td>Lackland Air Force Base</td>\n",
       "      <td>['light']</td>\n",
       "      <td>1949</td>\n",
       "      <td>October</td>\n",
       "      <td>None</td>\n",
       "    </tr>\n",
       "    <tr>\n",
       "      <th>3</th>\n",
       "      <td>1956-10-10 21:00:00</td>\n",
       "      <td>30.000</td>\n",
       "      <td>My older brother and twin sister were leaving ...</td>\n",
       "      <td>2004-01-17</td>\n",
       "      <td>(28.9783333, -96.6458333)</td>\n",
       "      <td>US</td>\n",
       "      <td>Texas</td>\n",
       "      <td>Edna</td>\n",
       "      <td>['circle']</td>\n",
       "      <td>1956</td>\n",
       "      <td>October</td>\n",
       "      <td>None</td>\n",
       "    </tr>\n",
       "    <tr>\n",
       "      <th>4</th>\n",
       "      <td>1960-10-10 20:00:00</td>\n",
       "      <td>15.000</td>\n",
       "      <td>AS a Marine 1st Lt. flying an FJ4B fighter/att...</td>\n",
       "      <td>2004-01-22</td>\n",
       "      <td>(21.4180556, -157.8036111)</td>\n",
       "      <td>US</td>\n",
       "      <td>Hawaii</td>\n",
       "      <td>Kane'ohe</td>\n",
       "      <td>['light']</td>\n",
       "      <td>1960</td>\n",
       "      <td>October</td>\n",
       "      <td>None</td>\n",
       "    </tr>\n",
       "    <tr>\n",
       "      <th>5</th>\n",
       "      <td>1961-10-10 19:00:00</td>\n",
       "      <td>5.000</td>\n",
       "      <td>My father is now 89 my brother 52 the girl wit...</td>\n",
       "      <td>2007-04-27</td>\n",
       "      <td>(36.595, -82.1888889)</td>\n",
       "      <td>US</td>\n",
       "      <td>Tennessee</td>\n",
       "      <td>Bristol</td>\n",
       "      <td>['sphere']</td>\n",
       "      <td>1961</td>\n",
       "      <td>October</td>\n",
       "      <td>None</td>\n",
       "    </tr>\n",
       "  </tbody>\n",
       "</table>\n",
       "</div>"
      ],
      "text/plain": [
       "            Date_time  Duration_minutes  \\\n",
       "0 1949-10-10 20:30:00            45.000   \n",
       "1 1949-10-10 21:00:00            60.000   \n",
       "3 1956-10-10 21:00:00            30.000   \n",
       "4 1960-10-10 20:00:00            15.000   \n",
       "5 1961-10-10 19:00:00             5.000   \n",
       "\n",
       "                                         Description Date_posted  \\\n",
       "0  This event took place in early fall around 194...  2004-04-27   \n",
       "1  1949 Lackland AFB&#44 TX.  Lights racing acros...  2005-12-16   \n",
       "3  My older brother and twin sister were leaving ...  2004-01-17   \n",
       "4  AS a Marine 1st Lt. flying an FJ4B fighter/att...  2004-01-22   \n",
       "5  My father is now 89 my brother 52 the girl wit...  2007-04-27   \n",
       "\n",
       "                     lat_long Country      State                     City  \\\n",
       "0   (29.8830556, -97.9411111)      US      Texas               San Marcos   \n",
       "1      (29.38421, -98.581082)      US      Texas  Lackland Air Force Base   \n",
       "3   (28.9783333, -96.6458333)      US      Texas                     Edna   \n",
       "4  (21.4180556, -157.8036111)      US     Hawaii                 Kane'ohe   \n",
       "5       (36.595, -82.1888889)      US  Tennessee                  Bristol   \n",
       "\n",
       "    Shape_final  Year    Month state_code  \n",
       "0  ['cylinder']  1949  October       None  \n",
       "1     ['light']  1949  October       None  \n",
       "3    ['circle']  1956  October       None  \n",
       "4     ['light']  1960  October       None  \n",
       "5    ['sphere']  1961  October       None  "
      ]
     },
     "execution_count": 305,
     "metadata": {},
     "output_type": "execute_result"
    }
   ],
   "source": [
    "ufo_us.head()"
   ]
  },
  {
   "cell_type": "code",
   "execution_count": 286,
   "metadata": {},
   "outputs": [],
   "source": [
    "ufo_s = ufo_us.groupby('State')['Date_time'].count()"
   ]
  },
  {
   "cell_type": "code",
   "execution_count": 293,
   "metadata": {},
   "outputs": [],
   "source": [
    "df_us = pd.DataFrame({'State': ufo_s.index, 'Sightings':ufo_s.values} )"
   ]
  },
  {
   "cell_type": "code",
   "execution_count": 317,
   "metadata": {},
   "outputs": [],
   "source": [
    "cw_location = 'http://app02.clerk.org/menu/ccis/Help/CCIS%20Codes/'\n",
    "cw_filename = 'state_codes.html'\n",
    "states = pd.read_html(cw_location + cw_filename)[0]\n",
    "\n",
    "# Create New Variable With State Abbreviations\n",
    "state_code_map = dict(zip(states['Description'], \n",
    "                          states['Code']))\n",
    "df_us['StAbbr'] = df_us['State'].map(state_code_map)"
   ]
  },
  {
   "cell_type": "code",
   "execution_count": 419,
   "metadata": {},
   "outputs": [
    {
     "data": {
      "text/html": [
       "<div>\n",
       "<style scoped>\n",
       "    .dataframe tbody tr th:only-of-type {\n",
       "        vertical-align: middle;\n",
       "    }\n",
       "\n",
       "    .dataframe tbody tr th {\n",
       "        vertical-align: top;\n",
       "    }\n",
       "\n",
       "    .dataframe thead th {\n",
       "        text-align: right;\n",
       "    }\n",
       "</style>\n",
       "<table border=\"1\" class=\"dataframe\">\n",
       "  <thead>\n",
       "    <tr style=\"text-align: right;\">\n",
       "      <th></th>\n",
       "      <th>State</th>\n",
       "      <th>Sightings</th>\n",
       "      <th>StAbbr</th>\n",
       "    </tr>\n",
       "  </thead>\n",
       "  <tbody>\n",
       "    <tr>\n",
       "      <th>4</th>\n",
       "      <td>California</td>\n",
       "      <td>9157</td>\n",
       "      <td>CA</td>\n",
       "    </tr>\n",
       "    <tr>\n",
       "      <th>8</th>\n",
       "      <td>Florida</td>\n",
       "      <td>4023</td>\n",
       "      <td>FL</td>\n",
       "    </tr>\n",
       "    <tr>\n",
       "      <th>46</th>\n",
       "      <td>Washington</td>\n",
       "      <td>3941</td>\n",
       "      <td>WA</td>\n",
       "    </tr>\n",
       "    <tr>\n",
       "      <th>42</th>\n",
       "      <td>Texas</td>\n",
       "      <td>3502</td>\n",
       "      <td>TX</td>\n",
       "    </tr>\n",
       "    <tr>\n",
       "      <th>31</th>\n",
       "      <td>New York</td>\n",
       "      <td>3103</td>\n",
       "      <td>NY</td>\n",
       "    </tr>\n",
       "  </tbody>\n",
       "</table>\n",
       "</div>"
      ],
      "text/plain": [
       "         State  Sightings StAbbr\n",
       "4   California       9157     CA\n",
       "8      Florida       4023     FL\n",
       "46  Washington       3941     WA\n",
       "42       Texas       3502     TX\n",
       "31    New York       3103     NY"
      ]
     },
     "execution_count": 419,
     "metadata": {},
     "output_type": "execute_result"
    }
   ],
   "source": [
    "df_us.sort_values(by = 'Sightings', ascending = False).head(5)"
   ]
  },
  {
   "cell_type": "code",
   "execution_count": 319,
   "metadata": {},
   "outputs": [
    {
     "data": {
      "application/vnd.plotly.v1+json": {
       "config": {
        "plotlyServerURL": "https://plot.ly"
       },
       "data": [
        {
         "colorbar": {
          "title": {
           "text": "Sightings"
          }
         },
         "colorscale": [
          [
           0,
           "rgb(255,245,240)"
          ],
          [
           0.125,
           "rgb(254,224,210)"
          ],
          [
           0.25,
           "rgb(252,187,161)"
          ],
          [
           0.375,
           "rgb(252,146,114)"
          ],
          [
           0.5,
           "rgb(251,106,74)"
          ],
          [
           0.625,
           "rgb(239,59,44)"
          ],
          [
           0.75,
           "rgb(203,24,29)"
          ],
          [
           0.875,
           "rgb(165,15,21)"
          ],
          [
           1,
           "rgb(103,0,13)"
          ]
         ],
         "locationmode": "USA-states",
         "locations": [
          "AL",
          "AK",
          "AZ",
          "AR",
          "CA",
          "CO",
          "CT",
          "DE",
          "FL",
          "GA",
          "HI",
          "ID",
          "IL",
          "IN",
          "IA",
          "KS",
          "KY",
          "LA",
          "ME",
          "MD",
          "MA",
          "MI",
          "MN",
          "MS",
          "MO",
          "MT",
          "NE",
          "NV",
          "NH",
          "NJ",
          "NM",
          "NY",
          "NC",
          "ND",
          "OH",
          "OK",
          "OR",
          "PA",
          "RI",
          "SC",
          "SD",
          "TN",
          "TX",
          "UT",
          "VT",
          "VA",
          "WA",
          null,
          "WV",
          "WI",
          "WY"
         ],
         "type": "choropleth",
         "z": [
          658,
          329,
          2563,
          612,
          9157,
          1455,
          901,
          172,
          4023,
          1284,
          332,
          530,
          2523,
          1316,
          675,
          630,
          873,
          559,
          605,
          861,
          1289,
          1947,
          1049,
          391,
          1511,
          501,
          380,
          873,
          525,
          1437,
          769,
          3103,
          1797,
          133,
          2302,
          730,
          1725,
          2451,
          271,
          1047,
          182,
          1155,
          3502,
          706,
          279,
          1341,
          3941,
          85,
          484,
          1270,
          175
         ]
        }
       ],
       "layout": {
        "geo": {
         "scope": "usa"
        },
        "template": {
         "data": {
          "bar": [
           {
            "error_x": {
             "color": "#2a3f5f"
            },
            "error_y": {
             "color": "#2a3f5f"
            },
            "marker": {
             "line": {
              "color": "#E5ECF6",
              "width": 0.5
             }
            },
            "type": "bar"
           }
          ],
          "barpolar": [
           {
            "marker": {
             "line": {
              "color": "#E5ECF6",
              "width": 0.5
             }
            },
            "type": "barpolar"
           }
          ],
          "carpet": [
           {
            "aaxis": {
             "endlinecolor": "#2a3f5f",
             "gridcolor": "white",
             "linecolor": "white",
             "minorgridcolor": "white",
             "startlinecolor": "#2a3f5f"
            },
            "baxis": {
             "endlinecolor": "#2a3f5f",
             "gridcolor": "white",
             "linecolor": "white",
             "minorgridcolor": "white",
             "startlinecolor": "#2a3f5f"
            },
            "type": "carpet"
           }
          ],
          "choropleth": [
           {
            "colorbar": {
             "outlinewidth": 0,
             "ticks": ""
            },
            "type": "choropleth"
           }
          ],
          "contour": [
           {
            "colorbar": {
             "outlinewidth": 0,
             "ticks": ""
            },
            "colorscale": [
             [
              0,
              "#0d0887"
             ],
             [
              0.1111111111111111,
              "#46039f"
             ],
             [
              0.2222222222222222,
              "#7201a8"
             ],
             [
              0.3333333333333333,
              "#9c179e"
             ],
             [
              0.4444444444444444,
              "#bd3786"
             ],
             [
              0.5555555555555556,
              "#d8576b"
             ],
             [
              0.6666666666666666,
              "#ed7953"
             ],
             [
              0.7777777777777778,
              "#fb9f3a"
             ],
             [
              0.8888888888888888,
              "#fdca26"
             ],
             [
              1,
              "#f0f921"
             ]
            ],
            "type": "contour"
           }
          ],
          "contourcarpet": [
           {
            "colorbar": {
             "outlinewidth": 0,
             "ticks": ""
            },
            "type": "contourcarpet"
           }
          ],
          "heatmap": [
           {
            "colorbar": {
             "outlinewidth": 0,
             "ticks": ""
            },
            "colorscale": [
             [
              0,
              "#0d0887"
             ],
             [
              0.1111111111111111,
              "#46039f"
             ],
             [
              0.2222222222222222,
              "#7201a8"
             ],
             [
              0.3333333333333333,
              "#9c179e"
             ],
             [
              0.4444444444444444,
              "#bd3786"
             ],
             [
              0.5555555555555556,
              "#d8576b"
             ],
             [
              0.6666666666666666,
              "#ed7953"
             ],
             [
              0.7777777777777778,
              "#fb9f3a"
             ],
             [
              0.8888888888888888,
              "#fdca26"
             ],
             [
              1,
              "#f0f921"
             ]
            ],
            "type": "heatmap"
           }
          ],
          "heatmapgl": [
           {
            "colorbar": {
             "outlinewidth": 0,
             "ticks": ""
            },
            "colorscale": [
             [
              0,
              "#0d0887"
             ],
             [
              0.1111111111111111,
              "#46039f"
             ],
             [
              0.2222222222222222,
              "#7201a8"
             ],
             [
              0.3333333333333333,
              "#9c179e"
             ],
             [
              0.4444444444444444,
              "#bd3786"
             ],
             [
              0.5555555555555556,
              "#d8576b"
             ],
             [
              0.6666666666666666,
              "#ed7953"
             ],
             [
              0.7777777777777778,
              "#fb9f3a"
             ],
             [
              0.8888888888888888,
              "#fdca26"
             ],
             [
              1,
              "#f0f921"
             ]
            ],
            "type": "heatmapgl"
           }
          ],
          "histogram": [
           {
            "marker": {
             "colorbar": {
              "outlinewidth": 0,
              "ticks": ""
             }
            },
            "type": "histogram"
           }
          ],
          "histogram2d": [
           {
            "colorbar": {
             "outlinewidth": 0,
             "ticks": ""
            },
            "colorscale": [
             [
              0,
              "#0d0887"
             ],
             [
              0.1111111111111111,
              "#46039f"
             ],
             [
              0.2222222222222222,
              "#7201a8"
             ],
             [
              0.3333333333333333,
              "#9c179e"
             ],
             [
              0.4444444444444444,
              "#bd3786"
             ],
             [
              0.5555555555555556,
              "#d8576b"
             ],
             [
              0.6666666666666666,
              "#ed7953"
             ],
             [
              0.7777777777777778,
              "#fb9f3a"
             ],
             [
              0.8888888888888888,
              "#fdca26"
             ],
             [
              1,
              "#f0f921"
             ]
            ],
            "type": "histogram2d"
           }
          ],
          "histogram2dcontour": [
           {
            "colorbar": {
             "outlinewidth": 0,
             "ticks": ""
            },
            "colorscale": [
             [
              0,
              "#0d0887"
             ],
             [
              0.1111111111111111,
              "#46039f"
             ],
             [
              0.2222222222222222,
              "#7201a8"
             ],
             [
              0.3333333333333333,
              "#9c179e"
             ],
             [
              0.4444444444444444,
              "#bd3786"
             ],
             [
              0.5555555555555556,
              "#d8576b"
             ],
             [
              0.6666666666666666,
              "#ed7953"
             ],
             [
              0.7777777777777778,
              "#fb9f3a"
             ],
             [
              0.8888888888888888,
              "#fdca26"
             ],
             [
              1,
              "#f0f921"
             ]
            ],
            "type": "histogram2dcontour"
           }
          ],
          "mesh3d": [
           {
            "colorbar": {
             "outlinewidth": 0,
             "ticks": ""
            },
            "type": "mesh3d"
           }
          ],
          "parcoords": [
           {
            "line": {
             "colorbar": {
              "outlinewidth": 0,
              "ticks": ""
             }
            },
            "type": "parcoords"
           }
          ],
          "pie": [
           {
            "automargin": true,
            "type": "pie"
           }
          ],
          "scatter": [
           {
            "marker": {
             "colorbar": {
              "outlinewidth": 0,
              "ticks": ""
             }
            },
            "type": "scatter"
           }
          ],
          "scatter3d": [
           {
            "line": {
             "colorbar": {
              "outlinewidth": 0,
              "ticks": ""
             }
            },
            "marker": {
             "colorbar": {
              "outlinewidth": 0,
              "ticks": ""
             }
            },
            "type": "scatter3d"
           }
          ],
          "scattercarpet": [
           {
            "marker": {
             "colorbar": {
              "outlinewidth": 0,
              "ticks": ""
             }
            },
            "type": "scattercarpet"
           }
          ],
          "scattergeo": [
           {
            "marker": {
             "colorbar": {
              "outlinewidth": 0,
              "ticks": ""
             }
            },
            "type": "scattergeo"
           }
          ],
          "scattergl": [
           {
            "marker": {
             "colorbar": {
              "outlinewidth": 0,
              "ticks": ""
             }
            },
            "type": "scattergl"
           }
          ],
          "scattermapbox": [
           {
            "marker": {
             "colorbar": {
              "outlinewidth": 0,
              "ticks": ""
             }
            },
            "type": "scattermapbox"
           }
          ],
          "scatterpolar": [
           {
            "marker": {
             "colorbar": {
              "outlinewidth": 0,
              "ticks": ""
             }
            },
            "type": "scatterpolar"
           }
          ],
          "scatterpolargl": [
           {
            "marker": {
             "colorbar": {
              "outlinewidth": 0,
              "ticks": ""
             }
            },
            "type": "scatterpolargl"
           }
          ],
          "scatterternary": [
           {
            "marker": {
             "colorbar": {
              "outlinewidth": 0,
              "ticks": ""
             }
            },
            "type": "scatterternary"
           }
          ],
          "surface": [
           {
            "colorbar": {
             "outlinewidth": 0,
             "ticks": ""
            },
            "colorscale": [
             [
              0,
              "#0d0887"
             ],
             [
              0.1111111111111111,
              "#46039f"
             ],
             [
              0.2222222222222222,
              "#7201a8"
             ],
             [
              0.3333333333333333,
              "#9c179e"
             ],
             [
              0.4444444444444444,
              "#bd3786"
             ],
             [
              0.5555555555555556,
              "#d8576b"
             ],
             [
              0.6666666666666666,
              "#ed7953"
             ],
             [
              0.7777777777777778,
              "#fb9f3a"
             ],
             [
              0.8888888888888888,
              "#fdca26"
             ],
             [
              1,
              "#f0f921"
             ]
            ],
            "type": "surface"
           }
          ],
          "table": [
           {
            "cells": {
             "fill": {
              "color": "#EBF0F8"
             },
             "line": {
              "color": "white"
             }
            },
            "header": {
             "fill": {
              "color": "#C8D4E3"
             },
             "line": {
              "color": "white"
             }
            },
            "type": "table"
           }
          ]
         },
         "layout": {
          "annotationdefaults": {
           "arrowcolor": "#2a3f5f",
           "arrowhead": 0,
           "arrowwidth": 1
          },
          "autotypenumbers": "strict",
          "coloraxis": {
           "colorbar": {
            "outlinewidth": 0,
            "ticks": ""
           }
          },
          "colorscale": {
           "diverging": [
            [
             0,
             "#8e0152"
            ],
            [
             0.1,
             "#c51b7d"
            ],
            [
             0.2,
             "#de77ae"
            ],
            [
             0.3,
             "#f1b6da"
            ],
            [
             0.4,
             "#fde0ef"
            ],
            [
             0.5,
             "#f7f7f7"
            ],
            [
             0.6,
             "#e6f5d0"
            ],
            [
             0.7,
             "#b8e186"
            ],
            [
             0.8,
             "#7fbc41"
            ],
            [
             0.9,
             "#4d9221"
            ],
            [
             1,
             "#276419"
            ]
           ],
           "sequential": [
            [
             0,
             "#0d0887"
            ],
            [
             0.1111111111111111,
             "#46039f"
            ],
            [
             0.2222222222222222,
             "#7201a8"
            ],
            [
             0.3333333333333333,
             "#9c179e"
            ],
            [
             0.4444444444444444,
             "#bd3786"
            ],
            [
             0.5555555555555556,
             "#d8576b"
            ],
            [
             0.6666666666666666,
             "#ed7953"
            ],
            [
             0.7777777777777778,
             "#fb9f3a"
            ],
            [
             0.8888888888888888,
             "#fdca26"
            ],
            [
             1,
             "#f0f921"
            ]
           ],
           "sequentialminus": [
            [
             0,
             "#0d0887"
            ],
            [
             0.1111111111111111,
             "#46039f"
            ],
            [
             0.2222222222222222,
             "#7201a8"
            ],
            [
             0.3333333333333333,
             "#9c179e"
            ],
            [
             0.4444444444444444,
             "#bd3786"
            ],
            [
             0.5555555555555556,
             "#d8576b"
            ],
            [
             0.6666666666666666,
             "#ed7953"
            ],
            [
             0.7777777777777778,
             "#fb9f3a"
            ],
            [
             0.8888888888888888,
             "#fdca26"
            ],
            [
             1,
             "#f0f921"
            ]
           ]
          },
          "colorway": [
           "#636efa",
           "#EF553B",
           "#00cc96",
           "#ab63fa",
           "#FFA15A",
           "#19d3f3",
           "#FF6692",
           "#B6E880",
           "#FF97FF",
           "#FECB52"
          ],
          "font": {
           "color": "#2a3f5f"
          },
          "geo": {
           "bgcolor": "white",
           "lakecolor": "white",
           "landcolor": "#E5ECF6",
           "showlakes": true,
           "showland": true,
           "subunitcolor": "white"
          },
          "hoverlabel": {
           "align": "left"
          },
          "hovermode": "closest",
          "mapbox": {
           "style": "light"
          },
          "paper_bgcolor": "white",
          "plot_bgcolor": "#E5ECF6",
          "polar": {
           "angularaxis": {
            "gridcolor": "white",
            "linecolor": "white",
            "ticks": ""
           },
           "bgcolor": "#E5ECF6",
           "radialaxis": {
            "gridcolor": "white",
            "linecolor": "white",
            "ticks": ""
           }
          },
          "scene": {
           "xaxis": {
            "backgroundcolor": "#E5ECF6",
            "gridcolor": "white",
            "gridwidth": 2,
            "linecolor": "white",
            "showbackground": true,
            "ticks": "",
            "zerolinecolor": "white"
           },
           "yaxis": {
            "backgroundcolor": "#E5ECF6",
            "gridcolor": "white",
            "gridwidth": 2,
            "linecolor": "white",
            "showbackground": true,
            "ticks": "",
            "zerolinecolor": "white"
           },
           "zaxis": {
            "backgroundcolor": "#E5ECF6",
            "gridcolor": "white",
            "gridwidth": 2,
            "linecolor": "white",
            "showbackground": true,
            "ticks": "",
            "zerolinecolor": "white"
           }
          },
          "shapedefaults": {
           "line": {
            "color": "#2a3f5f"
           }
          },
          "ternary": {
           "aaxis": {
            "gridcolor": "white",
            "linecolor": "white",
            "ticks": ""
           },
           "baxis": {
            "gridcolor": "white",
            "linecolor": "white",
            "ticks": ""
           },
           "bgcolor": "#E5ECF6",
           "caxis": {
            "gridcolor": "white",
            "linecolor": "white",
            "ticks": ""
           }
          },
          "title": {
           "x": 0.05
          },
          "xaxis": {
           "automargin": true,
           "gridcolor": "white",
           "linecolor": "white",
           "ticks": "",
           "title": {
            "standoff": 15
           },
           "zerolinecolor": "white",
           "zerolinewidth": 2
          },
          "yaxis": {
           "automargin": true,
           "gridcolor": "white",
           "linecolor": "white",
           "ticks": "",
           "title": {
            "standoff": 15
           },
           "zerolinecolor": "white",
           "zerolinewidth": 2
          }
         }
        },
        "title": {
         "text": "UFO Sightings by State"
        }
       }
      },
      "text/html": [
       "<div>                            <div id=\"460f4c63-5eeb-4973-a68f-b7011d833d07\" class=\"plotly-graph-div\" style=\"height:525px; width:100%;\"></div>            <script type=\"text/javascript\">                require([\"plotly\"], function(Plotly) {                    window.PLOTLYENV=window.PLOTLYENV || {};                                    if (document.getElementById(\"460f4c63-5eeb-4973-a68f-b7011d833d07\")) {                    Plotly.newPlot(                        \"460f4c63-5eeb-4973-a68f-b7011d833d07\",                        [{\"colorbar\": {\"title\": {\"text\": \"Sightings\"}}, \"colorscale\": [[0.0, \"rgb(255,245,240)\"], [0.125, \"rgb(254,224,210)\"], [0.25, \"rgb(252,187,161)\"], [0.375, \"rgb(252,146,114)\"], [0.5, \"rgb(251,106,74)\"], [0.625, \"rgb(239,59,44)\"], [0.75, \"rgb(203,24,29)\"], [0.875, \"rgb(165,15,21)\"], [1.0, \"rgb(103,0,13)\"]], \"locationmode\": \"USA-states\", \"locations\": [\"AL\", \"AK\", \"AZ\", \"AR\", \"CA\", \"CO\", \"CT\", \"DE\", \"FL\", \"GA\", \"HI\", \"ID\", \"IL\", \"IN\", \"IA\", \"KS\", \"KY\", \"LA\", \"ME\", \"MD\", \"MA\", \"MI\", \"MN\", \"MS\", \"MO\", \"MT\", \"NE\", \"NV\", \"NH\", \"NJ\", \"NM\", \"NY\", \"NC\", \"ND\", \"OH\", \"OK\", \"OR\", \"PA\", \"RI\", \"SC\", \"SD\", \"TN\", \"TX\", \"UT\", \"VT\", \"VA\", \"WA\", null, \"WV\", \"WI\", \"WY\"], \"type\": \"choropleth\", \"z\": [658.0, 329.0, 2563.0, 612.0, 9157.0, 1455.0, 901.0, 172.0, 4023.0, 1284.0, 332.0, 530.0, 2523.0, 1316.0, 675.0, 630.0, 873.0, 559.0, 605.0, 861.0, 1289.0, 1947.0, 1049.0, 391.0, 1511.0, 501.0, 380.0, 873.0, 525.0, 1437.0, 769.0, 3103.0, 1797.0, 133.0, 2302.0, 730.0, 1725.0, 2451.0, 271.0, 1047.0, 182.0, 1155.0, 3502.0, 706.0, 279.0, 1341.0, 3941.0, 85.0, 484.0, 1270.0, 175.0]}],                        {\"geo\": {\"scope\": \"usa\"}, \"template\": {\"data\": {\"bar\": [{\"error_x\": {\"color\": \"#2a3f5f\"}, \"error_y\": {\"color\": \"#2a3f5f\"}, \"marker\": {\"line\": {\"color\": \"#E5ECF6\", \"width\": 0.5}}, \"type\": \"bar\"}], \"barpolar\": [{\"marker\": {\"line\": {\"color\": \"#E5ECF6\", \"width\": 0.5}}, \"type\": \"barpolar\"}], \"carpet\": [{\"aaxis\": {\"endlinecolor\": \"#2a3f5f\", \"gridcolor\": \"white\", \"linecolor\": \"white\", \"minorgridcolor\": \"white\", \"startlinecolor\": \"#2a3f5f\"}, \"baxis\": {\"endlinecolor\": \"#2a3f5f\", \"gridcolor\": \"white\", \"linecolor\": \"white\", \"minorgridcolor\": \"white\", \"startlinecolor\": \"#2a3f5f\"}, \"type\": \"carpet\"}], \"choropleth\": [{\"colorbar\": {\"outlinewidth\": 0, \"ticks\": \"\"}, \"type\": \"choropleth\"}], \"contour\": [{\"colorbar\": {\"outlinewidth\": 0, \"ticks\": \"\"}, \"colorscale\": [[0.0, \"#0d0887\"], [0.1111111111111111, \"#46039f\"], [0.2222222222222222, \"#7201a8\"], [0.3333333333333333, \"#9c179e\"], [0.4444444444444444, \"#bd3786\"], [0.5555555555555556, \"#d8576b\"], [0.6666666666666666, \"#ed7953\"], [0.7777777777777778, \"#fb9f3a\"], [0.8888888888888888, \"#fdca26\"], [1.0, \"#f0f921\"]], \"type\": \"contour\"}], \"contourcarpet\": [{\"colorbar\": {\"outlinewidth\": 0, \"ticks\": \"\"}, \"type\": \"contourcarpet\"}], \"heatmap\": [{\"colorbar\": {\"outlinewidth\": 0, \"ticks\": \"\"}, \"colorscale\": [[0.0, \"#0d0887\"], [0.1111111111111111, \"#46039f\"], [0.2222222222222222, \"#7201a8\"], [0.3333333333333333, \"#9c179e\"], [0.4444444444444444, \"#bd3786\"], [0.5555555555555556, \"#d8576b\"], [0.6666666666666666, \"#ed7953\"], [0.7777777777777778, \"#fb9f3a\"], [0.8888888888888888, \"#fdca26\"], [1.0, \"#f0f921\"]], \"type\": \"heatmap\"}], \"heatmapgl\": [{\"colorbar\": {\"outlinewidth\": 0, \"ticks\": \"\"}, \"colorscale\": [[0.0, \"#0d0887\"], [0.1111111111111111, \"#46039f\"], [0.2222222222222222, \"#7201a8\"], [0.3333333333333333, \"#9c179e\"], [0.4444444444444444, \"#bd3786\"], [0.5555555555555556, \"#d8576b\"], [0.6666666666666666, \"#ed7953\"], [0.7777777777777778, \"#fb9f3a\"], [0.8888888888888888, \"#fdca26\"], [1.0, \"#f0f921\"]], \"type\": \"heatmapgl\"}], \"histogram\": [{\"marker\": {\"colorbar\": {\"outlinewidth\": 0, \"ticks\": \"\"}}, \"type\": \"histogram\"}], \"histogram2d\": [{\"colorbar\": {\"outlinewidth\": 0, \"ticks\": \"\"}, \"colorscale\": [[0.0, \"#0d0887\"], [0.1111111111111111, \"#46039f\"], [0.2222222222222222, \"#7201a8\"], [0.3333333333333333, \"#9c179e\"], [0.4444444444444444, \"#bd3786\"], [0.5555555555555556, \"#d8576b\"], [0.6666666666666666, \"#ed7953\"], [0.7777777777777778, \"#fb9f3a\"], [0.8888888888888888, \"#fdca26\"], [1.0, \"#f0f921\"]], \"type\": \"histogram2d\"}], \"histogram2dcontour\": [{\"colorbar\": {\"outlinewidth\": 0, \"ticks\": \"\"}, \"colorscale\": [[0.0, \"#0d0887\"], [0.1111111111111111, \"#46039f\"], [0.2222222222222222, \"#7201a8\"], [0.3333333333333333, \"#9c179e\"], [0.4444444444444444, \"#bd3786\"], [0.5555555555555556, \"#d8576b\"], [0.6666666666666666, \"#ed7953\"], [0.7777777777777778, \"#fb9f3a\"], [0.8888888888888888, \"#fdca26\"], [1.0, \"#f0f921\"]], \"type\": \"histogram2dcontour\"}], \"mesh3d\": [{\"colorbar\": {\"outlinewidth\": 0, \"ticks\": \"\"}, \"type\": \"mesh3d\"}], \"parcoords\": [{\"line\": {\"colorbar\": {\"outlinewidth\": 0, \"ticks\": \"\"}}, \"type\": \"parcoords\"}], \"pie\": [{\"automargin\": true, \"type\": \"pie\"}], \"scatter\": [{\"marker\": {\"colorbar\": {\"outlinewidth\": 0, \"ticks\": \"\"}}, \"type\": \"scatter\"}], \"scatter3d\": [{\"line\": {\"colorbar\": {\"outlinewidth\": 0, \"ticks\": \"\"}}, \"marker\": {\"colorbar\": {\"outlinewidth\": 0, \"ticks\": \"\"}}, \"type\": \"scatter3d\"}], \"scattercarpet\": [{\"marker\": {\"colorbar\": {\"outlinewidth\": 0, \"ticks\": \"\"}}, \"type\": \"scattercarpet\"}], \"scattergeo\": [{\"marker\": {\"colorbar\": {\"outlinewidth\": 0, \"ticks\": \"\"}}, \"type\": \"scattergeo\"}], \"scattergl\": [{\"marker\": {\"colorbar\": {\"outlinewidth\": 0, \"ticks\": \"\"}}, \"type\": \"scattergl\"}], \"scattermapbox\": [{\"marker\": {\"colorbar\": {\"outlinewidth\": 0, \"ticks\": \"\"}}, \"type\": \"scattermapbox\"}], \"scatterpolar\": [{\"marker\": {\"colorbar\": {\"outlinewidth\": 0, \"ticks\": \"\"}}, \"type\": \"scatterpolar\"}], \"scatterpolargl\": [{\"marker\": {\"colorbar\": {\"outlinewidth\": 0, \"ticks\": \"\"}}, \"type\": \"scatterpolargl\"}], \"scatterternary\": [{\"marker\": {\"colorbar\": {\"outlinewidth\": 0, \"ticks\": \"\"}}, \"type\": \"scatterternary\"}], \"surface\": [{\"colorbar\": {\"outlinewidth\": 0, \"ticks\": \"\"}, \"colorscale\": [[0.0, \"#0d0887\"], [0.1111111111111111, \"#46039f\"], [0.2222222222222222, \"#7201a8\"], [0.3333333333333333, \"#9c179e\"], [0.4444444444444444, \"#bd3786\"], [0.5555555555555556, \"#d8576b\"], [0.6666666666666666, \"#ed7953\"], [0.7777777777777778, \"#fb9f3a\"], [0.8888888888888888, \"#fdca26\"], [1.0, \"#f0f921\"]], \"type\": \"surface\"}], \"table\": [{\"cells\": {\"fill\": {\"color\": \"#EBF0F8\"}, \"line\": {\"color\": \"white\"}}, \"header\": {\"fill\": {\"color\": \"#C8D4E3\"}, \"line\": {\"color\": \"white\"}}, \"type\": \"table\"}]}, \"layout\": {\"annotationdefaults\": {\"arrowcolor\": \"#2a3f5f\", \"arrowhead\": 0, \"arrowwidth\": 1}, \"autotypenumbers\": \"strict\", \"coloraxis\": {\"colorbar\": {\"outlinewidth\": 0, \"ticks\": \"\"}}, \"colorscale\": {\"diverging\": [[0, \"#8e0152\"], [0.1, \"#c51b7d\"], [0.2, \"#de77ae\"], [0.3, \"#f1b6da\"], [0.4, \"#fde0ef\"], [0.5, \"#f7f7f7\"], [0.6, \"#e6f5d0\"], [0.7, \"#b8e186\"], [0.8, \"#7fbc41\"], [0.9, \"#4d9221\"], [1, \"#276419\"]], \"sequential\": [[0.0, \"#0d0887\"], [0.1111111111111111, \"#46039f\"], [0.2222222222222222, \"#7201a8\"], [0.3333333333333333, \"#9c179e\"], [0.4444444444444444, \"#bd3786\"], [0.5555555555555556, \"#d8576b\"], [0.6666666666666666, \"#ed7953\"], [0.7777777777777778, \"#fb9f3a\"], [0.8888888888888888, \"#fdca26\"], [1.0, \"#f0f921\"]], \"sequentialminus\": [[0.0, \"#0d0887\"], [0.1111111111111111, \"#46039f\"], [0.2222222222222222, \"#7201a8\"], [0.3333333333333333, \"#9c179e\"], [0.4444444444444444, \"#bd3786\"], [0.5555555555555556, \"#d8576b\"], [0.6666666666666666, \"#ed7953\"], [0.7777777777777778, \"#fb9f3a\"], [0.8888888888888888, \"#fdca26\"], [1.0, \"#f0f921\"]]}, \"colorway\": [\"#636efa\", \"#EF553B\", \"#00cc96\", \"#ab63fa\", \"#FFA15A\", \"#19d3f3\", \"#FF6692\", \"#B6E880\", \"#FF97FF\", \"#FECB52\"], \"font\": {\"color\": \"#2a3f5f\"}, \"geo\": {\"bgcolor\": \"white\", \"lakecolor\": \"white\", \"landcolor\": \"#E5ECF6\", \"showlakes\": true, \"showland\": true, \"subunitcolor\": \"white\"}, \"hoverlabel\": {\"align\": \"left\"}, \"hovermode\": \"closest\", \"mapbox\": {\"style\": \"light\"}, \"paper_bgcolor\": \"white\", \"plot_bgcolor\": \"#E5ECF6\", \"polar\": {\"angularaxis\": {\"gridcolor\": \"white\", \"linecolor\": \"white\", \"ticks\": \"\"}, \"bgcolor\": \"#E5ECF6\", \"radialaxis\": {\"gridcolor\": \"white\", \"linecolor\": \"white\", \"ticks\": \"\"}}, \"scene\": {\"xaxis\": {\"backgroundcolor\": \"#E5ECF6\", \"gridcolor\": \"white\", \"gridwidth\": 2, \"linecolor\": \"white\", \"showbackground\": true, \"ticks\": \"\", \"zerolinecolor\": \"white\"}, \"yaxis\": {\"backgroundcolor\": \"#E5ECF6\", \"gridcolor\": \"white\", \"gridwidth\": 2, \"linecolor\": \"white\", \"showbackground\": true, \"ticks\": \"\", \"zerolinecolor\": \"white\"}, \"zaxis\": {\"backgroundcolor\": \"#E5ECF6\", \"gridcolor\": \"white\", \"gridwidth\": 2, \"linecolor\": \"white\", \"showbackground\": true, \"ticks\": \"\", \"zerolinecolor\": \"white\"}}, \"shapedefaults\": {\"line\": {\"color\": \"#2a3f5f\"}}, \"ternary\": {\"aaxis\": {\"gridcolor\": \"white\", \"linecolor\": \"white\", \"ticks\": \"\"}, \"baxis\": {\"gridcolor\": \"white\", \"linecolor\": \"white\", \"ticks\": \"\"}, \"bgcolor\": \"#E5ECF6\", \"caxis\": {\"gridcolor\": \"white\", \"linecolor\": \"white\", \"ticks\": \"\"}}, \"title\": {\"x\": 0.05}, \"xaxis\": {\"automargin\": true, \"gridcolor\": \"white\", \"linecolor\": \"white\", \"ticks\": \"\", \"title\": {\"standoff\": 15}, \"zerolinecolor\": \"white\", \"zerolinewidth\": 2}, \"yaxis\": {\"automargin\": true, \"gridcolor\": \"white\", \"linecolor\": \"white\", \"ticks\": \"\", \"title\": {\"standoff\": 15}, \"zerolinecolor\": \"white\", \"zerolinewidth\": 2}}}, \"title\": {\"text\": \"UFO Sightings by State\"}},                        {\"responsive\": true}                    ).then(function(){\n",
       "                            \n",
       "var gd = document.getElementById('460f4c63-5eeb-4973-a68f-b7011d833d07');\n",
       "var x = new MutationObserver(function (mutations, observer) {{\n",
       "        var display = window.getComputedStyle(gd).display;\n",
       "        if (!display || display === 'none') {{\n",
       "            console.log([gd, 'removed!']);\n",
       "            Plotly.purge(gd);\n",
       "            observer.disconnect();\n",
       "        }}\n",
       "}});\n",
       "\n",
       "// Listen for the removal of the full notebook cells\n",
       "var notebookContainer = gd.closest('#notebook-container');\n",
       "if (notebookContainer) {{\n",
       "    x.observe(notebookContainer, {childList: true});\n",
       "}}\n",
       "\n",
       "// Listen for the clearing of the current output cell\n",
       "var outputEl = gd.closest('.output');\n",
       "if (outputEl) {{\n",
       "    x.observe(outputEl, {childList: true});\n",
       "}}\n",
       "\n",
       "                        })                };                });            </script>        </div>"
      ]
     },
     "metadata": {},
     "output_type": "display_data"
    }
   ],
   "source": [
    "fig = go.Figure(data=go.Choropleth(\n",
    "    locations=df_us['StAbbr'], # Spatial coordinates\n",
    "    z = df_us['Sightings'].astype(float), # Data to be color-coded\n",
    "    locationmode = 'USA-states', # set of locations match entries in `locations`\n",
    "    colorscale = 'Reds',\n",
    "    colorbar_title = \"Sightings\",\n",
    "))\n",
    "\n",
    "fig.update_layout(\n",
    "    title_text = 'UFO Sightings by State',\n",
    "    geo_scope='usa', # limite map scope to USA\n",
    ")\n",
    "\n",
    "fig.show()"
   ]
  },
  {
   "cell_type": "markdown",
   "metadata": {},
   "source": [
    "<b> If we look at US State distribution for top 5 states, we find that California leads with more than 9000 sightings follwed by \n",
    "\n",
    "* Florida, \n",
    "* Washington, \n",
    "* Texas and \n",
    "* New York"
   ]
  },
  {
   "cell_type": "markdown",
   "metadata": {},
   "source": [
    "### 3.5.3 UFO Sightings Trend by Year<a id='3.5.3_UFO_Sightings_Trend_by_Year'></a>"
   ]
  },
  {
   "cell_type": "code",
   "execution_count": 32,
   "metadata": {},
   "outputs": [],
   "source": [
    "total = ufo['Year'][(ufo['Year'] >= 1949) & (ufo['Year'] <= 2017)]"
   ]
  },
  {
   "cell_type": "code",
   "execution_count": 37,
   "metadata": {},
   "outputs": [
    {
     "data": {
      "text/plain": [
       "2012    7168\n",
       "2013    6859\n",
       "2011    4947\n",
       "2008    4657\n",
       "2009    4369\n",
       "        ... \n",
       "1955      31\n",
       "1953      31\n",
       "1950      28\n",
       "1951      22\n",
       "1949      18\n",
       "Name: Year, Length: 66, dtype: int64"
      ]
     },
     "execution_count": 37,
     "metadata": {},
     "output_type": "execute_result"
    }
   ],
   "source": [
    "total.value_counts().sort_values(ascending = False)"
   ]
  },
  {
   "cell_type": "code",
   "execution_count": 43,
   "metadata": {},
   "outputs": [
    {
     "data": {
      "image/png": "[encoded data removed]",
      "text/plain": [
       "<Figure size 1080x576 with 1 Axes>"
      ]
     },
     "metadata": {
      "needs_background": "light"
     },
     "output_type": "display_data"
    }
   ],
   "source": [
    "fig, ax = plt.subplots(figsize=(15,8))\n",
    "plt.hist(total, len(total.value_counts()), edgecolor = 'white')\n",
    "\n",
    "plt.xlabel('Year')\n",
    "plt.ylabel('Sightings')\n",
    "plt.title('Sightings by Year')\n",
    "plt.axis('tight')\n",
    "plt.tight_layout()\n",
    "   # plt.savefig('Sightings_by_Year_300dpi.png', format='png',dpi=300)\n",
    "    #plt.show()\n",
    "plt.show()"
   ]
  },
  {
   "cell_type": "markdown",
   "metadata": {},
   "source": [
    "<b> For the UFO sighting trend over the last 70 years, it is observed that since 2000 onwards there has been a huge increase in sigthings starting from close to 3000 and going up to almost 7000 in 2012 and 2013"
   ]
  },
  {
   "cell_type": "markdown",
   "metadata": {},
   "source": [
    "### 3.5.4 UFO Sightings Trend by Day of the Year<a id='3.5.4_UFO_Sightings_Trend_by_day_of_the_Year'></a>"
   ]
  },
  {
   "cell_type": "code",
   "execution_count": 44,
   "metadata": {},
   "outputs": [],
   "source": [
    "ufo_yd = ufo[['Date_time', 'Year']]"
   ]
  },
  {
   "cell_type": "code",
   "execution_count": 48,
   "metadata": {},
   "outputs": [
    {
     "name": "stderr",
     "output_type": "stream",
     "text": [
      "D:\\Anacon\\lib\\site-packages\\ipykernel_launcher.py:1: SettingWithCopyWarning: \n",
      "A value is trying to be set on a copy of a slice from a DataFrame.\n",
      "Try using .loc[row_indexer,col_indexer] = value instead\n",
      "\n",
      "See the caveats in the documentation: https://pandas.pydata.org/pandas-docs/stable/user_guide/indexing.html#returning-a-view-versus-a-copy\n",
      "  \"\"\"Entry point for launching an IPython kernel.\n"
     ]
    }
   ],
   "source": [
    "ufo_yd['yd'] = ufo['Date_time'].dt.dayofyear"
   ]
  },
  {
   "cell_type": "code",
   "execution_count": 54,
   "metadata": {},
   "outputs": [
    {
     "data": {
      "image/png": "[encoded data removed]",
      "text/plain": [
       "<Figure size 1080x576 with 1 Axes>"
      ]
     },
     "metadata": {
      "needs_background": "light"
     },
     "output_type": "display_data"
    }
   ],
   "source": [
    "fig, ax = plt.subplots(figsize=(15,8))\n",
    "ufo_yd['yd'].hist(bins=np.arange(0,365,3), align='left',alpha=0.75, color = 'red', edgecolor = 'white')\n",
    "plt.ylabel('Sightings')\n",
    "plt.xlabel('Day of Year')\n",
    "plt.xlim([0,365])\n",
    "\n",
    "plt.xticks(rotation='45')\n",
    "plt.title('Sightings by Day of Year', **font)\n",
    "plt.axis('tight')\n",
    "plt.grid(False)\n",
    "plt.tight_layout()\n",
    "#plt.savefig('Sightings_by_DayOfYear.png', format = 'png', dpi = 300)\n",
    "plt.show()"
   ]
  },
  {
   "cell_type": "markdown",
   "metadata": {},
   "source": [
    "<b> If we see distribution by day if the year it doesn't really give much insight but more sightings are recorded during the midde of the year"
   ]
  },
  {
   "cell_type": "markdown",
   "metadata": {},
   "source": [
    "### 3.5.5 UFO Sightings Distribution by Month<a id='3.5.5_UFO_Sightings_Distribution_by_Month'></a>"
   ]
  },
  {
   "cell_type": "code",
   "execution_count": 64,
   "metadata": {},
   "outputs": [
    {
     "data": {
      "image/png": "[encoded data removed]",
      "text/plain": [
       "<Figure size 792x432 with 1 Axes>"
      ]
     },
     "metadata": {
      "needs_background": "light"
     },
     "output_type": "display_data"
    }
   ],
   "source": [
    "fig, ax = plt.subplots(figsize=(11,6))\n",
    "\n",
    "total = ufo['Date_time'].dt.month[(ufo['Date_time'].dt.month >= 1) & (ufo['Date_time'].dt.month <= 12)]\n",
    "months = {'Jan':1,'Feb':2,'Mar':3,\n",
    "              'Apr':4,'May':5,'Jun':6,\n",
    "              'Jul':7,'Aug':8,'Sep':9,\n",
    "              'Oct':10,'Nov':11,'Dec':12}\n",
    "\n",
    "plt.hist(total, len(total.value_counts()), edgecolor = 'white', color = 'brown')\n",
    "plt.xticks(list(months.values()),list(months.keys()),ha='right',rotation='45')\n",
    "plt.xlim([0.5,12.5])\n",
    "plt.xlabel('Month')\n",
    "plt.ylabel('Sightings')\n",
    "plt.title('Sightings by Month', **font)\n",
    "plt.tight_layout()\n",
    "#plt.savefig('Sightings_by_Month_300dpi.png', format='png',dpi=300)\n",
    "plt.show()\n",
    "\n"
   ]
  },
  {
   "cell_type": "markdown",
   "metadata": {},
   "source": [
    "<b> for UFO distribution by months, it can be seen that sightings begin to rise after half of the year is done and then again decrease by the end of the year, It is at peak during July and August with almost more than 8000 sightings "
   ]
  },
  {
   "cell_type": "markdown",
   "metadata": {},
   "source": [
    "### 3.5.6 Sightings by Time of Day<a id='3.5.6_Sightings_by_Time_of_day'></a>"
   ]
  },
  {
   "cell_type": "code",
   "execution_count": 117,
   "metadata": {},
   "outputs": [
    {
     "data": {
      "image/png": "[encoded data removed]",
      "text/plain": [
       "<Figure size 1440x360 with 1 Axes>"
      ]
     },
     "metadata": {
      "needs_background": "light"
     },
     "output_type": "display_data"
    }
   ],
   "source": [
    "fig, ax = plt.subplots(figsize=(20,5))\n",
    "\n",
    "total = ufo['Date_time'].dt.hour[(ufo['Date_time'].dt.hour >= 0) & (ufo['Date_time'].dt.hour <= 23)]\n",
    "times = {'12:00 AM':0, '1:00 AM':1, '2:00 AM':2, '3:00 AM':3, '4:00 AM':4, '5:00 AM':5, '6:00 AM':6, '7:00 AM':7,\n",
    "         '8:00 AM':8, '9:00 AM':9, '10:00 AM':10, '11:00 AM':11, '12:00 PM':12, '1:00 PM':13, '2:00 PM':14, \n",
    "         '3:00 PM':15, '4:00 PM':16, '5:00 PM':17, '6:00 PM':18, '7:00 PM':19, '8:00 PM':20, '9:00 PM':21, \n",
    "         '10:00 PM':22, '11:00 PM':23}\n",
    "\n",
    "plt.hist(total, len(total.value_counts()), edgecolor = 'white', color = 'orange')\n",
    "plt.xticks(list(times.values()),list(times.keys()),ha='right',rotation='45')\n",
    "plt.xlim([0,24])\n",
    "plt.xlabel('Time')\n",
    "plt.ylabel('Sightings')\n",
    "plt.title('Sightings by Time', **font)\n",
    "#plt.tight_layout()\n",
    "#ax.set_xticklabels(['','5:00 AM','10:00 AM','3:00 PM','8:00 PM','11:00 PM'])\n",
    "#plt.tight_layout()\n",
    "plt.show()"
   ]
  },
  {
   "cell_type": "markdown",
   "metadata": {},
   "source": [
    "<b> To map sightings byt time of the day, this is more practical and common as observed taht most of the sightings are \n",
    "between 7:00 PM and 11:00 PM, during mornings and afternoon, it drops to less than 2000 whereas evening onwards it rises upto 10000"
   ]
  },
  {
   "cell_type": "markdown",
   "metadata": {},
   "source": [
    "### 3.5.7 Sightings by Decade<a id='3.5.7_Sightings_by_Decade'></a>"
   ]
  },
  {
   "cell_type": "code",
   "execution_count": 118,
   "metadata": {},
   "outputs": [
    {
     "name": "stderr",
     "output_type": "stream",
     "text": [
      "D:\\Anacon\\lib\\site-packages\\ipykernel_launcher.py:4: SettingWithCopyWarning: \n",
      "A value is trying to be set on a copy of a slice from a DataFrame.\n",
      "Try using .loc[row_indexer,col_indexer] = value instead\n",
      "\n",
      "See the caveats in the documentation: https://pandas.pydata.org/pandas-docs/stable/user_guide/indexing.html#returning-a-view-versus-a-copy\n",
      "  after removing the cwd from sys.path.\n"
     ]
    }
   ],
   "source": [
    "decades = ['1940s','1950s','1960s','1970s','1980s','1990s','2000s','2010s']\n",
    "ufo_yd['Decade'] = pd.cut(x=ufo_yd['Date_time'].dt.year.astype(int),\n",
    "       bins=[1940,1950,1960,1970,1980,1990,2000,2010,2020],\n",
    "       labels=decades)"
   ]
  },
  {
   "cell_type": "code",
   "execution_count": 145,
   "metadata": {},
   "outputs": [
    {
     "data": {
      "text/html": [
       "<div>\n",
       "<style scoped>\n",
       "    .dataframe tbody tr th:only-of-type {\n",
       "        vertical-align: middle;\n",
       "    }\n",
       "\n",
       "    .dataframe tbody tr th {\n",
       "        vertical-align: top;\n",
       "    }\n",
       "\n",
       "    .dataframe thead th {\n",
       "        text-align: right;\n",
       "    }\n",
       "</style>\n",
       "<table border=\"1\" class=\"dataframe\">\n",
       "  <thead>\n",
       "    <tr style=\"text-align: right;\">\n",
       "      <th></th>\n",
       "      <th>Date_time</th>\n",
       "      <th>Year</th>\n",
       "      <th>yd</th>\n",
       "      <th>hour</th>\n",
       "      <th>Decade</th>\n",
       "    </tr>\n",
       "  </thead>\n",
       "  <tbody>\n",
       "    <tr>\n",
       "      <th>83378</th>\n",
       "      <td>2013-09-09 20:21:00</td>\n",
       "      <td>2013</td>\n",
       "      <td>252</td>\n",
       "      <td>20</td>\n",
       "      <td>2010s</td>\n",
       "    </tr>\n",
       "    <tr>\n",
       "      <th>83379</th>\n",
       "      <td>2013-09-09 21:00:00</td>\n",
       "      <td>2013</td>\n",
       "      <td>252</td>\n",
       "      <td>21</td>\n",
       "      <td>2010s</td>\n",
       "    </tr>\n",
       "    <tr>\n",
       "      <th>83380</th>\n",
       "      <td>2013-09-09 21:00:00</td>\n",
       "      <td>2013</td>\n",
       "      <td>252</td>\n",
       "      <td>21</td>\n",
       "      <td>2010s</td>\n",
       "    </tr>\n",
       "    <tr>\n",
       "      <th>83381</th>\n",
       "      <td>2013-09-09 21:00:00</td>\n",
       "      <td>2013</td>\n",
       "      <td>252</td>\n",
       "      <td>21</td>\n",
       "      <td>2010s</td>\n",
       "    </tr>\n",
       "    <tr>\n",
       "      <th>83382</th>\n",
       "      <td>2013-09-09 21:00:00</td>\n",
       "      <td>2013</td>\n",
       "      <td>252</td>\n",
       "      <td>21</td>\n",
       "      <td>2010s</td>\n",
       "    </tr>\n",
       "    <tr>\n",
       "      <th>83383</th>\n",
       "      <td>2013-09-09 21:00:00</td>\n",
       "      <td>2013</td>\n",
       "      <td>252</td>\n",
       "      <td>21</td>\n",
       "      <td>2010s</td>\n",
       "    </tr>\n",
       "    <tr>\n",
       "      <th>83384</th>\n",
       "      <td>2013-09-09 21:15:00</td>\n",
       "      <td>2013</td>\n",
       "      <td>252</td>\n",
       "      <td>21</td>\n",
       "      <td>2010s</td>\n",
       "    </tr>\n",
       "    <tr>\n",
       "      <th>83385</th>\n",
       "      <td>2013-09-09 22:00:00</td>\n",
       "      <td>2013</td>\n",
       "      <td>252</td>\n",
       "      <td>22</td>\n",
       "      <td>2010s</td>\n",
       "    </tr>\n",
       "    <tr>\n",
       "      <th>83388</th>\n",
       "      <td>2013-09-09 22:20:00</td>\n",
       "      <td>2013</td>\n",
       "      <td>252</td>\n",
       "      <td>22</td>\n",
       "      <td>2010s</td>\n",
       "    </tr>\n",
       "    <tr>\n",
       "      <th>83389</th>\n",
       "      <td>2013-09-09 23:00:00</td>\n",
       "      <td>2013</td>\n",
       "      <td>252</td>\n",
       "      <td>23</td>\n",
       "      <td>2010s</td>\n",
       "    </tr>\n",
       "  </tbody>\n",
       "</table>\n",
       "</div>"
      ],
      "text/plain": [
       "                Date_time  Year   yd  hour Decade\n",
       "83378 2013-09-09 20:21:00  2013  252    20  2010s\n",
       "83379 2013-09-09 21:00:00  2013  252    21  2010s\n",
       "83380 2013-09-09 21:00:00  2013  252    21  2010s\n",
       "83381 2013-09-09 21:00:00  2013  252    21  2010s\n",
       "83382 2013-09-09 21:00:00  2013  252    21  2010s\n",
       "83383 2013-09-09 21:00:00  2013  252    21  2010s\n",
       "83384 2013-09-09 21:15:00  2013  252    21  2010s\n",
       "83385 2013-09-09 22:00:00  2013  252    22  2010s\n",
       "83388 2013-09-09 22:20:00  2013  252    22  2010s\n",
       "83389 2013-09-09 23:00:00  2013  252    23  2010s"
      ]
     },
     "execution_count": 145,
     "metadata": {},
     "output_type": "execute_result"
    }
   ],
   "source": [
    "ufo_yd.tail(10)"
   ]
  },
  {
   "cell_type": "code",
   "execution_count": 146,
   "metadata": {},
   "outputs": [
    {
     "data": {
      "image/png": "[encoded data removed]",
      "text/plain": [
       "<Figure size 1440x576 with 8 Axes>"
      ]
     },
     "metadata": {
      "needs_background": "light"
     },
     "output_type": "display_data"
    }
   ],
   "source": [
    "fig, axes = plt.subplots(nrows=2, ncols=4, figsize=(20,8))\n",
    "for i, ax in enumerate(axes.flatten()):\n",
    "    \n",
    "   \n",
    "    t = ufo_yd[ufo_yd['Decade']==decades[i]]['Date_time']\n",
    "    \n",
    " \n",
    "    #histogram\n",
    "    ax.hist(t, bins=10, edgecolor='white', alpha=0.55, color='green')\n",
    "    ax.tick_params(axis='x', rotation=30)\n",
    "    ax.set_title(\"Decade: {}\".format(decades[i]))\n",
    "\n",
    "plt.show()"
   ]
  },
  {
   "cell_type": "markdown",
   "metadata": {},
   "source": [
    "<b> If we view sightings by decades it can be seen that 60s, 70s, and 80s had sightings in hundreds every year, but 90s onwards especially after 2000 it was in the range of more than 2500 sightings every year and this has been the trend for last three decades"
   ]
  },
  {
   "cell_type": "markdown",
   "metadata": {},
   "source": [
    "### 3.5.8 Sightings by Season<a id='3.5.8_Sightings_by_Season'></a>"
   ]
  },
  {
   "cell_type": "code",
   "execution_count": 147,
   "metadata": {},
   "outputs": [
    {
     "name": "stderr",
     "output_type": "stream",
     "text": [
      "D:\\Anacon\\lib\\site-packages\\ipykernel_launcher.py:1: SettingWithCopyWarning: \n",
      "A value is trying to be set on a copy of a slice from a DataFrame.\n",
      "Try using .loc[row_indexer,col_indexer] = value instead\n",
      "\n",
      "See the caveats in the documentation: https://pandas.pydata.org/pandas-docs/stable/user_guide/indexing.html#returning-a-view-versus-a-copy\n",
      "  \"\"\"Entry point for launching an IPython kernel.\n"
     ]
    }
   ],
   "source": [
    "ufo_yd['season'] = (ufo_yd['Date_time'].dt.month%12 + 3)//3"
   ]
  },
  {
   "cell_type": "code",
   "execution_count": 150,
   "metadata": {},
   "outputs": [
    {
     "name": "stderr",
     "output_type": "stream",
     "text": [
      "D:\\Anacon\\lib\\site-packages\\ipykernel_launcher.py:2: SettingWithCopyWarning: \n",
      "A value is trying to be set on a copy of a slice from a DataFrame.\n",
      "Try using .loc[row_indexer,col_indexer] = value instead\n",
      "\n",
      "See the caveats in the documentation: https://pandas.pydata.org/pandas-docs/stable/user_guide/indexing.html#returning-a-view-versus-a-copy\n",
      "  \n"
     ]
    }
   ],
   "source": [
    "season_dict = {1:'Winter',2:'Spring',3:'Summer',4:'Autumn'}\n",
    "ufo_yd['season'] = ufo_yd['season'].map(season_dict)"
   ]
  },
  {
   "cell_type": "code",
   "execution_count": 160,
   "metadata": {},
   "outputs": [
    {
     "data": {
      "image/png": "[encoded data removed]",
      "text/plain": [
       "<Figure size 576x288 with 1 Axes>"
      ]
     },
     "metadata": {
      "needs_background": "light"
     },
     "output_type": "display_data"
    }
   ],
   "source": [
    "fig, ax = plt.subplots(figsize=(8,4))\n",
    "ufo_yd['season'].hist(bins=np.arange(0,5,1), align='left',alpha=0.75, color = 'red', edgecolor = 'white')\n",
    "plt.ylabel('Sightings')\n",
    "plt.xlabel('Seaason')\n",
    "plt.xlim([1,4])\n",
    "\n",
    "plt.xticks(rotation='45')\n",
    "plt.title('Sightings by Season', **font)\n",
    "plt.axis('tight')\n",
    "plt.grid(False)\n",
    "plt.tight_layout()"
   ]
  },
  {
   "cell_type": "markdown",
   "metadata": {},
   "source": [
    "<b> Summer season has the most sightings probably beacuse people are more outside in summers than winters and ther seasons"
   ]
  },
  {
   "cell_type": "markdown",
   "metadata": {},
   "source": [
    "### 3.5.9 Sightings Duration Analysis<a id='3.5.9_Sightings_Duration_Analysis'></a>"
   ]
  },
  {
   "cell_type": "code",
   "execution_count": 183,
   "metadata": {},
   "outputs": [],
   "source": [
    "pd.options.display.float_format = '{:.3f}'.format"
   ]
  },
  {
   "cell_type": "code",
   "execution_count": 172,
   "metadata": {},
   "outputs": [],
   "source": [
    "ufo['Duration_minutes'] = ufo['Duration_minutes'].astype(float)"
   ]
  },
  {
   "cell_type": "code",
   "execution_count": 195,
   "metadata": {},
   "outputs": [],
   "source": [
    "ufo = ufo[ufo['Duration_minutes'] < 10000]"
   ]
  },
  {
   "cell_type": "code",
   "execution_count": 201,
   "metadata": {},
   "outputs": [
    {
     "data": {
      "text/plain": [
       "count   77544.000\n",
       "mean       15.065\n",
       "std        72.835\n",
       "min         0.000\n",
       "25%         0.500\n",
       "50%         3.000\n",
       "75%        10.000\n",
       "max      5760.000\n",
       "Name: Duration_minutes, dtype: float64"
      ]
     },
     "execution_count": 201,
     "metadata": {},
     "output_type": "execute_result"
    }
   ],
   "source": [
    "ufo.Duration_minutes.describe()"
   ]
  },
  {
   "cell_type": "code",
   "execution_count": 196,
   "metadata": {},
   "outputs": [
    {
     "data": {
      "text/plain": [
       "52594   5760.000\n",
       "1285    4500.000\n",
       "37418   4320.000\n",
       "24462   4320.000\n",
       "1271    4320.000\n",
       "46741   2880.000\n",
       "22720   2880.000\n",
       "57472   2700.000\n",
       "46476   2700.000\n",
       "44703   2700.000\n",
       "Name: Duration_minutes, dtype: float64"
      ]
     },
     "execution_count": 196,
     "metadata": {},
     "output_type": "execute_result"
    }
   ],
   "source": [
    "ufo.Duration_minutes.sort_values(ascending = False).head(10)"
   ]
  },
  {
   "cell_type": "code",
   "execution_count": null,
   "metadata": {},
   "outputs": [],
   "source": []
  },
  {
   "cell_type": "code",
   "execution_count": 197,
   "metadata": {},
   "outputs": [
    {
     "data": {
      "text/plain": [
       "<AxesSubplot:>"
      ]
     },
     "execution_count": 197,
     "metadata": {},
     "output_type": "execute_result"
    },
    {
     "data": {
      "image/png": "[encoded data removed]",
      "text/plain": [
       "<Figure size 432x288 with 1 Axes>"
      ]
     },
     "metadata": {
      "needs_background": "light"
     },
     "output_type": "display_data"
    }
   ],
   "source": [
    "ufo.boxplot(['Duration_minutes'])"
   ]
  },
  {
   "cell_type": "code",
   "execution_count": 207,
   "metadata": {},
   "outputs": [],
   "source": [
    "ufo_2 = ufo[ufo['Duration_minutes'] < 210]"
   ]
  },
  {
   "cell_type": "code",
   "execution_count": 423,
   "metadata": {},
   "outputs": [
    {
     "data": {
      "text/plain": [
       "count   76934.000\n",
       "mean       11.264\n",
       "std        24.044\n",
       "min         0.000\n",
       "25%         0.500\n",
       "50%         3.000\n",
       "75%        10.000\n",
       "max       201.000\n",
       "Name: Duration_minutes, dtype: float64"
      ]
     },
     "execution_count": 423,
     "metadata": {},
     "output_type": "execute_result"
    }
   ],
   "source": [
    "ufo_2.Duration_minutes.describe()"
   ]
  },
  {
   "cell_type": "code",
   "execution_count": 208,
   "metadata": {},
   "outputs": [
    {
     "data": {
      "text/plain": [
       "<AxesSubplot:>"
      ]
     },
     "execution_count": 208,
     "metadata": {},
     "output_type": "execute_result"
    },
    {
     "data": {
      "image/png": "[encoded data removed]",
      "text/plain": [
       "<Figure size 432x288 with 1 Axes>"
      ]
     },
     "metadata": {
      "needs_background": "light"
     },
     "output_type": "display_data"
    }
   ],
   "source": [
    "ufo_2.boxplot(['Duration_minutes'])"
   ]
  },
  {
   "cell_type": "code",
   "execution_count": 424,
   "metadata": {},
   "outputs": [
    {
     "data": {
      "image/png": "[encoded data removed]",
      "text/plain": [
       "<Figure size 720x432 with 1 Axes>"
      ]
     },
     "metadata": {
      "needs_background": "light"
     },
     "output_type": "display_data"
    }
   ],
   "source": [
    "plt.figure(figsize = (10,6))\n",
    "ufo['Duration_minutes'].hist(bins=np.arange(0,200,10), align='left',alpha=0.75, color = 'red', edgecolor = 'white')\n",
    "plt.ylabel('Sightings')\n",
    "plt.xlabel('Duration groups')\n",
    "plt.xlim([0,200])\n",
    "\n",
    "plt.show()"
   ]
  },
  {
   "cell_type": "markdown",
   "metadata": {},
   "source": [
    "<b> * For Duration I observed a massive outlier with 137800 minutes, which I though din't makes sense so after deleting it,\n",
    "* if we observe we still have max value of 5760 minutes which also is suspicious but I didn't delete it and viewing the boxplot and summary, it can be seen that avg duration is around 15 minutes with std of 72 \n",
    "* If we look at the IQR its between 0.5 minutes and 10 minutes which is clearly very less as comared to max value\n",
    "* so I created another boxplot with data with 3 Standara deviation from mean, it can be observed that \n",
    "    * with Max values of 201 minutes, \n",
    "    * our mean drops down to 11.2 and std of 24 minutes \n",
    "    * with IQR bewteen 0 and 10 minutes \n",
    "* If we look at the duration histogram most of the sightings lie with first 5 bins that is less than 10 minutes    \n"
   ]
  },
  {
   "cell_type": "markdown",
   "metadata": {},
   "source": [
    "### 3.5.10 Sightings by Shape<a id='3.5.10_Sightings_by_Shape'></a>"
   ]
  },
  {
   "cell_type": "code",
   "execution_count": 220,
   "metadata": {},
   "outputs": [],
   "source": [
    "ufo_c = ufo.copy()"
   ]
  },
  {
   "cell_type": "code",
   "execution_count": 227,
   "metadata": {},
   "outputs": [],
   "source": [
    "from ast import literal_eval"
   ]
  },
  {
   "cell_type": "code",
   "execution_count": 324,
   "metadata": {},
   "outputs": [],
   "source": [
    "sh_counts = ufo_c['sh'].str.lower().value_counts()"
   ]
  },
  {
   "cell_type": "code",
   "execution_count": 329,
   "metadata": {},
   "outputs": [
    {
     "data": {
      "image/png": "[encoded data removed]",
      "text/plain": [
       "<Figure size 720x432 with 1 Axes>"
      ]
     },
     "metadata": {
      "needs_background": "light"
     },
     "output_type": "display_data"
    }
   ],
   "source": [
    "plt.figure(figsize = (10,6))\n",
    "sh_counts.plot(kind = \"barh\", colormap = \"ocean\")\n",
    "font = {'fontsize':'larger'}\n",
    "percent_font = {'fontsize':'smaller'}\n",
    "plt.title('Sightings by Shape', **font)\n",
    "plt.xlabel('Sightings')\n",
    "plt.xlim([0,36000])\n",
    "\n",
    "shape_percent = [s*(100.0/sh_counts.sum()) for s in sh_counts]\n",
    "X = sh_counts.values\n",
    "Y = [i for i in range(len(shape_percent))]\n",
    "for i in range(len(shape_percent)):\n",
    "    x = X[i]+500\n",
    "    y = Y[i]-0.2\n",
    "    plt.text(x,y,'%.2f' % shape_percent[i] + '%', **percent_font)\n",
    "plt.tight_layout()\n",
    "plt.show()"
   ]
  },
  {
   "cell_type": "markdown",
   "metadata": {},
   "source": [
    "<b> After getting shapes form the data, it can be seen that 30% of UFO sightings have light shape followed by traingle and circle at 9% and 7% respectively"
   ]
  },
  {
   "cell_type": "markdown",
   "metadata": {},
   "source": [
    "## 3.6 Bivariate Data Exploration<a id='3.6_Bivariate_Data_Exploration'></a>"
   ]
  },
  {
   "cell_type": "code",
   "execution_count": 340,
   "metadata": {},
   "outputs": [
    {
     "data": {
      "text/html": [
       "<div>\n",
       "<style scoped>\n",
       "    .dataframe tbody tr th:only-of-type {\n",
       "        vertical-align: middle;\n",
       "    }\n",
       "\n",
       "    .dataframe tbody tr th {\n",
       "        vertical-align: top;\n",
       "    }\n",
       "\n",
       "    .dataframe thead th {\n",
       "        text-align: right;\n",
       "    }\n",
       "</style>\n",
       "<table border=\"1\" class=\"dataframe\">\n",
       "  <thead>\n",
       "    <tr style=\"text-align: right;\">\n",
       "      <th></th>\n",
       "      <th>Date_time</th>\n",
       "      <th>Duration_minutes</th>\n",
       "      <th>Description</th>\n",
       "      <th>Date_posted</th>\n",
       "      <th>lat_long</th>\n",
       "      <th>Country</th>\n",
       "      <th>State</th>\n",
       "      <th>City</th>\n",
       "      <th>Shape_final</th>\n",
       "      <th>Year</th>\n",
       "      <th>Month</th>\n",
       "      <th>sh</th>\n",
       "      <th>lat</th>\n",
       "      <th>long</th>\n",
       "    </tr>\n",
       "  </thead>\n",
       "  <tbody>\n",
       "    <tr>\n",
       "      <th>0</th>\n",
       "      <td>1949-10-10 20:30:00</td>\n",
       "      <td>45.000</td>\n",
       "      <td>This event took place in early fall around 194...</td>\n",
       "      <td>2004-04-27</td>\n",
       "      <td>(29.8830556, -97.9411111)</td>\n",
       "      <td>US</td>\n",
       "      <td>Texas</td>\n",
       "      <td>San Marcos</td>\n",
       "      <td>[cylinder]</td>\n",
       "      <td>1949</td>\n",
       "      <td>October</td>\n",
       "      <td>cylinder</td>\n",
       "      <td>29.883</td>\n",
       "      <td>-97.941</td>\n",
       "    </tr>\n",
       "    <tr>\n",
       "      <th>1</th>\n",
       "      <td>1949-10-10 21:00:00</td>\n",
       "      <td>60.000</td>\n",
       "      <td>1949 Lackland AFB&amp;#44 TX.  Lights racing acros...</td>\n",
       "      <td>2005-12-16</td>\n",
       "      <td>(29.38421, -98.581082)</td>\n",
       "      <td>US</td>\n",
       "      <td>Texas</td>\n",
       "      <td>Lackland Air Force Base</td>\n",
       "      <td>[light]</td>\n",
       "      <td>1949</td>\n",
       "      <td>October</td>\n",
       "      <td>light</td>\n",
       "      <td>29.384</td>\n",
       "      <td>-98.581</td>\n",
       "    </tr>\n",
       "    <tr>\n",
       "      <th>2</th>\n",
       "      <td>1955-10-10 17:00:00</td>\n",
       "      <td>0.330</td>\n",
       "      <td>Green/Orange circular disc over Chester&amp;#44 En...</td>\n",
       "      <td>2008-01-21</td>\n",
       "      <td>(53.2, -2.916667)</td>\n",
       "      <td>GB</td>\n",
       "      <td>England</td>\n",
       "      <td>Blacon</td>\n",
       "      <td>[circle]</td>\n",
       "      <td>1955</td>\n",
       "      <td>October</td>\n",
       "      <td>circle</td>\n",
       "      <td>53.200</td>\n",
       "      <td>-2.917</td>\n",
       "    </tr>\n",
       "    <tr>\n",
       "      <th>3</th>\n",
       "      <td>1956-10-10 21:00:00</td>\n",
       "      <td>30.000</td>\n",
       "      <td>My older brother and twin sister were leaving ...</td>\n",
       "      <td>2004-01-17</td>\n",
       "      <td>(28.9783333, -96.6458333)</td>\n",
       "      <td>US</td>\n",
       "      <td>Texas</td>\n",
       "      <td>Edna</td>\n",
       "      <td>[circle]</td>\n",
       "      <td>1956</td>\n",
       "      <td>October</td>\n",
       "      <td>circle</td>\n",
       "      <td>28.978</td>\n",
       "      <td>-96.646</td>\n",
       "    </tr>\n",
       "    <tr>\n",
       "      <th>4</th>\n",
       "      <td>1960-10-10 20:00:00</td>\n",
       "      <td>15.000</td>\n",
       "      <td>AS a Marine 1st Lt. flying an FJ4B fighter/att...</td>\n",
       "      <td>2004-01-22</td>\n",
       "      <td>(21.4180556, -157.8036111)</td>\n",
       "      <td>US</td>\n",
       "      <td>Hawaii</td>\n",
       "      <td>Kane'ohe</td>\n",
       "      <td>[light]</td>\n",
       "      <td>1960</td>\n",
       "      <td>October</td>\n",
       "      <td>light</td>\n",
       "      <td>21.418</td>\n",
       "      <td>-157.804</td>\n",
       "    </tr>\n",
       "  </tbody>\n",
       "</table>\n",
       "</div>"
      ],
      "text/plain": [
       "            Date_time  Duration_minutes  \\\n",
       "0 1949-10-10 20:30:00            45.000   \n",
       "1 1949-10-10 21:00:00            60.000   \n",
       "2 1955-10-10 17:00:00             0.330   \n",
       "3 1956-10-10 21:00:00            30.000   \n",
       "4 1960-10-10 20:00:00            15.000   \n",
       "\n",
       "                                         Description Date_posted  \\\n",
       "0  This event took place in early fall around 194...  2004-04-27   \n",
       "1  1949 Lackland AFB&#44 TX.  Lights racing acros...  2005-12-16   \n",
       "2  Green/Orange circular disc over Chester&#44 En...  2008-01-21   \n",
       "3  My older brother and twin sister were leaving ...  2004-01-17   \n",
       "4  AS a Marine 1st Lt. flying an FJ4B fighter/att...  2004-01-22   \n",
       "\n",
       "                     lat_long Country    State                     City  \\\n",
       "0   (29.8830556, -97.9411111)      US    Texas               San Marcos   \n",
       "1      (29.38421, -98.581082)      US    Texas  Lackland Air Force Base   \n",
       "2           (53.2, -2.916667)      GB  England                   Blacon   \n",
       "3   (28.9783333, -96.6458333)      US    Texas                     Edna   \n",
       "4  (21.4180556, -157.8036111)      US   Hawaii                 Kane'ohe   \n",
       "\n",
       "  Shape_final  Year    Month        sh    lat     long  \n",
       "0  [cylinder]  1949  October  cylinder 29.883  -97.941  \n",
       "1     [light]  1949  October     light 29.384  -98.581  \n",
       "2    [circle]  1955  October    circle 53.200   -2.917  \n",
       "3    [circle]  1956  October    circle 28.978  -96.646  \n",
       "4     [light]  1960  October     light 21.418 -157.804  "
      ]
     },
     "execution_count": 340,
     "metadata": {},
     "output_type": "execute_result"
    }
   ],
   "source": [
    "ufo_c.head()"
   ]
  },
  {
   "cell_type": "markdown",
   "metadata": {},
   "source": [
    "### 3.6.1 Avg Duration by Country<a id='3.6.1_Avg_Duration_by_Country'></a>"
   ]
  },
  {
   "cell_type": "code",
   "execution_count": 348,
   "metadata": {},
   "outputs": [],
   "source": [
    "ufo_cou = ufo.groupby('Country')['Duration_minutes'].mean()"
   ]
  },
  {
   "cell_type": "code",
   "execution_count": 353,
   "metadata": {},
   "outputs": [],
   "source": [
    "import country_converter as coco"
   ]
  },
  {
   "cell_type": "code",
   "execution_count": 350,
   "metadata": {},
   "outputs": [],
   "source": [
    "df_co = pd.DataFrame({'Country': ufo_cou.index, 'Avg_dura':ufo_cou.values} )"
   ]
  },
  {
   "cell_type": "code",
   "execution_count": 374,
   "metadata": {},
   "outputs": [
    {
     "data": {
      "text/html": [
       "<div>\n",
       "<style scoped>\n",
       "    .dataframe tbody tr th:only-of-type {\n",
       "        vertical-align: middle;\n",
       "    }\n",
       "\n",
       "    .dataframe tbody tr th {\n",
       "        vertical-align: top;\n",
       "    }\n",
       "\n",
       "    .dataframe thead th {\n",
       "        text-align: right;\n",
       "    }\n",
       "</style>\n",
       "<table border=\"1\" class=\"dataframe\">\n",
       "  <thead>\n",
       "    <tr style=\"text-align: right;\">\n",
       "      <th></th>\n",
       "      <th>Country</th>\n",
       "      <th>Avg_dura</th>\n",
       "      <th>code</th>\n",
       "    </tr>\n",
       "  </thead>\n",
       "  <tbody>\n",
       "    <tr>\n",
       "      <th>0</th>\n",
       "      <td>AE</td>\n",
       "      <td>5.494</td>\n",
       "      <td>ARE</td>\n",
       "    </tr>\n",
       "    <tr>\n",
       "      <th>1</th>\n",
       "      <td>AF</td>\n",
       "      <td>5.167</td>\n",
       "      <td>AFG</td>\n",
       "    </tr>\n",
       "    <tr>\n",
       "      <th>2</th>\n",
       "      <td>AL</td>\n",
       "      <td>1.050</td>\n",
       "      <td>ALB</td>\n",
       "    </tr>\n",
       "    <tr>\n",
       "      <th>3</th>\n",
       "      <td>AM</td>\n",
       "      <td>5.500</td>\n",
       "      <td>ARM</td>\n",
       "    </tr>\n",
       "    <tr>\n",
       "      <th>4</th>\n",
       "      <td>AR</td>\n",
       "      <td>10.443</td>\n",
       "      <td>ARG</td>\n",
       "    </tr>\n",
       "  </tbody>\n",
       "</table>\n",
       "</div>"
      ],
      "text/plain": [
       "  Country  Avg_dura code\n",
       "0      AE     5.494  ARE\n",
       "1      AF     5.167  AFG\n",
       "2      AL     1.050  ALB\n",
       "3      AM     5.500  ARM\n",
       "4      AR    10.443  ARG"
      ]
     },
     "execution_count": 374,
     "metadata": {},
     "output_type": "execute_result"
    }
   ],
   "source": [
    "df_co.head()"
   ]
  },
  {
   "cell_type": "code",
   "execution_count": 378,
   "metadata": {},
   "outputs": [
    {
     "data": {
      "text/html": [
       "<div>\n",
       "<style scoped>\n",
       "    .dataframe tbody tr th:only-of-type {\n",
       "        vertical-align: middle;\n",
       "    }\n",
       "\n",
       "    .dataframe tbody tr th {\n",
       "        vertical-align: top;\n",
       "    }\n",
       "\n",
       "    .dataframe thead th {\n",
       "        text-align: right;\n",
       "    }\n",
       "</style>\n",
       "<table border=\"1\" class=\"dataframe\">\n",
       "  <thead>\n",
       "    <tr style=\"text-align: right;\">\n",
       "      <th></th>\n",
       "      <th>Country</th>\n",
       "      <th>Avg_dura</th>\n",
       "      <th>code</th>\n",
       "    </tr>\n",
       "  </thead>\n",
       "  <tbody>\n",
       "    <tr>\n",
       "      <th>77</th>\n",
       "      <td>KG</td>\n",
       "      <td>1060.500</td>\n",
       "      <td>KGZ</td>\n",
       "    </tr>\n",
       "    <tr>\n",
       "      <th>124</th>\n",
       "      <td>SB</td>\n",
       "      <td>180.000</td>\n",
       "      <td>SLB</td>\n",
       "    </tr>\n",
       "    <tr>\n",
       "      <th>17</th>\n",
       "      <td>BO</td>\n",
       "      <td>104.800</td>\n",
       "      <td>BOL</td>\n",
       "    </tr>\n",
       "    <tr>\n",
       "      <th>117</th>\n",
       "      <td>PW</td>\n",
       "      <td>61.000</td>\n",
       "      <td>PLW</td>\n",
       "    </tr>\n",
       "    <tr>\n",
       "      <th>33</th>\n",
       "      <td>CV</td>\n",
       "      <td>60.000</td>\n",
       "      <td>CPV</td>\n",
       "    </tr>\n",
       "    <tr>\n",
       "      <th>46</th>\n",
       "      <td>FJ</td>\n",
       "      <td>60.000</td>\n",
       "      <td>FJI</td>\n",
       "    </tr>\n",
       "    <tr>\n",
       "      <th>55</th>\n",
       "      <td>GT</td>\n",
       "      <td>46.826</td>\n",
       "      <td>GTM</td>\n",
       "    </tr>\n",
       "    <tr>\n",
       "      <th>63</th>\n",
       "      <td>ID</td>\n",
       "      <td>45.750</td>\n",
       "      <td>IDN</td>\n",
       "    </tr>\n",
       "    <tr>\n",
       "      <th>76</th>\n",
       "      <td>KE</td>\n",
       "      <td>42.230</td>\n",
       "      <td>KEN</td>\n",
       "    </tr>\n",
       "    <tr>\n",
       "      <th>21</th>\n",
       "      <td>BW</td>\n",
       "      <td>37.500</td>\n",
       "      <td>BWA</td>\n",
       "    </tr>\n",
       "  </tbody>\n",
       "</table>\n",
       "</div>"
      ],
      "text/plain": [
       "    Country  Avg_dura code\n",
       "77       KG  1060.500  KGZ\n",
       "124      SB   180.000  SLB\n",
       "17       BO   104.800  BOL\n",
       "117      PW    61.000  PLW\n",
       "33       CV    60.000  CPV\n",
       "46       FJ    60.000  FJI\n",
       "55       GT    46.826  GTM\n",
       "63       ID    45.750  IDN\n",
       "76       KE    42.230  KEN\n",
       "21       BW    37.500  BWA"
      ]
     },
     "execution_count": 378,
     "metadata": {},
     "output_type": "execute_result"
    }
   ],
   "source": [
    "df_co.sort_values('Avg_dura', ascending = False). head(10)"
   ]
  },
  {
   "cell_type": "code",
   "execution_count": 377,
   "metadata": {},
   "outputs": [
    {
     "data": {
      "application/vnd.plotly.v1+json": {
       "config": {
        "plotlyServerURL": "https://plot.ly"
       },
       "data": [
        {
         "autocolorscale": false,
         "colorbar": {
          "ticksuffix": " Minutes",
          "title": {
           "text": "Average Visible Duration"
          }
         },
         "colorscale": [
          [
           0,
           "rgb(247,251,255)"
          ],
          [
           0.125,
           "rgb(222,235,247)"
          ],
          [
           0.25,
           "rgb(198,219,239)"
          ],
          [
           0.375,
           "rgb(158,202,225)"
          ],
          [
           0.5,
           "rgb(107,174,214)"
          ],
          [
           0.625,
           "rgb(66,146,198)"
          ],
          [
           0.75,
           "rgb(33,113,181)"
          ],
          [
           0.875,
           "rgb(8,81,156)"
          ],
          [
           1,
           "rgb(8,48,107)"
          ]
         ],
         "locations": [
          "ARE",
          "AFG",
          "ALB",
          "ARM",
          "ARG",
          "AUT",
          "AUS",
          "ALA",
          "AZE",
          "BIH",
          "BRB",
          "BGD",
          "BEL",
          "BGR",
          "BHR",
          "BMU",
          "BRN",
          "BOL",
          "BES",
          "BRA",
          "BHS",
          "BWA",
          "BLR",
          "BLZ",
          "CAN",
          "COD",
          "CHE",
          "CHL",
          "CMR",
          "CHN",
          "COL",
          "CRI",
          "CUB",
          "CPV",
          "CYP",
          "CZE",
          "DEU",
          "DNK",
          "DOM",
          "DZA",
          "ECU",
          "EST",
          "EGY",
          "ESP",
          "ETH",
          "FIN",
          "FJI",
          "FRO",
          "FRA",
          "GBR",
          "GRD",
          "GEO",
          "GHA",
          "GRL",
          "GRC",
          "GTM",
          "GUM",
          "GUY",
          "HKG",
          "HND",
          "HRV",
          "HTI",
          "HUN",
          "IDN",
          "IRL",
          "ISR",
          "IMN",
          "IND",
          "IRQ",
          "IRN",
          "ISL",
          "ITA",
          "JEY",
          "JAM",
          "JOR",
          "JPN",
          "KEN",
          "KGZ",
          "KHM",
          "KOR",
          "KWT",
          "KAZ",
          "LAO",
          "LBN",
          "LCA",
          "LKA",
          "LSO",
          "LTU",
          "LUX",
          "LVA",
          "LBY",
          "MAR",
          "MKD",
          "MMR",
          "MNG",
          "MAC",
          "MLT",
          "MUS",
          "MDV",
          "MEX",
          "MYS",
          "NGA",
          "NIC",
          "NLD",
          "NOR",
          "NPL",
          "NZL",
          "OMN",
          "PAN",
          "PER",
          "PNG",
          "PHL",
          "PAK",
          "POL",
          "PRI",
          "PSE",
          "PRT",
          "PLW",
          "PRY",
          "QAT",
          "ROU",
          "SRB",
          "RUS",
          "SAU",
          "SLB",
          "SWE",
          "SHN",
          "SVN",
          "SJM",
          "SVK",
          "SEN",
          "SUR",
          "STP",
          "SLV",
          "SYR",
          "SWZ",
          "ATF",
          "THA",
          "TLS",
          "TUN",
          "TON",
          "TUR",
          "TTO",
          "TWN",
          "TZA",
          "UKR",
          "USA",
          "URY",
          "UZB",
          "VEN",
          "VIR",
          "VNM",
          "XKX",
          "YEM",
          "ZAF",
          "ZMB",
          "ZWE"
         ],
         "marker": {
          "line": {
           "color": "darkgray",
           "width": 0.5
          }
         },
         "reversescale": true,
         "type": "choropleth",
         "z": [
          5.494090909090908,
          5.167272727272728,
          1.05,
          5.5,
          10.4425,
          0.845,
          11.642200328407228,
          0.17,
          0.3866666666666667,
          2.7142857142857144,
          10.0325,
          5.4818181818181815,
          9.59342105263158,
          9.527857142857142,
          3.4433333333333334,
          17.62857142857143,
          7.5425,
          104.8,
          2,
          23.642842105263156,
          8.25,
          37.5,
          8,
          22.75,
          14.32889701579871,
          2,
          4.344285714285714,
          11.631428571428572,
          12,
          21.22973684210526,
          19.20578947368421,
          11.825833333333334,
          7.8,
          60,
          4.714347826086957,
          21,
          17.024341085271313,
          8.958125,
          2.7920000000000003,
          1,
          11.203999999999999,
          2.6007142857142864,
          11.479999999999999,
          14.891641791044778,
          7.25,
          5.223333333333334,
          60,
          1.5,
          10.191935483870967,
          11.473142730496443,
          1,
          0.25,
          19.036848998459185,
          5,
          9.951794871794874,
          46.82555555555555,
          15,
          1.216,
          13.331,
          4.064444444444444,
          9.343913043478262,
          0,
          7.254,
          45.75,
          10.067446808510637,
          19.055806451612902,
          3,
          17.0416425120773,
          8.025416666666665,
          33.07666666666666,
          14.084166666666667,
          5.776206896551723,
          1.3949999999999998,
          6.255,
          1.28375,
          6.244081632653062,
          42.230000000000004,
          1060.5,
          1,
          9.723333333333336,
          3.15,
          8.805,
          4,
          8.687692307692307,
          2,
          20.725,
          30,
          18.092000000000002,
          4.3549999999999995,
          4.255,
          11.5,
          11.516666666666666,
          9,
          8.666666666666666,
          2.3333333333333335,
          0.17,
          8.116666666666667,
          4.645,
          30,
          27.08958525345623,
          32.04018518518518,
          15.5,
          5,
          11.359158878504669,
          9.660526315789474,
          1.8125,
          16.43,
          0.17,
          10.505,
          3.7216666666666662,
          0.05,
          14.852800000000004,
          6.594137931034483,
          11.880625000000002,
          19.219565217391306,
          0.02,
          9.070256410256412,
          61,
          7.666666666666667,
          0.5566666666666666,
          8.671071428571427,
          2.6714285714285713,
          3.6654545454545446,
          2.74,
          180,
          7.69657142857143,
          15,
          3.6455555555555557,
          10,
          1.875,
          3,
          15.375,
          1,
          30,
          1.845,
          10,
          20.016,
          15.810454545454546,
          0.75,
          2.27,
          30,
          19.70916666666667,
          10.20875,
          1.55,
          2.525,
          9.203333333333333,
          15.151452179976385,
          0.75,
          10.01,
          6.454090909090909,
          2.068,
          19.401764705882353,
          15.604444444444445,
          2,
          14.152666666666665,
          2.25,
          11.04125
         ]
        }
       ],
       "layout": {
        "geo": {
         "projection": {
          "type": "equirectangular"
         },
         "showcoastlines": false,
         "showframe": false
        },
        "template": {
         "data": {
          "bar": [
           {
            "error_x": {
             "color": "#2a3f5f"
            },
            "error_y": {
             "color": "#2a3f5f"
            },
            "marker": {
             "line": {
              "color": "#E5ECF6",
              "width": 0.5
             }
            },
            "type": "bar"
           }
          ],
          "barpolar": [
           {
            "marker": {
             "line": {
              "color": "#E5ECF6",
              "width": 0.5
             }
            },
            "type": "barpolar"
           }
          ],
          "carpet": [
           {
            "aaxis": {
             "endlinecolor": "#2a3f5f",
             "gridcolor": "white",
             "linecolor": "white",
             "minorgridcolor": "white",
             "startlinecolor": "#2a3f5f"
            },
            "baxis": {
             "endlinecolor": "#2a3f5f",
             "gridcolor": "white",
             "linecolor": "white",
             "minorgridcolor": "white",
             "startlinecolor": "#2a3f5f"
            },
            "type": "carpet"
           }
          ],
          "choropleth": [
           {
            "colorbar": {
             "outlinewidth": 0,
             "ticks": ""
            },
            "type": "choropleth"
           }
          ],
          "contour": [
           {
            "colorbar": {
             "outlinewidth": 0,
             "ticks": ""
            },
            "colorscale": [
             [
              0,
              "#0d0887"
             ],
             [
              0.1111111111111111,
              "#46039f"
             ],
             [
              0.2222222222222222,
              "#7201a8"
             ],
             [
              0.3333333333333333,
              "#9c179e"
             ],
             [
              0.4444444444444444,
              "#bd3786"
             ],
             [
              0.5555555555555556,
              "#d8576b"
             ],
             [
              0.6666666666666666,
              "#ed7953"
             ],
             [
              0.7777777777777778,
              "#fb9f3a"
             ],
             [
              0.8888888888888888,
              "#fdca26"
             ],
             [
              1,
              "#f0f921"
             ]
            ],
            "type": "contour"
           }
          ],
          "contourcarpet": [
           {
            "colorbar": {
             "outlinewidth": 0,
             "ticks": ""
            },
            "type": "contourcarpet"
           }
          ],
          "heatmap": [
           {
            "colorbar": {
             "outlinewidth": 0,
             "ticks": ""
            },
            "colorscale": [
             [
              0,
              "#0d0887"
             ],
             [
              0.1111111111111111,
              "#46039f"
             ],
             [
              0.2222222222222222,
              "#7201a8"
             ],
             [
              0.3333333333333333,
              "#9c179e"
             ],
             [
              0.4444444444444444,
              "#bd3786"
             ],
             [
              0.5555555555555556,
              "#d8576b"
             ],
             [
              0.6666666666666666,
              "#ed7953"
             ],
             [
              0.7777777777777778,
              "#fb9f3a"
             ],
             [
              0.8888888888888888,
              "#fdca26"
             ],
             [
              1,
              "#f0f921"
             ]
            ],
            "type": "heatmap"
           }
          ],
          "heatmapgl": [
           {
            "colorbar": {
             "outlinewidth": 0,
             "ticks": ""
            },
            "colorscale": [
             [
              0,
              "#0d0887"
             ],
             [
              0.1111111111111111,
              "#46039f"
             ],
             [
              0.2222222222222222,
              "#7201a8"
             ],
             [
              0.3333333333333333,
              "#9c179e"
             ],
             [
              0.4444444444444444,
              "#bd3786"
             ],
             [
              0.5555555555555556,
              "#d8576b"
             ],
             [
              0.6666666666666666,
              "#ed7953"
             ],
             [
              0.7777777777777778,
              "#fb9f3a"
             ],
             [
              0.8888888888888888,
              "#fdca26"
             ],
             [
              1,
              "#f0f921"
             ]
            ],
            "type": "heatmapgl"
           }
          ],
          "histogram": [
           {
            "marker": {
             "colorbar": {
              "outlinewidth": 0,
              "ticks": ""
             }
            },
            "type": "histogram"
           }
          ],
          "histogram2d": [
           {
            "colorbar": {
             "outlinewidth": 0,
             "ticks": ""
            },
            "colorscale": [
             [
              0,
              "#0d0887"
             ],
             [
              0.1111111111111111,
              "#46039f"
             ],
             [
              0.2222222222222222,
              "#7201a8"
             ],
             [
              0.3333333333333333,
              "#9c179e"
             ],
             [
              0.4444444444444444,
              "#bd3786"
             ],
             [
              0.5555555555555556,
              "#d8576b"
             ],
             [
              0.6666666666666666,
              "#ed7953"
             ],
             [
              0.7777777777777778,
              "#fb9f3a"
             ],
             [
              0.8888888888888888,
              "#fdca26"
             ],
             [
              1,
              "#f0f921"
             ]
            ],
            "type": "histogram2d"
           }
          ],
          "histogram2dcontour": [
           {
            "colorbar": {
             "outlinewidth": 0,
             "ticks": ""
            },
            "colorscale": [
             [
              0,
              "#0d0887"
             ],
             [
              0.1111111111111111,
              "#46039f"
             ],
             [
              0.2222222222222222,
              "#7201a8"
             ],
             [
              0.3333333333333333,
              "#9c179e"
             ],
             [
              0.4444444444444444,
              "#bd3786"
             ],
             [
              0.5555555555555556,
              "#d8576b"
             ],
             [
              0.6666666666666666,
              "#ed7953"
             ],
             [
              0.7777777777777778,
              "#fb9f3a"
             ],
             [
              0.8888888888888888,
              "#fdca26"
             ],
             [
              1,
              "#f0f921"
             ]
            ],
            "type": "histogram2dcontour"
           }
          ],
          "mesh3d": [
           {
            "colorbar": {
             "outlinewidth": 0,
             "ticks": ""
            },
            "type": "mesh3d"
           }
          ],
          "parcoords": [
           {
            "line": {
             "colorbar": {
              "outlinewidth": 0,
              "ticks": ""
             }
            },
            "type": "parcoords"
           }
          ],
          "pie": [
           {
            "automargin": true,
            "type": "pie"
           }
          ],
          "scatter": [
           {
            "marker": {
             "colorbar": {
              "outlinewidth": 0,
              "ticks": ""
             }
            },
            "type": "scatter"
           }
          ],
          "scatter3d": [
           {
            "line": {
             "colorbar": {
              "outlinewidth": 0,
              "ticks": ""
             }
            },
            "marker": {
             "colorbar": {
              "outlinewidth": 0,
              "ticks": ""
             }
            },
            "type": "scatter3d"
           }
          ],
          "scattercarpet": [
           {
            "marker": {
             "colorbar": {
              "outlinewidth": 0,
              "ticks": ""
             }
            },
            "type": "scattercarpet"
           }
          ],
          "scattergeo": [
           {
            "marker": {
             "colorbar": {
              "outlinewidth": 0,
              "ticks": ""
             }
            },
            "type": "scattergeo"
           }
          ],
          "scattergl": [
           {
            "marker": {
             "colorbar": {
              "outlinewidth": 0,
              "ticks": ""
             }
            },
            "type": "scattergl"
           }
          ],
          "scattermapbox": [
           {
            "marker": {
             "colorbar": {
              "outlinewidth": 0,
              "ticks": ""
             }
            },
            "type": "scattermapbox"
           }
          ],
          "scatterpolar": [
           {
            "marker": {
             "colorbar": {
              "outlinewidth": 0,
              "ticks": ""
             }
            },
            "type": "scatterpolar"
           }
          ],
          "scatterpolargl": [
           {
            "marker": {
             "colorbar": {
              "outlinewidth": 0,
              "ticks": ""
             }
            },
            "type": "scatterpolargl"
           }
          ],
          "scatterternary": [
           {
            "marker": {
             "colorbar": {
              "outlinewidth": 0,
              "ticks": ""
             }
            },
            "type": "scatterternary"
           }
          ],
          "surface": [
           {
            "colorbar": {
             "outlinewidth": 0,
             "ticks": ""
            },
            "colorscale": [
             [
              0,
              "#0d0887"
             ],
             [
              0.1111111111111111,
              "#46039f"
             ],
             [
              0.2222222222222222,
              "#7201a8"
             ],
             [
              0.3333333333333333,
              "#9c179e"
             ],
             [
              0.4444444444444444,
              "#bd3786"
             ],
             [
              0.5555555555555556,
              "#d8576b"
             ],
             [
              0.6666666666666666,
              "#ed7953"
             ],
             [
              0.7777777777777778,
              "#fb9f3a"
             ],
             [
              0.8888888888888888,
              "#fdca26"
             ],
             [
              1,
              "#f0f921"
             ]
            ],
            "type": "surface"
           }
          ],
          "table": [
           {
            "cells": {
             "fill": {
              "color": "#EBF0F8"
             },
             "line": {
              "color": "white"
             }
            },
            "header": {
             "fill": {
              "color": "#C8D4E3"
             },
             "line": {
              "color": "white"
             }
            },
            "type": "table"
           }
          ]
         },
         "layout": {
          "annotationdefaults": {
           "arrowcolor": "#2a3f5f",
           "arrowhead": 0,
           "arrowwidth": 1
          },
          "autotypenumbers": "strict",
          "coloraxis": {
           "colorbar": {
            "outlinewidth": 0,
            "ticks": ""
           }
          },
          "colorscale": {
           "diverging": [
            [
             0,
             "#8e0152"
            ],
            [
             0.1,
             "#c51b7d"
            ],
            [
             0.2,
             "#de77ae"
            ],
            [
             0.3,
             "#f1b6da"
            ],
            [
             0.4,
             "#fde0ef"
            ],
            [
             0.5,
             "#f7f7f7"
            ],
            [
             0.6,
             "#e6f5d0"
            ],
            [
             0.7,
             "#b8e186"
            ],
            [
             0.8,
             "#7fbc41"
            ],
            [
             0.9,
             "#4d9221"
            ],
            [
             1,
             "#276419"
            ]
           ],
           "sequential": [
            [
             0,
             "#0d0887"
            ],
            [
             0.1111111111111111,
             "#46039f"
            ],
            [
             0.2222222222222222,
             "#7201a8"
            ],
            [
             0.3333333333333333,
             "#9c179e"
            ],
            [
             0.4444444444444444,
             "#bd3786"
            ],
            [
             0.5555555555555556,
             "#d8576b"
            ],
            [
             0.6666666666666666,
             "#ed7953"
            ],
            [
             0.7777777777777778,
             "#fb9f3a"
            ],
            [
             0.8888888888888888,
             "#fdca26"
            ],
            [
             1,
             "#f0f921"
            ]
           ],
           "sequentialminus": [
            [
             0,
             "#0d0887"
            ],
            [
             0.1111111111111111,
             "#46039f"
            ],
            [
             0.2222222222222222,
             "#7201a8"
            ],
            [
             0.3333333333333333,
             "#9c179e"
            ],
            [
             0.4444444444444444,
             "#bd3786"
            ],
            [
             0.5555555555555556,
             "#d8576b"
            ],
            [
             0.6666666666666666,
             "#ed7953"
            ],
            [
             0.7777777777777778,
             "#fb9f3a"
            ],
            [
             0.8888888888888888,
             "#fdca26"
            ],
            [
             1,
             "#f0f921"
            ]
           ]
          },
          "colorway": [
           "#636efa",
           "#EF553B",
           "#00cc96",
           "#ab63fa",
           "#FFA15A",
           "#19d3f3",
           "#FF6692",
           "#B6E880",
           "#FF97FF",
           "#FECB52"
          ],
          "font": {
           "color": "#2a3f5f"
          },
          "geo": {
           "bgcolor": "white",
           "lakecolor": "white",
           "landcolor": "#E5ECF6",
           "showlakes": true,
           "showland": true,
           "subunitcolor": "white"
          },
          "hoverlabel": {
           "align": "left"
          },
          "hovermode": "closest",
          "mapbox": {
           "style": "light"
          },
          "paper_bgcolor": "white",
          "plot_bgcolor": "#E5ECF6",
          "polar": {
           "angularaxis": {
            "gridcolor": "white",
            "linecolor": "white",
            "ticks": ""
           },
           "bgcolor": "#E5ECF6",
           "radialaxis": {
            "gridcolor": "white",
            "linecolor": "white",
            "ticks": ""
           }
          },
          "scene": {
           "xaxis": {
            "backgroundcolor": "#E5ECF6",
            "gridcolor": "white",
            "gridwidth": 2,
            "linecolor": "white",
            "showbackground": true,
            "ticks": "",
            "zerolinecolor": "white"
           },
           "yaxis": {
            "backgroundcolor": "#E5ECF6",
            "gridcolor": "white",
            "gridwidth": 2,
            "linecolor": "white",
            "showbackground": true,
            "ticks": "",
            "zerolinecolor": "white"
           },
           "zaxis": {
            "backgroundcolor": "#E5ECF6",
            "gridcolor": "white",
            "gridwidth": 2,
            "linecolor": "white",
            "showbackground": true,
            "ticks": "",
            "zerolinecolor": "white"
           }
          },
          "shapedefaults": {
           "line": {
            "color": "#2a3f5f"
           }
          },
          "ternary": {
           "aaxis": {
            "gridcolor": "white",
            "linecolor": "white",
            "ticks": ""
           },
           "baxis": {
            "gridcolor": "white",
            "linecolor": "white",
            "ticks": ""
           },
           "bgcolor": "#E5ECF6",
           "caxis": {
            "gridcolor": "white",
            "linecolor": "white",
            "ticks": ""
           }
          },
          "title": {
           "x": 0.05
          },
          "xaxis": {
           "automargin": true,
           "gridcolor": "white",
           "linecolor": "white",
           "ticks": "",
           "title": {
            "standoff": 15
           },
           "zerolinecolor": "white",
           "zerolinewidth": 2
          },
          "yaxis": {
           "automargin": true,
           "gridcolor": "white",
           "linecolor": "white",
           "ticks": "",
           "title": {
            "standoff": 15
           },
           "zerolinecolor": "white",
           "zerolinewidth": 2
          }
         }
        },
        "title": {
         "text": "Avg Duration by Country"
        }
       }
      },
      "text/html": [
       "<div>                            <div id=\"6fb3b1d7-15b9-40ee-aecc-2d6fe16a62ff\" class=\"plotly-graph-div\" style=\"height:525px; width:100%;\"></div>            <script type=\"text/javascript\">                require([\"plotly\"], function(Plotly) {                    window.PLOTLYENV=window.PLOTLYENV || {};                                    if (document.getElementById(\"6fb3b1d7-15b9-40ee-aecc-2d6fe16a62ff\")) {                    Plotly.newPlot(                        \"6fb3b1d7-15b9-40ee-aecc-2d6fe16a62ff\",                        [{\"autocolorscale\": false, \"colorbar\": {\"ticksuffix\": \" Minutes\", \"title\": {\"text\": \"Average Visible Duration\"}}, \"colorscale\": [[0.0, \"rgb(247,251,255)\"], [0.125, \"rgb(222,235,247)\"], [0.25, \"rgb(198,219,239)\"], [0.375, \"rgb(158,202,225)\"], [0.5, \"rgb(107,174,214)\"], [0.625, \"rgb(66,146,198)\"], [0.75, \"rgb(33,113,181)\"], [0.875, \"rgb(8,81,156)\"], [1.0, \"rgb(8,48,107)\"]], \"locations\": [\"ARE\", \"AFG\", \"ALB\", \"ARM\", \"ARG\", \"AUT\", \"AUS\", \"ALA\", \"AZE\", \"BIH\", \"BRB\", \"BGD\", \"BEL\", \"BGR\", \"BHR\", \"BMU\", \"BRN\", \"BOL\", \"BES\", \"BRA\", \"BHS\", \"BWA\", \"BLR\", \"BLZ\", \"CAN\", \"COD\", \"CHE\", \"CHL\", \"CMR\", \"CHN\", \"COL\", \"CRI\", \"CUB\", \"CPV\", \"CYP\", \"CZE\", \"DEU\", \"DNK\", \"DOM\", \"DZA\", \"ECU\", \"EST\", \"EGY\", \"ESP\", \"ETH\", \"FIN\", \"FJI\", \"FRO\", \"FRA\", \"GBR\", \"GRD\", \"GEO\", \"GHA\", \"GRL\", \"GRC\", \"GTM\", \"GUM\", \"GUY\", \"HKG\", \"HND\", \"HRV\", \"HTI\", \"HUN\", \"IDN\", \"IRL\", \"ISR\", \"IMN\", \"IND\", \"IRQ\", \"IRN\", \"ISL\", \"ITA\", \"JEY\", \"JAM\", \"JOR\", \"JPN\", \"KEN\", \"KGZ\", \"KHM\", \"KOR\", \"KWT\", \"KAZ\", \"LAO\", \"LBN\", \"LCA\", \"LKA\", \"LSO\", \"LTU\", \"LUX\", \"LVA\", \"LBY\", \"MAR\", \"MKD\", \"MMR\", \"MNG\", \"MAC\", \"MLT\", \"MUS\", \"MDV\", \"MEX\", \"MYS\", \"NGA\", \"NIC\", \"NLD\", \"NOR\", \"NPL\", \"NZL\", \"OMN\", \"PAN\", \"PER\", \"PNG\", \"PHL\", \"PAK\", \"POL\", \"PRI\", \"PSE\", \"PRT\", \"PLW\", \"PRY\", \"QAT\", \"ROU\", \"SRB\", \"RUS\", \"SAU\", \"SLB\", \"SWE\", \"SHN\", \"SVN\", \"SJM\", \"SVK\", \"SEN\", \"SUR\", \"STP\", \"SLV\", \"SYR\", \"SWZ\", \"ATF\", \"THA\", \"TLS\", \"TUN\", \"TON\", \"TUR\", \"TTO\", \"TWN\", \"TZA\", \"UKR\", \"USA\", \"URY\", \"UZB\", \"VEN\", \"VIR\", \"VNM\", \"XKX\", \"YEM\", \"ZAF\", \"ZMB\", \"ZWE\"], \"marker\": {\"line\": {\"color\": \"darkgray\", \"width\": 0.5}}, \"reversescale\": true, \"type\": \"choropleth\", \"z\": [5.494090909090908, 5.167272727272728, 1.05, 5.5, 10.4425, 0.845, 11.642200328407228, 0.17, 0.3866666666666667, 2.7142857142857144, 10.0325, 5.4818181818181815, 9.59342105263158, 9.527857142857142, 3.4433333333333334, 17.62857142857143, 7.5425, 104.8, 2.0, 23.642842105263156, 8.25, 37.5, 8.0, 22.75, 14.32889701579871, 2.0, 4.344285714285714, 11.631428571428572, 12.0, 21.22973684210526, 19.20578947368421, 11.825833333333334, 7.8, 60.0, 4.714347826086957, 21.0, 17.024341085271313, 8.958125, 2.7920000000000003, 1.0, 11.203999999999999, 2.6007142857142864, 11.479999999999999, 14.891641791044778, 7.25, 5.223333333333334, 60.0, 1.5, 10.191935483870967, 11.473142730496443, 1.0, 0.25, 19.036848998459185, 5.0, 9.951794871794874, 46.82555555555555, 15.0, 1.216, 13.331, 4.064444444444444, 9.343913043478262, 0.0, 7.254, 45.75, 10.067446808510637, 19.055806451612902, 3.0, 17.0416425120773, 8.025416666666665, 33.07666666666666, 14.084166666666667, 5.776206896551723, 1.3949999999999998, 6.255, 1.28375, 6.244081632653062, 42.230000000000004, 1060.5, 1.0, 9.723333333333336, 3.15, 8.805, 4.0, 8.687692307692307, 2.0, 20.725, 30.0, 18.092000000000002, 4.3549999999999995, 4.255, 11.5, 11.516666666666666, 9.0, 8.666666666666666, 2.3333333333333335, 0.17, 8.116666666666667, 4.645, 30.0, 27.08958525345623, 32.04018518518518, 15.5, 5.0, 11.359158878504669, 9.660526315789474, 1.8125, 16.43, 0.17, 10.505, 3.7216666666666662, 0.05, 14.852800000000004, 6.594137931034483, 11.880625000000002, 19.219565217391306, 0.02, 9.070256410256412, 61.0, 7.666666666666667, 0.5566666666666666, 8.671071428571427, 2.6714285714285713, 3.6654545454545446, 2.74, 180.0, 7.69657142857143, 15.0, 3.6455555555555557, 10.0, 1.875, 3.0, 15.375, 1.0, 30.0, 1.845, 10.0, 20.016, 15.810454545454546, 0.75, 2.27, 30.0, 19.70916666666667, 10.20875, 1.55, 2.525, 9.203333333333333, 15.151452179976385, 0.75, 10.01, 6.454090909090909, 2.068, 19.401764705882353, 15.604444444444445, 2.0, 14.152666666666665, 2.25, 11.04125]}],                        {\"geo\": {\"projection\": {\"type\": \"equirectangular\"}, \"showcoastlines\": false, \"showframe\": false}, \"template\": {\"data\": {\"bar\": [{\"error_x\": {\"color\": \"#2a3f5f\"}, \"error_y\": {\"color\": \"#2a3f5f\"}, \"marker\": {\"line\": {\"color\": \"#E5ECF6\", \"width\": 0.5}}, \"type\": \"bar\"}], \"barpolar\": [{\"marker\": {\"line\": {\"color\": \"#E5ECF6\", \"width\": 0.5}}, \"type\": \"barpolar\"}], \"carpet\": [{\"aaxis\": {\"endlinecolor\": \"#2a3f5f\", \"gridcolor\": \"white\", \"linecolor\": \"white\", \"minorgridcolor\": \"white\", \"startlinecolor\": \"#2a3f5f\"}, \"baxis\": {\"endlinecolor\": \"#2a3f5f\", \"gridcolor\": \"white\", \"linecolor\": \"white\", \"minorgridcolor\": \"white\", \"startlinecolor\": \"#2a3f5f\"}, \"type\": \"carpet\"}], \"choropleth\": [{\"colorbar\": {\"outlinewidth\": 0, \"ticks\": \"\"}, \"type\": \"choropleth\"}], \"contour\": [{\"colorbar\": {\"outlinewidth\": 0, \"ticks\": \"\"}, \"colorscale\": [[0.0, \"#0d0887\"], [0.1111111111111111, \"#46039f\"], [0.2222222222222222, \"#7201a8\"], [0.3333333333333333, \"#9c179e\"], [0.4444444444444444, \"#bd3786\"], [0.5555555555555556, \"#d8576b\"], [0.6666666666666666, \"#ed7953\"], [0.7777777777777778, \"#fb9f3a\"], [0.8888888888888888, \"#fdca26\"], [1.0, \"#f0f921\"]], \"type\": \"contour\"}], \"contourcarpet\": [{\"colorbar\": {\"outlinewidth\": 0, \"ticks\": \"\"}, \"type\": \"contourcarpet\"}], \"heatmap\": [{\"colorbar\": {\"outlinewidth\": 0, \"ticks\": \"\"}, \"colorscale\": [[0.0, \"#0d0887\"], [0.1111111111111111, \"#46039f\"], [0.2222222222222222, \"#7201a8\"], [0.3333333333333333, \"#9c179e\"], [0.4444444444444444, \"#bd3786\"], [0.5555555555555556, \"#d8576b\"], [0.6666666666666666, \"#ed7953\"], [0.7777777777777778, \"#fb9f3a\"], [0.8888888888888888, \"#fdca26\"], [1.0, \"#f0f921\"]], \"type\": \"heatmap\"}], \"heatmapgl\": [{\"colorbar\": {\"outlinewidth\": 0, \"ticks\": \"\"}, \"colorscale\": [[0.0, \"#0d0887\"], [0.1111111111111111, \"#46039f\"], [0.2222222222222222, \"#7201a8\"], [0.3333333333333333, \"#9c179e\"], [0.4444444444444444, \"#bd3786\"], [0.5555555555555556, \"#d8576b\"], [0.6666666666666666, \"#ed7953\"], [0.7777777777777778, \"#fb9f3a\"], [0.8888888888888888, \"#fdca26\"], [1.0, \"#f0f921\"]], \"type\": \"heatmapgl\"}], \"histogram\": [{\"marker\": {\"colorbar\": {\"outlinewidth\": 0, \"ticks\": \"\"}}, \"type\": \"histogram\"}], \"histogram2d\": [{\"colorbar\": {\"outlinewidth\": 0, \"ticks\": \"\"}, \"colorscale\": [[0.0, \"#0d0887\"], [0.1111111111111111, \"#46039f\"], [0.2222222222222222, \"#7201a8\"], [0.3333333333333333, \"#9c179e\"], [0.4444444444444444, \"#bd3786\"], [0.5555555555555556, \"#d8576b\"], [0.6666666666666666, \"#ed7953\"], [0.7777777777777778, \"#fb9f3a\"], [0.8888888888888888, \"#fdca26\"], [1.0, \"#f0f921\"]], \"type\": \"histogram2d\"}], \"histogram2dcontour\": [{\"colorbar\": {\"outlinewidth\": 0, \"ticks\": \"\"}, \"colorscale\": [[0.0, \"#0d0887\"], [0.1111111111111111, \"#46039f\"], [0.2222222222222222, \"#7201a8\"], [0.3333333333333333, \"#9c179e\"], [0.4444444444444444, \"#bd3786\"], [0.5555555555555556, \"#d8576b\"], [0.6666666666666666, \"#ed7953\"], [0.7777777777777778, \"#fb9f3a\"], [0.8888888888888888, \"#fdca26\"], [1.0, \"#f0f921\"]], \"type\": \"histogram2dcontour\"}], \"mesh3d\": [{\"colorbar\": {\"outlinewidth\": 0, \"ticks\": \"\"}, \"type\": \"mesh3d\"}], \"parcoords\": [{\"line\": {\"colorbar\": {\"outlinewidth\": 0, \"ticks\": \"\"}}, \"type\": \"parcoords\"}], \"pie\": [{\"automargin\": true, \"type\": \"pie\"}], \"scatter\": [{\"marker\": {\"colorbar\": {\"outlinewidth\": 0, \"ticks\": \"\"}}, \"type\": \"scatter\"}], \"scatter3d\": [{\"line\": {\"colorbar\": {\"outlinewidth\": 0, \"ticks\": \"\"}}, \"marker\": {\"colorbar\": {\"outlinewidth\": 0, \"ticks\": \"\"}}, \"type\": \"scatter3d\"}], \"scattercarpet\": [{\"marker\": {\"colorbar\": {\"outlinewidth\": 0, \"ticks\": \"\"}}, \"type\": \"scattercarpet\"}], \"scattergeo\": [{\"marker\": {\"colorbar\": {\"outlinewidth\": 0, \"ticks\": \"\"}}, \"type\": \"scattergeo\"}], \"scattergl\": [{\"marker\": {\"colorbar\": {\"outlinewidth\": 0, \"ticks\": \"\"}}, \"type\": \"scattergl\"}], \"scattermapbox\": [{\"marker\": {\"colorbar\": {\"outlinewidth\": 0, \"ticks\": \"\"}}, \"type\": \"scattermapbox\"}], \"scatterpolar\": [{\"marker\": {\"colorbar\": {\"outlinewidth\": 0, \"ticks\": \"\"}}, \"type\": \"scatterpolar\"}], \"scatterpolargl\": [{\"marker\": {\"colorbar\": {\"outlinewidth\": 0, \"ticks\": \"\"}}, \"type\": \"scatterpolargl\"}], \"scatterternary\": [{\"marker\": {\"colorbar\": {\"outlinewidth\": 0, \"ticks\": \"\"}}, \"type\": \"scatterternary\"}], \"surface\": [{\"colorbar\": {\"outlinewidth\": 0, \"ticks\": \"\"}, \"colorscale\": [[0.0, \"#0d0887\"], [0.1111111111111111, \"#46039f\"], [0.2222222222222222, \"#7201a8\"], [0.3333333333333333, \"#9c179e\"], [0.4444444444444444, \"#bd3786\"], [0.5555555555555556, \"#d8576b\"], [0.6666666666666666, \"#ed7953\"], [0.7777777777777778, \"#fb9f3a\"], [0.8888888888888888, \"#fdca26\"], [1.0, \"#f0f921\"]], \"type\": \"surface\"}], \"table\": [{\"cells\": {\"fill\": {\"color\": \"#EBF0F8\"}, \"line\": {\"color\": \"white\"}}, \"header\": {\"fill\": {\"color\": \"#C8D4E3\"}, \"line\": {\"color\": \"white\"}}, \"type\": \"table\"}]}, \"layout\": {\"annotationdefaults\": {\"arrowcolor\": \"#2a3f5f\", \"arrowhead\": 0, \"arrowwidth\": 1}, \"autotypenumbers\": \"strict\", \"coloraxis\": {\"colorbar\": {\"outlinewidth\": 0, \"ticks\": \"\"}}, \"colorscale\": {\"diverging\": [[0, \"#8e0152\"], [0.1, \"#c51b7d\"], [0.2, \"#de77ae\"], [0.3, \"#f1b6da\"], [0.4, \"#fde0ef\"], [0.5, \"#f7f7f7\"], [0.6, \"#e6f5d0\"], [0.7, \"#b8e186\"], [0.8, \"#7fbc41\"], [0.9, \"#4d9221\"], [1, \"#276419\"]], \"sequential\": [[0.0, \"#0d0887\"], [0.1111111111111111, \"#46039f\"], [0.2222222222222222, \"#7201a8\"], [0.3333333333333333, \"#9c179e\"], [0.4444444444444444, \"#bd3786\"], [0.5555555555555556, \"#d8576b\"], [0.6666666666666666, \"#ed7953\"], [0.7777777777777778, \"#fb9f3a\"], [0.8888888888888888, \"#fdca26\"], [1.0, \"#f0f921\"]], \"sequentialminus\": [[0.0, \"#0d0887\"], [0.1111111111111111, \"#46039f\"], [0.2222222222222222, \"#7201a8\"], [0.3333333333333333, \"#9c179e\"], [0.4444444444444444, \"#bd3786\"], [0.5555555555555556, \"#d8576b\"], [0.6666666666666666, \"#ed7953\"], [0.7777777777777778, \"#fb9f3a\"], [0.8888888888888888, \"#fdca26\"], [1.0, \"#f0f921\"]]}, \"colorway\": [\"#636efa\", \"#EF553B\", \"#00cc96\", \"#ab63fa\", \"#FFA15A\", \"#19d3f3\", \"#FF6692\", \"#B6E880\", \"#FF97FF\", \"#FECB52\"], \"font\": {\"color\": \"#2a3f5f\"}, \"geo\": {\"bgcolor\": \"white\", \"lakecolor\": \"white\", \"landcolor\": \"#E5ECF6\", \"showlakes\": true, \"showland\": true, \"subunitcolor\": \"white\"}, \"hoverlabel\": {\"align\": \"left\"}, \"hovermode\": \"closest\", \"mapbox\": {\"style\": \"light\"}, \"paper_bgcolor\": \"white\", \"plot_bgcolor\": \"#E5ECF6\", \"polar\": {\"angularaxis\": {\"gridcolor\": \"white\", \"linecolor\": \"white\", \"ticks\": \"\"}, \"bgcolor\": \"#E5ECF6\", \"radialaxis\": {\"gridcolor\": \"white\", \"linecolor\": \"white\", \"ticks\": \"\"}}, \"scene\": {\"xaxis\": {\"backgroundcolor\": \"#E5ECF6\", \"gridcolor\": \"white\", \"gridwidth\": 2, \"linecolor\": \"white\", \"showbackground\": true, \"ticks\": \"\", \"zerolinecolor\": \"white\"}, \"yaxis\": {\"backgroundcolor\": \"#E5ECF6\", \"gridcolor\": \"white\", \"gridwidth\": 2, \"linecolor\": \"white\", \"showbackground\": true, \"ticks\": \"\", \"zerolinecolor\": \"white\"}, \"zaxis\": {\"backgroundcolor\": \"#E5ECF6\", \"gridcolor\": \"white\", \"gridwidth\": 2, \"linecolor\": \"white\", \"showbackground\": true, \"ticks\": \"\", \"zerolinecolor\": \"white\"}}, \"shapedefaults\": {\"line\": {\"color\": \"#2a3f5f\"}}, \"ternary\": {\"aaxis\": {\"gridcolor\": \"white\", \"linecolor\": \"white\", \"ticks\": \"\"}, \"baxis\": {\"gridcolor\": \"white\", \"linecolor\": \"white\", \"ticks\": \"\"}, \"bgcolor\": \"#E5ECF6\", \"caxis\": {\"gridcolor\": \"white\", \"linecolor\": \"white\", \"ticks\": \"\"}}, \"title\": {\"x\": 0.05}, \"xaxis\": {\"automargin\": true, \"gridcolor\": \"white\", \"linecolor\": \"white\", \"ticks\": \"\", \"title\": {\"standoff\": 15}, \"zerolinecolor\": \"white\", \"zerolinewidth\": 2}, \"yaxis\": {\"automargin\": true, \"gridcolor\": \"white\", \"linecolor\": \"white\", \"ticks\": \"\", \"title\": {\"standoff\": 15}, \"zerolinecolor\": \"white\", \"zerolinewidth\": 2}}}, \"title\": {\"text\": \"Avg Duration by Country\"}},                        {\"responsive\": true}                    ).then(function(){\n",
       "                            \n",
       "var gd = document.getElementById('6fb3b1d7-15b9-40ee-aecc-2d6fe16a62ff');\n",
       "var x = new MutationObserver(function (mutations, observer) {{\n",
       "        var display = window.getComputedStyle(gd).display;\n",
       "        if (!display || display === 'none') {{\n",
       "            console.log([gd, 'removed!']);\n",
       "            Plotly.purge(gd);\n",
       "            observer.disconnect();\n",
       "        }}\n",
       "}});\n",
       "\n",
       "// Listen for the removal of the full notebook cells\n",
       "var notebookContainer = gd.closest('#notebook-container');\n",
       "if (notebookContainer) {{\n",
       "    x.observe(notebookContainer, {childList: true});\n",
       "}}\n",
       "\n",
       "// Listen for the clearing of the current output cell\n",
       "var outputEl = gd.closest('.output');\n",
       "if (outputEl) {{\n",
       "    x.observe(outputEl, {childList: true});\n",
       "}}\n",
       "\n",
       "                        })                };                });            </script>        </div>"
      ]
     },
     "metadata": {},
     "output_type": "display_data"
    }
   ],
   "source": [
    "fig = go.Figure(data=go.Choropleth(\n",
    "locations = df_co['code'],\n",
    "    z = df_co['Avg_dura'],\n",
    "    #text = df['COUNTRY'],\n",
    "    colorscale = 'Blues',\n",
    "    autocolorscale=False,\n",
    "    reversescale=True,\n",
    "    marker_line_color='darkgray',\n",
    "    marker_line_width=0.5,\n",
    "    colorbar_ticksuffix = ' Minutes',\n",
    "    colorbar_title = 'Average Visible Duration',\n",
    "))\n",
    "\n",
    "fig.update_layout(\n",
    "    title_text='Avg Duration by Country',\n",
    "    geo=dict(\n",
    "        showframe=False,\n",
    "        showcoastlines=False,\n",
    "        projection_type='equirectangular'\n",
    "    )\n",
    "    \n",
    ")\n",
    "\n",
    "fig.show()"
   ]
  },
  {
   "cell_type": "markdown",
   "metadata": {},
   "source": [
    "<b> It can bes observed in this map that for first three countries, the avg duration for the observed UFO is too big beacuse of very few cases which also seems ingenuine, so I have made another map for more variability in colors after removing KGZ(top country with 1000 minutes as avergae duration and plotted it again below"
   ]
  },
  {
   "cell_type": "code",
   "execution_count": 379,
   "metadata": {},
   "outputs": [],
   "source": [
    "# Without KGZ which has value of over 1000 minutes\n",
    "\n",
    "df_kg = df_co[df_co['code'] != 'KGZ']"
   ]
  },
  {
   "cell_type": "code",
   "execution_count": 382,
   "metadata": {},
   "outputs": [
    {
     "data": {
      "application/vnd.plotly.v1+json": {
       "config": {
        "plotlyServerURL": "https://plot.ly"
       },
       "data": [
        {
         "autocolorscale": false,
         "colorbar": {
          "ticksuffix": " Minutes",
          "title": {
           "text": "Average Visible Duration"
          }
         },
         "colorscale": [
          [
           0,
           "rgb(255,245,240)"
          ],
          [
           0.125,
           "rgb(254,224,210)"
          ],
          [
           0.25,
           "rgb(252,187,161)"
          ],
          [
           0.375,
           "rgb(252,146,114)"
          ],
          [
           0.5,
           "rgb(251,106,74)"
          ],
          [
           0.625,
           "rgb(239,59,44)"
          ],
          [
           0.75,
           "rgb(203,24,29)"
          ],
          [
           0.875,
           "rgb(165,15,21)"
          ],
          [
           1,
           "rgb(103,0,13)"
          ]
         ],
         "locations": [
          "ARE",
          "AFG",
          "ALB",
          "ARM",
          "ARG",
          "AUT",
          "AUS",
          "ALA",
          "AZE",
          "BIH",
          "BRB",
          "BGD",
          "BEL",
          "BGR",
          "BHR",
          "BMU",
          "BRN",
          "BOL",
          "BES",
          "BRA",
          "BHS",
          "BWA",
          "BLR",
          "BLZ",
          "CAN",
          "COD",
          "CHE",
          "CHL",
          "CMR",
          "CHN",
          "COL",
          "CRI",
          "CUB",
          "CPV",
          "CYP",
          "CZE",
          "DEU",
          "DNK",
          "DOM",
          "DZA",
          "ECU",
          "EST",
          "EGY",
          "ESP",
          "ETH",
          "FIN",
          "FJI",
          "FRO",
          "FRA",
          "GBR",
          "GRD",
          "GEO",
          "GHA",
          "GRL",
          "GRC",
          "GTM",
          "GUM",
          "GUY",
          "HKG",
          "HND",
          "HRV",
          "HTI",
          "HUN",
          "IDN",
          "IRL",
          "ISR",
          "IMN",
          "IND",
          "IRQ",
          "IRN",
          "ISL",
          "ITA",
          "JEY",
          "JAM",
          "JOR",
          "JPN",
          "KEN",
          "KHM",
          "KOR",
          "KWT",
          "KAZ",
          "LAO",
          "LBN",
          "LCA",
          "LKA",
          "LSO",
          "LTU",
          "LUX",
          "LVA",
          "LBY",
          "MAR",
          "MKD",
          "MMR",
          "MNG",
          "MAC",
          "MLT",
          "MUS",
          "MDV",
          "MEX",
          "MYS",
          "NGA",
          "NIC",
          "NLD",
          "NOR",
          "NPL",
          "NZL",
          "OMN",
          "PAN",
          "PER",
          "PNG",
          "PHL",
          "PAK",
          "POL",
          "PRI",
          "PSE",
          "PRT",
          "PLW",
          "PRY",
          "QAT",
          "ROU",
          "SRB",
          "RUS",
          "SAU",
          "SLB",
          "SWE",
          "SHN",
          "SVN",
          "SJM",
          "SVK",
          "SEN",
          "SUR",
          "STP",
          "SLV",
          "SYR",
          "SWZ",
          "ATF",
          "THA",
          "TLS",
          "TUN",
          "TON",
          "TUR",
          "TTO",
          "TWN",
          "TZA",
          "UKR",
          "USA",
          "URY",
          "UZB",
          "VEN",
          "VIR",
          "VNM",
          "XKX",
          "YEM",
          "ZAF",
          "ZMB",
          "ZWE"
         ],
         "marker": {
          "line": {
           "color": "darkgray",
           "width": 0.5
          }
         },
         "reversescale": true,
         "type": "choropleth",
         "z": [
          5.494090909090908,
          5.167272727272728,
          1.05,
          5.5,
          10.4425,
          0.845,
          11.642200328407228,
          0.17,
          0.3866666666666667,
          2.7142857142857144,
          10.0325,
          5.4818181818181815,
          9.59342105263158,
          9.527857142857142,
          3.4433333333333334,
          17.62857142857143,
          7.5425,
          104.8,
          2,
          23.642842105263156,
          8.25,
          37.5,
          8,
          22.75,
          14.32889701579871,
          2,
          4.344285714285714,
          11.631428571428572,
          12,
          21.22973684210526,
          19.20578947368421,
          11.825833333333334,
          7.8,
          60,
          4.714347826086957,
          21,
          17.024341085271313,
          8.958125,
          2.7920000000000003,
          1,
          11.203999999999999,
          2.6007142857142864,
          11.479999999999999,
          14.891641791044778,
          7.25,
          5.223333333333334,
          60,
          1.5,
          10.191935483870967,
          11.473142730496443,
          1,
          0.25,
          19.036848998459185,
          5,
          9.951794871794874,
          46.82555555555555,
          15,
          1.216,
          13.331,
          4.064444444444444,
          9.343913043478262,
          0,
          7.254,
          45.75,
          10.067446808510637,
          19.055806451612902,
          3,
          17.0416425120773,
          8.025416666666665,
          33.07666666666666,
          14.084166666666667,
          5.776206896551723,
          1.3949999999999998,
          6.255,
          1.28375,
          6.244081632653062,
          42.230000000000004,
          1,
          9.723333333333336,
          3.15,
          8.805,
          4,
          8.687692307692307,
          2,
          20.725,
          30,
          18.092000000000002,
          4.3549999999999995,
          4.255,
          11.5,
          11.516666666666666,
          9,
          8.666666666666666,
          2.3333333333333335,
          0.17,
          8.116666666666667,
          4.645,
          30,
          27.08958525345623,
          32.04018518518518,
          15.5,
          5,
          11.359158878504669,
          9.660526315789474,
          1.8125,
          16.43,
          0.17,
          10.505,
          3.7216666666666662,
          0.05,
          14.852800000000004,
          6.594137931034483,
          11.880625000000002,
          19.219565217391306,
          0.02,
          9.070256410256412,
          61,
          7.666666666666667,
          0.5566666666666666,
          8.671071428571427,
          2.6714285714285713,
          3.6654545454545446,
          2.74,
          180,
          7.69657142857143,
          15,
          3.6455555555555557,
          10,
          1.875,
          3,
          15.375,
          1,
          30,
          1.845,
          10,
          20.016,
          15.810454545454546,
          0.75,
          2.27,
          30,
          19.70916666666667,
          10.20875,
          1.55,
          2.525,
          9.203333333333333,
          15.151452179976385,
          0.75,
          10.01,
          6.454090909090909,
          2.068,
          19.401764705882353,
          15.604444444444445,
          2,
          14.152666666666665,
          2.25,
          11.04125
         ]
        }
       ],
       "layout": {
        "geo": {
         "projection": {
          "type": "equirectangular"
         },
         "showcoastlines": false,
         "showframe": false
        },
        "template": {
         "data": {
          "bar": [
           {
            "error_x": {
             "color": "#2a3f5f"
            },
            "error_y": {
             "color": "#2a3f5f"
            },
            "marker": {
             "line": {
              "color": "#E5ECF6",
              "width": 0.5
             }
            },
            "type": "bar"
           }
          ],
          "barpolar": [
           {
            "marker": {
             "line": {
              "color": "#E5ECF6",
              "width": 0.5
             }
            },
            "type": "barpolar"
           }
          ],
          "carpet": [
           {
            "aaxis": {
             "endlinecolor": "#2a3f5f",
             "gridcolor": "white",
             "linecolor": "white",
             "minorgridcolor": "white",
             "startlinecolor": "#2a3f5f"
            },
            "baxis": {
             "endlinecolor": "#2a3f5f",
             "gridcolor": "white",
             "linecolor": "white",
             "minorgridcolor": "white",
             "startlinecolor": "#2a3f5f"
            },
            "type": "carpet"
           }
          ],
          "choropleth": [
           {
            "colorbar": {
             "outlinewidth": 0,
             "ticks": ""
            },
            "type": "choropleth"
           }
          ],
          "contour": [
           {
            "colorbar": {
             "outlinewidth": 0,
             "ticks": ""
            },
            "colorscale": [
             [
              0,
              "#0d0887"
             ],
             [
              0.1111111111111111,
              "#46039f"
             ],
             [
              0.2222222222222222,
              "#7201a8"
             ],
             [
              0.3333333333333333,
              "#9c179e"
             ],
             [
              0.4444444444444444,
              "#bd3786"
             ],
             [
              0.5555555555555556,
              "#d8576b"
             ],
             [
              0.6666666666666666,
              "#ed7953"
             ],
             [
              0.7777777777777778,
              "#fb9f3a"
             ],
             [
              0.8888888888888888,
              "#fdca26"
             ],
             [
              1,
              "#f0f921"
             ]
            ],
            "type": "contour"
           }
          ],
          "contourcarpet": [
           {
            "colorbar": {
             "outlinewidth": 0,
             "ticks": ""
            },
            "type": "contourcarpet"
           }
          ],
          "heatmap": [
           {
            "colorbar": {
             "outlinewidth": 0,
             "ticks": ""
            },
            "colorscale": [
             [
              0,
              "#0d0887"
             ],
             [
              0.1111111111111111,
              "#46039f"
             ],
             [
              0.2222222222222222,
              "#7201a8"
             ],
             [
              0.3333333333333333,
              "#9c179e"
             ],
             [
              0.4444444444444444,
              "#bd3786"
             ],
             [
              0.5555555555555556,
              "#d8576b"
             ],
             [
              0.6666666666666666,
              "#ed7953"
             ],
             [
              0.7777777777777778,
              "#fb9f3a"
             ],
             [
              0.8888888888888888,
              "#fdca26"
             ],
             [
              1,
              "#f0f921"
             ]
            ],
            "type": "heatmap"
           }
          ],
          "heatmapgl": [
           {
            "colorbar": {
             "outlinewidth": 0,
             "ticks": ""
            },
            "colorscale": [
             [
              0,
              "#0d0887"
             ],
             [
              0.1111111111111111,
              "#46039f"
             ],
             [
              0.2222222222222222,
              "#7201a8"
             ],
             [
              0.3333333333333333,
              "#9c179e"
             ],
             [
              0.4444444444444444,
              "#bd3786"
             ],
             [
              0.5555555555555556,
              "#d8576b"
             ],
             [
              0.6666666666666666,
              "#ed7953"
             ],
             [
              0.7777777777777778,
              "#fb9f3a"
             ],
             [
              0.8888888888888888,
              "#fdca26"
             ],
             [
              1,
              "#f0f921"
             ]
            ],
            "type": "heatmapgl"
           }
          ],
          "histogram": [
           {
            "marker": {
             "colorbar": {
              "outlinewidth": 0,
              "ticks": ""
             }
            },
            "type": "histogram"
           }
          ],
          "histogram2d": [
           {
            "colorbar": {
             "outlinewidth": 0,
             "ticks": ""
            },
            "colorscale": [
             [
              0,
              "#0d0887"
             ],
             [
              0.1111111111111111,
              "#46039f"
             ],
             [
              0.2222222222222222,
              "#7201a8"
             ],
             [
              0.3333333333333333,
              "#9c179e"
             ],
             [
              0.4444444444444444,
              "#bd3786"
             ],
             [
              0.5555555555555556,
              "#d8576b"
             ],
             [
              0.6666666666666666,
              "#ed7953"
             ],
             [
              0.7777777777777778,
              "#fb9f3a"
             ],
             [
              0.8888888888888888,
              "#fdca26"
             ],
             [
              1,
              "#f0f921"
             ]
            ],
            "type": "histogram2d"
           }
          ],
          "histogram2dcontour": [
           {
            "colorbar": {
             "outlinewidth": 0,
             "ticks": ""
            },
            "colorscale": [
             [
              0,
              "#0d0887"
             ],
             [
              0.1111111111111111,
              "#46039f"
             ],
             [
              0.2222222222222222,
              "#7201a8"
             ],
             [
              0.3333333333333333,
              "#9c179e"
             ],
             [
              0.4444444444444444,
              "#bd3786"
             ],
             [
              0.5555555555555556,
              "#d8576b"
             ],
             [
              0.6666666666666666,
              "#ed7953"
             ],
             [
              0.7777777777777778,
              "#fb9f3a"
             ],
             [
              0.8888888888888888,
              "#fdca26"
             ],
             [
              1,
              "#f0f921"
             ]
            ],
            "type": "histogram2dcontour"
           }
          ],
          "mesh3d": [
           {
            "colorbar": {
             "outlinewidth": 0,
             "ticks": ""
            },
            "type": "mesh3d"
           }
          ],
          "parcoords": [
           {
            "line": {
             "colorbar": {
              "outlinewidth": 0,
              "ticks": ""
             }
            },
            "type": "parcoords"
           }
          ],
          "pie": [
           {
            "automargin": true,
            "type": "pie"
           }
          ],
          "scatter": [
           {
            "marker": {
             "colorbar": {
              "outlinewidth": 0,
              "ticks": ""
             }
            },
            "type": "scatter"
           }
          ],
          "scatter3d": [
           {
            "line": {
             "colorbar": {
              "outlinewidth": 0,
              "ticks": ""
             }
            },
            "marker": {
             "colorbar": {
              "outlinewidth": 0,
              "ticks": ""
             }
            },
            "type": "scatter3d"
           }
          ],
          "scattercarpet": [
           {
            "marker": {
             "colorbar": {
              "outlinewidth": 0,
              "ticks": ""
             }
            },
            "type": "scattercarpet"
           }
          ],
          "scattergeo": [
           {
            "marker": {
             "colorbar": {
              "outlinewidth": 0,
              "ticks": ""
             }
            },
            "type": "scattergeo"
           }
          ],
          "scattergl": [
           {
            "marker": {
             "colorbar": {
              "outlinewidth": 0,
              "ticks": ""
             }
            },
            "type": "scattergl"
           }
          ],
          "scattermapbox": [
           {
            "marker": {
             "colorbar": {
              "outlinewidth": 0,
              "ticks": ""
             }
            },
            "type": "scattermapbox"
           }
          ],
          "scatterpolar": [
           {
            "marker": {
             "colorbar": {
              "outlinewidth": 0,
              "ticks": ""
             }
            },
            "type": "scatterpolar"
           }
          ],
          "scatterpolargl": [
           {
            "marker": {
             "colorbar": {
              "outlinewidth": 0,
              "ticks": ""
             }
            },
            "type": "scatterpolargl"
           }
          ],
          "scatterternary": [
           {
            "marker": {
             "colorbar": {
              "outlinewidth": 0,
              "ticks": ""
             }
            },
            "type": "scatterternary"
           }
          ],
          "surface": [
           {
            "colorbar": {
             "outlinewidth": 0,
             "ticks": ""
            },
            "colorscale": [
             [
              0,
              "#0d0887"
             ],
             [
              0.1111111111111111,
              "#46039f"
             ],
             [
              0.2222222222222222,
              "#7201a8"
             ],
             [
              0.3333333333333333,
              "#9c179e"
             ],
             [
              0.4444444444444444,
              "#bd3786"
             ],
             [
              0.5555555555555556,
              "#d8576b"
             ],
             [
              0.6666666666666666,
              "#ed7953"
             ],
             [
              0.7777777777777778,
              "#fb9f3a"
             ],
             [
              0.8888888888888888,
              "#fdca26"
             ],
             [
              1,
              "#f0f921"
             ]
            ],
            "type": "surface"
           }
          ],
          "table": [
           {
            "cells": {
             "fill": {
              "color": "#EBF0F8"
             },
             "line": {
              "color": "white"
             }
            },
            "header": {
             "fill": {
              "color": "#C8D4E3"
             },
             "line": {
              "color": "white"
             }
            },
            "type": "table"
           }
          ]
         },
         "layout": {
          "annotationdefaults": {
           "arrowcolor": "#2a3f5f",
           "arrowhead": 0,
           "arrowwidth": 1
          },
          "autotypenumbers": "strict",
          "coloraxis": {
           "colorbar": {
            "outlinewidth": 0,
            "ticks": ""
           }
          },
          "colorscale": {
           "diverging": [
            [
             0,
             "#8e0152"
            ],
            [
             0.1,
             "#c51b7d"
            ],
            [
             0.2,
             "#de77ae"
            ],
            [
             0.3,
             "#f1b6da"
            ],
            [
             0.4,
             "#fde0ef"
            ],
            [
             0.5,
             "#f7f7f7"
            ],
            [
             0.6,
             "#e6f5d0"
            ],
            [
             0.7,
             "#b8e186"
            ],
            [
             0.8,
             "#7fbc41"
            ],
            [
             0.9,
             "#4d9221"
            ],
            [
             1,
             "#276419"
            ]
           ],
           "sequential": [
            [
             0,
             "#0d0887"
            ],
            [
             0.1111111111111111,
             "#46039f"
            ],
            [
             0.2222222222222222,
             "#7201a8"
            ],
            [
             0.3333333333333333,
             "#9c179e"
            ],
            [
             0.4444444444444444,
             "#bd3786"
            ],
            [
             0.5555555555555556,
             "#d8576b"
            ],
            [
             0.6666666666666666,
             "#ed7953"
            ],
            [
             0.7777777777777778,
             "#fb9f3a"
            ],
            [
             0.8888888888888888,
             "#fdca26"
            ],
            [
             1,
             "#f0f921"
            ]
           ],
           "sequentialminus": [
            [
             0,
             "#0d0887"
            ],
            [
             0.1111111111111111,
             "#46039f"
            ],
            [
             0.2222222222222222,
             "#7201a8"
            ],
            [
             0.3333333333333333,
             "#9c179e"
            ],
            [
             0.4444444444444444,
             "#bd3786"
            ],
            [
             0.5555555555555556,
             "#d8576b"
            ],
            [
             0.6666666666666666,
             "#ed7953"
            ],
            [
             0.7777777777777778,
             "#fb9f3a"
            ],
            [
             0.8888888888888888,
             "#fdca26"
            ],
            [
             1,
             "#f0f921"
            ]
           ]
          },
          "colorway": [
           "#636efa",
           "#EF553B",
           "#00cc96",
           "#ab63fa",
           "#FFA15A",
           "#19d3f3",
           "#FF6692",
           "#B6E880",
           "#FF97FF",
           "#FECB52"
          ],
          "font": {
           "color": "#2a3f5f"
          },
          "geo": {
           "bgcolor": "white",
           "lakecolor": "white",
           "landcolor": "#E5ECF6",
           "showlakes": true,
           "showland": true,
           "subunitcolor": "white"
          },
          "hoverlabel": {
           "align": "left"
          },
          "hovermode": "closest",
          "mapbox": {
           "style": "light"
          },
          "paper_bgcolor": "white",
          "plot_bgcolor": "#E5ECF6",
          "polar": {
           "angularaxis": {
            "gridcolor": "white",
            "linecolor": "white",
            "ticks": ""
           },
           "bgcolor": "#E5ECF6",
           "radialaxis": {
            "gridcolor": "white",
            "linecolor": "white",
            "ticks": ""
           }
          },
          "scene": {
           "xaxis": {
            "backgroundcolor": "#E5ECF6",
            "gridcolor": "white",
            "gridwidth": 2,
            "linecolor": "white",
            "showbackground": true,
            "ticks": "",
            "zerolinecolor": "white"
           },
           "yaxis": {
            "backgroundcolor": "#E5ECF6",
            "gridcolor": "white",
            "gridwidth": 2,
            "linecolor": "white",
            "showbackground": true,
            "ticks": "",
            "zerolinecolor": "white"
           },
           "zaxis": {
            "backgroundcolor": "#E5ECF6",
            "gridcolor": "white",
            "gridwidth": 2,
            "linecolor": "white",
            "showbackground": true,
            "ticks": "",
            "zerolinecolor": "white"
           }
          },
          "shapedefaults": {
           "line": {
            "color": "#2a3f5f"
           }
          },
          "ternary": {
           "aaxis": {
            "gridcolor": "white",
            "linecolor": "white",
            "ticks": ""
           },
           "baxis": {
            "gridcolor": "white",
            "linecolor": "white",
            "ticks": ""
           },
           "bgcolor": "#E5ECF6",
           "caxis": {
            "gridcolor": "white",
            "linecolor": "white",
            "ticks": ""
           }
          },
          "title": {
           "x": 0.05
          },
          "xaxis": {
           "automargin": true,
           "gridcolor": "white",
           "linecolor": "white",
           "ticks": "",
           "title": {
            "standoff": 15
           },
           "zerolinecolor": "white",
           "zerolinewidth": 2
          },
          "yaxis": {
           "automargin": true,
           "gridcolor": "white",
           "linecolor": "white",
           "ticks": "",
           "title": {
            "standoff": 15
           },
           "zerolinecolor": "white",
           "zerolinewidth": 2
          }
         }
        },
        "title": {
         "text": "Avg Duration by Country"
        }
       }
      },
      "text/html": [
       "<div>                            <div id=\"b924e02f-9737-47dd-a10d-e9e1ddb52d88\" class=\"plotly-graph-div\" style=\"height:525px; width:100%;\"></div>            <script type=\"text/javascript\">                require([\"plotly\"], function(Plotly) {                    window.PLOTLYENV=window.PLOTLYENV || {};                                    if (document.getElementById(\"b924e02f-9737-47dd-a10d-e9e1ddb52d88\")) {                    Plotly.newPlot(                        \"b924e02f-9737-47dd-a10d-e9e1ddb52d88\",                        [{\"autocolorscale\": false, \"colorbar\": {\"ticksuffix\": \" Minutes\", \"title\": {\"text\": \"Average Visible Duration\"}}, \"colorscale\": [[0.0, \"rgb(255,245,240)\"], [0.125, \"rgb(254,224,210)\"], [0.25, \"rgb(252,187,161)\"], [0.375, \"rgb(252,146,114)\"], [0.5, \"rgb(251,106,74)\"], [0.625, \"rgb(239,59,44)\"], [0.75, \"rgb(203,24,29)\"], [0.875, \"rgb(165,15,21)\"], [1.0, \"rgb(103,0,13)\"]], \"locations\": [\"ARE\", \"AFG\", \"ALB\", \"ARM\", \"ARG\", \"AUT\", \"AUS\", \"ALA\", \"AZE\", \"BIH\", \"BRB\", \"BGD\", \"BEL\", \"BGR\", \"BHR\", \"BMU\", \"BRN\", \"BOL\", \"BES\", \"BRA\", \"BHS\", \"BWA\", \"BLR\", \"BLZ\", \"CAN\", \"COD\", \"CHE\", \"CHL\", \"CMR\", \"CHN\", \"COL\", \"CRI\", \"CUB\", \"CPV\", \"CYP\", \"CZE\", \"DEU\", \"DNK\", \"DOM\", \"DZA\", \"ECU\", \"EST\", \"EGY\", \"ESP\", \"ETH\", \"FIN\", \"FJI\", \"FRO\", \"FRA\", \"GBR\", \"GRD\", \"GEO\", \"GHA\", \"GRL\", \"GRC\", \"GTM\", \"GUM\", \"GUY\", \"HKG\", \"HND\", \"HRV\", \"HTI\", \"HUN\", \"IDN\", \"IRL\", \"ISR\", \"IMN\", \"IND\", \"IRQ\", \"IRN\", \"ISL\", \"ITA\", \"JEY\", \"JAM\", \"JOR\", \"JPN\", \"KEN\", \"KHM\", \"KOR\", \"KWT\", \"KAZ\", \"LAO\", \"LBN\", \"LCA\", \"LKA\", \"LSO\", \"LTU\", \"LUX\", \"LVA\", \"LBY\", \"MAR\", \"MKD\", \"MMR\", \"MNG\", \"MAC\", \"MLT\", \"MUS\", \"MDV\", \"MEX\", \"MYS\", \"NGA\", \"NIC\", \"NLD\", \"NOR\", \"NPL\", \"NZL\", \"OMN\", \"PAN\", \"PER\", \"PNG\", \"PHL\", \"PAK\", \"POL\", \"PRI\", \"PSE\", \"PRT\", \"PLW\", \"PRY\", \"QAT\", \"ROU\", \"SRB\", \"RUS\", \"SAU\", \"SLB\", \"SWE\", \"SHN\", \"SVN\", \"SJM\", \"SVK\", \"SEN\", \"SUR\", \"STP\", \"SLV\", \"SYR\", \"SWZ\", \"ATF\", \"THA\", \"TLS\", \"TUN\", \"TON\", \"TUR\", \"TTO\", \"TWN\", \"TZA\", \"UKR\", \"USA\", \"URY\", \"UZB\", \"VEN\", \"VIR\", \"VNM\", \"XKX\", \"YEM\", \"ZAF\", \"ZMB\", \"ZWE\"], \"marker\": {\"line\": {\"color\": \"darkgray\", \"width\": 0.5}}, \"reversescale\": true, \"type\": \"choropleth\", \"z\": [5.494090909090908, 5.167272727272728, 1.05, 5.5, 10.4425, 0.845, 11.642200328407228, 0.17, 0.3866666666666667, 2.7142857142857144, 10.0325, 5.4818181818181815, 9.59342105263158, 9.527857142857142, 3.4433333333333334, 17.62857142857143, 7.5425, 104.8, 2.0, 23.642842105263156, 8.25, 37.5, 8.0, 22.75, 14.32889701579871, 2.0, 4.344285714285714, 11.631428571428572, 12.0, 21.22973684210526, 19.20578947368421, 11.825833333333334, 7.8, 60.0, 4.714347826086957, 21.0, 17.024341085271313, 8.958125, 2.7920000000000003, 1.0, 11.203999999999999, 2.6007142857142864, 11.479999999999999, 14.891641791044778, 7.25, 5.223333333333334, 60.0, 1.5, 10.191935483870967, 11.473142730496443, 1.0, 0.25, 19.036848998459185, 5.0, 9.951794871794874, 46.82555555555555, 15.0, 1.216, 13.331, 4.064444444444444, 9.343913043478262, 0.0, 7.254, 45.75, 10.067446808510637, 19.055806451612902, 3.0, 17.0416425120773, 8.025416666666665, 33.07666666666666, 14.084166666666667, 5.776206896551723, 1.3949999999999998, 6.255, 1.28375, 6.244081632653062, 42.230000000000004, 1.0, 9.723333333333336, 3.15, 8.805, 4.0, 8.687692307692307, 2.0, 20.725, 30.0, 18.092000000000002, 4.3549999999999995, 4.255, 11.5, 11.516666666666666, 9.0, 8.666666666666666, 2.3333333333333335, 0.17, 8.116666666666667, 4.645, 30.0, 27.08958525345623, 32.04018518518518, 15.5, 5.0, 11.359158878504669, 9.660526315789474, 1.8125, 16.43, 0.17, 10.505, 3.7216666666666662, 0.05, 14.852800000000004, 6.594137931034483, 11.880625000000002, 19.219565217391306, 0.02, 9.070256410256412, 61.0, 7.666666666666667, 0.5566666666666666, 8.671071428571427, 2.6714285714285713, 3.6654545454545446, 2.74, 180.0, 7.69657142857143, 15.0, 3.6455555555555557, 10.0, 1.875, 3.0, 15.375, 1.0, 30.0, 1.845, 10.0, 20.016, 15.810454545454546, 0.75, 2.27, 30.0, 19.70916666666667, 10.20875, 1.55, 2.525, 9.203333333333333, 15.151452179976385, 0.75, 10.01, 6.454090909090909, 2.068, 19.401764705882353, 15.604444444444445, 2.0, 14.152666666666665, 2.25, 11.04125]}],                        {\"geo\": {\"projection\": {\"type\": \"equirectangular\"}, \"showcoastlines\": false, \"showframe\": false}, \"template\": {\"data\": {\"bar\": [{\"error_x\": {\"color\": \"#2a3f5f\"}, \"error_y\": {\"color\": \"#2a3f5f\"}, \"marker\": {\"line\": {\"color\": \"#E5ECF6\", \"width\": 0.5}}, \"type\": \"bar\"}], \"barpolar\": [{\"marker\": {\"line\": {\"color\": \"#E5ECF6\", \"width\": 0.5}}, \"type\": \"barpolar\"}], \"carpet\": [{\"aaxis\": {\"endlinecolor\": \"#2a3f5f\", \"gridcolor\": \"white\", \"linecolor\": \"white\", \"minorgridcolor\": \"white\", \"startlinecolor\": \"#2a3f5f\"}, \"baxis\": {\"endlinecolor\": \"#2a3f5f\", \"gridcolor\": \"white\", \"linecolor\": \"white\", \"minorgridcolor\": \"white\", \"startlinecolor\": \"#2a3f5f\"}, \"type\": \"carpet\"}], \"choropleth\": [{\"colorbar\": {\"outlinewidth\": 0, \"ticks\": \"\"}, \"type\": \"choropleth\"}], \"contour\": [{\"colorbar\": {\"outlinewidth\": 0, \"ticks\": \"\"}, \"colorscale\": [[0.0, \"#0d0887\"], [0.1111111111111111, \"#46039f\"], [0.2222222222222222, \"#7201a8\"], [0.3333333333333333, \"#9c179e\"], [0.4444444444444444, \"#bd3786\"], [0.5555555555555556, \"#d8576b\"], [0.6666666666666666, \"#ed7953\"], [0.7777777777777778, \"#fb9f3a\"], [0.8888888888888888, \"#fdca26\"], [1.0, \"#f0f921\"]], \"type\": \"contour\"}], \"contourcarpet\": [{\"colorbar\": {\"outlinewidth\": 0, \"ticks\": \"\"}, \"type\": \"contourcarpet\"}], \"heatmap\": [{\"colorbar\": {\"outlinewidth\": 0, \"ticks\": \"\"}, \"colorscale\": [[0.0, \"#0d0887\"], [0.1111111111111111, \"#46039f\"], [0.2222222222222222, \"#7201a8\"], [0.3333333333333333, \"#9c179e\"], [0.4444444444444444, \"#bd3786\"], [0.5555555555555556, \"#d8576b\"], [0.6666666666666666, \"#ed7953\"], [0.7777777777777778, \"#fb9f3a\"], [0.8888888888888888, \"#fdca26\"], [1.0, \"#f0f921\"]], \"type\": \"heatmap\"}], \"heatmapgl\": [{\"colorbar\": {\"outlinewidth\": 0, \"ticks\": \"\"}, \"colorscale\": [[0.0, \"#0d0887\"], [0.1111111111111111, \"#46039f\"], [0.2222222222222222, \"#7201a8\"], [0.3333333333333333, \"#9c179e\"], [0.4444444444444444, \"#bd3786\"], [0.5555555555555556, \"#d8576b\"], [0.6666666666666666, \"#ed7953\"], [0.7777777777777778, \"#fb9f3a\"], [0.8888888888888888, \"#fdca26\"], [1.0, \"#f0f921\"]], \"type\": \"heatmapgl\"}], \"histogram\": [{\"marker\": {\"colorbar\": {\"outlinewidth\": 0, \"ticks\": \"\"}}, \"type\": \"histogram\"}], \"histogram2d\": [{\"colorbar\": {\"outlinewidth\": 0, \"ticks\": \"\"}, \"colorscale\": [[0.0, \"#0d0887\"], [0.1111111111111111, \"#46039f\"], [0.2222222222222222, \"#7201a8\"], [0.3333333333333333, \"#9c179e\"], [0.4444444444444444, \"#bd3786\"], [0.5555555555555556, \"#d8576b\"], [0.6666666666666666, \"#ed7953\"], [0.7777777777777778, \"#fb9f3a\"], [0.8888888888888888, \"#fdca26\"], [1.0, \"#f0f921\"]], \"type\": \"histogram2d\"}], \"histogram2dcontour\": [{\"colorbar\": {\"outlinewidth\": 0, \"ticks\": \"\"}, \"colorscale\": [[0.0, \"#0d0887\"], [0.1111111111111111, \"#46039f\"], [0.2222222222222222, \"#7201a8\"], [0.3333333333333333, \"#9c179e\"], [0.4444444444444444, \"#bd3786\"], [0.5555555555555556, \"#d8576b\"], [0.6666666666666666, \"#ed7953\"], [0.7777777777777778, \"#fb9f3a\"], [0.8888888888888888, \"#fdca26\"], [1.0, \"#f0f921\"]], \"type\": \"histogram2dcontour\"}], \"mesh3d\": [{\"colorbar\": {\"outlinewidth\": 0, \"ticks\": \"\"}, \"type\": \"mesh3d\"}], \"parcoords\": [{\"line\": {\"colorbar\": {\"outlinewidth\": 0, \"ticks\": \"\"}}, \"type\": \"parcoords\"}], \"pie\": [{\"automargin\": true, \"type\": \"pie\"}], \"scatter\": [{\"marker\": {\"colorbar\": {\"outlinewidth\": 0, \"ticks\": \"\"}}, \"type\": \"scatter\"}], \"scatter3d\": [{\"line\": {\"colorbar\": {\"outlinewidth\": 0, \"ticks\": \"\"}}, \"marker\": {\"colorbar\": {\"outlinewidth\": 0, \"ticks\": \"\"}}, \"type\": \"scatter3d\"}], \"scattercarpet\": [{\"marker\": {\"colorbar\": {\"outlinewidth\": 0, \"ticks\": \"\"}}, \"type\": \"scattercarpet\"}], \"scattergeo\": [{\"marker\": {\"colorbar\": {\"outlinewidth\": 0, \"ticks\": \"\"}}, \"type\": \"scattergeo\"}], \"scattergl\": [{\"marker\": {\"colorbar\": {\"outlinewidth\": 0, \"ticks\": \"\"}}, \"type\": \"scattergl\"}], \"scattermapbox\": [{\"marker\": {\"colorbar\": {\"outlinewidth\": 0, \"ticks\": \"\"}}, \"type\": \"scattermapbox\"}], \"scatterpolar\": [{\"marker\": {\"colorbar\": {\"outlinewidth\": 0, \"ticks\": \"\"}}, \"type\": \"scatterpolar\"}], \"scatterpolargl\": [{\"marker\": {\"colorbar\": {\"outlinewidth\": 0, \"ticks\": \"\"}}, \"type\": \"scatterpolargl\"}], \"scatterternary\": [{\"marker\": {\"colorbar\": {\"outlinewidth\": 0, \"ticks\": \"\"}}, \"type\": \"scatterternary\"}], \"surface\": [{\"colorbar\": {\"outlinewidth\": 0, \"ticks\": \"\"}, \"colorscale\": [[0.0, \"#0d0887\"], [0.1111111111111111, \"#46039f\"], [0.2222222222222222, \"#7201a8\"], [0.3333333333333333, \"#9c179e\"], [0.4444444444444444, \"#bd3786\"], [0.5555555555555556, \"#d8576b\"], [0.6666666666666666, \"#ed7953\"], [0.7777777777777778, \"#fb9f3a\"], [0.8888888888888888, \"#fdca26\"], [1.0, \"#f0f921\"]], \"type\": \"surface\"}], \"table\": [{\"cells\": {\"fill\": {\"color\": \"#EBF0F8\"}, \"line\": {\"color\": \"white\"}}, \"header\": {\"fill\": {\"color\": \"#C8D4E3\"}, \"line\": {\"color\": \"white\"}}, \"type\": \"table\"}]}, \"layout\": {\"annotationdefaults\": {\"arrowcolor\": \"#2a3f5f\", \"arrowhead\": 0, \"arrowwidth\": 1}, \"autotypenumbers\": \"strict\", \"coloraxis\": {\"colorbar\": {\"outlinewidth\": 0, \"ticks\": \"\"}}, \"colorscale\": {\"diverging\": [[0, \"#8e0152\"], [0.1, \"#c51b7d\"], [0.2, \"#de77ae\"], [0.3, \"#f1b6da\"], [0.4, \"#fde0ef\"], [0.5, \"#f7f7f7\"], [0.6, \"#e6f5d0\"], [0.7, \"#b8e186\"], [0.8, \"#7fbc41\"], [0.9, \"#4d9221\"], [1, \"#276419\"]], \"sequential\": [[0.0, \"#0d0887\"], [0.1111111111111111, \"#46039f\"], [0.2222222222222222, \"#7201a8\"], [0.3333333333333333, \"#9c179e\"], [0.4444444444444444, \"#bd3786\"], [0.5555555555555556, \"#d8576b\"], [0.6666666666666666, \"#ed7953\"], [0.7777777777777778, \"#fb9f3a\"], [0.8888888888888888, \"#fdca26\"], [1.0, \"#f0f921\"]], \"sequentialminus\": [[0.0, \"#0d0887\"], [0.1111111111111111, \"#46039f\"], [0.2222222222222222, \"#7201a8\"], [0.3333333333333333, \"#9c179e\"], [0.4444444444444444, \"#bd3786\"], [0.5555555555555556, \"#d8576b\"], [0.6666666666666666, \"#ed7953\"], [0.7777777777777778, \"#fb9f3a\"], [0.8888888888888888, \"#fdca26\"], [1.0, \"#f0f921\"]]}, \"colorway\": [\"#636efa\", \"#EF553B\", \"#00cc96\", \"#ab63fa\", \"#FFA15A\", \"#19d3f3\", \"#FF6692\", \"#B6E880\", \"#FF97FF\", \"#FECB52\"], \"font\": {\"color\": \"#2a3f5f\"}, \"geo\": {\"bgcolor\": \"white\", \"lakecolor\": \"white\", \"landcolor\": \"#E5ECF6\", \"showlakes\": true, \"showland\": true, \"subunitcolor\": \"white\"}, \"hoverlabel\": {\"align\": \"left\"}, \"hovermode\": \"closest\", \"mapbox\": {\"style\": \"light\"}, \"paper_bgcolor\": \"white\", \"plot_bgcolor\": \"#E5ECF6\", \"polar\": {\"angularaxis\": {\"gridcolor\": \"white\", \"linecolor\": \"white\", \"ticks\": \"\"}, \"bgcolor\": \"#E5ECF6\", \"radialaxis\": {\"gridcolor\": \"white\", \"linecolor\": \"white\", \"ticks\": \"\"}}, \"scene\": {\"xaxis\": {\"backgroundcolor\": \"#E5ECF6\", \"gridcolor\": \"white\", \"gridwidth\": 2, \"linecolor\": \"white\", \"showbackground\": true, \"ticks\": \"\", \"zerolinecolor\": \"white\"}, \"yaxis\": {\"backgroundcolor\": \"#E5ECF6\", \"gridcolor\": \"white\", \"gridwidth\": 2, \"linecolor\": \"white\", \"showbackground\": true, \"ticks\": \"\", \"zerolinecolor\": \"white\"}, \"zaxis\": {\"backgroundcolor\": \"#E5ECF6\", \"gridcolor\": \"white\", \"gridwidth\": 2, \"linecolor\": \"white\", \"showbackground\": true, \"ticks\": \"\", \"zerolinecolor\": \"white\"}}, \"shapedefaults\": {\"line\": {\"color\": \"#2a3f5f\"}}, \"ternary\": {\"aaxis\": {\"gridcolor\": \"white\", \"linecolor\": \"white\", \"ticks\": \"\"}, \"baxis\": {\"gridcolor\": \"white\", \"linecolor\": \"white\", \"ticks\": \"\"}, \"bgcolor\": \"#E5ECF6\", \"caxis\": {\"gridcolor\": \"white\", \"linecolor\": \"white\", \"ticks\": \"\"}}, \"title\": {\"x\": 0.05}, \"xaxis\": {\"automargin\": true, \"gridcolor\": \"white\", \"linecolor\": \"white\", \"ticks\": \"\", \"title\": {\"standoff\": 15}, \"zerolinecolor\": \"white\", \"zerolinewidth\": 2}, \"yaxis\": {\"automargin\": true, \"gridcolor\": \"white\", \"linecolor\": \"white\", \"ticks\": \"\", \"title\": {\"standoff\": 15}, \"zerolinecolor\": \"white\", \"zerolinewidth\": 2}}}, \"title\": {\"text\": \"Avg Duration by Country\"}},                        {\"responsive\": true}                    ).then(function(){\n",
       "                            \n",
       "var gd = document.getElementById('b924e02f-9737-47dd-a10d-e9e1ddb52d88');\n",
       "var x = new MutationObserver(function (mutations, observer) {{\n",
       "        var display = window.getComputedStyle(gd).display;\n",
       "        if (!display || display === 'none') {{\n",
       "            console.log([gd, 'removed!']);\n",
       "            Plotly.purge(gd);\n",
       "            observer.disconnect();\n",
       "        }}\n",
       "}});\n",
       "\n",
       "// Listen for the removal of the full notebook cells\n",
       "var notebookContainer = gd.closest('#notebook-container');\n",
       "if (notebookContainer) {{\n",
       "    x.observe(notebookContainer, {childList: true});\n",
       "}}\n",
       "\n",
       "// Listen for the clearing of the current output cell\n",
       "var outputEl = gd.closest('.output');\n",
       "if (outputEl) {{\n",
       "    x.observe(outputEl, {childList: true});\n",
       "}}\n",
       "\n",
       "                        })                };                });            </script>        </div>"
      ]
     },
     "metadata": {},
     "output_type": "display_data"
    }
   ],
   "source": [
    "fig = go.Figure(data=go.Choropleth(\n",
    "locations = df_kg['code'],\n",
    "    z = df_kg['Avg_dura'],\n",
    "    #text = df['COUNTRY'],\n",
    "    colorscale = 'Reds',\n",
    "    autocolorscale=False,\n",
    "    reversescale=True,\n",
    "    marker_line_color='darkgray',\n",
    "    marker_line_width=0.5,\n",
    "    colorbar_ticksuffix = ' Minutes',\n",
    "    colorbar_title = 'Average Visible Duration',\n",
    "))\n",
    "\n",
    "fig.update_layout(\n",
    "    title_text='Avg Duration by Country',\n",
    "    geo=dict(\n",
    "        showframe=False,\n",
    "        showcoastlines=False,\n",
    "        projection_type='equirectangular'\n",
    "    )\n",
    "    \n",
    ")\n",
    "\n",
    "fig.show()"
   ]
  },
  {
   "cell_type": "markdown",
   "metadata": {},
   "source": [
    "### 3.6.2  Avg Duration by Shape<a id='3.6.2_Avg_Duration_by_Shape'></a>"
   ]
  },
  {
   "cell_type": "code",
   "execution_count": 228,
   "metadata": {},
   "outputs": [],
   "source": [
    "\n",
    "ufo_c.loc[:,'Shape_final'] = ufo_c.loc[:,'Shape_final'].apply(lambda x: literal_eval(x))"
   ]
  },
  {
   "cell_type": "code",
   "execution_count": 234,
   "metadata": {},
   "outputs": [],
   "source": [
    "ufo_c.loc[:, 'sh'] = ufo_c.Shape_final.map(lambda x: x[0])"
   ]
  },
  {
   "cell_type": "code",
   "execution_count": null,
   "metadata": {},
   "outputs": [],
   "source": []
  },
  {
   "cell_type": "code",
   "execution_count": 238,
   "metadata": {},
   "outputs": [],
   "source": [
    "shapes = ufo_c['sh'].str.lower().value_counts().index.tolist()"
   ]
  },
  {
   "cell_type": "code",
   "execution_count": 240,
   "metadata": {},
   "outputs": [
    {
     "name": "stdout",
     "output_type": "stream",
     "text": [
      "['light', 'triangle', 'circle', 'fireball', 'disk', 'sphere', 'other', 'unknown', 'oval', 'formation', 'cigar', 'changing', 'round', 'cylinder', 'rectangle', 'flash', 'diamond', 'chevron', 'egg', 'teardrop', 'changed', 'cross', 'cone', 'crescent', 'flare', 'delta', 'pyramid', 'hexagon']\n"
     ]
    }
   ],
   "source": [
    "print(shapes)"
   ]
  },
  {
   "cell_type": "code",
   "execution_count": 387,
   "metadata": {},
   "outputs": [
    {
     "data": {
      "text/plain": [
       "<Figure size 720x432 with 0 Axes>"
      ]
     },
     "metadata": {},
     "output_type": "display_data"
    },
    {
     "data": {
      "image/png": "[encoded data removed]",
      "text/plain": [
       "<Figure size 864x648 with 1 Axes>"
      ]
     },
     "metadata": {
      "needs_background": "light"
     },
     "output_type": "display_data"
    }
   ],
   "source": [
    "plt.figure(figsize = (10,6))\n",
    "means = [ufo_c['Duration_minutes'][ufo_c['sh'].str.lower() == shape].mean() for shape in shapes]\n",
    "means = [float(x) for x in means]\n",
    "tuples = [*zip(shapes,means)]\n",
    "tuples.sort(key = lambda x: x[1], reverse=True)\n",
    "shapes, means = zip(*tuples)\n",
    "plt.figure(figsize = (12,9))\n",
    "plt.title('Average Duration by Shape')\n",
    "plt.xlabel('Duration (minutes)')\n",
    "idy = np.arange(len(shapes))\n",
    "plt.barh(idy,means,alpha=0.5,color ='red')\n",
    "plt.yticks(idy,shapes)\n",
    "\n",
    "\n",
    "plt.show()"
   ]
  },
  {
   "cell_type": "markdown",
   "metadata": {},
   "source": [
    "<b> When it comes to The average duration by shape, its observed that\n",
    "    \n",
    "        * Changing shape has the longest average duration\n",
    "        * followed by Egg \n",
    "        * and cone shape"
   ]
  },
  {
   "cell_type": "markdown",
   "metadata": {},
   "source": [
    "### 3.6.3  Avg Duration over the Years<a id='3.6.3_Avg_Duration_over_the_Years'></a>"
   ]
  },
  {
   "cell_type": "code",
   "execution_count": 389,
   "metadata": {},
   "outputs": [],
   "source": [
    "ufo_yr = ufo_c.groupby('Year')['Duration_minutes'].mean()"
   ]
  },
  {
   "cell_type": "code",
   "execution_count": 392,
   "metadata": {},
   "outputs": [
    {
     "data": {
      "text/plain": [
       "Year\n",
       "1910   2.000\n",
       "1916   1.000\n",
       "1920   1.000\n",
       "1925   1.000\n",
       "1929   1.000\n",
       "Name: Duration_minutes, dtype: float64"
      ]
     },
     "execution_count": 392,
     "metadata": {},
     "output_type": "execute_result"
    }
   ],
   "source": [
    "ufo_yr.head()"
   ]
  },
  {
   "cell_type": "code",
   "execution_count": 403,
   "metadata": {},
   "outputs": [
    {
     "data": {
      "image/png": "[encoded data removed]",
      "text/plain": [
       "<Figure size 936x432 with 1 Axes>"
      ]
     },
     "metadata": {
      "needs_background": "light"
     },
     "output_type": "display_data"
    }
   ],
   "source": [
    "plt.figure(figsize = (13,6))\n",
    "plt.bar(ufo_yr.index,ufo_yr.values, color = 'red', edgecolor = 'white', alpha = 0.8)\n",
    "plt.ylabel('Avg Duration(minutes)')\n",
    "plt.xlabel('Year')\n",
    "#plt.xlim([1,4])\n",
    "\n",
    "plt.xticks(rotation='45')\n",
    "plt.title('Avg Duration change over the years', **font)\n",
    "plt.show()"
   ]
  },
  {
   "cell_type": "markdown",
   "metadata": {},
   "source": [
    "<b> If we map averge duration trend over the past years, we van visualize that for last 10-12 years avergae duration of UFO Sighting\n",
    "has benn in range of 15 - 20 minutes"
   ]
  },
  {
   "cell_type": "markdown",
   "metadata": {},
   "source": [
    "## 3.7 Significance Hypothesis<a id='3.7_Significance_Hypothesis'></a>"
   ]
  },
  {
   "cell_type": "markdown",
   "metadata": {},
   "source": [
    "<b>This section is test the correlation or significance between shape and duration,\n",
    "Our Hypothesis is  base on one categorical variable with more than 10 groups/categories and one continous variable\n",
    "which is duration in minutes.\n",
    "As mostly for this case to see if different shape groups have differn avg durations, ie. shape has some connection with duration, ANOVA tests are used most often to establish the significance\n",
    "\n",
    "For our case\n",
    "\n",
    "    * Null Hypotheses: There is no differnce between different shape groups in terms of avergae duration of visibility\n",
    "    * Alternative Hypothesis: There is differnce between different shape groups in terms of avergae duration of visibility"
   ]
  },
  {
   "cell_type": "markdown",
   "metadata": {},
   "source": [
    "<b>What is the ANOVA Test?\n",
    "An Analysis of Variance Test, or ANOVA, can be thought of as a generalization of the t-tests for more than 2 groups. The independent t-test is used to compare the means of a condition between two groups. ANOVA is used when we want to compare the means of a condition between more than two groups.\n",
    "\n",
    "ANOVA tests if there is a difference in the mean somewhere in the model (testing if there was an overall effect), but it does not tell us where the difference is (if there is one). To find where the difference is between the groups, we have to conduct post-hoc tests.\n",
    "\n",
    "To perform any tests, we first need to define the null and alternate hypothesis:\n",
    "\n",
    "* Null Hypothesis – There is no significant difference among the groups\n",
    "* Alternate Hypothesis – There is a significant difference among the groups\n"
   ]
  },
  {
   "cell_type": "code",
   "execution_count": 404,
   "metadata": {},
   "outputs": [
    {
     "data": {
      "text/html": [
       "<div>\n",
       "<style scoped>\n",
       "    .dataframe tbody tr th:only-of-type {\n",
       "        vertical-align: middle;\n",
       "    }\n",
       "\n",
       "    .dataframe tbody tr th {\n",
       "        vertical-align: top;\n",
       "    }\n",
       "\n",
       "    .dataframe thead th {\n",
       "        text-align: right;\n",
       "    }\n",
       "</style>\n",
       "<table border=\"1\" class=\"dataframe\">\n",
       "  <thead>\n",
       "    <tr style=\"text-align: right;\">\n",
       "      <th></th>\n",
       "      <th>Date_time</th>\n",
       "      <th>Duration_minutes</th>\n",
       "      <th>Description</th>\n",
       "      <th>Date_posted</th>\n",
       "      <th>lat_long</th>\n",
       "      <th>Country</th>\n",
       "      <th>State</th>\n",
       "      <th>City</th>\n",
       "      <th>Shape_final</th>\n",
       "      <th>Year</th>\n",
       "      <th>Month</th>\n",
       "      <th>sh</th>\n",
       "      <th>lat</th>\n",
       "      <th>long</th>\n",
       "    </tr>\n",
       "  </thead>\n",
       "  <tbody>\n",
       "    <tr>\n",
       "      <th>0</th>\n",
       "      <td>1949-10-10 20:30:00</td>\n",
       "      <td>45.000</td>\n",
       "      <td>This event took place in early fall around 194...</td>\n",
       "      <td>2004-04-27</td>\n",
       "      <td>(29.8830556, -97.9411111)</td>\n",
       "      <td>US</td>\n",
       "      <td>Texas</td>\n",
       "      <td>San Marcos</td>\n",
       "      <td>[cylinder]</td>\n",
       "      <td>1949</td>\n",
       "      <td>October</td>\n",
       "      <td>cylinder</td>\n",
       "      <td>29.883</td>\n",
       "      <td>-97.941</td>\n",
       "    </tr>\n",
       "    <tr>\n",
       "      <th>1</th>\n",
       "      <td>1949-10-10 21:00:00</td>\n",
       "      <td>60.000</td>\n",
       "      <td>1949 Lackland AFB&amp;#44 TX.  Lights racing acros...</td>\n",
       "      <td>2005-12-16</td>\n",
       "      <td>(29.38421, -98.581082)</td>\n",
       "      <td>US</td>\n",
       "      <td>Texas</td>\n",
       "      <td>Lackland Air Force Base</td>\n",
       "      <td>[light]</td>\n",
       "      <td>1949</td>\n",
       "      <td>October</td>\n",
       "      <td>light</td>\n",
       "      <td>29.384</td>\n",
       "      <td>-98.581</td>\n",
       "    </tr>\n",
       "    <tr>\n",
       "      <th>2</th>\n",
       "      <td>1955-10-10 17:00:00</td>\n",
       "      <td>0.330</td>\n",
       "      <td>Green/Orange circular disc over Chester&amp;#44 En...</td>\n",
       "      <td>2008-01-21</td>\n",
       "      <td>(53.2, -2.916667)</td>\n",
       "      <td>GB</td>\n",
       "      <td>England</td>\n",
       "      <td>Blacon</td>\n",
       "      <td>[circle]</td>\n",
       "      <td>1955</td>\n",
       "      <td>October</td>\n",
       "      <td>circle</td>\n",
       "      <td>53.200</td>\n",
       "      <td>-2.917</td>\n",
       "    </tr>\n",
       "    <tr>\n",
       "      <th>3</th>\n",
       "      <td>1956-10-10 21:00:00</td>\n",
       "      <td>30.000</td>\n",
       "      <td>My older brother and twin sister were leaving ...</td>\n",
       "      <td>2004-01-17</td>\n",
       "      <td>(28.9783333, -96.6458333)</td>\n",
       "      <td>US</td>\n",
       "      <td>Texas</td>\n",
       "      <td>Edna</td>\n",
       "      <td>[circle]</td>\n",
       "      <td>1956</td>\n",
       "      <td>October</td>\n",
       "      <td>circle</td>\n",
       "      <td>28.978</td>\n",
       "      <td>-96.646</td>\n",
       "    </tr>\n",
       "    <tr>\n",
       "      <th>4</th>\n",
       "      <td>1960-10-10 20:00:00</td>\n",
       "      <td>15.000</td>\n",
       "      <td>AS a Marine 1st Lt. flying an FJ4B fighter/att...</td>\n",
       "      <td>2004-01-22</td>\n",
       "      <td>(21.4180556, -157.8036111)</td>\n",
       "      <td>US</td>\n",
       "      <td>Hawaii</td>\n",
       "      <td>Kane'ohe</td>\n",
       "      <td>[light]</td>\n",
       "      <td>1960</td>\n",
       "      <td>October</td>\n",
       "      <td>light</td>\n",
       "      <td>21.418</td>\n",
       "      <td>-157.804</td>\n",
       "    </tr>\n",
       "  </tbody>\n",
       "</table>\n",
       "</div>"
      ],
      "text/plain": [
       "            Date_time  Duration_minutes  \\\n",
       "0 1949-10-10 20:30:00            45.000   \n",
       "1 1949-10-10 21:00:00            60.000   \n",
       "2 1955-10-10 17:00:00             0.330   \n",
       "3 1956-10-10 21:00:00            30.000   \n",
       "4 1960-10-10 20:00:00            15.000   \n",
       "\n",
       "                                         Description Date_posted  \\\n",
       "0  This event took place in early fall around 194...  2004-04-27   \n",
       "1  1949 Lackland AFB&#44 TX.  Lights racing acros...  2005-12-16   \n",
       "2  Green/Orange circular disc over Chester&#44 En...  2008-01-21   \n",
       "3  My older brother and twin sister were leaving ...  2004-01-17   \n",
       "4  AS a Marine 1st Lt. flying an FJ4B fighter/att...  2004-01-22   \n",
       "\n",
       "                     lat_long Country    State                     City  \\\n",
       "0   (29.8830556, -97.9411111)      US    Texas               San Marcos   \n",
       "1      (29.38421, -98.581082)      US    Texas  Lackland Air Force Base   \n",
       "2           (53.2, -2.916667)      GB  England                   Blacon   \n",
       "3   (28.9783333, -96.6458333)      US    Texas                     Edna   \n",
       "4  (21.4180556, -157.8036111)      US   Hawaii                 Kane'ohe   \n",
       "\n",
       "  Shape_final  Year    Month        sh    lat     long  \n",
       "0  [cylinder]  1949  October  cylinder 29.883  -97.941  \n",
       "1     [light]  1949  October     light 29.384  -98.581  \n",
       "2    [circle]  1955  October    circle 53.200   -2.917  \n",
       "3    [circle]  1956  October    circle 28.978  -96.646  \n",
       "4     [light]  1960  October     light 21.418 -157.804  "
      ]
     },
     "execution_count": 404,
     "metadata": {},
     "output_type": "execute_result"
    }
   ],
   "source": [
    "ufo_c.head()"
   ]
  },
  {
   "cell_type": "code",
   "execution_count": 405,
   "metadata": {},
   "outputs": [],
   "source": [
    "ufo_sd = ufo_c[['sh','Duration_minutes']]"
   ]
  },
  {
   "cell_type": "code",
   "execution_count": 407,
   "metadata": {},
   "outputs": [
    {
     "name": "stderr",
     "output_type": "stream",
     "text": [
      "D:\\Anacon\\lib\\site-packages\\ipykernel_launcher.py:1: SettingWithCopyWarning:\n",
      "\n",
      "\n",
      "A value is trying to be set on a copy of a slice from a DataFrame.\n",
      "Try using .loc[row_indexer,col_indexer] = value instead\n",
      "\n",
      "See the caveats in the documentation: https://pandas.pydata.org/pandas-docs/stable/user_guide/indexing.html#returning-a-view-versus-a-copy\n",
      "\n"
     ]
    }
   ],
   "source": [
    "ufo_sd['sh'] = ufo_sd['sh'].str.lower()"
   ]
  },
  {
   "cell_type": "code",
   "execution_count": 408,
   "metadata": {},
   "outputs": [
    {
     "data": {
      "text/html": [
       "<div>\n",
       "<style scoped>\n",
       "    .dataframe tbody tr th:only-of-type {\n",
       "        vertical-align: middle;\n",
       "    }\n",
       "\n",
       "    .dataframe tbody tr th {\n",
       "        vertical-align: top;\n",
       "    }\n",
       "\n",
       "    .dataframe thead th {\n",
       "        text-align: right;\n",
       "    }\n",
       "</style>\n",
       "<table border=\"1\" class=\"dataframe\">\n",
       "  <thead>\n",
       "    <tr style=\"text-align: right;\">\n",
       "      <th></th>\n",
       "      <th>sh</th>\n",
       "      <th>Duration_minutes</th>\n",
       "    </tr>\n",
       "  </thead>\n",
       "  <tbody>\n",
       "    <tr>\n",
       "      <th>0</th>\n",
       "      <td>cylinder</td>\n",
       "      <td>45.000</td>\n",
       "    </tr>\n",
       "    <tr>\n",
       "      <th>1</th>\n",
       "      <td>light</td>\n",
       "      <td>60.000</td>\n",
       "    </tr>\n",
       "    <tr>\n",
       "      <th>2</th>\n",
       "      <td>circle</td>\n",
       "      <td>0.330</td>\n",
       "    </tr>\n",
       "    <tr>\n",
       "      <th>3</th>\n",
       "      <td>circle</td>\n",
       "      <td>30.000</td>\n",
       "    </tr>\n",
       "    <tr>\n",
       "      <th>4</th>\n",
       "      <td>light</td>\n",
       "      <td>15.000</td>\n",
       "    </tr>\n",
       "  </tbody>\n",
       "</table>\n",
       "</div>"
      ],
      "text/plain": [
       "         sh  Duration_minutes\n",
       "0  cylinder            45.000\n",
       "1     light            60.000\n",
       "2    circle             0.330\n",
       "3    circle            30.000\n",
       "4     light            15.000"
      ]
     },
     "execution_count": 408,
     "metadata": {},
     "output_type": "execute_result"
    }
   ],
   "source": [
    "ufo_sd.head()"
   ]
  },
  {
   "cell_type": "code",
   "execution_count": 412,
   "metadata": {},
   "outputs": [
    {
     "data": {
      "text/plain": [
       "<AxesSubplot:title={'center':'Duration_minutes'}, xlabel='sh'>"
      ]
     },
     "execution_count": 412,
     "metadata": {},
     "output_type": "execute_result"
    },
    {
     "data": {
      "image/png": "[encoded data removed]",
      "text/plain": [
       "<Figure size 1080x648 with 1 Axes>"
      ]
     },
     "metadata": {
      "needs_background": "light"
     },
     "output_type": "display_data"
    }
   ],
   "source": [
    "#plt.figure(figsize = (13,6))\n",
    "ufo_sd.boxplot('Duration_minutes', by = 'sh', figsize = (15,9), rot = 90)"
   ]
  },
  {
   "cell_type": "code",
   "execution_count": 416,
   "metadata": {},
   "outputs": [
    {
     "name": "stdout",
     "output_type": "stream",
     "text": [
      "                df        sum_sq   mean_sq     F  PR(>F)\n",
      "sh          27.000   1074292.066 39788.595 7.517   0.000\n",
      "Residual 77516.000 410289558.740  5292.966   NaN     NaN\n"
     ]
    }
   ],
   "source": [
    "mod = ols('Duration_minutes~sh', data = ufo_sd).fit()\n",
    "ano_table = sm.stats.anova_lm(mod, type = 2)\n",
    "print(ano_table)"
   ]
  },
  {
   "cell_type": "markdown",
   "metadata": {},
   "source": [
    "<b>When we conduct an ANOVA, we are attempting to determine if there is a statistically significant difference among the groups. So what if we find statistical significance?\n",
    "If we find that there is a difference, we will then need to examine where the group differences lay. So, we’ll use the Tukey HSD test to identify where the difference lies"
   ]
  },
  {
   "cell_type": "code",
   "execution_count": 417,
   "metadata": {},
   "outputs": [
    {
     "name": "stdout",
     "output_type": "stream",
     "text": [
      "     Multiple Comparison of Means - Tukey HSD, FWER=0.05     \n",
      "=============================================================\n",
      "  group1    group2  meandiff p-adj    lower    upper   reject\n",
      "-------------------------------------------------------------\n",
      "  changed  changing   1.8576    0.9  -12.7054  16.4206  False\n",
      "  changed   chevron -20.1532 0.0013   -36.368  -3.9384   True\n",
      "  changed     cigar -16.1659   0.01  -30.6389  -1.6929   True\n",
      "  changed    circle -11.0159 0.3469  -24.5962   2.5645  False\n",
      "  changed      cone  -9.0329    0.9   -30.267  12.2012  False\n",
      "  changed  crescent -24.0065 0.7607  -60.7363  12.7232  False\n",
      "  changed     cross -16.8398 0.3754  -37.8531   4.1735  False\n",
      "  changed  cylinder -13.5246 0.1861  -28.8562   1.8071  False\n",
      "  changed     delta -16.1661    0.9  -58.9563   26.624  False\n",
      "  changed   diamond -10.2052 0.7519  -25.7361   5.3258  False\n",
      "  changed      disk -12.1141 0.1787  -25.7829   1.5547  False\n",
      "  changed       egg  -5.6354    0.9  -22.5651  11.2942  False\n",
      "  changed  fireball -19.4302  0.001  -33.0351  -5.8254   True\n",
      "  changed     flare -23.6264 0.8213  -61.1627  13.9099  False\n",
      "  changed     flash -16.0599 0.0308  -31.5378  -0.5821   True\n",
      "  changed formation -16.6401 0.0032   -30.622  -2.6583   True\n",
      "  changed   hexagon  -26.167    0.9 -108.6948  56.3607  False\n",
      "  changed     light  -11.954  0.147  -25.1515   1.2436  False\n",
      "  changed     other -10.0289 0.5634  -23.7253   3.6675  False\n",
      "  changed      oval -11.8924 0.2427  -25.8243   2.0394  False\n",
      "  changed   pyramid -15.0424    0.9  -67.7637  37.6789  False\n",
      "  changed rectangle  -18.048  0.004  -33.3944  -2.7016   True\n",
      "  changed     round  -15.486 0.0403  -30.7097  -0.2623   True\n",
      "  changed    sphere -14.2899 0.0279  -27.9668   -0.613   True\n",
      "  changed  teardrop -16.8404 0.0599  -33.9218   0.2409  False\n",
      "  changed  triangle -15.6035 0.0052  -29.0608  -2.1462   True\n",
      "  changed   unknown -10.6376 0.4574  -24.3902   3.1149  False\n",
      " changing   chevron -22.0108  0.001  -33.5392 -10.4824   True\n",
      " changing     cigar -18.0235  0.001  -26.9371  -9.1098   True\n",
      " changing    circle -12.8734  0.001  -20.2497  -5.4972   True\n",
      " changing      cone -10.8905 0.8751  -28.8033   7.0224  False\n",
      " changing  crescent -25.8641  0.542  -60.7791   9.0509  False\n",
      " changing     cross -18.6974 0.0229  -36.3479  -1.0468   True\n",
      " changing  cylinder -15.3821  0.001  -25.6313   -5.133   True\n",
      " changing     delta -18.0237    0.9  -59.2666  23.2192  False\n",
      " changing   diamond -12.0627 0.0066  -22.6076  -1.5179   True\n",
      " changing      disk -13.9717  0.001  -21.5097  -6.4337   True\n",
      " changing       egg   -7.493 0.8981  -20.0069   5.0209  False\n",
      " changing  fireball -21.2878  0.001  -28.7091 -13.8665   True\n",
      " changing     flare  -25.484 0.6127  -61.2465  10.2785  False\n",
      " changing     flash -17.9175  0.001   -28.384   -7.451   True\n",
      " changing formation -18.4977  0.001  -26.5894  -10.406   True\n",
      " changing   hexagon -28.0246    0.9 -109.7609  53.7117  False\n",
      " changing     light -13.8115  0.001  -20.4568  -7.1663   True\n",
      " changing     other -11.8865  0.001  -19.4743  -4.2986   True\n",
      " changing      oval   -13.75  0.001   -21.755   -5.745   True\n",
      " changing   pyramid -16.8999    0.9  -68.3734  34.5735  False\n",
      " changing rectangle -19.9056  0.001  -30.1767  -9.6344   True\n",
      " changing     round -17.3436  0.001  -27.4304  -7.2567   True\n",
      " changing    sphere -16.1475  0.001  -23.7001  -8.5948   True\n",
      " changing  teardrop  -18.698  0.001  -31.4164  -5.9797   True\n",
      " changing  triangle -17.4611  0.001  -24.6083 -10.3138   True\n",
      " changing   unknown -12.4952  0.001  -20.1839  -4.8066   True\n",
      "  chevron     cigar   3.9873    0.9   -7.4272  15.4019  False\n",
      "  chevron    circle   9.1374  0.172   -1.1217  19.3964  False\n",
      "  chevron      cone  11.1203    0.9   -8.1594  30.4001  False\n",
      "  chevron  crescent  -3.8533    0.9  -39.4889  31.7824  False\n",
      "  chevron     cross   3.3135    0.9  -15.7229  22.3498  False\n",
      "  chevron  cylinder   6.6287    0.9   -5.8567   19.114  False\n",
      "  chevron     delta   3.9871    0.9  -37.8676  45.8418  False\n",
      "  chevron   diamond   9.9481 0.4344   -2.7811  22.6773  False\n",
      "  chevron      disk   8.0391 0.4538   -2.3368   18.415  False\n",
      "  chevron       egg  14.5178 0.0453    0.1151  28.9205   True\n",
      "  chevron  fireball    0.723    0.9   -9.5685  11.0145  False\n",
      "  chevron     flare  -3.4732    0.9  -39.9396  32.9932  False\n",
      "  chevron     flash   4.0933    0.9   -8.5711  16.7577  False\n",
      "  chevron formation   3.5131    0.9   -7.2718  14.2981  False\n",
      "  chevron   hexagon  -6.0138    0.9  -88.0605  76.0329  False\n",
      "  chevron     light   8.1993  0.271   -1.5474   17.946  False\n",
      "  chevron     other  10.1243 0.0708   -0.2879  20.5365  False\n",
      "  chevron      oval   8.2608 0.4655   -2.4592  18.9808  False\n",
      "  chevron   pyramid   5.1109    0.9  -46.8541  57.0759  False\n",
      "  chevron rectangle   2.1052    0.9  -10.3982  14.6086  False\n",
      "  chevron     round   4.6673    0.9   -7.6852  17.0198  False\n",
      "  chevron    sphere   5.8633    0.9   -4.5232  16.2499  False\n",
      "  chevron  teardrop   3.3128    0.9  -11.2678  17.8934  False\n",
      "  chevron  triangle   4.5498    0.9   -5.5459  14.6454  False\n",
      "  chevron   unknown   9.5156 0.1443   -0.9703  20.0015  False\n",
      "    cigar    circle     5.15 0.6052    -2.047  12.3471  False\n",
      "    cigar      cone    7.133    0.9  -10.7068  24.9728  False\n",
      "    cigar  crescent  -7.8406    0.9  -42.7182   27.037  False\n",
      "    cigar     cross  -0.6739    0.9  -18.2503  16.9025  False\n",
      "    cigar  cylinder   2.6413    0.9   -7.4796  12.7622  False\n",
      "    cigar     delta  -0.0002    0.9  -41.2115   41.211  False\n",
      "    cigar   diamond   5.9607    0.9   -4.4595   16.381  False\n",
      "    cigar      disk   4.0518    0.9   -3.3109  11.4145  False\n",
      "    cigar       egg  10.5305 0.2539   -1.8787  22.9396  False\n",
      "    cigar  fireball  -3.2643    0.9  -10.5075   3.9788  False\n",
      "    cigar     flare  -7.4605    0.9  -43.1865  28.2655  False\n",
      "    cigar     flash    0.106    0.9   -10.235   10.447  False\n",
      "    cigar formation  -0.4742    0.9   -8.4029   7.4545  False\n",
      "    cigar   hexagon -10.0011    0.9  -91.7214  71.7192  False\n",
      "    cigar     light   4.2119  0.761   -2.2338  10.6577  False\n",
      "    cigar     other    6.137 0.3034   -1.2768  13.5507  False\n",
      "    cigar      oval   4.2735    0.9   -3.5667  12.1136  False\n",
      "    cigar   pyramid   1.1235    0.9  -50.3246  52.5717  False\n",
      "    cigar rectangle  -1.8821    0.9  -12.0253   8.2611  False\n",
      "    cigar     round   0.6799    0.9   -9.2767  10.6365  False\n",
      "    cigar    sphere    1.876    0.9   -5.5017   9.2537  False\n",
      "    cigar  teardrop  -0.6745    0.9  -13.2898  11.9407  False\n",
      "    cigar  triangle   0.5624    0.9   -6.3997   7.5246  False\n",
      "    cigar   unknown   5.5283 0.5554   -1.9886  13.0452  False\n",
      "   circle      cone    1.983    0.9  -15.1405  19.1065  False\n",
      "   circle  crescent -12.9907    0.9  -47.5074  21.5261  False\n",
      "   circle     cross  -5.8239    0.9  -22.6729   11.025  False\n",
      "   circle  cylinder  -2.5087    0.9  -11.3058   6.2884  False\n",
      "   circle     delta  -5.1503    0.9  -46.0566   35.756  False\n",
      "   circle   diamond   0.8107    0.9   -8.3292   9.9506  False\n",
      "   circle      disk  -1.0983    0.9   -6.4988   4.3022  False\n",
      "   circle       egg   5.3804    0.9   -5.9749  16.7357  False\n",
      "   circle  fireball  -8.4144  0.001  -13.6508   -3.178   True\n",
      "   circle     flare -12.6106    0.9  -47.9843  22.7632  False\n",
      "   circle     flash  -5.0441    0.9  -14.0935   4.0054  False\n",
      "   circle formation  -5.6243 0.1336  -11.7741   0.5256  False\n",
      "   circle   hexagon -15.1512    0.9  -96.7181  66.4157  False\n",
      "   circle     light  -0.9381    0.9   -5.0006   3.1244  False\n",
      "   circle     other   0.9869    0.9    -4.483   6.4568  False\n",
      "   circle      oval  -0.8766    0.9   -6.9118   5.1587  False\n",
      "   circle   pyramid  -4.0265    0.9  -55.2307  47.1776  False\n",
      "   circle rectangle  -7.0322 0.3883  -15.8549   1.7906  False\n",
      "   circle     round  -4.4701    0.9  -13.0777   4.1374  False\n",
      "   circle    sphere   -3.274 0.8851    -8.695   2.1469  False\n",
      "   circle  teardrop  -5.8246    0.9  -17.4048   5.7556  False\n",
      "   circle  triangle  -4.5876  0.093   -9.4278   0.2526  False\n",
      "   circle   unknown   0.3782    0.9   -5.2307   5.9871  False\n",
      "     cone  crescent -14.9736    0.9  -53.1556  23.2084  False\n",
      "     cone     cross  -7.8069    0.9  -31.2664  15.6526  False\n",
      "     cone  cylinder  -4.4917    0.9  -23.0349  14.0515  False\n",
      "     cone     delta  -7.1332    0.9  -51.1762  36.9097  False\n",
      "     cone   diamond  -1.1723    0.9  -19.8805   17.536  False\n",
      "     cone      disk  -3.0812    0.9   -20.275  14.1126  False\n",
      "     cone       egg   3.3974    0.9  -16.4873  23.2822  False\n",
      "     cone  fireball -10.3973 0.8787  -27.5403   6.7456  False\n",
      "     cone     flare -14.5935    0.9   -53.552   24.365  False\n",
      "     cone     flash   -7.027    0.9  -25.6913  11.6372  False\n",
      "     cone formation  -7.6072    0.9  -25.0509   9.8364  False\n",
      "     cone   hexagon -17.1342    0.9 -100.3184  66.0501  False\n",
      "     cone     light  -2.9211    0.9  -19.7426  13.9005  False\n",
      "     cone     other   -0.996    0.9  -18.2117  16.2197  False\n",
      "     cone      oval  -2.8595    0.9  -20.2631  14.5441  False\n",
      "     cone   pyramid  -6.0095    0.9  -59.7526  47.7337  False\n",
      "     cone rectangle  -9.0151    0.9  -27.5705   9.5403  False\n",
      "     cone     round  -6.4531    0.9  -24.9071  12.0009  False\n",
      "     cone    sphere   -5.257    0.9  -22.4572  11.9432  False\n",
      "     cone  teardrop  -7.8076    0.9  -27.8216  12.2065  False\n",
      "     cone  triangle  -6.5706    0.9  -23.5967  10.4555  False\n",
      "     cone   unknown  -1.6048    0.9  -18.8651  15.6556  False\n",
      " crescent     cross   7.1667    0.9  -30.8929  45.2264  False\n",
      " crescent  cylinder  10.4819    0.9  -24.7606  45.7245  False\n",
      " crescent     delta   7.8404    0.9  -45.4323   61.113  False\n",
      " crescent   diamond  13.8013    0.9  -21.5284  49.1311  False\n",
      " crescent      disk  11.8924    0.9  -22.6592   46.444  False\n",
      " crescent       egg  18.3711    0.9  -17.5955  54.3376  False\n",
      " crescent  fireball   4.5763    0.9  -29.9501  39.1026  False\n",
      " crescent     flare   0.3801    0.9  -48.7722  49.5325  False\n",
      " crescent     flash   7.9466    0.9  -27.3598   43.253  False\n",
      " crescent formation   7.3664    0.9  -27.3103   42.043  False\n",
      " crescent   hexagon  -2.1605    0.9  -90.5789  86.2579  False\n",
      " crescent     light  12.0526    0.9  -22.3154  46.4205  False\n",
      " crescent     other  13.9776    0.9   -20.585  48.5401  False\n",
      " crescent      oval  12.1141    0.9  -22.5424  46.7706  False\n",
      " crescent   pyramid   8.9641    0.9  -52.5705  70.4988  False\n",
      " crescent rectangle   5.9585    0.9  -29.2905  41.2075  False\n",
      " crescent     round   8.5205    0.9  -26.6752  43.7163  False\n",
      " crescent    sphere   9.7166    0.9  -24.8382  44.2715  False\n",
      " crescent  teardrop   7.1661    0.9  -28.8721  43.2042  False\n",
      " crescent  triangle    8.403    0.9  -26.0655  42.8715  False\n",
      " crescent   unknown  13.3689    0.9   -21.216  47.9537  False\n",
      "    cross  cylinder   3.3152    0.9  -14.9747  21.6052  False\n",
      "    cross     delta   0.6736    0.9  -43.2633  44.6106  False\n",
      "    cross   diamond   6.6346    0.9  -11.8227  25.0919  False\n",
      "    cross      disk   4.7257    0.9  -12.1947   21.646  False\n",
      "    cross       egg  11.2043    0.9   -8.4445  30.8531  False\n",
      "    cross  fireball  -2.5905    0.9  -19.4592  14.2782  False\n",
      "    cross     flare  -6.7866    0.9  -45.6252   32.052  False\n",
      "    cross     flash   0.7799    0.9  -17.6328  19.1925  False\n",
      "    cross formation   0.1997    0.9  -16.9746  17.3739  False\n",
      "    cross   hexagon  -9.3273    0.9  -92.4555  73.8009  False\n",
      "    cross     light   4.8858    0.9  -11.6562  21.4278  False\n",
      "    cross     other   6.8109    0.9  -10.1318  23.7535  False\n",
      "    cross      oval   4.9474    0.9  -12.1862  22.0809  False\n",
      "    cross   pyramid   1.7974    0.9  -51.8589  55.4537  False\n",
      "    cross rectangle  -1.2082    0.9  -19.5105  17.0941  False\n",
      "    cross     round   1.3538    0.9  -16.8457  19.5533  False\n",
      "    cross    sphere   2.5499    0.9   -14.377  19.4768  False\n",
      "    cross  teardrop  -0.0007    0.9  -19.7803   19.779  False\n",
      "    cross  triangle   1.2363    0.9  -15.5136  17.9862  False\n",
      "    cross   unknown   6.2021    0.9  -10.7859  23.1902  False\n",
      " cylinder     delta  -2.6416    0.9  -44.1622   38.879  False\n",
      " cylinder   diamond   3.3194    0.9   -8.2639  14.9027  False\n",
      " cylinder      disk   1.4104    0.9   -7.5227  10.3436  False\n",
      " cylinder       egg   7.8891    0.9   -5.5115  21.2898  False\n",
      " cylinder  fireball  -5.9057 0.7234  -14.7405   2.9292  False\n",
      " cylinder     flare -10.1018    0.9  -46.1842  25.9805  False\n",
      " cylinder     flash  -2.5354    0.9  -14.0474   8.9767  False\n",
      " cylinder formation  -3.1156    0.9  -12.5206   6.2895  False\n",
      " cylinder   hexagon -12.6425    0.9  -94.5192  69.2343  False\n",
      " cylinder     light   1.5706    0.9   -6.6232   9.7644  False\n",
      " cylinder     other   3.4956    0.9   -5.4796  12.4709  False\n",
      " cylinder      oval   1.6321    0.9   -7.6984  10.9627  False\n",
      " cylinder   pyramid  -1.5178    0.9   -53.214  50.1784  False\n",
      " cylinder rectangle  -4.5234    0.9  -15.8582   6.8113  False\n",
      " cylinder     round  -1.9614    0.9  -13.1294   9.2066  False\n",
      " cylinder    sphere  -0.7653    0.9   -9.7108   8.1802  False\n",
      " cylinder  teardrop  -3.3159    0.9  -16.9076  10.2759  False\n",
      " cylinder  triangle  -2.0789    0.9  -10.6849   6.5271  False\n",
      " cylinder   unknown   2.8869    0.9   -6.1737  11.9476  False\n",
      "    delta   diamond    5.961    0.9  -35.6336  47.5555  False\n",
      "    delta      disk    4.052    0.9  -36.8837  44.9878  False\n",
      "    delta       egg  10.5307    0.9  -31.6061  52.6675  False\n",
      "    delta  fireball  -3.2641    0.9  -44.1785  37.6503  False\n",
      "    delta     flare  -7.4603    0.9  -61.2922  46.3716  False\n",
      "    delta     flash   0.1062    0.9  -41.4686   41.681  False\n",
      "    delta formation   -0.474    0.9  -41.5153  40.5673  False\n",
      "    delta   hexagon -10.0009    0.9 -101.1038   81.102  False\n",
      "    delta     light   4.2122    0.9  -36.5686   44.993  False\n",
      "    delta     other   6.1372    0.9  -34.8077  47.0822  False\n",
      "    delta      oval   4.2737    0.9  -36.7506   45.298  False\n",
      "    delta   pyramid   1.1238    0.9  -64.2095   66.457  False\n",
      "    delta rectangle  -1.8819    0.9  -43.4079  39.6442  False\n",
      "    delta     round   0.6802    0.9  -40.8007   42.161  False\n",
      "    delta    sphere   1.8762    0.9  -39.0622  42.8147  False\n",
      "    delta  teardrop  -0.6743    0.9  -42.8723  41.5237  False\n",
      "    delta  triangle   0.5627    0.9  -40.3029  41.4283  False\n",
      "    delta   unknown   5.5285    0.9  -35.4353  46.4922  False\n",
      "  diamond      disk   -1.909    0.9  -11.1799   7.3619  False\n",
      "  diamond       egg   4.5697    0.9   -9.0584  18.1979  False\n",
      "  diamond  fireball  -9.2251 0.0468  -18.4013  -0.0488   True\n",
      "  diamond     flare -13.4212    0.9  -49.5887  22.7462  False\n",
      "  diamond     flash  -5.8548    0.9  -17.6309   5.9213  False\n",
      "  diamond formation   -6.435 0.7406  -16.1615   3.2915  False\n",
      "  diamond   hexagon -15.9619    0.9  -97.8762  65.9524  False\n",
      "  diamond     light  -1.7488    0.9  -10.3096    6.812  False\n",
      "  diamond     other   0.1762    0.9   -9.1353   9.4878  False\n",
      "  diamond      oval  -1.6873    0.9  -11.3417   7.9672  False\n",
      "  diamond   pyramid  -4.8372    0.9  -56.5929  46.9185  False\n",
      "  diamond rectangle  -7.8428 0.7046  -19.4456     3.76  False\n",
      "  diamond     round  -5.2808    0.9  -16.7208   6.1592  False\n",
      "  diamond    sphere  -4.0847    0.9  -13.3676   5.1981  False\n",
      "  diamond  teardrop  -6.6353    0.9  -20.4514   7.1808  False\n",
      "  diamond  triangle  -5.3983 0.8882  -14.3544   3.5578  False\n",
      "  diamond   unknown  -0.4325    0.9   -9.8263   8.9614  False\n",
      "     disk       egg   6.4787    0.9   -4.9823  17.9397  False\n",
      "     disk  fireball  -7.3161  0.001  -12.7779  -1.8543   True\n",
      "     disk     flare -11.5123    0.9  -46.9201  23.8955  False\n",
      "     disk     flash  -3.9458    0.9  -13.1275   5.2359  False\n",
      "     disk formation   -4.526 0.6103  -10.8689   1.8169  False\n",
      "     disk   hexagon -14.0529    0.9  -95.6346  67.5288  False\n",
      "     disk     light   0.1602    0.9    -4.189   4.5093  False\n",
      "     disk     other   2.0852    0.9   -3.6009   7.7713  False\n",
      "     disk      oval   0.2217    0.9   -6.0102   6.4536  False\n",
      "     disk   pyramid  -2.9282    0.9  -54.1559  48.2994  False\n",
      "     disk rectangle  -5.9339 0.7386  -14.8923   3.0245  False\n",
      "     disk     round  -3.3719    0.9  -12.1184   5.3747  False\n",
      "     disk    sphere  -2.1758    0.9   -7.8148   3.4632  False\n",
      "     disk  teardrop  -4.7263    0.9  -16.4102   6.9575  False\n",
      "     disk  triangle  -3.4894 0.6783   -8.5726   1.5939  False\n",
      "     disk   unknown   1.4765    0.9   -4.3435   7.2964  False\n",
      "      egg  fireball -13.7948 0.0022  -25.1794  -2.4102   True\n",
      "      egg     flare  -17.991    0.9  -54.7808  18.7989  False\n",
      "      egg     flash -10.4245 0.4717  -23.9921   3.1432  False\n",
      "      egg formation -11.0047 0.1145  -22.8372   0.8279  False\n",
      "      egg   hexagon -20.5316    0.9 -102.7226  61.6594  False\n",
      "      egg     light  -6.3185    0.9  -17.2131   4.5761  False\n",
      "      egg     other  -4.3935    0.9  -15.8873   7.1004  False\n",
      "      egg      oval   -6.257    0.9  -18.0304   5.5164  False\n",
      "      egg   pyramid  -9.4069    0.9  -61.5994  42.7855  False\n",
      "      egg rectangle -12.4126  0.121  -25.8301    1.005  False\n",
      "      egg     round  -9.8505 0.5391  -23.1275   3.4265  False\n",
      "      egg    sphere  -8.6544 0.5076  -20.1251   2.8162  False\n",
      "      egg  teardrop  -11.205 0.5717  -26.5767   4.1667  False\n",
      "      egg  triangle   -9.968 0.1742  -21.1759   1.2398  False\n",
      "      egg   unknown  -5.0022    0.9  -16.5629   6.5585  False\n",
      " fireball     flare  -4.1962    0.9  -39.5794   31.187  False\n",
      " fireball     flash   3.3703    0.9   -5.7159  12.4565  False\n",
      " fireball formation   2.7901    0.9   -3.4137   8.9939  False\n",
      " fireball   hexagon  -6.7368    0.9  -88.3078  74.8342  False\n",
      " fireball     light   7.4763  0.001    3.3326  11.6199   True\n",
      " fireball     other   9.4013  0.001    3.8708  14.9318   True\n",
      " fireball      oval   7.5378 0.0014    1.4476   13.628   True\n",
      " fireball   pyramid   4.3879    0.9  -46.8228  55.5985  False\n",
      " fireball rectangle   1.3822    0.9   -7.4782  10.2426  False\n",
      " fireball     round   3.9443    0.9   -4.7019  12.5904  False\n",
      " fireball    sphere   5.1403 0.1048   -0.3417  10.6224  False\n",
      " fireball  teardrop   2.5898    0.9   -9.0191  14.1987  False\n",
      " fireball  triangle   3.8268   0.44   -1.0818   8.7353  False\n",
      " fireball   unknown   8.7926  0.001    3.1246  14.4606   True\n",
      "    flare     flash   7.5665    0.9  -28.5783  43.7112  False\n",
      "    flare formation   6.9863    0.9  -28.5436  42.5161  False\n",
      "    flare   hexagon  -2.5406    0.9  -91.2971  86.2159  False\n",
      "    flare     light  11.6724    0.9  -23.5561   46.901  False\n",
      "    flare     other  13.5975    0.9   -21.821   49.016  False\n",
      "    flare      oval   11.734    0.9  -23.7762  47.2442  False\n",
      "    flare   pyramid    8.584    0.9  -53.4354  70.6035  False\n",
      "    flare rectangle   5.5784    0.9  -30.5102  41.6671  False\n",
      "    flare     round   8.1404    0.9  -27.8962  44.1771  False\n",
      "    flare    sphere   9.3365    0.9  -26.0744  44.7475  False\n",
      "    flare  teardrop    6.786    0.9  -30.0739  43.6458  False\n",
      "    flare  triangle   8.0229    0.9  -27.3038  43.3497  False\n",
      "    flare   unknown  12.9888    0.9  -22.4515   48.429  False\n",
      "    flash formation  -0.5802    0.9  -10.2217   9.0613  False\n",
      "    flash   hexagon -10.1071    0.9  -92.0114  71.7971  False\n",
      "    flash     light    4.106    0.9   -4.3582  12.5702  False\n",
      "    flash     other    6.031 0.7598   -3.1917  15.2537  False\n",
      "    flash      oval   4.1675    0.9   -5.4014  13.7364  False\n",
      "    flash   pyramid   1.0176    0.9  -50.7222  52.7573  False\n",
      "    flash rectangle  -1.9881    0.9  -13.5198   9.5436  False\n",
      "    flash     round    0.574    0.9  -10.7939  11.9418  False\n",
      "    flash    sphere     1.77    0.9   -7.4238  10.9638  False\n",
      "    flash  teardrop  -0.7805    0.9  -14.5369  12.9759  False\n",
      "    flash  triangle   0.4565    0.9   -8.4073   9.3202  False\n",
      "    flash   unknown   5.4223    0.9   -3.8836  14.7281  False\n",
      "formation   hexagon  -9.5269    0.9  -91.1617  72.1078  False\n",
      "formation     light   4.6862 0.1689   -0.5646   9.9369  False\n",
      "formation     other   6.6112 0.0329    0.2091  13.0133   True\n",
      "formation      oval   4.7477  0.672   -2.1437  11.6391  False\n",
      "formation   pyramid   1.5978    0.9  -49.7143  52.9099  False\n",
      "formation rectangle  -1.4079    0.9   -10.837   8.0212  False\n",
      "formation     round   1.1542    0.9   -8.0739  10.3822  False\n",
      "formation    sphere   2.3502    0.9   -4.0101   8.7106  False\n",
      "formation  teardrop  -0.2003    0.9  -12.2489  11.8482  False\n",
      "formation  triangle   1.0366    0.9   -4.8365   6.9098  False\n",
      "formation   unknown   6.0025 0.1253   -0.5188  12.5237  False\n",
      "  hexagon     light  14.2131    0.9   -67.291  95.7172  False\n",
      "  hexagon     other  16.1381    0.9  -65.4482  97.7245  False\n",
      "  hexagon      oval  14.2746    0.9  -67.3516  95.9008  False\n",
      "  hexagon   pyramid  11.1247    0.9  -85.0433 107.2926  False\n",
      "  hexagon rectangle    8.119    0.9  -73.7605  89.9985  False\n",
      "  hexagon     round  10.6811    0.9  -71.1755  92.5377  False\n",
      "  hexagon    sphere  11.8771    0.9  -69.7059  93.4602  False\n",
      "  hexagon  teardrop   9.3266    0.9  -72.8957  91.5489  False\n",
      "  hexagon  triangle  10.5636    0.9   -70.983  92.1101  False\n",
      "  hexagon   unknown  15.5294    0.9  -66.0664  97.1252  False\n",
      "    light     other    1.925    0.9     -2.51   6.3601  False\n",
      "    light      oval   0.0615    0.9   -5.0546   5.1776  False\n",
      "    light   pyramid  -3.0884    0.9  -54.1924  48.0156  False\n",
      "    light rectangle   -6.094 0.5408  -14.3154   2.1273  False\n",
      "    light     round   -3.532    0.9   -11.522    4.458  False\n",
      "    light    sphere  -2.3359    0.9   -6.7105   2.0386  False\n",
      "    light  teardrop  -4.8865    0.9  -16.0153   6.2423  False\n",
      "    light  triangle  -3.6495 0.0468   -7.2796  -0.0194   True\n",
      "    light   unknown   1.3163    0.9   -3.2891   5.9217  False\n",
      "    other      oval  -1.8635    0.9   -8.1556   4.4286  False\n",
      "    other   pyramid  -5.0134    0.9  -56.2485  46.2216  False\n",
      "    other rectangle  -8.0191 0.1715  -17.0195   0.9813  False\n",
      "    other     round  -5.4571 0.8428  -14.2466   3.3325  False\n",
      "    other    sphere   -4.261 0.5269   -9.9665   1.4446  False\n",
      "    other  teardrop  -6.8115    0.9  -18.5276   4.9045  False\n",
      "    other  triangle  -5.5746 0.0169  -10.7315  -0.4177   True\n",
      "    other   unknown  -0.6087    0.9   -6.4931   5.2757  False\n",
      "     oval   pyramid  -3.1499    0.9  -54.4484  48.1486  False\n",
      "     oval rectangle  -6.1556 0.7496  -15.5103   3.1992  False\n",
      "     oval     round  -3.5935    0.9  -12.7456   5.5585  False\n",
      "     oval    sphere  -2.3975    0.9   -8.6471   3.8521  False\n",
      "     oval  teardrop   -4.948    0.9  -16.9385   7.0424  False\n",
      "     oval  triangle   -3.711 0.7821   -9.4641    2.042  False\n",
      "     oval   unknown   1.2548    0.9   -5.1585   7.6681  False\n",
      "  pyramid rectangle  -3.0056    0.9  -54.7062   48.695  False\n",
      "  pyramid     round  -0.4436    0.9  -52.1079  51.2207  False\n",
      "  pyramid    sphere   0.7525    0.9  -50.4774  51.9823  False\n",
      "  pyramid  teardrop  -1.7981    0.9  -54.0399  50.4438  False\n",
      "  pyramid  triangle  -0.5611    0.9  -51.7328  50.6106  False\n",
      "  pyramid   unknown   4.4047    0.9  -46.8454  55.6548  False\n",
      "rectangle     round    2.562    0.9   -8.6262  13.7503  False\n",
      "rectangle    sphere   3.7581    0.9   -5.2126  12.7288  False\n",
      "rectangle  teardrop   1.2076    0.9  -12.4008  14.8159  False\n",
      "rectangle  triangle   2.4445    0.9   -6.1877  11.0767  False\n",
      "rectangle   unknown   7.4104 0.3343   -1.6752  16.4959  False\n",
      "    round    sphere   1.1961    0.9   -7.5631   9.9552  False\n",
      "    round  teardrop  -1.3545    0.9  -14.8243  12.1154  False\n",
      "    round  triangle  -0.1175    0.9   -8.5296   8.2946  False\n",
      "    round   unknown   4.8483    0.9   -4.0284   13.725  False\n",
      "   sphere  teardrop  -2.5506    0.9  -14.2439   9.1428  False\n",
      "   sphere  triangle  -1.3136    0.9   -6.4185   3.7914  False\n",
      "   sphere   unknown   3.6522 0.8311   -2.1867   9.4912  False\n",
      " teardrop  triangle    1.237    0.9  -10.1987  12.6726  False\n",
      " teardrop   unknown   6.2028    0.9   -5.5788  17.9844  False\n",
      " triangle   unknown   4.9658 0.1066   -0.3383  10.2699  False\n",
      "-------------------------------------------------------------\n"
     ]
    }
   ],
   "source": [
    "mc = statsmodels.stats.multicomp.MultiComparison(ufo_sd['Duration_minutes'],ufo_sd['sh'])\n",
    "mc_results = mc.tukeyhsd()\n",
    "print(mc_results)"
   ]
  },
  {
   "cell_type": "markdown",
   "metadata": {},
   "source": [
    "<b> As can be seen from the model summary of anova table, very low P-value rejects the null and proves that different shape groups have different average durations, and shape and surations have statistical significance\n",
    "    \n",
    " From HSD Tukey test to establish statistical significance of distribution, we can see that every shape Reject has False for some cases which shoes that null can be rejected and those groups have statistically significant differnce"
   ]
  },
  {
   "cell_type": "code",
   "execution_count": 426,
   "metadata": {},
   "outputs": [],
   "source": [
    "ufo_c.to_csv(\"ufo_c.csv\", header = True, index = False)"
   ]
  },
  {
   "cell_type": "code",
   "execution_count": null,
   "metadata": {},
   "outputs": [],
   "source": [
    "# Save the data \n",
    "\n",
    "datapath = 'D:/springboard/Cloned/DataScienceGuidedCapstone/data'\n",
    "save_file(ski_data, 'ski_data_step3_features.csv', datapath)"
   ]
  }
 ],
 "metadata": {
  "kernelspec": {
   "display_name": "Python 3",
   "language": "python",
   "name": "python3"
  },
  "language_info": {
   "codemirror_mode": {
    "name": "ipython",
    "version": 3
   },
   "file_extension": ".py",
   "mimetype": "text/x-python",
   "name": "python",
   "nbconvert_exporter": "python",
   "pygments_lexer": "ipython3",
   "version": "3.7.3"
  },
  "toc": {
   "base_numbering": 1,
   "nav_menu": {},
   "number_sections": true,
   "sideBar": true,
   "skip_h1_title": false,
   "title_cell": "Table of Contents",
   "title_sidebar": "Contents",
   "toc_cell": false,
   "toc_position": {},
   "toc_section_display": true,
   "toc_window_display": false
  },
  "varInspector": {
   "cols": {
    "lenName": 16,
    "lenType": 16,
    "lenVar": 40
   },
   "kernels_config": {
    "python": {
     "delete_cmd_postfix": "",
     "delete_cmd_prefix": "del ",
     "library": "var_list.py",
     "varRefreshCmd": "print(var_dic_list())"
    },
    "r": {
     "delete_cmd_postfix": ") ",
     "delete_cmd_prefix": "rm(",
     "library": "var_list.r",
     "varRefreshCmd": "cat(var_dic_list()) "
    }
   },
   "types_to_exclude": [
    "module",
    "function",
    "builtin_function_or_method",
    "instance",
    "_Feature"
   ],
   "window_display": false
  }
 },
 "nbformat": 4,
 "nbformat_minor": 4
}
