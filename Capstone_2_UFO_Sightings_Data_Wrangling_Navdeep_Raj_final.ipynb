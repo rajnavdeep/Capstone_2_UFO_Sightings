{
 "cells": [
  {
   "cell_type": "markdown",
   "id": "hired-guard",
   "metadata": {},
   "source": [
    "# 1 Data wrangling<a id='2_Data_wrangling'></a>"
   ]
  },
  {
   "cell_type": "markdown",
   "id": "historic-quest",
   "metadata": {},
   "source": [
    "## 1.1 Contents<a id='Contents'></a>\n",
    "* [1 Data wrangling](#1_Data_wrangling)\n",
    "  * [1.1 Contents](#1.1_Contents)\n",
    "  * [1.2 Introduction](#1.2_Introduction)\n",
    "  * [1.3 Project Idea and Concept](#1.3_Project_Idea_and_Concept)\n",
    "  * [1.4 Imports](#1.4_Imports)\n",
    "  * [1.5 Objectives](#1.5_Objectives)\n",
    "  * [1.6 Load the data](#1.6_Load_the_data)\n",
    "  * [1.7 Explore the data](#1.7_Explore_the_data)\n",
    "  * [1.8 Renaming columns](#1.8_renaming_columns)\n",
    "  * [1.9 Checking missing values](#1.9_Checking_missing_values)\n",
    "  * [1.6 Load the data](#1.6_Load_the_data)\n",
    "  * [1.7 Explore the data](#1.7_Explore_the_data)\n",
    "  * [1.8 Renaming columns](#1.8_Renaming_columns)\n",
    "  * [1.9 Checking missing values](#1.9_Checking_missing_values)\n",
    "  * [1.10 Converting Date columns to Datetime](#1.10_Converting_Date_columns_to_Datetime)\n",
    "      * [1.10.1 Dropping rows on Date_time subset](#1.10.1_Dropping_rows_on_Date_time_subset)\n",
    "  * [1.11 Converting Lat & Long columns to Float](#1.11_Converting_Lat_&_Long_columns_to_Float)\n",
    "  * [1.12 Dropping null rows from Duration Column](#1.12_Dropping_null_rows_from_Duration_Column)\n",
    "  * [1.13 Getting Country, State, City from Latitude and Longitudes](#1.13_Getting_Country_,_State_,_City_from_Latitude_and_Longitudes)\n",
    "  * [1.14 Cleaning Duration column to convert all entries to Minutes](#1.14_Cleaning_Duration_column_to_convert_all_entries_to_Minutes)\n",
    "      * [1.14.1 Function using regex package to get duration](#1.14.1_Function_using_regex_package_to_get_duration)\n",
    "      * [1.14.2 Applying function to duration column](#1.14.2_Applying_function_to_duration_column)\n",
    "  * [1.15 Checking and cleaning Shape Column](#1.15_Checking_and_cleaning_Shape_Column)\n",
    "      * [1.15.1 Checking unique shapes & function to match these in description column](#1.15.1_Checking_unique_shapes_&_function_to_match_these_in_description_column)\n",
    "      * [1.15.2 Applying function to create shape categories column](#1.15.2_Applying_function_to_create_shape_categories_column)\n",
    "      * [1.15.3 Checking if shape can be found in description column](#1.15.3_Checking_if_shape_can_be_found_in_description_column)\n",
    "      * [1.15.4 Dropping null values from final Shape Column](#1.15.4_Dropping_null_values_from_final_Shape_Column)\n",
    "  * [1.16 Getting Year and Month From Spotted datetime](#1.16_Getting_Year_and_Month_From_Spotted_datetime)\n",
    "  * [1.17 Saving File](#Saving_File)\n",
    "  "
   ]
  },
  {
   "cell_type": "markdown",
   "id": "religious-boards",
   "metadata": {},
   "source": [
    "## 1.2 Introduction<a id='1.2_Introduction'></a>"
   ]
  },
  {
   "cell_type": "markdown",
   "id": "hundred-variance",
   "metadata": {},
   "source": [
    "This Notebook features the second step in the Data Science Method Workflow after problem identification which is data Wrangling. It comprises of collecting, defining and cleaning data for furthur exploratory analysis so as to have a clean uniform data with proper data types"
   ]
  },
  {
   "cell_type": "markdown",
   "id": "lightweight-liverpool",
   "metadata": {},
   "source": [
    "## 1.3 Project Idea and Concept<a id='1.3_Project_Idea_and_Concept'></a>"
   ]
  },
  {
   "cell_type": "markdown",
   "id": "referenced-herald",
   "metadata": {},
   "source": [
    "Idea behind this project is to analyze and mine the documented data available to us based on UFO sightings and find interesting trends and predict some behavior in terms of their shape, size, color, etc. Most of the analysis is based on visualizing maps to understand the geographies of UFO sighting. The basic variables or attributes we have in this data are date sighted, length, place of sighting, shape and a description from the observer.\n",
    "\n",
    "An unidentified flying object (UFO) is any aerial phenomenon that cannot immediately be identified or explained. Most UFOs are identified on investigation as conventional objects or phenomena. The term is widely used for claimed observations of extraterrestrial spacecraft. The data has been collected from NUFORC.\n"
   ]
  },
  {
   "cell_type": "markdown",
   "id": "dynamic-karma",
   "metadata": {},
   "source": [
    "## 1.4 Imports<a id='1.4_Imports'></a>"
   ]
  },
  {
   "cell_type": "code",
   "execution_count": 7,
   "id": "headed-society",
   "metadata": {},
   "outputs": [],
   "source": [
    "## ---- Importing the required libraries\n",
    "\n",
    "import pandas as pd\n",
    "import numpy as np\n",
    "import matplotlib.pyplot as plt\n",
    "from datetime import date, timedelta, datetime\n",
    "import pycountry\n",
    "import re\n",
    "import reverse_geocoder as rg\n"
   ]
  },
  {
   "cell_type": "markdown",
   "id": "piano-luxembourg",
   "metadata": {},
   "source": [
    "## 1.5 Objectives<a id='1.5_Objectives'></a>"
   ]
  },
  {
   "cell_type": "markdown",
   "id": "twenty-disability",
   "metadata": {},
   "source": [
    "Main objectives in thiss workbook:\n",
    "* To address the data types abd change them as needed\n",
    "* To clean the columns\n",
    "* To identify missing values\n",
    "* To identify the target variable for modelling"
   ]
  },
  {
   "cell_type": "markdown",
   "id": "stone-action",
   "metadata": {},
   "source": [
    "## 1.6 Load the data<a id='1.6_Load_the_data'></a>"
   ]
  },
  {
   "cell_type": "code",
   "execution_count": 8,
   "id": "vietnamese-portable",
   "metadata": {},
   "outputs": [],
   "source": [
    "## Importing the CSV file\n",
    "\n",
    "ufo_data = pd.read_csv(\"UFO.csv\", low_memory = False, na_values = ['UNKNOWN','UNK'], na_filter = True, skip_blank_lines = True)"
   ]
  },
  {
   "cell_type": "markdown",
   "id": "economic-honor",
   "metadata": {},
   "source": [
    "## 1.7 Explore the data<a id='1.7_Explore_the_data'></a>"
   ]
  },
  {
   "cell_type": "code",
   "execution_count": 9,
   "id": "according-prime",
   "metadata": {},
   "outputs": [
    {
     "data": {
      "text/plain": [
       "(88824, 11)"
      ]
     },
     "execution_count": 9,
     "metadata": {},
     "output_type": "execute_result"
    }
   ],
   "source": [
    "# Shape of Data\n",
    "ufo_data.shape"
   ]
  },
  {
   "cell_type": "code",
   "execution_count": 10,
   "id": "valid-guide",
   "metadata": {},
   "outputs": [
    {
     "data": {
      "text/plain": [
       "datetime                 object\n",
       "city                     object\n",
       "state                    object\n",
       "country                  object\n",
       "shape                    object\n",
       "duration (seconds)       object\n",
       "duration (hours/min)     object\n",
       "comments                 object\n",
       "date posted              object\n",
       "latitude                 object\n",
       "longitude               float64\n",
       "dtype: object"
      ]
     },
     "execution_count": 10,
     "metadata": {},
     "output_type": "execute_result"
    }
   ],
   "source": [
    "ufo_data.dtypes"
   ]
  },
  {
   "cell_type": "code",
   "execution_count": 11,
   "id": "trained-energy",
   "metadata": {},
   "outputs": [
    {
     "data": {
      "text/plain": [
       "Index(['datetime', 'city', 'state', 'country', 'shape', 'duration (seconds)',\n",
       "       'duration (hours/min)', 'comments', 'date posted', 'latitude',\n",
       "       'longitude'],\n",
       "      dtype='object')"
      ]
     },
     "execution_count": 11,
     "metadata": {},
     "output_type": "execute_result"
    }
   ],
   "source": [
    "ufo_data.columns"
   ]
  },
  {
   "cell_type": "code",
   "execution_count": 12,
   "id": "brief-investigation",
   "metadata": {},
   "outputs": [
    {
     "data": {
      "text/html": [
       "<div>\n",
       "<style scoped>\n",
       "    .dataframe tbody tr th:only-of-type {\n",
       "        vertical-align: middle;\n",
       "    }\n",
       "\n",
       "    .dataframe tbody tr th {\n",
       "        vertical-align: top;\n",
       "    }\n",
       "\n",
       "    .dataframe thead th {\n",
       "        text-align: right;\n",
       "    }\n",
       "</style>\n",
       "<table border=\"1\" class=\"dataframe\">\n",
       "  <thead>\n",
       "    <tr style=\"text-align: right;\">\n",
       "      <th></th>\n",
       "      <th>datetime</th>\n",
       "      <th>city</th>\n",
       "      <th>state</th>\n",
       "      <th>country</th>\n",
       "      <th>shape</th>\n",
       "      <th>duration (seconds)</th>\n",
       "      <th>duration (hours/min)</th>\n",
       "      <th>comments</th>\n",
       "      <th>date posted</th>\n",
       "      <th>latitude</th>\n",
       "      <th>longitude</th>\n",
       "    </tr>\n",
       "  </thead>\n",
       "  <tbody>\n",
       "    <tr>\n",
       "      <th>0</th>\n",
       "      <td>10/10/1949 20:30</td>\n",
       "      <td>san marcos</td>\n",
       "      <td>tx</td>\n",
       "      <td>us</td>\n",
       "      <td>cylinder</td>\n",
       "      <td>2700</td>\n",
       "      <td>45 minutes</td>\n",
       "      <td>This event took place in early fall around 194...</td>\n",
       "      <td>4/27/2004</td>\n",
       "      <td>29.8830556</td>\n",
       "      <td>-97.941111</td>\n",
       "    </tr>\n",
       "    <tr>\n",
       "      <th>1</th>\n",
       "      <td>10/10/1949 21:00</td>\n",
       "      <td>lackland afb</td>\n",
       "      <td>tx</td>\n",
       "      <td>NaN</td>\n",
       "      <td>light</td>\n",
       "      <td>7200</td>\n",
       "      <td>1-2 hrs</td>\n",
       "      <td>1949 Lackland AFB&amp;#44 TX.  Lights racing acros...</td>\n",
       "      <td>12/16/2005</td>\n",
       "      <td>29.38421</td>\n",
       "      <td>-98.581082</td>\n",
       "    </tr>\n",
       "    <tr>\n",
       "      <th>2</th>\n",
       "      <td>10/10/1955 17:00</td>\n",
       "      <td>chester (uk/england)</td>\n",
       "      <td>NaN</td>\n",
       "      <td>gb</td>\n",
       "      <td>circle</td>\n",
       "      <td>20</td>\n",
       "      <td>20 seconds</td>\n",
       "      <td>Green/Orange circular disc over Chester&amp;#44 En...</td>\n",
       "      <td>1/21/2008</td>\n",
       "      <td>53.2</td>\n",
       "      <td>-2.916667</td>\n",
       "    </tr>\n",
       "    <tr>\n",
       "      <th>3</th>\n",
       "      <td>10/10/1956 21:00</td>\n",
       "      <td>edna</td>\n",
       "      <td>tx</td>\n",
       "      <td>us</td>\n",
       "      <td>circle</td>\n",
       "      <td>20</td>\n",
       "      <td>1/2 hour</td>\n",
       "      <td>My older brother and twin sister were leaving ...</td>\n",
       "      <td>1/17/2004</td>\n",
       "      <td>28.9783333</td>\n",
       "      <td>-96.645833</td>\n",
       "    </tr>\n",
       "    <tr>\n",
       "      <th>4</th>\n",
       "      <td>10/10/1960 20:00</td>\n",
       "      <td>kaneohe</td>\n",
       "      <td>hi</td>\n",
       "      <td>us</td>\n",
       "      <td>light</td>\n",
       "      <td>900</td>\n",
       "      <td>15 minutes</td>\n",
       "      <td>AS a Marine 1st Lt. flying an FJ4B fighter/att...</td>\n",
       "      <td>1/22/2004</td>\n",
       "      <td>21.4180556</td>\n",
       "      <td>-157.803611</td>\n",
       "    </tr>\n",
       "  </tbody>\n",
       "</table>\n",
       "</div>"
      ],
      "text/plain": [
       "           datetime                  city state country     shape  \\\n",
       "0  10/10/1949 20:30            san marcos    tx      us  cylinder   \n",
       "1  10/10/1949 21:00          lackland afb    tx     NaN     light   \n",
       "2  10/10/1955 17:00  chester (uk/england)   NaN      gb    circle   \n",
       "3  10/10/1956 21:00                  edna    tx      us    circle   \n",
       "4  10/10/1960 20:00               kaneohe    hi      us     light   \n",
       "\n",
       "  duration (seconds) duration (hours/min)  \\\n",
       "0               2700           45 minutes   \n",
       "1               7200              1-2 hrs   \n",
       "2                 20           20 seconds   \n",
       "3                 20             1/2 hour   \n",
       "4                900           15 minutes   \n",
       "\n",
       "                                            comments date posted    latitude  \\\n",
       "0  This event took place in early fall around 194...   4/27/2004  29.8830556   \n",
       "1  1949 Lackland AFB&#44 TX.  Lights racing acros...  12/16/2005    29.38421   \n",
       "2  Green/Orange circular disc over Chester&#44 En...   1/21/2008        53.2   \n",
       "3  My older brother and twin sister were leaving ...   1/17/2004  28.9783333   \n",
       "4  AS a Marine 1st Lt. flying an FJ4B fighter/att...   1/22/2004  21.4180556   \n",
       "\n",
       "    longitude  \n",
       "0  -97.941111  \n",
       "1  -98.581082  \n",
       "2   -2.916667  \n",
       "3  -96.645833  \n",
       "4 -157.803611  "
      ]
     },
     "execution_count": 12,
     "metadata": {},
     "output_type": "execute_result"
    }
   ],
   "source": [
    "ufo_data.head()"
   ]
  },
  {
   "cell_type": "code",
   "execution_count": 13,
   "id": "intended-process",
   "metadata": {},
   "outputs": [
    {
     "name": "stdout",
     "output_type": "stream",
     "text": [
      "<class 'pandas.core.frame.DataFrame'>\n",
      "RangeIndex: 88824 entries, 0 to 88823\n",
      "Data columns (total 11 columns):\n",
      " #   Column                Non-Null Count  Dtype  \n",
      "---  ------                --------------  -----  \n",
      " 0   datetime              88824 non-null  object \n",
      " 1   city                  88679 non-null  object \n",
      " 2   state                 81352 non-null  object \n",
      " 3   country               76314 non-null  object \n",
      " 4   shape                 85865 non-null  object \n",
      " 5   duration (seconds)    88822 non-null  object \n",
      " 6   duration (hours/min)  85755 non-null  object \n",
      " 7   comments              88789 non-null  object \n",
      " 8   date posted           88824 non-null  object \n",
      " 9   latitude              88824 non-null  object \n",
      " 10  longitude             88824 non-null  float64\n",
      "dtypes: float64(1), object(10)\n",
      "memory usage: 7.5+ MB\n"
     ]
    }
   ],
   "source": [
    "ufo_data.info()"
   ]
  },
  {
   "cell_type": "code",
   "execution_count": 14,
   "id": "optical-toilet",
   "metadata": {},
   "outputs": [],
   "source": [
    "ufo_1 = ufo_data.copy()"
   ]
  },
  {
   "cell_type": "code",
   "execution_count": 15,
   "id": "funded-capability",
   "metadata": {},
   "outputs": [],
   "source": [
    "# Dropping some columns\n",
    "ufo_1 = ufo_1.drop(['duration (seconds)','country', 'state', 'city'], axis = 1)"
   ]
  },
  {
   "cell_type": "code",
   "execution_count": 16,
   "id": "adverse-validity",
   "metadata": {},
   "outputs": [
    {
     "data": {
      "text/plain": [
       "Index(['datetime', 'shape', 'duration (hours/min)', 'comments', 'date posted',\n",
       "       'latitude', 'longitude'],\n",
       "      dtype='object')"
      ]
     },
     "execution_count": 16,
     "metadata": {},
     "output_type": "execute_result"
    }
   ],
   "source": [
    "ufo_1.columns"
   ]
  },
  {
   "cell_type": "markdown",
   "id": "dependent-kruger",
   "metadata": {},
   "source": [
    "## 1.8 Renaming columns<a id='1.8_Renaming_columns'></a>"
   ]
  },
  {
   "cell_type": "code",
   "execution_count": 17,
   "id": "controversial-participant",
   "metadata": {},
   "outputs": [],
   "source": [
    "## Renaming some columns\n",
    "ufo_1 = ufo_1.rename({'datetime':\"Date_time\", \"shape\":\"Shape\", \"duration (hours/min)\":\"Duration_minutes\", \"comments\":\"Description\",\"date posted\" : \"Date_posted\", \"latitude\":\"Lat\", \"longitude\":\"Long\"}, axis = 1)"
   ]
  },
  {
   "cell_type": "code",
   "execution_count": 18,
   "id": "executed-cleaners",
   "metadata": {},
   "outputs": [
    {
     "data": {
      "text/plain": [
       "Index(['Date_time', 'Shape', 'Duration_minutes', 'Description', 'Date_posted',\n",
       "       'Lat', 'Long'],\n",
       "      dtype='object')"
      ]
     },
     "execution_count": 18,
     "metadata": {},
     "output_type": "execute_result"
    }
   ],
   "source": [
    "ufo_1.columns"
   ]
  },
  {
   "cell_type": "markdown",
   "id": "limiting-physiology",
   "metadata": {},
   "source": [
    "## 1.9 Checking missing values<a id='1.9_Checking_missing_values'></a>"
   ]
  },
  {
   "cell_type": "code",
   "execution_count": 19,
   "id": "musical-integer",
   "metadata": {},
   "outputs": [
    {
     "data": {
      "text/plain": [
       "Date_time              0\n",
       "Shape               2959\n",
       "Duration_minutes    3069\n",
       "Description           35\n",
       "Date_posted            0\n",
       "Lat                    0\n",
       "Long                   0\n",
       "dtype: int64"
      ]
     },
     "execution_count": 19,
     "metadata": {},
     "output_type": "execute_result"
    }
   ],
   "source": [
    "# checking Null values\n",
    "\n",
    "ufo_1.isnull().sum()"
   ]
  },
  {
   "cell_type": "markdown",
   "id": "progressive-chase",
   "metadata": {},
   "source": [
    "Shape & Duration Columns each have 2959 and 3069 null values respectively"
   ]
  },
  {
   "cell_type": "markdown",
   "id": "increased-thinking",
   "metadata": {},
   "source": [
    "### Checking data types"
   ]
  },
  {
   "cell_type": "code",
   "execution_count": 20,
   "id": "cognitive-enzyme",
   "metadata": {},
   "outputs": [
    {
     "data": {
      "text/plain": [
       "Date_time            object\n",
       "Shape                object\n",
       "Duration_minutes     object\n",
       "Description          object\n",
       "Date_posted          object\n",
       "Lat                  object\n",
       "Long                float64\n",
       "dtype: object"
      ]
     },
     "execution_count": 20,
     "metadata": {},
     "output_type": "execute_result"
    }
   ],
   "source": [
    "ufo_1.dtypes"
   ]
  },
  {
   "cell_type": "markdown",
   "id": "streaming-tribe",
   "metadata": {},
   "source": [
    "## 1.10 Converting Date columns to Datetime<a id='1.10_Converting_Date_columns_to_Datetime'></a>"
   ]
  },
  {
   "cell_type": "code",
   "execution_count": 21,
   "id": "middle-nudist",
   "metadata": {},
   "outputs": [],
   "source": [
    " ufo_1['Date_time'] = ufo_1['Date_time'].map({t:pd.to_datetime(t,errors=\"coerce\") for t in ufo_1.Date_time.unique()})"
   ]
  },
  {
   "cell_type": "code",
   "execution_count": 22,
   "id": "superior-shanghai",
   "metadata": {},
   "outputs": [],
   "source": [
    " ufo_1['Date_posted'] = ufo_1['Date_posted'].map({t:pd.to_datetime(t,errors=\"coerce\") for t in ufo_1.Date_posted.unique()})"
   ]
  },
  {
   "cell_type": "code",
   "execution_count": 23,
   "id": "utility-divide",
   "metadata": {},
   "outputs": [
    {
     "data": {
      "text/plain": [
       "Date_time           datetime64[ns]\n",
       "Shape                       object\n",
       "Duration_minutes            object\n",
       "Description                 object\n",
       "Date_posted         datetime64[ns]\n",
       "Lat                         object\n",
       "Long                       float64\n",
       "dtype: object"
      ]
     },
     "execution_count": 23,
     "metadata": {},
     "output_type": "execute_result"
    }
   ],
   "source": [
    "ufo_1.dtypes"
   ]
  },
  {
   "cell_type": "markdown",
   "id": "attached-observer",
   "metadata": {},
   "source": [
    "After converting these columns to datetime64 type , there were some entries in Date_time column which were 5 digit entries,\n",
    "after connverting them to proper datetime using strftime(), they tyrned out ti be some dates in the futures so next few \n",
    "steps are to drop those rows so, I have subset it on Date_tiome column in dropna command"
   ]
  },
  {
   "cell_type": "markdown",
   "id": "wanted-label",
   "metadata": {},
   "source": [
    "### 1.10.1 Dropping rows on Date_time subset<a id='1.10.1_Dropping_rows_on_Date_time_subset'></a>"
   ]
  },
  {
   "cell_type": "code",
   "execution_count": 24,
   "id": "sized-amendment",
   "metadata": {},
   "outputs": [],
   "source": [
    "ufo_1 = ufo_1.dropna(axis = 0, subset = ['Date_time'])"
   ]
  },
  {
   "cell_type": "code",
   "execution_count": 25,
   "id": "diverse-cholesterol",
   "metadata": {},
   "outputs": [
    {
     "name": "stdout",
     "output_type": "stream",
     "text": [
      "<class 'pandas.core.frame.DataFrame'>\n",
      "Int64Index: 87595 entries, 0 to 88823\n",
      "Data columns (total 7 columns):\n",
      " #   Column            Non-Null Count  Dtype         \n",
      "---  ------            --------------  -----         \n",
      " 0   Date_time         87595 non-null  datetime64[ns]\n",
      " 1   Shape             84904 non-null  object        \n",
      " 2   Duration_minutes  84913 non-null  object        \n",
      " 3   Description       87565 non-null  object        \n",
      " 4   Date_posted       87595 non-null  datetime64[ns]\n",
      " 5   Lat               87595 non-null  object        \n",
      " 6   Long              87595 non-null  float64       \n",
      "dtypes: datetime64[ns](2), float64(1), object(4)\n",
      "memory usage: 5.3+ MB\n"
     ]
    }
   ],
   "source": [
    "ufo_1.info()"
   ]
  },
  {
   "cell_type": "code",
   "execution_count": 26,
   "id": "multiple-ethiopia",
   "metadata": {},
   "outputs": [],
   "source": [
    "ufo_a = ufo_1.copy()"
   ]
  },
  {
   "cell_type": "code",
   "execution_count": 27,
   "id": "second-crown",
   "metadata": {},
   "outputs": [
    {
     "data": {
      "text/html": [
       "<div>\n",
       "<style scoped>\n",
       "    .dataframe tbody tr th:only-of-type {\n",
       "        vertical-align: middle;\n",
       "    }\n",
       "\n",
       "    .dataframe tbody tr th {\n",
       "        vertical-align: top;\n",
       "    }\n",
       "\n",
       "    .dataframe thead th {\n",
       "        text-align: right;\n",
       "    }\n",
       "</style>\n",
       "<table border=\"1\" class=\"dataframe\">\n",
       "  <thead>\n",
       "    <tr style=\"text-align: right;\">\n",
       "      <th></th>\n",
       "      <th>Date_time</th>\n",
       "      <th>Shape</th>\n",
       "      <th>Duration_minutes</th>\n",
       "      <th>Description</th>\n",
       "      <th>Date_posted</th>\n",
       "      <th>Lat</th>\n",
       "      <th>Long</th>\n",
       "    </tr>\n",
       "  </thead>\n",
       "  <tbody>\n",
       "    <tr>\n",
       "      <th>0</th>\n",
       "      <td>1949-10-10 20:30:00</td>\n",
       "      <td>cylinder</td>\n",
       "      <td>45 minutes</td>\n",
       "      <td>This event took place in early fall around 194...</td>\n",
       "      <td>2004-04-27</td>\n",
       "      <td>29.8830556</td>\n",
       "      <td>-97.941111</td>\n",
       "    </tr>\n",
       "    <tr>\n",
       "      <th>1</th>\n",
       "      <td>1949-10-10 21:00:00</td>\n",
       "      <td>light</td>\n",
       "      <td>1-2 hrs</td>\n",
       "      <td>1949 Lackland AFB&amp;#44 TX.  Lights racing acros...</td>\n",
       "      <td>2005-12-16</td>\n",
       "      <td>29.38421</td>\n",
       "      <td>-98.581082</td>\n",
       "    </tr>\n",
       "    <tr>\n",
       "      <th>2</th>\n",
       "      <td>1955-10-10 17:00:00</td>\n",
       "      <td>circle</td>\n",
       "      <td>20 seconds</td>\n",
       "      <td>Green/Orange circular disc over Chester&amp;#44 En...</td>\n",
       "      <td>2008-01-21</td>\n",
       "      <td>53.2</td>\n",
       "      <td>-2.916667</td>\n",
       "    </tr>\n",
       "    <tr>\n",
       "      <th>3</th>\n",
       "      <td>1956-10-10 21:00:00</td>\n",
       "      <td>circle</td>\n",
       "      <td>1/2 hour</td>\n",
       "      <td>My older brother and twin sister were leaving ...</td>\n",
       "      <td>2004-01-17</td>\n",
       "      <td>28.9783333</td>\n",
       "      <td>-96.645833</td>\n",
       "    </tr>\n",
       "    <tr>\n",
       "      <th>4</th>\n",
       "      <td>1960-10-10 20:00:00</td>\n",
       "      <td>light</td>\n",
       "      <td>15 minutes</td>\n",
       "      <td>AS a Marine 1st Lt. flying an FJ4B fighter/att...</td>\n",
       "      <td>2004-01-22</td>\n",
       "      <td>21.4180556</td>\n",
       "      <td>-157.803611</td>\n",
       "    </tr>\n",
       "    <tr>\n",
       "      <th>...</th>\n",
       "      <td>...</td>\n",
       "      <td>...</td>\n",
       "      <td>...</td>\n",
       "      <td>...</td>\n",
       "      <td>...</td>\n",
       "      <td>...</td>\n",
       "      <td>...</td>\n",
       "    </tr>\n",
       "    <tr>\n",
       "      <th>87590</th>\n",
       "      <td>2013-09-09 22:00:00</td>\n",
       "      <td>other</td>\n",
       "      <td>hour</td>\n",
       "      <td>Napa UFO&amp;#44</td>\n",
       "      <td>2013-09-30</td>\n",
       "      <td>38.2972222</td>\n",
       "      <td>-122.284444</td>\n",
       "    </tr>\n",
       "    <tr>\n",
       "      <th>87591</th>\n",
       "      <td>2013-09-09 22:20:00</td>\n",
       "      <td>circle</td>\n",
       "      <td>5 seconds</td>\n",
       "      <td>Saw a five gold lit cicular craft moving fastl...</td>\n",
       "      <td>2013-09-30</td>\n",
       "      <td>38.9011111</td>\n",
       "      <td>-77.265556</td>\n",
       "    </tr>\n",
       "    <tr>\n",
       "      <th>87592</th>\n",
       "      <td>2013-09-09 23:00:00</td>\n",
       "      <td>cigar</td>\n",
       "      <td>17 minutes</td>\n",
       "      <td>2 witnesses 2  miles apart&amp;#44 Red &amp;amp; White...</td>\n",
       "      <td>2013-09-30</td>\n",
       "      <td>35.6527778</td>\n",
       "      <td>-97.477778</td>\n",
       "    </tr>\n",
       "    <tr>\n",
       "      <th>87593</th>\n",
       "      <td>2013-09-09 23:00:00</td>\n",
       "      <td>diamond</td>\n",
       "      <td>2 nights</td>\n",
       "      <td>On September ninth my wife and i noticed stran...</td>\n",
       "      <td>2013-09-30</td>\n",
       "      <td>34.3769444</td>\n",
       "      <td>-82.695833</td>\n",
       "    </tr>\n",
       "    <tr>\n",
       "      <th>87594</th>\n",
       "      <td>2013-09-09 23:30:00</td>\n",
       "      <td>oval</td>\n",
       "      <td>still occuring</td>\n",
       "      <td>Hovering object lit with red and white lights&amp;...</td>\n",
       "      <td>2013-09-30</td>\n",
       "      <td>26.1219444</td>\n",
       "      <td>-80.143611</td>\n",
       "    </tr>\n",
       "  </tbody>\n",
       "</table>\n",
       "<p>87595 rows × 7 columns</p>\n",
       "</div>"
      ],
      "text/plain": [
       "                Date_time     Shape Duration_minutes  \\\n",
       "0     1949-10-10 20:30:00  cylinder       45 minutes   \n",
       "1     1949-10-10 21:00:00     light          1-2 hrs   \n",
       "2     1955-10-10 17:00:00    circle       20 seconds   \n",
       "3     1956-10-10 21:00:00    circle         1/2 hour   \n",
       "4     1960-10-10 20:00:00     light       15 minutes   \n",
       "...                   ...       ...              ...   \n",
       "87590 2013-09-09 22:00:00     other             hour   \n",
       "87591 2013-09-09 22:20:00    circle        5 seconds   \n",
       "87592 2013-09-09 23:00:00     cigar       17 minutes   \n",
       "87593 2013-09-09 23:00:00   diamond         2 nights   \n",
       "87594 2013-09-09 23:30:00      oval   still occuring   \n",
       "\n",
       "                                             Description Date_posted  \\\n",
       "0      This event took place in early fall around 194...  2004-04-27   \n",
       "1      1949 Lackland AFB&#44 TX.  Lights racing acros...  2005-12-16   \n",
       "2      Green/Orange circular disc over Chester&#44 En...  2008-01-21   \n",
       "3      My older brother and twin sister were leaving ...  2004-01-17   \n",
       "4      AS a Marine 1st Lt. flying an FJ4B fighter/att...  2004-01-22   \n",
       "...                                                  ...         ...   \n",
       "87590                                       Napa UFO&#44  2013-09-30   \n",
       "87591  Saw a five gold lit cicular craft moving fastl...  2013-09-30   \n",
       "87592  2 witnesses 2  miles apart&#44 Red &amp; White...  2013-09-30   \n",
       "87593  On September ninth my wife and i noticed stran...  2013-09-30   \n",
       "87594  Hovering object lit with red and white lights&...  2013-09-30   \n",
       "\n",
       "              Lat        Long  \n",
       "0      29.8830556  -97.941111  \n",
       "1        29.38421  -98.581082  \n",
       "2            53.2   -2.916667  \n",
       "3      28.9783333  -96.645833  \n",
       "4      21.4180556 -157.803611  \n",
       "...           ...         ...  \n",
       "87590  38.2972222 -122.284444  \n",
       "87591  38.9011111  -77.265556  \n",
       "87592  35.6527778  -97.477778  \n",
       "87593  34.3769444  -82.695833  \n",
       "87594  26.1219444  -80.143611  \n",
       "\n",
       "[87595 rows x 7 columns]"
      ]
     },
     "execution_count": 27,
     "metadata": {},
     "output_type": "execute_result"
    }
   ],
   "source": [
    "ufo_a.reset_index(drop = True)"
   ]
  },
  {
   "cell_type": "markdown",
   "id": "systematic-tongue",
   "metadata": {},
   "source": [
    "## 1.11 Converting Lat & Long columns to Float<a id='1.11_Converting_Lat_&_Long_columns_to_Float'></a>"
   ]
  },
  {
   "cell_type": "code",
   "execution_count": 28,
   "id": "employed-eugene",
   "metadata": {},
   "outputs": [],
   "source": [
    "ufo_a.iloc[47931,5] = 33.200088"
   ]
  },
  {
   "cell_type": "code",
   "execution_count": 29,
   "id": "municipal-reverse",
   "metadata": {},
   "outputs": [],
   "source": [
    "## Changing Lat column to Float Type\n",
    "\n",
    "ufo_a['Lat'] = ufo_a['Lat'].astype(float)"
   ]
  },
  {
   "cell_type": "code",
   "execution_count": 30,
   "id": "signed-cambridge",
   "metadata": {},
   "outputs": [
    {
     "data": {
      "text/plain": [
       "Date_time           datetime64[ns]\n",
       "Shape                       object\n",
       "Duration_minutes            object\n",
       "Description                 object\n",
       "Date_posted         datetime64[ns]\n",
       "Lat                        float64\n",
       "Long                       float64\n",
       "dtype: object"
      ]
     },
     "execution_count": 30,
     "metadata": {},
     "output_type": "execute_result"
    }
   ],
   "source": [
    "ufo_a.dtypes"
   ]
  },
  {
   "cell_type": "code",
   "execution_count": 32,
   "id": "macro-substance",
   "metadata": {},
   "outputs": [
    {
     "data": {
      "text/html": [
       "<div>\n",
       "<style scoped>\n",
       "    .dataframe tbody tr th:only-of-type {\n",
       "        vertical-align: middle;\n",
       "    }\n",
       "\n",
       "    .dataframe tbody tr th {\n",
       "        vertical-align: top;\n",
       "    }\n",
       "\n",
       "    .dataframe thead th {\n",
       "        text-align: right;\n",
       "    }\n",
       "</style>\n",
       "<table border=\"1\" class=\"dataframe\">\n",
       "  <thead>\n",
       "    <tr style=\"text-align: right;\">\n",
       "      <th></th>\n",
       "      <th>Date_time</th>\n",
       "      <th>Shape</th>\n",
       "      <th>Duration_minutes</th>\n",
       "      <th>Description</th>\n",
       "      <th>Date_posted</th>\n",
       "      <th>Lat</th>\n",
       "      <th>Long</th>\n",
       "    </tr>\n",
       "  </thead>\n",
       "  <tbody>\n",
       "    <tr>\n",
       "      <th>34901</th>\n",
       "      <td>1966-03-15 14:00:00</td>\n",
       "      <td>circle</td>\n",
       "      <td>20sec.</td>\n",
       "      <td>we were driving down the road i look up to the...</td>\n",
       "      <td>2001-08-20</td>\n",
       "      <td>39.646111</td>\n",
       "      <td>-75.871944</td>\n",
       "    </tr>\n",
       "    <tr>\n",
       "      <th>1570</th>\n",
       "      <td>2012-10-13 22:00:00</td>\n",
       "      <td>circle</td>\n",
       "      <td>3 minutes</td>\n",
       "      <td>12 Redish flying objects over Isle of Palms</td>\n",
       "      <td>2012-10-30</td>\n",
       "      <td>32.786667</td>\n",
       "      <td>-79.795000</td>\n",
       "    </tr>\n",
       "    <tr>\n",
       "      <th>55646</th>\n",
       "      <td>2004-06-19 18:30:00</td>\n",
       "      <td>light</td>\n",
       "      <td>10 minutes</td>\n",
       "      <td>Los Angeles my boyfriend and I had stopped at ...</td>\n",
       "      <td>2004-06-23</td>\n",
       "      <td>34.052222</td>\n",
       "      <td>-118.242778</td>\n",
       "    </tr>\n",
       "    <tr>\n",
       "      <th>77415</th>\n",
       "      <td>2001-08-27 05:30:00</td>\n",
       "      <td>circle</td>\n",
       "      <td>10min+</td>\n",
       "      <td>Extremely bright light circle with vapor relea...</td>\n",
       "      <td>2001-10-12</td>\n",
       "      <td>64.837778</td>\n",
       "      <td>-147.716389</td>\n",
       "    </tr>\n",
       "    <tr>\n",
       "      <th>39177</th>\n",
       "      <td>2003-03-08 13:00:00</td>\n",
       "      <td>other</td>\n",
       "      <td>1-10seconds</td>\n",
       "      <td>I was at the st. louis zoo about 50ft away fro...</td>\n",
       "      <td>2003-03-21</td>\n",
       "      <td>38.627222</td>\n",
       "      <td>-90.197778</td>\n",
       "    </tr>\n",
       "  </tbody>\n",
       "</table>\n",
       "</div>"
      ],
      "text/plain": [
       "                Date_time   Shape Duration_minutes  \\\n",
       "34901 1966-03-15 14:00:00  circle           20sec.   \n",
       "1570  2012-10-13 22:00:00  circle        3 minutes   \n",
       "55646 2004-06-19 18:30:00   light       10 minutes   \n",
       "77415 2001-08-27 05:30:00  circle           10min+   \n",
       "39177 2003-03-08 13:00:00   other      1-10seconds   \n",
       "\n",
       "                                             Description Date_posted  \\\n",
       "34901  we were driving down the road i look up to the...  2001-08-20   \n",
       "1570         12 Redish flying objects over Isle of Palms  2012-10-30   \n",
       "55646  Los Angeles my boyfriend and I had stopped at ...  2004-06-23   \n",
       "77415  Extremely bright light circle with vapor relea...  2001-10-12   \n",
       "39177  I was at the st. louis zoo about 50ft away fro...  2003-03-21   \n",
       "\n",
       "             Lat        Long  \n",
       "34901  39.646111  -75.871944  \n",
       "1570   32.786667  -79.795000  \n",
       "55646  34.052222 -118.242778  \n",
       "77415  64.837778 -147.716389  \n",
       "39177  38.627222  -90.197778  "
      ]
     },
     "execution_count": 32,
     "metadata": {},
     "output_type": "execute_result"
    }
   ],
   "source": [
    "ufo_a.sample(5)"
   ]
  },
  {
   "cell_type": "code",
   "execution_count": 33,
   "id": "valued-league",
   "metadata": {},
   "outputs": [
    {
     "data": {
      "text/plain": [
       "Index(['Date_time', 'Shape', 'Duration_minutes', 'Description', 'Date_posted',\n",
       "       'Lat', 'Long'],\n",
       "      dtype='object')"
      ]
     },
     "execution_count": 33,
     "metadata": {},
     "output_type": "execute_result"
    }
   ],
   "source": [
    "ufo_a.columns"
   ]
  },
  {
   "cell_type": "markdown",
   "id": "nutritional-portland",
   "metadata": {},
   "source": [
    "## 1.12 Dropping null rows from Duration Column<a id='1.12_Dropping_null_rows_from_Duration_Column'></a>"
   ]
  },
  {
   "cell_type": "code",
   "execution_count": 34,
   "id": "durable-baghdad",
   "metadata": {},
   "outputs": [],
   "source": [
    "# Dropping null values from Duartion Column\n",
    "ufo_b = ufo_a.dropna(subset = ['Duration_minutes'])"
   ]
  },
  {
   "cell_type": "code",
   "execution_count": 35,
   "id": "blond-junction",
   "metadata": {},
   "outputs": [],
   "source": [
    "ufo_b = ufo_b.reset_index(drop = True)"
   ]
  },
  {
   "cell_type": "code",
   "execution_count": 36,
   "id": "interim-earth",
   "metadata": {},
   "outputs": [
    {
     "name": "stdout",
     "output_type": "stream",
     "text": [
      "<class 'pandas.core.frame.DataFrame'>\n",
      "RangeIndex: 84913 entries, 0 to 84912\n",
      "Data columns (total 7 columns):\n",
      " #   Column            Non-Null Count  Dtype         \n",
      "---  ------            --------------  -----         \n",
      " 0   Date_time         84913 non-null  datetime64[ns]\n",
      " 1   Shape             82815 non-null  object        \n",
      " 2   Duration_minutes  84913 non-null  object        \n",
      " 3   Description       84898 non-null  object        \n",
      " 4   Date_posted       84913 non-null  datetime64[ns]\n",
      " 5   Lat               84913 non-null  float64       \n",
      " 6   Long              84913 non-null  float64       \n",
      "dtypes: datetime64[ns](2), float64(2), object(3)\n",
      "memory usage: 4.5+ MB\n"
     ]
    }
   ],
   "source": [
    "ufo_b.info()"
   ]
  },
  {
   "cell_type": "markdown",
   "id": "amended-elevation",
   "metadata": {},
   "source": [
    "<b> After dropping null from datetime and duration columns we have 84913 rows </b>"
   ]
  },
  {
   "cell_type": "markdown",
   "id": "split-omaha",
   "metadata": {},
   "source": [
    "## 1.13 Getting Country, State, City from Latitude and Longitudes<a id='1.13_Getting_Country_,_State_,_City_from_Latitude_and_Longitudes'></a>"
   ]
  },
  {
   "cell_type": "code",
   "execution_count": 37,
   "id": "explicit-coating",
   "metadata": {},
   "outputs": [],
   "source": [
    "ufo_b['lat_long'] = list(zip(ufo_b.Lat , ufo_b.Long))"
   ]
  },
  {
   "cell_type": "code",
   "execution_count": 38,
   "id": "smoking-antigua",
   "metadata": {},
   "outputs": [
    {
     "data": {
      "text/html": [
       "<div>\n",
       "<style scoped>\n",
       "    .dataframe tbody tr th:only-of-type {\n",
       "        vertical-align: middle;\n",
       "    }\n",
       "\n",
       "    .dataframe tbody tr th {\n",
       "        vertical-align: top;\n",
       "    }\n",
       "\n",
       "    .dataframe thead th {\n",
       "        text-align: right;\n",
       "    }\n",
       "</style>\n",
       "<table border=\"1\" class=\"dataframe\">\n",
       "  <thead>\n",
       "    <tr style=\"text-align: right;\">\n",
       "      <th></th>\n",
       "      <th>Date_time</th>\n",
       "      <th>Shape</th>\n",
       "      <th>Duration_minutes</th>\n",
       "      <th>Description</th>\n",
       "      <th>Date_posted</th>\n",
       "      <th>Lat</th>\n",
       "      <th>Long</th>\n",
       "      <th>lat_long</th>\n",
       "    </tr>\n",
       "  </thead>\n",
       "  <tbody>\n",
       "    <tr>\n",
       "      <th>0</th>\n",
       "      <td>1949-10-10 20:30:00</td>\n",
       "      <td>cylinder</td>\n",
       "      <td>45 minutes</td>\n",
       "      <td>This event took place in early fall around 194...</td>\n",
       "      <td>2004-04-27</td>\n",
       "      <td>29.883056</td>\n",
       "      <td>-97.941111</td>\n",
       "      <td>(29.8830556, -97.9411111)</td>\n",
       "    </tr>\n",
       "    <tr>\n",
       "      <th>1</th>\n",
       "      <td>1949-10-10 21:00:00</td>\n",
       "      <td>light</td>\n",
       "      <td>1-2 hrs</td>\n",
       "      <td>1949 Lackland AFB&amp;#44 TX.  Lights racing acros...</td>\n",
       "      <td>2005-12-16</td>\n",
       "      <td>29.384210</td>\n",
       "      <td>-98.581082</td>\n",
       "      <td>(29.38421, -98.581082)</td>\n",
       "    </tr>\n",
       "    <tr>\n",
       "      <th>2</th>\n",
       "      <td>1955-10-10 17:00:00</td>\n",
       "      <td>circle</td>\n",
       "      <td>20 seconds</td>\n",
       "      <td>Green/Orange circular disc over Chester&amp;#44 En...</td>\n",
       "      <td>2008-01-21</td>\n",
       "      <td>53.200000</td>\n",
       "      <td>-2.916667</td>\n",
       "      <td>(53.2, -2.916667)</td>\n",
       "    </tr>\n",
       "    <tr>\n",
       "      <th>3</th>\n",
       "      <td>1956-10-10 21:00:00</td>\n",
       "      <td>circle</td>\n",
       "      <td>1/2 hour</td>\n",
       "      <td>My older brother and twin sister were leaving ...</td>\n",
       "      <td>2004-01-17</td>\n",
       "      <td>28.978333</td>\n",
       "      <td>-96.645833</td>\n",
       "      <td>(28.9783333, -96.6458333)</td>\n",
       "    </tr>\n",
       "    <tr>\n",
       "      <th>4</th>\n",
       "      <td>1960-10-10 20:00:00</td>\n",
       "      <td>light</td>\n",
       "      <td>15 minutes</td>\n",
       "      <td>AS a Marine 1st Lt. flying an FJ4B fighter/att...</td>\n",
       "      <td>2004-01-22</td>\n",
       "      <td>21.418056</td>\n",
       "      <td>-157.803611</td>\n",
       "      <td>(21.4180556, -157.8036111)</td>\n",
       "    </tr>\n",
       "  </tbody>\n",
       "</table>\n",
       "</div>"
      ],
      "text/plain": [
       "            Date_time     Shape Duration_minutes  \\\n",
       "0 1949-10-10 20:30:00  cylinder       45 minutes   \n",
       "1 1949-10-10 21:00:00     light          1-2 hrs   \n",
       "2 1955-10-10 17:00:00    circle       20 seconds   \n",
       "3 1956-10-10 21:00:00    circle         1/2 hour   \n",
       "4 1960-10-10 20:00:00     light       15 minutes   \n",
       "\n",
       "                                         Description Date_posted        Lat  \\\n",
       "0  This event took place in early fall around 194...  2004-04-27  29.883056   \n",
       "1  1949 Lackland AFB&#44 TX.  Lights racing acros...  2005-12-16  29.384210   \n",
       "2  Green/Orange circular disc over Chester&#44 En...  2008-01-21  53.200000   \n",
       "3  My older brother and twin sister were leaving ...  2004-01-17  28.978333   \n",
       "4  AS a Marine 1st Lt. flying an FJ4B fighter/att...  2004-01-22  21.418056   \n",
       "\n",
       "         Long                    lat_long  \n",
       "0  -97.941111   (29.8830556, -97.9411111)  \n",
       "1  -98.581082      (29.38421, -98.581082)  \n",
       "2   -2.916667           (53.2, -2.916667)  \n",
       "3  -96.645833   (28.9783333, -96.6458333)  \n",
       "4 -157.803611  (21.4180556, -157.8036111)  "
      ]
     },
     "execution_count": 38,
     "metadata": {},
     "output_type": "execute_result"
    }
   ],
   "source": [
    "ufo_b.head()"
   ]
  },
  {
   "cell_type": "markdown",
   "id": "collective-bulletin",
   "metadata": {},
   "source": [
    "<b> Using reverse geocoder (rg) package </b> "
   ]
  },
  {
   "cell_type": "code",
   "execution_count": 39,
   "id": "bored-illustration",
   "metadata": {},
   "outputs": [
    {
     "name": "stdout",
     "output_type": "stream",
     "text": [
      "Loading formatted geocoded file...\n"
     ]
    }
   ],
   "source": [
    "location = rg.search(list(ufo_b['lat_long']))"
   ]
  },
  {
   "cell_type": "code",
   "execution_count": 40,
   "id": "vocational-keeping",
   "metadata": {},
   "outputs": [],
   "source": [
    "ufo_b['Country'] = [p[\"cc\"] for p in location]"
   ]
  },
  {
   "cell_type": "code",
   "execution_count": 41,
   "id": "decimal-peninsula",
   "metadata": {},
   "outputs": [],
   "source": [
    "ufo_b['State'] = [p[\"admin1\"] for p in location]"
   ]
  },
  {
   "cell_type": "code",
   "execution_count": 42,
   "id": "minus-brunei",
   "metadata": {},
   "outputs": [],
   "source": [
    "ufo_b['City'] = [p[\"name\"] for p in location]"
   ]
  },
  {
   "cell_type": "code",
   "execution_count": 43,
   "id": "reserved-october",
   "metadata": {},
   "outputs": [],
   "source": [
    "ufo_b = ufo_b.drop(['Lat','Long'], axis = 1)"
   ]
  },
  {
   "cell_type": "code",
   "execution_count": 44,
   "id": "illegal-freight",
   "metadata": {},
   "outputs": [
    {
     "data": {
      "text/html": [
       "<div>\n",
       "<style scoped>\n",
       "    .dataframe tbody tr th:only-of-type {\n",
       "        vertical-align: middle;\n",
       "    }\n",
       "\n",
       "    .dataframe tbody tr th {\n",
       "        vertical-align: top;\n",
       "    }\n",
       "\n",
       "    .dataframe thead th {\n",
       "        text-align: right;\n",
       "    }\n",
       "</style>\n",
       "<table border=\"1\" class=\"dataframe\">\n",
       "  <thead>\n",
       "    <tr style=\"text-align: right;\">\n",
       "      <th></th>\n",
       "      <th>Date_time</th>\n",
       "      <th>Shape</th>\n",
       "      <th>Duration_minutes</th>\n",
       "      <th>Description</th>\n",
       "      <th>Date_posted</th>\n",
       "      <th>lat_long</th>\n",
       "      <th>Country</th>\n",
       "      <th>State</th>\n",
       "      <th>City</th>\n",
       "    </tr>\n",
       "  </thead>\n",
       "  <tbody>\n",
       "    <tr>\n",
       "      <th>15257</th>\n",
       "      <td>2004-11-04 15:45:00</td>\n",
       "      <td>other</td>\n",
       "      <td>10 minutes</td>\n",
       "      <td>I was feeding the cow&amp;#39s when suddenly  4 uf...</td>\n",
       "      <td>2005-02-22</td>\n",
       "      <td>(-34.603723, -58.381593)</td>\n",
       "      <td>AR</td>\n",
       "      <td>Buenos Aires F.D.</td>\n",
       "      <td>Buenos Aires</td>\n",
       "    </tr>\n",
       "    <tr>\n",
       "      <th>49784</th>\n",
       "      <td>1967-06-01 22:00:00</td>\n",
       "      <td>disk</td>\n",
       "      <td>3or4 minutes</td>\n",
       "      <td>1967 object seen in gerry&amp;#44 new york made no...</td>\n",
       "      <td>2004-04-27</td>\n",
       "      <td>(42.1933333, -79.2488889)</td>\n",
       "      <td>US</td>\n",
       "      <td>New York</td>\n",
       "      <td>Falconer</td>\n",
       "    </tr>\n",
       "    <tr>\n",
       "      <th>70758</th>\n",
       "      <td>1967-08-16 16:30:00</td>\n",
       "      <td>changing</td>\n",
       "      <td>5-10 minutes</td>\n",
       "      <td>Dark &amp;quot;disc&amp;quot; over Newton Creek in Cam...</td>\n",
       "      <td>2005-12-16</td>\n",
       "      <td>(39.9258333, -75.12)</td>\n",
       "      <td>US</td>\n",
       "      <td>New Jersey</td>\n",
       "      <td>Camden</td>\n",
       "    </tr>\n",
       "    <tr>\n",
       "      <th>31022</th>\n",
       "      <td>2000-02-04 21:30:00</td>\n",
       "      <td>circle</td>\n",
       "      <td>3 min.</td>\n",
       "      <td>Yellow-orange objects moving NNW and N &amp;#39til...</td>\n",
       "      <td>2000-02-16</td>\n",
       "      <td>(34.61, -112.315)</td>\n",
       "      <td>US</td>\n",
       "      <td>Arizona</td>\n",
       "      <td>Prescott Valley</td>\n",
       "    </tr>\n",
       "    <tr>\n",
       "      <th>62131</th>\n",
       "      <td>2009-07-21 23:00:00</td>\n",
       "      <td>light</td>\n",
       "      <td>30 seconds</td>\n",
       "      <td>Mysterious Bright Light moving very fast acros...</td>\n",
       "      <td>2009-08-05</td>\n",
       "      <td>(39.5297222, -119.8127778)</td>\n",
       "      <td>US</td>\n",
       "      <td>Nevada</td>\n",
       "      <td>Reno</td>\n",
       "    </tr>\n",
       "    <tr>\n",
       "      <th>21188</th>\n",
       "      <td>2002-12-23 03:30:00</td>\n",
       "      <td>teardrop</td>\n",
       "      <td>five minutes</td>\n",
       "      <td>teardrop/pear&amp;#44 black/blue&amp;#44 wings(?)&amp;#44 ...</td>\n",
       "      <td>2003-03-21</td>\n",
       "      <td>(38.8402778, -77.4291667)</td>\n",
       "      <td>US</td>\n",
       "      <td>Virginia</td>\n",
       "      <td>Centreville</td>\n",
       "    </tr>\n",
       "    <tr>\n",
       "      <th>30266</th>\n",
       "      <td>2005-02-25 22:00:00</td>\n",
       "      <td>circle</td>\n",
       "      <td>15 min.</td>\n",
       "      <td>The cirular craft went straight up and disappe...</td>\n",
       "      <td>2005-04-16</td>\n",
       "      <td>(39.6411111, -85.1411111)</td>\n",
       "      <td>US</td>\n",
       "      <td>Indiana</td>\n",
       "      <td>Connersville</td>\n",
       "    </tr>\n",
       "    <tr>\n",
       "      <th>15135</th>\n",
       "      <td>2013-11-03 20:10:00</td>\n",
       "      <td>chevron</td>\n",
       "      <td>7 seconds</td>\n",
       "      <td>Glowing gold specks in an arch shape moving qu...</td>\n",
       "      <td>2013-11-11</td>\n",
       "      <td>(39.6133333, -105.0161111)</td>\n",
       "      <td>US</td>\n",
       "      <td>Colorado</td>\n",
       "      <td>Littleton</td>\n",
       "    </tr>\n",
       "    <tr>\n",
       "      <th>67818</th>\n",
       "      <td>1958-08-10 21:30:00</td>\n",
       "      <td>light</td>\n",
       "      <td>20 minutes</td>\n",
       "      <td>At dusk&amp;#44 a light appeared out of the  SE sk...</td>\n",
       "      <td>2012-11-19</td>\n",
       "      <td>(47.6105556, -122.1994444)</td>\n",
       "      <td>US</td>\n",
       "      <td>Washington</td>\n",
       "      <td>Bellevue</td>\n",
       "    </tr>\n",
       "    <tr>\n",
       "      <th>55490</th>\n",
       "      <td>2012-06-28 21:04:00</td>\n",
       "      <td>fireball</td>\n",
       "      <td>10 seconds</td>\n",
       "      <td>Orange ball of fire seen by family in car</td>\n",
       "      <td>2012-07-04</td>\n",
       "      <td>(40.26, -74.2741667)</td>\n",
       "      <td>US</td>\n",
       "      <td>New Jersey</td>\n",
       "      <td>Freehold</td>\n",
       "    </tr>\n",
       "  </tbody>\n",
       "</table>\n",
       "</div>"
      ],
      "text/plain": [
       "                Date_time     Shape Duration_minutes  \\\n",
       "15257 2004-11-04 15:45:00     other       10 minutes   \n",
       "49784 1967-06-01 22:00:00      disk     3or4 minutes   \n",
       "70758 1967-08-16 16:30:00  changing     5-10 minutes   \n",
       "31022 2000-02-04 21:30:00    circle           3 min.   \n",
       "62131 2009-07-21 23:00:00     light       30 seconds   \n",
       "21188 2002-12-23 03:30:00  teardrop     five minutes   \n",
       "30266 2005-02-25 22:00:00    circle          15 min.   \n",
       "15135 2013-11-03 20:10:00   chevron        7 seconds   \n",
       "67818 1958-08-10 21:30:00     light       20 minutes   \n",
       "55490 2012-06-28 21:04:00  fireball       10 seconds   \n",
       "\n",
       "                                             Description Date_posted  \\\n",
       "15257  I was feeding the cow&#39s when suddenly  4 uf...  2005-02-22   \n",
       "49784  1967 object seen in gerry&#44 new york made no...  2004-04-27   \n",
       "70758  Dark &quot;disc&quot; over Newton Creek in Cam...  2005-12-16   \n",
       "31022  Yellow-orange objects moving NNW and N &#39til...  2000-02-16   \n",
       "62131  Mysterious Bright Light moving very fast acros...  2009-08-05   \n",
       "21188  teardrop/pear&#44 black/blue&#44 wings(?)&#44 ...  2003-03-21   \n",
       "30266  The cirular craft went straight up and disappe...  2005-04-16   \n",
       "15135  Glowing gold specks in an arch shape moving qu...  2013-11-11   \n",
       "67818  At dusk&#44 a light appeared out of the  SE sk...  2012-11-19   \n",
       "55490          Orange ball of fire seen by family in car  2012-07-04   \n",
       "\n",
       "                         lat_long Country              State             City  \n",
       "15257    (-34.603723, -58.381593)      AR  Buenos Aires F.D.     Buenos Aires  \n",
       "49784   (42.1933333, -79.2488889)      US           New York         Falconer  \n",
       "70758        (39.9258333, -75.12)      US         New Jersey           Camden  \n",
       "31022           (34.61, -112.315)      US            Arizona  Prescott Valley  \n",
       "62131  (39.5297222, -119.8127778)      US             Nevada             Reno  \n",
       "21188   (38.8402778, -77.4291667)      US           Virginia      Centreville  \n",
       "30266   (39.6411111, -85.1411111)      US            Indiana     Connersville  \n",
       "15135  (39.6133333, -105.0161111)      US           Colorado        Littleton  \n",
       "67818  (47.6105556, -122.1994444)      US         Washington         Bellevue  \n",
       "55490        (40.26, -74.2741667)      US         New Jersey         Freehold  "
      ]
     },
     "execution_count": 44,
     "metadata": {},
     "output_type": "execute_result"
    }
   ],
   "source": [
    "ufo_b.sample(10)"
   ]
  },
  {
   "cell_type": "code",
   "execution_count": 45,
   "id": "happy-telescope",
   "metadata": {},
   "outputs": [
    {
     "name": "stdout",
     "output_type": "stream",
     "text": [
      "<class 'pandas.core.frame.DataFrame'>\n",
      "RangeIndex: 84913 entries, 0 to 84912\n",
      "Data columns (total 9 columns):\n",
      " #   Column            Non-Null Count  Dtype         \n",
      "---  ------            --------------  -----         \n",
      " 0   Date_time         84913 non-null  datetime64[ns]\n",
      " 1   Shape             82815 non-null  object        \n",
      " 2   Duration_minutes  84913 non-null  object        \n",
      " 3   Description       84898 non-null  object        \n",
      " 4   Date_posted       84913 non-null  datetime64[ns]\n",
      " 5   lat_long          84913 non-null  object        \n",
      " 6   Country           84913 non-null  object        \n",
      " 7   State             84913 non-null  object        \n",
      " 8   City              84913 non-null  object        \n",
      "dtypes: datetime64[ns](2), object(7)\n",
      "memory usage: 5.8+ MB\n"
     ]
    }
   ],
   "source": [
    "ufo_b.info()"
   ]
  },
  {
   "cell_type": "markdown",
   "id": "vertical-logan",
   "metadata": {},
   "source": [
    "## 1.14 Cleaning Duration column to convert all entries to Minutes<a id='1.14_Cleaning_Duration_column_to_convert_all_entries_to_Minutes'></a>"
   ]
  },
  {
   "cell_type": "markdown",
   "id": "loose-transition",
   "metadata": {},
   "source": [
    "### 1.14.1 Function using regex package to get duration<a id='1.14.1_Function_using_regex_package_to_get_duration'></a>"
   ]
  },
  {
   "cell_type": "code",
   "execution_count": 46,
   "id": "registered-nevada",
   "metadata": {},
   "outputs": [],
   "source": [
    "# Using regex package as re, trying to look for some patterns and converting it all into minutes\n",
    "# First Function is to check for type digit followed by unit: (/d+) (/w+) \n",
    "\n",
    "#--------------------------------------------------------------------\n",
    "\n",
    "### 1. Check for certain string and replace it my numerical unit, such as few by 3.5, several by 7.5, couple by 2, 1/2 by 0.5\n",
    "### 2. Look for pattern as digit.digit or digit\n",
    "###3. look for units in terms of seconds, minutes, hours\n",
    "\n",
    "#------------------------------------------------------------------------\n",
    "# Func takes string as the input and returns string after multiplying accordingly to the unit\n",
    "\n",
    "#--------------------------------------------------------------------\n",
    "\n",
    "def duration_clean(string):\n",
    "    string = string.replace(\"few\", \"3.5\").replace(\"1/2\",\"0.5\").replace(\"several\",\"7.5\").replace(\"couple\",\"2\").replace(\"?\",\"\").replace(\"one\",\"1\").replace(\"two\",\"2\").replace(\"five\",\"5\").replace(\"ten\",\"10\").replace(\"three\",\"3\").replace('a',\"1\")\n",
    "    #aplhanumeric = [\"(\\d+)(\\+w)\"]\n",
    "    numeric = [\"(\\d+\\.\\d+)\",\"(\\d+)\"]\n",
    "    unit = [\"se[cs]\", \"secon[ds]\",\"mi[ns]\", \"mi[mn]ut[es]\",\"h[rs]\", \"hou[rs]\"]\n",
    "    unitConversion = {'s':1/60, 'm':1, 'h':60, '6':60}\n",
    "    try:\n",
    "        m_1 = re.search(re.compile(\"|\".join(str(x) for x in numeric)), string).group(0)\n",
    "        m_2 = re.search(re.compile(\"|\".join(str(x) for x in unit)), string.lower()).group(0)[0]\n",
    "        string = float(m_1)*unitConversion[m_2]\n",
    "    except:\n",
    "        s = np.nan\n",
    "    return string"
   ]
  },
  {
   "cell_type": "markdown",
   "id": "brazilian-allowance",
   "metadata": {},
   "source": [
    "### 1.14.2 Applying function to duration column<a id='1.14.2_Applying_function_to_duration_column'></a>"
   ]
  },
  {
   "cell_type": "code",
   "execution_count": 47,
   "id": "first-probe",
   "metadata": {},
   "outputs": [],
   "source": [
    "ufo_b['Duration_minutes'] = ufo_b['Duration_minutes'].apply(duration_clean)"
   ]
  },
  {
   "cell_type": "code",
   "execution_count": 49,
   "id": "purple-oxygen",
   "metadata": {},
   "outputs": [
    {
     "data": {
      "text/html": [
       "<div>\n",
       "<style scoped>\n",
       "    .dataframe tbody tr th:only-of-type {\n",
       "        vertical-align: middle;\n",
       "    }\n",
       "\n",
       "    .dataframe tbody tr th {\n",
       "        vertical-align: top;\n",
       "    }\n",
       "\n",
       "    .dataframe thead th {\n",
       "        text-align: right;\n",
       "    }\n",
       "</style>\n",
       "<table border=\"1\" class=\"dataframe\">\n",
       "  <thead>\n",
       "    <tr style=\"text-align: right;\">\n",
       "      <th></th>\n",
       "      <th>Date_time</th>\n",
       "      <th>Shape</th>\n",
       "      <th>Duration_minutes</th>\n",
       "      <th>Description</th>\n",
       "      <th>Date_posted</th>\n",
       "      <th>lat_long</th>\n",
       "      <th>Country</th>\n",
       "      <th>State</th>\n",
       "      <th>City</th>\n",
       "    </tr>\n",
       "  </thead>\n",
       "  <tbody>\n",
       "    <tr>\n",
       "      <th>33001</th>\n",
       "      <td>2004-03-13 20:00:00</td>\n",
       "      <td>light</td>\n",
       "      <td>23:00</td>\n",
       "      <td>Light hovered over several towns &amp;#44 it didn&amp;...</td>\n",
       "      <td>2004-03-17</td>\n",
       "      <td>(41.7383333, -95.7025)</td>\n",
       "      <td>US</td>\n",
       "      <td>Iowa</td>\n",
       "      <td>Woodbine</td>\n",
       "    </tr>\n",
       "    <tr>\n",
       "      <th>29748</th>\n",
       "      <td>2005-02-22 18:00:00</td>\n",
       "      <td>light</td>\n",
       "      <td>0.166667</td>\n",
       "      <td>Bright orange light low in night sky</td>\n",
       "      <td>2005-02-24</td>\n",
       "      <td>(33.145405, -96.839054)</td>\n",
       "      <td>US</td>\n",
       "      <td>Texas</td>\n",
       "      <td>Frisco</td>\n",
       "    </tr>\n",
       "    <tr>\n",
       "      <th>10989</th>\n",
       "      <td>2001-11-18 02:22:00</td>\n",
       "      <td>other</td>\n",
       "      <td>0.333333</td>\n",
       "      <td>Slow-flying crescent made up of lots of little...</td>\n",
       "      <td>2001-11-20</td>\n",
       "      <td>(47.6063889, -122.3308333)</td>\n",
       "      <td>US</td>\n",
       "      <td>Washington</td>\n",
       "      <td>Seattle</td>\n",
       "    </tr>\n",
       "    <tr>\n",
       "      <th>16213</th>\n",
       "      <td>2005-01-16 04:00:00</td>\n",
       "      <td>cylinder</td>\n",
       "      <td>current</td>\n",
       "      <td>Rainbow light in sky above Phoenix</td>\n",
       "      <td>2005-01-19</td>\n",
       "      <td>(33.4483333, -112.0733333)</td>\n",
       "      <td>US</td>\n",
       "      <td>Arizona</td>\n",
       "      <td>Phoenix</td>\n",
       "    </tr>\n",
       "    <tr>\n",
       "      <th>60318</th>\n",
       "      <td>2001-07-15 00:29:00</td>\n",
       "      <td>circle</td>\n",
       "      <td>2.0</td>\n",
       "      <td>25 lights&amp;#44 75 witnesses over cataret Nj on ...</td>\n",
       "      <td>2001-08-05</td>\n",
       "      <td>(40.5772222, -74.2286111)</td>\n",
       "      <td>US</td>\n",
       "      <td>New Jersey</td>\n",
       "      <td>Carteret</td>\n",
       "    </tr>\n",
       "    <tr>\n",
       "      <th>27837</th>\n",
       "      <td>2003-02-13 14:00:00</td>\n",
       "      <td>other</td>\n",
       "      <td>10.0</td>\n",
       "      <td>Floating bell shaped object with pure white li...</td>\n",
       "      <td>2003-03-21</td>\n",
       "      <td>(34.6391667, -87.1916667)</td>\n",
       "      <td>US</td>\n",
       "      <td>Alabama</td>\n",
       "      <td>Trinity</td>\n",
       "    </tr>\n",
       "    <tr>\n",
       "      <th>80082</th>\n",
       "      <td>2003-09-19 14:30:00</td>\n",
       "      <td>teardrop</td>\n",
       "      <td>240.0</td>\n",
       "      <td>Glowing tear drop-shape in the South West</td>\n",
       "      <td>2004-01-17</td>\n",
       "      <td>(35.61251, -106.350511)</td>\n",
       "      <td>US</td>\n",
       "      <td>New Mexico</td>\n",
       "      <td>Santo Domingo Pueblo</td>\n",
       "    </tr>\n",
       "  </tbody>\n",
       "</table>\n",
       "</div>"
      ],
      "text/plain": [
       "                Date_time     Shape Duration_minutes  \\\n",
       "33001 2004-03-13 20:00:00     light            23:00   \n",
       "29748 2005-02-22 18:00:00     light         0.166667   \n",
       "10989 2001-11-18 02:22:00     other         0.333333   \n",
       "16213 2005-01-16 04:00:00  cylinder          current   \n",
       "60318 2001-07-15 00:29:00    circle              2.0   \n",
       "27837 2003-02-13 14:00:00     other             10.0   \n",
       "80082 2003-09-19 14:30:00  teardrop            240.0   \n",
       "\n",
       "                                             Description Date_posted  \\\n",
       "33001  Light hovered over several towns &#44 it didn&...  2004-03-17   \n",
       "29748               Bright orange light low in night sky  2005-02-24   \n",
       "10989  Slow-flying crescent made up of lots of little...  2001-11-20   \n",
       "16213                 Rainbow light in sky above Phoenix  2005-01-19   \n",
       "60318  25 lights&#44 75 witnesses over cataret Nj on ...  2001-08-05   \n",
       "27837  Floating bell shaped object with pure white li...  2003-03-21   \n",
       "80082          Glowing tear drop-shape in the South West  2004-01-17   \n",
       "\n",
       "                         lat_long Country       State                  City  \n",
       "33001      (41.7383333, -95.7025)      US        Iowa              Woodbine  \n",
       "29748     (33.145405, -96.839054)      US       Texas                Frisco  \n",
       "10989  (47.6063889, -122.3308333)      US  Washington               Seattle  \n",
       "16213  (33.4483333, -112.0733333)      US     Arizona               Phoenix  \n",
       "60318   (40.5772222, -74.2286111)      US  New Jersey              Carteret  \n",
       "27837   (34.6391667, -87.1916667)      US     Alabama               Trinity  \n",
       "80082     (35.61251, -106.350511)      US  New Mexico  Santo Domingo Pueblo  "
      ]
     },
     "execution_count": 49,
     "metadata": {},
     "output_type": "execute_result"
    }
   ],
   "source": [
    "ufo_b.sample(7)"
   ]
  },
  {
   "cell_type": "code",
   "execution_count": 50,
   "id": "recognized-brake",
   "metadata": {},
   "outputs": [
    {
     "name": "stdout",
     "output_type": "stream",
     "text": [
      "<class 'pandas.core.frame.DataFrame'>\n",
      "Int64Index: 6729 entries, 93 to 84912\n",
      "Data columns (total 9 columns):\n",
      " #   Column            Non-Null Count  Dtype         \n",
      "---  ------            --------------  -----         \n",
      " 0   Date_time         6729 non-null   datetime64[ns]\n",
      " 1   Shape             6518 non-null   object        \n",
      " 2   Duration_minutes  6729 non-null   object        \n",
      " 3   Description       6727 non-null   object        \n",
      " 4   Date_posted       6729 non-null   datetime64[ns]\n",
      " 5   lat_long          6729 non-null   object        \n",
      " 6   Country           6729 non-null   object        \n",
      " 7   State             6729 non-null   object        \n",
      " 8   City              6729 non-null   object        \n",
      "dtypes: datetime64[ns](2), object(7)\n",
      "memory usage: 525.7+ KB\n"
     ]
    }
   ],
   "source": [
    "ufo_b[ufo_b['Duration_minutes'].apply(lambda x: isinstance(x, str))].info()"
   ]
  },
  {
   "cell_type": "markdown",
   "id": "attended-blood",
   "metadata": {},
   "source": [
    "<b> Out of 84913 rows, In duration column, 6729 rows are of string type where no numerical value is present \n",
    "so its hard to detect duration in these rows whereas rest are float type as reuired for out clean dataset. \n",
    "I have kept these rows for now. Ee will deal with them in our next step i.e EDA </b>"
   ]
  },
  {
   "cell_type": "code",
   "execution_count": 51,
   "id": "alive-response",
   "metadata": {},
   "outputs": [
    {
     "data": {
      "text/plain": [
       "Date_time              0\n",
       "Shape               2098\n",
       "Duration_minutes       0\n",
       "Description           15\n",
       "Date_posted            0\n",
       "lat_long               0\n",
       "Country                0\n",
       "State                  0\n",
       "City                   0\n",
       "dtype: int64"
      ]
     },
     "execution_count": 51,
     "metadata": {},
     "output_type": "execute_result"
    }
   ],
   "source": [
    "ufo_b.isnull().sum()"
   ]
  },
  {
   "cell_type": "code",
   "execution_count": 52,
   "id": "significant-sentence",
   "metadata": {},
   "outputs": [],
   "source": [
    "ufo_c = ufo_b.dropna(subset = ['Description'])"
   ]
  },
  {
   "cell_type": "markdown",
   "id": "developed-price",
   "metadata": {},
   "source": [
    "## 1.15 Checking and cleaning Shape Column<a id='1.15_Checking_and_cleaning_Shape_Column'></a>"
   ]
  },
  {
   "cell_type": "code",
   "execution_count": 53,
   "id": "second-field",
   "metadata": {},
   "outputs": [
    {
     "data": {
      "text/plain": [
       "Date_time              0\n",
       "Shape               2091\n",
       "Duration_minutes       0\n",
       "Description            0\n",
       "Date_posted            0\n",
       "lat_long               0\n",
       "Country                0\n",
       "State                  0\n",
       "City                   0\n",
       "dtype: int64"
      ]
     },
     "execution_count": 53,
     "metadata": {},
     "output_type": "execute_result"
    }
   ],
   "source": [
    "ufo_c.isnull().sum()"
   ]
  },
  {
   "cell_type": "markdown",
   "id": "oriental-cemetery",
   "metadata": {},
   "source": [
    "<b> There are 2091 null values in shape column but some shapes are also mentioned in Description column so, below mentioned steps are to check if for any null value in shape column, can we get shape from the description for that record. I have writtena function to check for the shape keywords in description column and the match them with shape column to get the new shape column </b>"
   ]
  },
  {
   "cell_type": "code",
   "execution_count": 54,
   "id": "moral-rendering",
   "metadata": {},
   "outputs": [
    {
     "data": {
      "text/plain": [
       "array(['cylinder', 'light', 'circle', 'sphere', 'disk', 'fireball',\n",
       "       'unknown', 'oval', 'other', 'cigar', 'rectangle', 'chevron',\n",
       "       'triangle', 'formation', nan, 'delta', 'changing', 'egg', 'flash',\n",
       "       'diamond', 'cross', 'teardrop', 'cone', 'pyramid', 'round',\n",
       "       'crescent', 'flare', 'hexagon', 'changed'], dtype=object)"
      ]
     },
     "execution_count": 54,
     "metadata": {},
     "output_type": "execute_result"
    }
   ],
   "source": [
    "ufo_c['Shape'].unique()"
   ]
  },
  {
   "cell_type": "code",
   "execution_count": 55,
   "id": "freelance-hungary",
   "metadata": {},
   "outputs": [
    {
     "data": {
      "text/plain": [
       "light        17420\n",
       "triangle      8227\n",
       "circle        8073\n",
       "fireball      6395\n",
       "unknown       6040\n",
       "other         6005\n",
       "disk          5647\n",
       "sphere        5621\n",
       "oval          3959\n",
       "formation     2604\n",
       "cigar         2158\n",
       "changing      2071\n",
       "flash         1425\n",
       "rectangle     1368\n",
       "cylinder      1333\n",
       "diamond       1252\n",
       "chevron        990\n",
       "egg            818\n",
       "teardrop       787\n",
       "cone           348\n",
       "cross          251\n",
       "delta            7\n",
       "round            2\n",
       "crescent         2\n",
       "hexagon          1\n",
       "changed          1\n",
       "pyramid          1\n",
       "flare            1\n",
       "Name: Shape, dtype: int64"
      ]
     },
     "execution_count": 55,
     "metadata": {},
     "output_type": "execute_result"
    }
   ],
   "source": [
    "ufo_c['Shape'].value_counts()"
   ]
  },
  {
   "cell_type": "markdown",
   "id": "overhead-hydrogen",
   "metadata": {},
   "source": [
    "### 1.15.1 Checking unique shapes & function to match these in description column<a id='1.15.1_Checking_unique_shapes_&_function_to_match_these_in_description_column'></a>"
   ]
  },
  {
   "cell_type": "code",
   "execution_count": 56,
   "id": "multiple-bangladesh",
   "metadata": {},
   "outputs": [],
   "source": [
    "# Creating a list of all uniques shapes mentioned\n",
    "\n",
    "shapes = [i.lower() for i in ufo_c['Shape'].value_counts().index if i not in ['unknown','other']]"
   ]
  },
  {
   "cell_type": "code",
   "execution_count": 57,
   "id": "accompanied-words",
   "metadata": {},
   "outputs": [
    {
     "name": "stdout",
     "output_type": "stream",
     "text": [
      "['light', 'triangle', 'circle', 'fireball', 'disk', 'sphere', 'oval', 'formation', 'cigar', 'changing', 'flash', 'rectangle', 'cylinder', 'diamond', 'chevron', 'egg', 'teardrop', 'cone', 'cross', 'delta', 'round', 'crescent', 'hexagon', 'changed', 'pyramid', 'flare']\n"
     ]
    }
   ],
   "source": [
    "print(shapes)"
   ]
  },
  {
   "cell_type": "code",
   "execution_count": 58,
   "id": "invalid-butter",
   "metadata": {},
   "outputs": [],
   "source": [
    "## Function to chech if shape column words exist in description column\n",
    "\n",
    "#-----------------------------------------------------------------------\n",
    "\n",
    "# Takes in the column and shape list and returns a list of shapes\n",
    "\n",
    "def shape(r, shape_list):\n",
    "    Desc = r.lower().split()\n",
    "    shape_count = dict(zip(list(shape_list), [0] * len(shape_list)))\n",
    "    for word in Desc:\n",
    "        if word in shape_list:\n",
    "            shape_count[word] += 1\n",
    "    shape_count = {k[0].upper()+k[1:]:v for k, v in shape_count.items() if v}\n",
    "    return list(shape_count.keys())\n"
   ]
  },
  {
   "cell_type": "markdown",
   "id": "fundamental-reliance",
   "metadata": {},
   "source": [
    "### 1.15.2 Applying function to create shape categories column<a id='1.15.2_Applying_function_to_create_shape_categories_column'></a>"
   ]
  },
  {
   "cell_type": "code",
   "execution_count": 59,
   "id": "lucky-artwork",
   "metadata": {},
   "outputs": [
    {
     "name": "stderr",
     "output_type": "stream",
     "text": [
      "D:\\Anacon\\lib\\site-packages\\ipykernel_launcher.py:1: SettingWithCopyWarning: \n",
      "A value is trying to be set on a copy of a slice from a DataFrame.\n",
      "Try using .loc[row_indexer,col_indexer] = value instead\n",
      "\n",
      "See the caveats in the documentation: https://pandas.pydata.org/pandas-docs/stable/user_guide/indexing.html#returning-a-view-versus-a-copy\n",
      "  \"\"\"Entry point for launching an IPython kernel.\n"
     ]
    }
   ],
   "source": [
    "ufo_c['Shape Categories'] = ufo_c['Description'].apply(lambda x: shape(x, shapes))"
   ]
  },
  {
   "cell_type": "code",
   "execution_count": 60,
   "id": "forbidden-uncle",
   "metadata": {},
   "outputs": [
    {
     "data": {
      "text/html": [
       "<div>\n",
       "<style scoped>\n",
       "    .dataframe tbody tr th:only-of-type {\n",
       "        vertical-align: middle;\n",
       "    }\n",
       "\n",
       "    .dataframe tbody tr th {\n",
       "        vertical-align: top;\n",
       "    }\n",
       "\n",
       "    .dataframe thead th {\n",
       "        text-align: right;\n",
       "    }\n",
       "</style>\n",
       "<table border=\"1\" class=\"dataframe\">\n",
       "  <thead>\n",
       "    <tr style=\"text-align: right;\">\n",
       "      <th></th>\n",
       "      <th>Date_time</th>\n",
       "      <th>Shape</th>\n",
       "      <th>Duration_minutes</th>\n",
       "      <th>Description</th>\n",
       "      <th>Date_posted</th>\n",
       "      <th>lat_long</th>\n",
       "      <th>Country</th>\n",
       "      <th>State</th>\n",
       "      <th>City</th>\n",
       "      <th>Shape Categories</th>\n",
       "    </tr>\n",
       "  </thead>\n",
       "  <tbody>\n",
       "    <tr>\n",
       "      <th>0</th>\n",
       "      <td>1949-10-10 20:30:00</td>\n",
       "      <td>cylinder</td>\n",
       "      <td>45.0</td>\n",
       "      <td>This event took place in early fall around 194...</td>\n",
       "      <td>2004-04-27</td>\n",
       "      <td>(29.8830556, -97.9411111)</td>\n",
       "      <td>US</td>\n",
       "      <td>Texas</td>\n",
       "      <td>San Marcos</td>\n",
       "      <td>[]</td>\n",
       "    </tr>\n",
       "    <tr>\n",
       "      <th>1</th>\n",
       "      <td>1949-10-10 21:00:00</td>\n",
       "      <td>light</td>\n",
       "      <td>60.0</td>\n",
       "      <td>1949 Lackland AFB&amp;#44 TX.  Lights racing acros...</td>\n",
       "      <td>2005-12-16</td>\n",
       "      <td>(29.38421, -98.581082)</td>\n",
       "      <td>US</td>\n",
       "      <td>Texas</td>\n",
       "      <td>Lackland Air Force Base</td>\n",
       "      <td>[]</td>\n",
       "    </tr>\n",
       "    <tr>\n",
       "      <th>2</th>\n",
       "      <td>1955-10-10 17:00:00</td>\n",
       "      <td>circle</td>\n",
       "      <td>0.333333</td>\n",
       "      <td>Green/Orange circular disc over Chester&amp;#44 En...</td>\n",
       "      <td>2008-01-21</td>\n",
       "      <td>(53.2, -2.916667)</td>\n",
       "      <td>GB</td>\n",
       "      <td>England</td>\n",
       "      <td>Blacon</td>\n",
       "      <td>[]</td>\n",
       "    </tr>\n",
       "    <tr>\n",
       "      <th>3</th>\n",
       "      <td>1956-10-10 21:00:00</td>\n",
       "      <td>circle</td>\n",
       "      <td>30.0</td>\n",
       "      <td>My older brother and twin sister were leaving ...</td>\n",
       "      <td>2004-01-17</td>\n",
       "      <td>(28.9783333, -96.6458333)</td>\n",
       "      <td>US</td>\n",
       "      <td>Texas</td>\n",
       "      <td>Edna</td>\n",
       "      <td>[]</td>\n",
       "    </tr>\n",
       "    <tr>\n",
       "      <th>4</th>\n",
       "      <td>1960-10-10 20:00:00</td>\n",
       "      <td>light</td>\n",
       "      <td>15.0</td>\n",
       "      <td>AS a Marine 1st Lt. flying an FJ4B fighter/att...</td>\n",
       "      <td>2004-01-22</td>\n",
       "      <td>(21.4180556, -157.8036111)</td>\n",
       "      <td>US</td>\n",
       "      <td>Hawaii</td>\n",
       "      <td>Kane'ohe</td>\n",
       "      <td>[]</td>\n",
       "    </tr>\n",
       "  </tbody>\n",
       "</table>\n",
       "</div>"
      ],
      "text/plain": [
       "            Date_time     Shape Duration_minutes  \\\n",
       "0 1949-10-10 20:30:00  cylinder             45.0   \n",
       "1 1949-10-10 21:00:00     light             60.0   \n",
       "2 1955-10-10 17:00:00    circle         0.333333   \n",
       "3 1956-10-10 21:00:00    circle             30.0   \n",
       "4 1960-10-10 20:00:00     light             15.0   \n",
       "\n",
       "                                         Description Date_posted  \\\n",
       "0  This event took place in early fall around 194...  2004-04-27   \n",
       "1  1949 Lackland AFB&#44 TX.  Lights racing acros...  2005-12-16   \n",
       "2  Green/Orange circular disc over Chester&#44 En...  2008-01-21   \n",
       "3  My older brother and twin sister were leaving ...  2004-01-17   \n",
       "4  AS a Marine 1st Lt. flying an FJ4B fighter/att...  2004-01-22   \n",
       "\n",
       "                     lat_long Country    State                     City  \\\n",
       "0   (29.8830556, -97.9411111)      US    Texas               San Marcos   \n",
       "1      (29.38421, -98.581082)      US    Texas  Lackland Air Force Base   \n",
       "2           (53.2, -2.916667)      GB  England                   Blacon   \n",
       "3   (28.9783333, -96.6458333)      US    Texas                     Edna   \n",
       "4  (21.4180556, -157.8036111)      US   Hawaii                 Kane'ohe   \n",
       "\n",
       "  Shape Categories  \n",
       "0               []  \n",
       "1               []  \n",
       "2               []  \n",
       "3               []  \n",
       "4               []  "
      ]
     },
     "execution_count": 60,
     "metadata": {},
     "output_type": "execute_result"
    }
   ],
   "source": [
    "ufo_c.head()"
   ]
  },
  {
   "cell_type": "markdown",
   "id": "diverse-wound",
   "metadata": {},
   "source": [
    "### 1.15.3 Checking if shape can be found in description column<a id='1.15.3_Checking_if_shape_can_be_found_in_description_column'></a>"
   ]
  },
  {
   "cell_type": "code",
   "execution_count": 61,
   "id": "blocked-field",
   "metadata": {},
   "outputs": [
    {
     "name": "stderr",
     "output_type": "stream",
     "text": [
      "D:\\Anacon\\lib\\site-packages\\ipykernel_launcher.py:18: SettingWithCopyWarning: \n",
      "A value is trying to be set on a copy of a slice from a DataFrame.\n",
      "Try using .loc[row_indexer,col_indexer] = value instead\n",
      "\n",
      "See the caveats in the documentation: https://pandas.pydata.org/pandas-docs/stable/user_guide/indexing.html#returning-a-view-versus-a-copy\n"
     ]
    }
   ],
   "source": [
    "## Checking if for null vlaues in Shaoe column does the new column ( Shape categories has any value) \n",
    "## and assigning it into a shape_final column\n",
    "\n",
    "shape = []\n",
    "for x, y in zip(ufo_c['Shape'], ufo_c['Shape Categories']):\n",
    "    if (pd.isnull(x)) and (y != []):\n",
    "        shape.append(y)\n",
    "    elif (pd.isnull(x)) and (y == []):\n",
    "        shape.append(x)\n",
    "    elif (x in ['unknown','other']) and (y != []):\n",
    "        shape.append(y)\n",
    "    elif (x in ['unknown','other']) and (y == []):\n",
    "        shape.append(y + [x])\n",
    "    elif (x not in ['Unknown','Other']) and (x not in y):\n",
    "        shape.append(y + [x])\n",
    "    else:\n",
    "        shape.append(y)\n",
    "ufo_c['Shape_final'] = shape"
   ]
  },
  {
   "cell_type": "code",
   "execution_count": 62,
   "id": "wound-leader",
   "metadata": {},
   "outputs": [
    {
     "data": {
      "text/html": [
       "<div>\n",
       "<style scoped>\n",
       "    .dataframe tbody tr th:only-of-type {\n",
       "        vertical-align: middle;\n",
       "    }\n",
       "\n",
       "    .dataframe tbody tr th {\n",
       "        vertical-align: top;\n",
       "    }\n",
       "\n",
       "    .dataframe thead th {\n",
       "        text-align: right;\n",
       "    }\n",
       "</style>\n",
       "<table border=\"1\" class=\"dataframe\">\n",
       "  <thead>\n",
       "    <tr style=\"text-align: right;\">\n",
       "      <th></th>\n",
       "      <th>Date_time</th>\n",
       "      <th>Shape</th>\n",
       "      <th>Duration_minutes</th>\n",
       "      <th>Description</th>\n",
       "      <th>Date_posted</th>\n",
       "      <th>lat_long</th>\n",
       "      <th>Country</th>\n",
       "      <th>State</th>\n",
       "      <th>City</th>\n",
       "      <th>Shape Categories</th>\n",
       "      <th>Shape_final</th>\n",
       "    </tr>\n",
       "  </thead>\n",
       "  <tbody>\n",
       "    <tr>\n",
       "      <th>0</th>\n",
       "      <td>1949-10-10 20:30:00</td>\n",
       "      <td>cylinder</td>\n",
       "      <td>45.0</td>\n",
       "      <td>This event took place in early fall around 194...</td>\n",
       "      <td>2004-04-27</td>\n",
       "      <td>(29.8830556, -97.9411111)</td>\n",
       "      <td>US</td>\n",
       "      <td>Texas</td>\n",
       "      <td>San Marcos</td>\n",
       "      <td>[]</td>\n",
       "      <td>[cylinder]</td>\n",
       "    </tr>\n",
       "    <tr>\n",
       "      <th>1</th>\n",
       "      <td>1949-10-10 21:00:00</td>\n",
       "      <td>light</td>\n",
       "      <td>60.0</td>\n",
       "      <td>1949 Lackland AFB&amp;#44 TX.  Lights racing acros...</td>\n",
       "      <td>2005-12-16</td>\n",
       "      <td>(29.38421, -98.581082)</td>\n",
       "      <td>US</td>\n",
       "      <td>Texas</td>\n",
       "      <td>Lackland Air Force Base</td>\n",
       "      <td>[]</td>\n",
       "      <td>[light]</td>\n",
       "    </tr>\n",
       "    <tr>\n",
       "      <th>2</th>\n",
       "      <td>1955-10-10 17:00:00</td>\n",
       "      <td>circle</td>\n",
       "      <td>0.333333</td>\n",
       "      <td>Green/Orange circular disc over Chester&amp;#44 En...</td>\n",
       "      <td>2008-01-21</td>\n",
       "      <td>(53.2, -2.916667)</td>\n",
       "      <td>GB</td>\n",
       "      <td>England</td>\n",
       "      <td>Blacon</td>\n",
       "      <td>[]</td>\n",
       "      <td>[circle]</td>\n",
       "    </tr>\n",
       "    <tr>\n",
       "      <th>3</th>\n",
       "      <td>1956-10-10 21:00:00</td>\n",
       "      <td>circle</td>\n",
       "      <td>30.0</td>\n",
       "      <td>My older brother and twin sister were leaving ...</td>\n",
       "      <td>2004-01-17</td>\n",
       "      <td>(28.9783333, -96.6458333)</td>\n",
       "      <td>US</td>\n",
       "      <td>Texas</td>\n",
       "      <td>Edna</td>\n",
       "      <td>[]</td>\n",
       "      <td>[circle]</td>\n",
       "    </tr>\n",
       "    <tr>\n",
       "      <th>4</th>\n",
       "      <td>1960-10-10 20:00:00</td>\n",
       "      <td>light</td>\n",
       "      <td>15.0</td>\n",
       "      <td>AS a Marine 1st Lt. flying an FJ4B fighter/att...</td>\n",
       "      <td>2004-01-22</td>\n",
       "      <td>(21.4180556, -157.8036111)</td>\n",
       "      <td>US</td>\n",
       "      <td>Hawaii</td>\n",
       "      <td>Kane'ohe</td>\n",
       "      <td>[]</td>\n",
       "      <td>[light]</td>\n",
       "    </tr>\n",
       "  </tbody>\n",
       "</table>\n",
       "</div>"
      ],
      "text/plain": [
       "            Date_time     Shape Duration_minutes  \\\n",
       "0 1949-10-10 20:30:00  cylinder             45.0   \n",
       "1 1949-10-10 21:00:00     light             60.0   \n",
       "2 1955-10-10 17:00:00    circle         0.333333   \n",
       "3 1956-10-10 21:00:00    circle             30.0   \n",
       "4 1960-10-10 20:00:00     light             15.0   \n",
       "\n",
       "                                         Description Date_posted  \\\n",
       "0  This event took place in early fall around 194...  2004-04-27   \n",
       "1  1949 Lackland AFB&#44 TX.  Lights racing acros...  2005-12-16   \n",
       "2  Green/Orange circular disc over Chester&#44 En...  2008-01-21   \n",
       "3  My older brother and twin sister were leaving ...  2004-01-17   \n",
       "4  AS a Marine 1st Lt. flying an FJ4B fighter/att...  2004-01-22   \n",
       "\n",
       "                     lat_long Country    State                     City  \\\n",
       "0   (29.8830556, -97.9411111)      US    Texas               San Marcos   \n",
       "1      (29.38421, -98.581082)      US    Texas  Lackland Air Force Base   \n",
       "2           (53.2, -2.916667)      GB  England                   Blacon   \n",
       "3   (28.9783333, -96.6458333)      US    Texas                     Edna   \n",
       "4  (21.4180556, -157.8036111)      US   Hawaii                 Kane'ohe   \n",
       "\n",
       "  Shape Categories Shape_final  \n",
       "0               []  [cylinder]  \n",
       "1               []     [light]  \n",
       "2               []    [circle]  \n",
       "3               []    [circle]  \n",
       "4               []     [light]  "
      ]
     },
     "execution_count": 62,
     "metadata": {},
     "output_type": "execute_result"
    }
   ],
   "source": [
    "ufo_c.head()"
   ]
  },
  {
   "cell_type": "markdown",
   "id": "chicken-aggregate",
   "metadata": {},
   "source": [
    "<b> There are around 1500 null values in Shape Final column so after dropping thise rows final count of rows is 83392 </b>"
   ]
  },
  {
   "cell_type": "markdown",
   "id": "mental-mandate",
   "metadata": {},
   "source": [
    "### 1.15.4 Dropping null values from final Shape Column<a id='1.15.4_Dropping_null_values_from_final Shape_Column'></a>"
   ]
  },
  {
   "cell_type": "code",
   "execution_count": 63,
   "id": "mineral-binding",
   "metadata": {},
   "outputs": [],
   "source": [
    "# Droping null rows form shape_final column\n",
    "\n",
    "ufo_d = ufo_c.dropna(subset = ['Shape_final'])"
   ]
  },
  {
   "cell_type": "code",
   "execution_count": 64,
   "id": "seasonal-matthew",
   "metadata": {},
   "outputs": [],
   "source": [
    "ufo_d = ufo_d.reset_index(drop = True)"
   ]
  },
  {
   "cell_type": "code",
   "execution_count": 65,
   "id": "bulgarian-original",
   "metadata": {},
   "outputs": [],
   "source": [
    "# Dropping Shape and Shape categories columns\n",
    "\n",
    "ufo_d.drop(['Shape', 'Shape Categories'], axis = 1, inplace = True)"
   ]
  },
  {
   "cell_type": "code",
   "execution_count": 66,
   "id": "southwest-meeting",
   "metadata": {},
   "outputs": [
    {
     "data": {
      "text/plain": [
       "Index(['Date_time', 'Duration_minutes', 'Description', 'Date_posted',\n",
       "       'lat_long', 'Country', 'State', 'City', 'Shape_final'],\n",
       "      dtype='object')"
      ]
     },
     "execution_count": 66,
     "metadata": {},
     "output_type": "execute_result"
    }
   ],
   "source": [
    "ufo_d.columns"
   ]
  },
  {
   "cell_type": "code",
   "execution_count": 67,
   "id": "adverse-playlist",
   "metadata": {},
   "outputs": [
    {
     "name": "stdout",
     "output_type": "stream",
     "text": [
      "<class 'pandas.core.frame.DataFrame'>\n",
      "RangeIndex: 83392 entries, 0 to 83391\n",
      "Data columns (total 9 columns):\n",
      " #   Column            Non-Null Count  Dtype         \n",
      "---  ------            --------------  -----         \n",
      " 0   Date_time         83392 non-null  datetime64[ns]\n",
      " 1   Duration_minutes  83392 non-null  object        \n",
      " 2   Description       83392 non-null  object        \n",
      " 3   Date_posted       83392 non-null  datetime64[ns]\n",
      " 4   lat_long          83392 non-null  object        \n",
      " 5   Country           83392 non-null  object        \n",
      " 6   State             83392 non-null  object        \n",
      " 7   City              83392 non-null  object        \n",
      " 8   Shape_final       83392 non-null  object        \n",
      "dtypes: datetime64[ns](2), object(7)\n",
      "memory usage: 5.7+ MB\n"
     ]
    }
   ],
   "source": [
    "ufo_d.info()"
   ]
  },
  {
   "cell_type": "markdown",
   "id": "incoming-certificate",
   "metadata": {},
   "source": [
    "<b> Now We have equal number of rows for all columns </b>"
   ]
  },
  {
   "cell_type": "code",
   "execution_count": 69,
   "id": "fatal-margin",
   "metadata": {},
   "outputs": [
    {
     "data": {
      "text/html": [
       "<div>\n",
       "<style scoped>\n",
       "    .dataframe tbody tr th:only-of-type {\n",
       "        vertical-align: middle;\n",
       "    }\n",
       "\n",
       "    .dataframe tbody tr th {\n",
       "        vertical-align: top;\n",
       "    }\n",
       "\n",
       "    .dataframe thead th {\n",
       "        text-align: right;\n",
       "    }\n",
       "</style>\n",
       "<table border=\"1\" class=\"dataframe\">\n",
       "  <thead>\n",
       "    <tr style=\"text-align: right;\">\n",
       "      <th></th>\n",
       "      <th>Date_time</th>\n",
       "      <th>Duration_minutes</th>\n",
       "      <th>Description</th>\n",
       "      <th>Date_posted</th>\n",
       "      <th>lat_long</th>\n",
       "      <th>Country</th>\n",
       "      <th>State</th>\n",
       "      <th>City</th>\n",
       "      <th>Shape_final</th>\n",
       "    </tr>\n",
       "  </thead>\n",
       "  <tbody>\n",
       "    <tr>\n",
       "      <th>69920</th>\n",
       "      <td>2012-08-17 20:00:00</td>\n",
       "      <td>5.0</td>\n",
       "      <td>2 orange/red orbs hovering and moving erratica...</td>\n",
       "      <td>2012-09-24</td>\n",
       "      <td>(40.256213, -75.463788)</td>\n",
       "      <td>US</td>\n",
       "      <td>Pennsylvania</td>\n",
       "      <td>Schwenksville</td>\n",
       "      <td>[other]</td>\n",
       "    </tr>\n",
       "    <tr>\n",
       "      <th>75408</th>\n",
       "      <td>2004-08-09 21:00:00</td>\n",
       "      <td>0.033333</td>\n",
       "      <td>object moving at a high rate of speed.</td>\n",
       "      <td>2005-09-02</td>\n",
       "      <td>(33.8358333, -79.0480556)</td>\n",
       "      <td>US</td>\n",
       "      <td>South Carolina</td>\n",
       "      <td>Conway</td>\n",
       "      <td>[unknown]</td>\n",
       "    </tr>\n",
       "    <tr>\n",
       "      <th>36573</th>\n",
       "      <td>2007-03-07 19:30:00</td>\n",
       "      <td>5.0</td>\n",
       "      <td>Huge musquito like golden object over Ionian S...</td>\n",
       "      <td>2007-04-27</td>\n",
       "      <td>(0.0, 0.0)</td>\n",
       "      <td>GH</td>\n",
       "      <td>Western</td>\n",
       "      <td>Takoradi</td>\n",
       "      <td>[other]</td>\n",
       "    </tr>\n",
       "    <tr>\n",
       "      <th>15524</th>\n",
       "      <td>2005-01-15 19:30:00</td>\n",
       "      <td>210.0</td>\n",
       "      <td>Multiple types of objects in night sky of cent...</td>\n",
       "      <td>2005-01-19</td>\n",
       "      <td>(29.1869444, -82.1402778)</td>\n",
       "      <td>US</td>\n",
       "      <td>Florida</td>\n",
       "      <td>Ocala</td>\n",
       "      <td>[triangle]</td>\n",
       "    </tr>\n",
       "    <tr>\n",
       "      <th>34458</th>\n",
       "      <td>2003-03-23 02:30:00</td>\n",
       "      <td>very f1st</td>\n",
       "      <td>HBCCUFO CANADIAN REPORT:   I was wondering if ...</td>\n",
       "      <td>2003-04-22</td>\n",
       "      <td>(54.5, -128.583333)</td>\n",
       "      <td>CA</td>\n",
       "      <td>British Columbia</td>\n",
       "      <td>Terrace</td>\n",
       "      <td>[light]</td>\n",
       "    </tr>\n",
       "  </tbody>\n",
       "</table>\n",
       "</div>"
      ],
      "text/plain": [
       "                Date_time Duration_minutes  \\\n",
       "69920 2012-08-17 20:00:00              5.0   \n",
       "75408 2004-08-09 21:00:00         0.033333   \n",
       "36573 2007-03-07 19:30:00              5.0   \n",
       "15524 2005-01-15 19:30:00            210.0   \n",
       "34458 2003-03-23 02:30:00        very f1st   \n",
       "\n",
       "                                             Description Date_posted  \\\n",
       "69920  2 orange/red orbs hovering and moving erratica...  2012-09-24   \n",
       "75408             object moving at a high rate of speed.  2005-09-02   \n",
       "36573  Huge musquito like golden object over Ionian S...  2007-04-27   \n",
       "15524  Multiple types of objects in night sky of cent...  2005-01-19   \n",
       "34458  HBCCUFO CANADIAN REPORT:   I was wondering if ...  2003-04-22   \n",
       "\n",
       "                        lat_long Country             State           City  \\\n",
       "69920    (40.256213, -75.463788)      US      Pennsylvania  Schwenksville   \n",
       "75408  (33.8358333, -79.0480556)      US    South Carolina         Conway   \n",
       "36573                 (0.0, 0.0)      GH           Western       Takoradi   \n",
       "15524  (29.1869444, -82.1402778)      US           Florida          Ocala   \n",
       "34458        (54.5, -128.583333)      CA  British Columbia        Terrace   \n",
       "\n",
       "      Shape_final  \n",
       "69920     [other]  \n",
       "75408   [unknown]  \n",
       "36573     [other]  \n",
       "15524  [triangle]  \n",
       "34458     [light]  "
      ]
     },
     "execution_count": 69,
     "metadata": {},
     "output_type": "execute_result"
    }
   ],
   "source": [
    "ufo_d.sample(5)"
   ]
  },
  {
   "cell_type": "markdown",
   "id": "opposed-realtor",
   "metadata": {},
   "source": [
    "## 1.16 Getting Year and Month From Spotted datetime<a id='1.16_Getting_Year_and_Month_From_Spotted_datetime'></a>"
   ]
  },
  {
   "cell_type": "code",
   "execution_count": 70,
   "id": "expected-shooting",
   "metadata": {},
   "outputs": [],
   "source": [
    "ufo_d['Year'] = ufo_d['Date_time'].dt.year"
   ]
  },
  {
   "cell_type": "code",
   "execution_count": 71,
   "id": "reflected-rouge",
   "metadata": {},
   "outputs": [
    {
     "data": {
      "text/html": [
       "<div>\n",
       "<style scoped>\n",
       "    .dataframe tbody tr th:only-of-type {\n",
       "        vertical-align: middle;\n",
       "    }\n",
       "\n",
       "    .dataframe tbody tr th {\n",
       "        vertical-align: top;\n",
       "    }\n",
       "\n",
       "    .dataframe thead th {\n",
       "        text-align: right;\n",
       "    }\n",
       "</style>\n",
       "<table border=\"1\" class=\"dataframe\">\n",
       "  <thead>\n",
       "    <tr style=\"text-align: right;\">\n",
       "      <th></th>\n",
       "      <th>Date_time</th>\n",
       "      <th>Duration_minutes</th>\n",
       "      <th>Description</th>\n",
       "      <th>Date_posted</th>\n",
       "      <th>lat_long</th>\n",
       "      <th>Country</th>\n",
       "      <th>State</th>\n",
       "      <th>City</th>\n",
       "      <th>Shape_final</th>\n",
       "      <th>Year</th>\n",
       "    </tr>\n",
       "  </thead>\n",
       "  <tbody>\n",
       "    <tr>\n",
       "      <th>0</th>\n",
       "      <td>1949-10-10 20:30:00</td>\n",
       "      <td>45.0</td>\n",
       "      <td>This event took place in early fall around 194...</td>\n",
       "      <td>2004-04-27</td>\n",
       "      <td>(29.8830556, -97.9411111)</td>\n",
       "      <td>US</td>\n",
       "      <td>Texas</td>\n",
       "      <td>San Marcos</td>\n",
       "      <td>[cylinder]</td>\n",
       "      <td>1949</td>\n",
       "    </tr>\n",
       "    <tr>\n",
       "      <th>1</th>\n",
       "      <td>1949-10-10 21:00:00</td>\n",
       "      <td>60.0</td>\n",
       "      <td>1949 Lackland AFB&amp;#44 TX.  Lights racing acros...</td>\n",
       "      <td>2005-12-16</td>\n",
       "      <td>(29.38421, -98.581082)</td>\n",
       "      <td>US</td>\n",
       "      <td>Texas</td>\n",
       "      <td>Lackland Air Force Base</td>\n",
       "      <td>[light]</td>\n",
       "      <td>1949</td>\n",
       "    </tr>\n",
       "    <tr>\n",
       "      <th>2</th>\n",
       "      <td>1955-10-10 17:00:00</td>\n",
       "      <td>0.333333</td>\n",
       "      <td>Green/Orange circular disc over Chester&amp;#44 En...</td>\n",
       "      <td>2008-01-21</td>\n",
       "      <td>(53.2, -2.916667)</td>\n",
       "      <td>GB</td>\n",
       "      <td>England</td>\n",
       "      <td>Blacon</td>\n",
       "      <td>[circle]</td>\n",
       "      <td>1955</td>\n",
       "    </tr>\n",
       "    <tr>\n",
       "      <th>3</th>\n",
       "      <td>1956-10-10 21:00:00</td>\n",
       "      <td>30.0</td>\n",
       "      <td>My older brother and twin sister were leaving ...</td>\n",
       "      <td>2004-01-17</td>\n",
       "      <td>(28.9783333, -96.6458333)</td>\n",
       "      <td>US</td>\n",
       "      <td>Texas</td>\n",
       "      <td>Edna</td>\n",
       "      <td>[circle]</td>\n",
       "      <td>1956</td>\n",
       "    </tr>\n",
       "    <tr>\n",
       "      <th>4</th>\n",
       "      <td>1960-10-10 20:00:00</td>\n",
       "      <td>15.0</td>\n",
       "      <td>AS a Marine 1st Lt. flying an FJ4B fighter/att...</td>\n",
       "      <td>2004-01-22</td>\n",
       "      <td>(21.4180556, -157.8036111)</td>\n",
       "      <td>US</td>\n",
       "      <td>Hawaii</td>\n",
       "      <td>Kane'ohe</td>\n",
       "      <td>[light]</td>\n",
       "      <td>1960</td>\n",
       "    </tr>\n",
       "  </tbody>\n",
       "</table>\n",
       "</div>"
      ],
      "text/plain": [
       "            Date_time Duration_minutes  \\\n",
       "0 1949-10-10 20:30:00             45.0   \n",
       "1 1949-10-10 21:00:00             60.0   \n",
       "2 1955-10-10 17:00:00         0.333333   \n",
       "3 1956-10-10 21:00:00             30.0   \n",
       "4 1960-10-10 20:00:00             15.0   \n",
       "\n",
       "                                         Description Date_posted  \\\n",
       "0  This event took place in early fall around 194...  2004-04-27   \n",
       "1  1949 Lackland AFB&#44 TX.  Lights racing acros...  2005-12-16   \n",
       "2  Green/Orange circular disc over Chester&#44 En...  2008-01-21   \n",
       "3  My older brother and twin sister were leaving ...  2004-01-17   \n",
       "4  AS a Marine 1st Lt. flying an FJ4B fighter/att...  2004-01-22   \n",
       "\n",
       "                     lat_long Country    State                     City  \\\n",
       "0   (29.8830556, -97.9411111)      US    Texas               San Marcos   \n",
       "1      (29.38421, -98.581082)      US    Texas  Lackland Air Force Base   \n",
       "2           (53.2, -2.916667)      GB  England                   Blacon   \n",
       "3   (28.9783333, -96.6458333)      US    Texas                     Edna   \n",
       "4  (21.4180556, -157.8036111)      US   Hawaii                 Kane'ohe   \n",
       "\n",
       "  Shape_final  Year  \n",
       "0  [cylinder]  1949  \n",
       "1     [light]  1949  \n",
       "2    [circle]  1955  \n",
       "3    [circle]  1956  \n",
       "4     [light]  1960  "
      ]
     },
     "execution_count": 71,
     "metadata": {},
     "output_type": "execute_result"
    }
   ],
   "source": [
    "ufo_d.head()"
   ]
  },
  {
   "cell_type": "code",
   "execution_count": 72,
   "id": "lucky-deadline",
   "metadata": {},
   "outputs": [],
   "source": [
    "ufo_d['Month'] = ufo_d['Date_time'].dt.month_name()"
   ]
  },
  {
   "cell_type": "code",
   "execution_count": 73,
   "id": "entitled-bridal",
   "metadata": {},
   "outputs": [
    {
     "data": {
      "text/html": [
       "<div>\n",
       "<style scoped>\n",
       "    .dataframe tbody tr th:only-of-type {\n",
       "        vertical-align: middle;\n",
       "    }\n",
       "\n",
       "    .dataframe tbody tr th {\n",
       "        vertical-align: top;\n",
       "    }\n",
       "\n",
       "    .dataframe thead th {\n",
       "        text-align: right;\n",
       "    }\n",
       "</style>\n",
       "<table border=\"1\" class=\"dataframe\">\n",
       "  <thead>\n",
       "    <tr style=\"text-align: right;\">\n",
       "      <th></th>\n",
       "      <th>Date_time</th>\n",
       "      <th>Duration_minutes</th>\n",
       "      <th>Description</th>\n",
       "      <th>Date_posted</th>\n",
       "      <th>lat_long</th>\n",
       "      <th>Country</th>\n",
       "      <th>State</th>\n",
       "      <th>City</th>\n",
       "      <th>Shape_final</th>\n",
       "      <th>Year</th>\n",
       "      <th>Month</th>\n",
       "    </tr>\n",
       "  </thead>\n",
       "  <tbody>\n",
       "    <tr>\n",
       "      <th>33541</th>\n",
       "      <td>2012-03-18 22:00:00</td>\n",
       "      <td>2.0</td>\n",
       "      <td>Amber colored silent spherical fireball rising...</td>\n",
       "      <td>2012-05-13</td>\n",
       "      <td>(30.5166667, -86.4822222)</td>\n",
       "      <td>US</td>\n",
       "      <td>Florida</td>\n",
       "      <td>Niceville</td>\n",
       "      <td>[Fireball, fireball]</td>\n",
       "      <td>2012</td>\n",
       "      <td>March</td>\n",
       "    </tr>\n",
       "    <tr>\n",
       "      <th>24855</th>\n",
       "      <td>2006-12-09 20:01:00</td>\n",
       "      <td>1.0</td>\n",
       "      <td>Bright red &amp;quot;fireball&amp;quot; lasting about ...</td>\n",
       "      <td>2006-12-14</td>\n",
       "      <td>(30.1125, -85.2005556)</td>\n",
       "      <td>US</td>\n",
       "      <td>Florida</td>\n",
       "      <td>Wewahitchka</td>\n",
       "      <td>[fireball]</td>\n",
       "      <td>2006</td>\n",
       "      <td>December</td>\n",
       "    </tr>\n",
       "    <tr>\n",
       "      <th>32055</th>\n",
       "      <td>1997-03-12 18:20:00</td>\n",
       "      <td>10.0</td>\n",
       "      <td>Two objects doing imposible manovers</td>\n",
       "      <td>2004-12-14</td>\n",
       "      <td>(54.911944, -1.383333)</td>\n",
       "      <td>GB</td>\n",
       "      <td>England</td>\n",
       "      <td>Sunderland</td>\n",
       "      <td>[sphere]</td>\n",
       "      <td>1997</td>\n",
       "      <td>March</td>\n",
       "    </tr>\n",
       "    <tr>\n",
       "      <th>40740</th>\n",
       "      <td>2011-04-26 23:10:00</td>\n",
       "      <td>5.0</td>\n",
       "      <td>San Jose - red object in sky heading south.</td>\n",
       "      <td>2011-05-02</td>\n",
       "      <td>(37.3394444, -121.8938889)</td>\n",
       "      <td>US</td>\n",
       "      <td>California</td>\n",
       "      <td>San Jose</td>\n",
       "      <td>[light]</td>\n",
       "      <td>2011</td>\n",
       "      <td>April</td>\n",
       "    </tr>\n",
       "    <tr>\n",
       "      <th>14995</th>\n",
       "      <td>2004-11-04 01:15:00</td>\n",
       "      <td>120.0</td>\n",
       "      <td>Very unusual &amp;quot;star&amp;quot; to the SE Seattl...</td>\n",
       "      <td>2004-11-09</td>\n",
       "      <td>(47.6063889, -122.3308333)</td>\n",
       "      <td>US</td>\n",
       "      <td>Washington</td>\n",
       "      <td>Seattle</td>\n",
       "      <td>[light]</td>\n",
       "      <td>2004</td>\n",
       "      <td>November</td>\n",
       "    </tr>\n",
       "    <tr>\n",
       "      <th>75701</th>\n",
       "      <td>2007-09-10 05:00:00</td>\n",
       "      <td>10.0</td>\n",
       "      <td>Stationary red&amp;#44 blue&amp;#44 green&amp;#44 white li...</td>\n",
       "      <td>2007-10-08</td>\n",
       "      <td>(30.6277778, -96.3341667)</td>\n",
       "      <td>US</td>\n",
       "      <td>Texas</td>\n",
       "      <td>College Station</td>\n",
       "      <td>[Light]</td>\n",
       "      <td>2007</td>\n",
       "      <td>September</td>\n",
       "    </tr>\n",
       "    <tr>\n",
       "      <th>2979</th>\n",
       "      <td>2013-10-18 20:00:00</td>\n",
       "      <td>6.0</td>\n",
       "      <td>White/blue sphere maneuvering around commerica...</td>\n",
       "      <td>2013-10-23</td>\n",
       "      <td>(39.74844, -84.283398)</td>\n",
       "      <td>US</td>\n",
       "      <td>Ohio</td>\n",
       "      <td>Drexel</td>\n",
       "      <td>[Sphere, sphere]</td>\n",
       "      <td>2013</td>\n",
       "      <td>October</td>\n",
       "    </tr>\n",
       "    <tr>\n",
       "      <th>35627</th>\n",
       "      <td>2013-03-30 21:18:00</td>\n",
       "      <td>3.0</td>\n",
       "      <td>3 Possible orange UFO spheres over Phoenix Ari...</td>\n",
       "      <td>2013-05-15</td>\n",
       "      <td>(33.4483333, -112.0733333)</td>\n",
       "      <td>US</td>\n",
       "      <td>Arizona</td>\n",
       "      <td>Phoenix</td>\n",
       "      <td>[fireball]</td>\n",
       "      <td>2013</td>\n",
       "      <td>March</td>\n",
       "    </tr>\n",
       "    <tr>\n",
       "      <th>51879</th>\n",
       "      <td>2006-06-18 01:10:00</td>\n",
       "      <td>0.033333</td>\n",
       "      <td>Family of four sees bright flash in night sky.</td>\n",
       "      <td>2006-07-16</td>\n",
       "      <td>(38.1916667, -120.8280556)</td>\n",
       "      <td>US</td>\n",
       "      <td>California</td>\n",
       "      <td>Valley Springs</td>\n",
       "      <td>[Flash, flash]</td>\n",
       "      <td>2006</td>\n",
       "      <td>June</td>\n",
       "    </tr>\n",
       "    <tr>\n",
       "      <th>24033</th>\n",
       "      <td>2012-12-06 18:47:00</td>\n",
       "      <td>0.166667</td>\n",
       "      <td>Five glowing fiery lights seen looking north f...</td>\n",
       "      <td>2012-12-20</td>\n",
       "      <td>(33.2147222, -97.1327778)</td>\n",
       "      <td>US</td>\n",
       "      <td>Texas</td>\n",
       "      <td>Denton</td>\n",
       "      <td>[light]</td>\n",
       "      <td>2012</td>\n",
       "      <td>December</td>\n",
       "    </tr>\n",
       "  </tbody>\n",
       "</table>\n",
       "</div>"
      ],
      "text/plain": [
       "                Date_time Duration_minutes  \\\n",
       "33541 2012-03-18 22:00:00              2.0   \n",
       "24855 2006-12-09 20:01:00              1.0   \n",
       "32055 1997-03-12 18:20:00             10.0   \n",
       "40740 2011-04-26 23:10:00              5.0   \n",
       "14995 2004-11-04 01:15:00            120.0   \n",
       "75701 2007-09-10 05:00:00             10.0   \n",
       "2979  2013-10-18 20:00:00              6.0   \n",
       "35627 2013-03-30 21:18:00              3.0   \n",
       "51879 2006-06-18 01:10:00         0.033333   \n",
       "24033 2012-12-06 18:47:00         0.166667   \n",
       "\n",
       "                                             Description Date_posted  \\\n",
       "33541  Amber colored silent spherical fireball rising...  2012-05-13   \n",
       "24855  Bright red &quot;fireball&quot; lasting about ...  2006-12-14   \n",
       "32055               Two objects doing imposible manovers  2004-12-14   \n",
       "40740        San Jose - red object in sky heading south.  2011-05-02   \n",
       "14995  Very unusual &quot;star&quot; to the SE Seattl...  2004-11-09   \n",
       "75701  Stationary red&#44 blue&#44 green&#44 white li...  2007-10-08   \n",
       "2979   White/blue sphere maneuvering around commerica...  2013-10-23   \n",
       "35627  3 Possible orange UFO spheres over Phoenix Ari...  2013-05-15   \n",
       "51879     Family of four sees bright flash in night sky.  2006-07-16   \n",
       "24033  Five glowing fiery lights seen looking north f...  2012-12-20   \n",
       "\n",
       "                         lat_long Country       State             City  \\\n",
       "33541   (30.5166667, -86.4822222)      US     Florida        Niceville   \n",
       "24855      (30.1125, -85.2005556)      US     Florida      Wewahitchka   \n",
       "32055      (54.911944, -1.383333)      GB     England       Sunderland   \n",
       "40740  (37.3394444, -121.8938889)      US  California         San Jose   \n",
       "14995  (47.6063889, -122.3308333)      US  Washington          Seattle   \n",
       "75701   (30.6277778, -96.3341667)      US       Texas  College Station   \n",
       "2979       (39.74844, -84.283398)      US        Ohio           Drexel   \n",
       "35627  (33.4483333, -112.0733333)      US     Arizona          Phoenix   \n",
       "51879  (38.1916667, -120.8280556)      US  California   Valley Springs   \n",
       "24033   (33.2147222, -97.1327778)      US       Texas           Denton   \n",
       "\n",
       "                Shape_final  Year      Month  \n",
       "33541  [Fireball, fireball]  2012      March  \n",
       "24855            [fireball]  2006   December  \n",
       "32055              [sphere]  1997      March  \n",
       "40740               [light]  2011      April  \n",
       "14995               [light]  2004   November  \n",
       "75701               [Light]  2007  September  \n",
       "2979       [Sphere, sphere]  2013    October  \n",
       "35627            [fireball]  2013      March  \n",
       "51879        [Flash, flash]  2006       June  \n",
       "24033               [light]  2012   December  "
      ]
     },
     "execution_count": 73,
     "metadata": {},
     "output_type": "execute_result"
    }
   ],
   "source": [
    "ufo_d.sample(10)"
   ]
  },
  {
   "cell_type": "markdown",
   "id": "peripheral-optimization",
   "metadata": {},
   "source": [
    "<b> Our Final cleaned data set has 11 columns and 83392 records </b>"
   ]
  },
  {
   "cell_type": "markdown",
   "id": "precious-dietary",
   "metadata": {},
   "source": [
    "## 1.17 Saving File<a id='Saving_File'></a>"
   ]
  },
  {
   "cell_type": "code",
   "execution_count": 80,
   "id": "dated-support",
   "metadata": {},
   "outputs": [],
   "source": [
    "ufo_d.to_csv(\"ufo_cleaned.csv\", header = True, index = False)"
   ]
  },
  {
   "cell_type": "markdown",
   "id": "touched-shade",
   "metadata": {},
   "source": [
    "</b> Credits to https://github.com/Dascienz/ufo-sightings/blob/master </b>"
   ]
  }
 ],
 "metadata": {
  "kernelspec": {
   "display_name": "Python 3",
   "language": "python",
   "name": "python3"
  },
  "language_info": {
   "codemirror_mode": {
    "name": "ipython",
    "version": 3
   },
   "file_extension": ".py",
   "mimetype": "text/x-python",
   "name": "python",
   "nbconvert_exporter": "python",
   "pygments_lexer": "ipython3",
   "version": "3.7.3"
  }
 },
 "nbformat": 4,
 "nbformat_minor": 5
}
