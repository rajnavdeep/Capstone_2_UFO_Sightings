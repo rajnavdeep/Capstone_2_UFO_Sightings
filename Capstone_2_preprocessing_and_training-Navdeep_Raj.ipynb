{
 "cells": [
  {
   "cell_type": "markdown",
   "metadata": {},
   "source": [
    "# 4 Pre-Processing and Training Data<a id='4_Pre-Processing_and_Training_Data'></a>"
   ]
  },
  {
   "cell_type": "markdown",
   "metadata": {},
   "source": [
    "## 4.1 Contents<a id='4.1_Contents'></a>\n",
    "* [4 Pre-Processing and Training Data](#4_Pre-Processing_and_Training_Data)\n",
    "  * [4.1 Contents](#4.1_Contents)\n",
    "  * [4.2 Introduction](#4.2_Introduction)\n",
    "  * [4.3 Imports](#4.3_Imports)\n",
    "  * [4.4 Load Data](#4.4_Load_Data)\n",
    "      * [4.4.1 Checking Null Values](#4.4.1_Checking_Null_Values)\n",
    "      * [4.4.2 Checking Categorical Variable and their unique values](#4.4.2_Checking_Categorical_Variable_and_their_unique_values)\n",
    "          * [4.4.2.1 Reducing Conflicting Shapes by changing all to lowercase](#4.4.2.1_Reducing_Conflicting_Shapes_by_changing_all_to_lowercase)\n",
    "          * [4.4.2.2 Reducing Country labels by categorising all countries with less than 100 sightings to OTHER](#4.4.2.2_Reducing_Country_labels_by_categorising_all_countries_with_less_than_100_sightings_to_OTHER)\n",
    "          * [4.4.2.3 Extracting Month, Day & hour from Datetime column & dropping it](#Extracting_Month,_Day_&_hour_from_Datetime_column_&_dropping_it)\n",
    "      * [4.4.3 Creating datasets for Modelling](#4.4.3_Creating_datasets_for_Modelling)\n",
    "          * [4.4.3.1 Dataset 1 All Features](#4.4.3.1_Dataset_1_All_Features)\n",
    "          * [4.4.3.2 Dataset 2 - without City & State Columns](#4.4.3.2_Dataset_2_-_without_City_&_State_Columns)\n",
    "  * [4.5 Encoding Categorical Features](#4.5_Encoding_Categorical_Features)\n",
    "      * [4.5.1 For Dataset 1](#4.5.1_For_Dataset_1)\n",
    "      * [4.5.1 For Dataset 2](#4.5.2_For_Dataset_2)\n",
    "  * [4.6 Train/Test Split](#4.6_Train/Test_Split)\n",
    "      * [4.6.1 For Dataset 1](#4.6.1_For_Dataset_1)\n",
    "      * [4.6.2 For Dataset 2](#4.6.2_For_Dataset_2)\n",
    "  * [4.7  Metrics - User Defined Functions / SK Learn](#4.7_Metrics_-_User_Defined_Functions_/_SK_Learn)\n",
    "      * [4.7.1 R-squared, or coefficient of determination](#4.7.1_R-squared,_or_coefficient_of_determination)\n",
    "      * [4.7.2 Mean Absolute Error](#4.7.2_Mean_Absolute_Error)\n",
    "      * [4.7.3 Mean Squared Error](#4.7.3_Mean_Squared_Error)\n",
    "  * [4.8 Scaling Data](#4.8_Scaling_Data)\n",
    "  * [4.9 Training Model on Data](#4.9_Training_Model_on_Data)\n",
    "      * [4.9.1 Linear Regression Model](#4.9.1_Linear_Regression_Model)\n",
    "      * [4.9.2 StatsModel OLS](#4.9.2_StatsModel_OLS)\n",
    "  \n",
    "  "
   ]
  },
  {
   "cell_type": "markdown",
   "metadata": {},
   "source": [
    "## 4.2 Introduction<a id='4.2_Introduction'></a>"
   ]
  },
  {
   "cell_type": "markdown",
   "metadata": {},
   "source": [
    "In preceding notebooks, performed preliminary assessments of data quality and refined the question to be answered. You found a small number of data values that gave clear choices about whether to replace values or drop a whole row. You determined that predicting the adult weekend ticket price was your primary aim. You threw away records with missing price data, but not before making the most of the other available data to look for any patterns between the states. You didn't see any and decided to treat all states equally; the state label didn't seem to be particularly useful. \n",
    "\n",
    "We explore UFO Sightings data by cleaning and transforminf it and also visualized some relationships between shape, duration, datetime and location\n",
    "\n",
    "Our purpose is to predict duration using various regression models and test their assessment as to which gives us the best prediction\n"
   ]
  },
  {
   "cell_type": "markdown",
   "metadata": {},
   "source": [
    "## 4.3 Imports<a id='4.3_Imports'></a>"
   ]
  },
  {
   "cell_type": "code",
   "execution_count": 1,
   "metadata": {},
   "outputs": [],
   "source": [
    "import pandas as pd\n",
    "import numpy as np\n",
    "import os\n",
    "import pickle\n",
    "import matplotlib.pyplot as plt\n",
    "import seaborn as sns\n",
    "from sklearn import __version__ as sklearn_version\n",
    "from sklearn.decomposition import PCA\n",
    "from sklearn.preprocessing import scale\n",
    "from sklearn.model_selection import train_test_split, cross_validate, GridSearchCV, learning_curve\n",
    "from sklearn.preprocessing import StandardScaler, MinMaxScaler\n",
    "from sklearn.dummy import DummyRegressor\n",
    "from sklearn.linear_model import LinearRegression\n",
    "from sklearn.ensemble import RandomForestRegressor\n",
    "from sklearn.metrics import r2_score, mean_squared_error, mean_absolute_error\n",
    "from sklearn.pipeline import make_pipeline\n",
    "from sklearn.impute import SimpleImputer\n",
    "from sklearn.feature_selection import SelectKBest, f_regression\n",
    "import datetime\n",
    "\n",
    "from library.sb_utils import save_file"
   ]
  },
  {
   "cell_type": "markdown",
   "metadata": {},
   "source": [
    "## 4.4 Load Data<a id='4.4_Load_Data'></a>"
   ]
  },
  {
   "cell_type": "code",
   "execution_count": 2,
   "metadata": {
    "scrolled": true
   },
   "outputs": [],
   "source": [
    "data = pd.read_csv('ufo_c.csv', parse_dates = ['Date_time', 'Date_posted'], low_memory = False)"
   ]
  },
  {
   "cell_type": "code",
   "execution_count": 3,
   "metadata": {},
   "outputs": [
    {
     "data": {
      "text/html": [
       "<div>\n",
       "<style scoped>\n",
       "    .dataframe tbody tr th:only-of-type {\n",
       "        vertical-align: middle;\n",
       "    }\n",
       "\n",
       "    .dataframe tbody tr th {\n",
       "        vertical-align: top;\n",
       "    }\n",
       "\n",
       "    .dataframe thead th {\n",
       "        text-align: right;\n",
       "    }\n",
       "</style>\n",
       "<table border=\"1\" class=\"dataframe\">\n",
       "  <thead>\n",
       "    <tr style=\"text-align: right;\">\n",
       "      <th></th>\n",
       "      <th>Date_time</th>\n",
       "      <th>Duration_minutes</th>\n",
       "      <th>Description</th>\n",
       "      <th>Date_posted</th>\n",
       "      <th>lat_long</th>\n",
       "      <th>Country</th>\n",
       "      <th>State</th>\n",
       "      <th>City</th>\n",
       "      <th>Shape_final</th>\n",
       "      <th>Year</th>\n",
       "      <th>Month</th>\n",
       "      <th>sh</th>\n",
       "      <th>lat</th>\n",
       "      <th>long</th>\n",
       "    </tr>\n",
       "  </thead>\n",
       "  <tbody>\n",
       "    <tr>\n",
       "      <th>0</th>\n",
       "      <td>1949-10-10 20:30:00</td>\n",
       "      <td>45.00</td>\n",
       "      <td>This event took place in early fall around 194...</td>\n",
       "      <td>2004-04-27</td>\n",
       "      <td>(29.8830556, -97.9411111)</td>\n",
       "      <td>US</td>\n",
       "      <td>Texas</td>\n",
       "      <td>San Marcos</td>\n",
       "      <td>['cylinder']</td>\n",
       "      <td>1949</td>\n",
       "      <td>October</td>\n",
       "      <td>cylinder</td>\n",
       "      <td>29.883056</td>\n",
       "      <td>-97.941111</td>\n",
       "    </tr>\n",
       "    <tr>\n",
       "      <th>1</th>\n",
       "      <td>1949-10-10 21:00:00</td>\n",
       "      <td>60.00</td>\n",
       "      <td>1949 Lackland AFB&amp;#44 TX.  Lights racing acros...</td>\n",
       "      <td>2005-12-16</td>\n",
       "      <td>(29.38421, -98.581082)</td>\n",
       "      <td>US</td>\n",
       "      <td>Texas</td>\n",
       "      <td>Lackland Air Force Base</td>\n",
       "      <td>['light']</td>\n",
       "      <td>1949</td>\n",
       "      <td>October</td>\n",
       "      <td>light</td>\n",
       "      <td>29.384210</td>\n",
       "      <td>-98.581082</td>\n",
       "    </tr>\n",
       "    <tr>\n",
       "      <th>2</th>\n",
       "      <td>1955-10-10 17:00:00</td>\n",
       "      <td>0.33</td>\n",
       "      <td>Green/Orange circular disc over Chester&amp;#44 En...</td>\n",
       "      <td>2008-01-21</td>\n",
       "      <td>(53.2, -2.916667)</td>\n",
       "      <td>GB</td>\n",
       "      <td>England</td>\n",
       "      <td>Blacon</td>\n",
       "      <td>['circle']</td>\n",
       "      <td>1955</td>\n",
       "      <td>October</td>\n",
       "      <td>circle</td>\n",
       "      <td>53.200000</td>\n",
       "      <td>-2.916667</td>\n",
       "    </tr>\n",
       "    <tr>\n",
       "      <th>3</th>\n",
       "      <td>1956-10-10 21:00:00</td>\n",
       "      <td>30.00</td>\n",
       "      <td>My older brother and twin sister were leaving ...</td>\n",
       "      <td>2004-01-17</td>\n",
       "      <td>(28.9783333, -96.6458333)</td>\n",
       "      <td>US</td>\n",
       "      <td>Texas</td>\n",
       "      <td>Edna</td>\n",
       "      <td>['circle']</td>\n",
       "      <td>1956</td>\n",
       "      <td>October</td>\n",
       "      <td>circle</td>\n",
       "      <td>28.978333</td>\n",
       "      <td>-96.645833</td>\n",
       "    </tr>\n",
       "    <tr>\n",
       "      <th>4</th>\n",
       "      <td>1960-10-10 20:00:00</td>\n",
       "      <td>15.00</td>\n",
       "      <td>AS a Marine 1st Lt. flying an FJ4B fighter/att...</td>\n",
       "      <td>2004-01-22</td>\n",
       "      <td>(21.4180556, -157.8036111)</td>\n",
       "      <td>US</td>\n",
       "      <td>Hawaii</td>\n",
       "      <td>Kane'ohe</td>\n",
       "      <td>['light']</td>\n",
       "      <td>1960</td>\n",
       "      <td>October</td>\n",
       "      <td>light</td>\n",
       "      <td>21.418056</td>\n",
       "      <td>-157.803611</td>\n",
       "    </tr>\n",
       "  </tbody>\n",
       "</table>\n",
       "</div>"
      ],
      "text/plain": [
       "            Date_time  Duration_minutes  \\\n",
       "0 1949-10-10 20:30:00             45.00   \n",
       "1 1949-10-10 21:00:00             60.00   \n",
       "2 1955-10-10 17:00:00              0.33   \n",
       "3 1956-10-10 21:00:00             30.00   \n",
       "4 1960-10-10 20:00:00             15.00   \n",
       "\n",
       "                                         Description Date_posted  \\\n",
       "0  This event took place in early fall around 194...  2004-04-27   \n",
       "1  1949 Lackland AFB&#44 TX.  Lights racing acros...  2005-12-16   \n",
       "2  Green/Orange circular disc over Chester&#44 En...  2008-01-21   \n",
       "3  My older brother and twin sister were leaving ...  2004-01-17   \n",
       "4  AS a Marine 1st Lt. flying an FJ4B fighter/att...  2004-01-22   \n",
       "\n",
       "                     lat_long Country    State                     City  \\\n",
       "0   (29.8830556, -97.9411111)      US    Texas               San Marcos   \n",
       "1      (29.38421, -98.581082)      US    Texas  Lackland Air Force Base   \n",
       "2           (53.2, -2.916667)      GB  England                   Blacon   \n",
       "3   (28.9783333, -96.6458333)      US    Texas                     Edna   \n",
       "4  (21.4180556, -157.8036111)      US   Hawaii                 Kane'ohe   \n",
       "\n",
       "    Shape_final  Year    Month        sh        lat        long  \n",
       "0  ['cylinder']  1949  October  cylinder  29.883056  -97.941111  \n",
       "1     ['light']  1949  October     light  29.384210  -98.581082  \n",
       "2    ['circle']  1955  October    circle  53.200000   -2.916667  \n",
       "3    ['circle']  1956  October    circle  28.978333  -96.645833  \n",
       "4     ['light']  1960  October     light  21.418056 -157.803611  "
      ]
     },
     "execution_count": 3,
     "metadata": {},
     "output_type": "execute_result"
    }
   ],
   "source": [
    "data.head()"
   ]
  },
  {
   "cell_type": "markdown",
   "metadata": {},
   "source": [
    "### 4.4.1 Checking Null Values<a id='4.4.1_Checking_Null_Values'></a>"
   ]
  },
  {
   "cell_type": "code",
   "execution_count": 4,
   "metadata": {},
   "outputs": [
    {
     "name": "stdout",
     "output_type": "stream",
     "text": [
      "<class 'pandas.core.frame.DataFrame'>\n",
      "RangeIndex: 77544 entries, 0 to 77543\n",
      "Data columns (total 14 columns):\n",
      " #   Column            Non-Null Count  Dtype         \n",
      "---  ------            --------------  -----         \n",
      " 0   Date_time         77544 non-null  datetime64[ns]\n",
      " 1   Duration_minutes  77544 non-null  float64       \n",
      " 2   Description       77544 non-null  object        \n",
      " 3   Date_posted       77544 non-null  datetime64[ns]\n",
      " 4   lat_long          77544 non-null  object        \n",
      " 5   Country           77544 non-null  object        \n",
      " 6   State             77544 non-null  object        \n",
      " 7   City              77544 non-null  object        \n",
      " 8   Shape_final       77544 non-null  object        \n",
      " 9   Year              77544 non-null  int64         \n",
      " 10  Month             77544 non-null  object        \n",
      " 11  sh                77544 non-null  object        \n",
      " 12  lat               77544 non-null  float64       \n",
      " 13  long              77544 non-null  float64       \n",
      "dtypes: datetime64[ns](2), float64(3), int64(1), object(8)\n",
      "memory usage: 8.3+ MB\n"
     ]
    }
   ],
   "source": [
    "data.info()"
   ]
  },
  {
   "cell_type": "code",
   "execution_count": 5,
   "metadata": {},
   "outputs": [],
   "source": [
    "data_m = data[['Date_time', 'Duration_minutes', 'Country', 'State', 'City', 'Year', 'Month', 'sh', 'lat','long']]"
   ]
  },
  {
   "cell_type": "code",
   "execution_count": 6,
   "metadata": {},
   "outputs": [
    {
     "data": {
      "text/html": [
       "<div>\n",
       "<style scoped>\n",
       "    .dataframe tbody tr th:only-of-type {\n",
       "        vertical-align: middle;\n",
       "    }\n",
       "\n",
       "    .dataframe tbody tr th {\n",
       "        vertical-align: top;\n",
       "    }\n",
       "\n",
       "    .dataframe thead th {\n",
       "        text-align: right;\n",
       "    }\n",
       "</style>\n",
       "<table border=\"1\" class=\"dataframe\">\n",
       "  <thead>\n",
       "    <tr style=\"text-align: right;\">\n",
       "      <th></th>\n",
       "      <th>Date_time</th>\n",
       "      <th>Duration_minutes</th>\n",
       "      <th>Country</th>\n",
       "      <th>State</th>\n",
       "      <th>City</th>\n",
       "      <th>Year</th>\n",
       "      <th>Month</th>\n",
       "      <th>sh</th>\n",
       "      <th>lat</th>\n",
       "      <th>long</th>\n",
       "    </tr>\n",
       "  </thead>\n",
       "  <tbody>\n",
       "    <tr>\n",
       "      <th>0</th>\n",
       "      <td>1949-10-10 20:30:00</td>\n",
       "      <td>45.00</td>\n",
       "      <td>US</td>\n",
       "      <td>Texas</td>\n",
       "      <td>San Marcos</td>\n",
       "      <td>1949</td>\n",
       "      <td>October</td>\n",
       "      <td>cylinder</td>\n",
       "      <td>29.883056</td>\n",
       "      <td>-97.941111</td>\n",
       "    </tr>\n",
       "    <tr>\n",
       "      <th>1</th>\n",
       "      <td>1949-10-10 21:00:00</td>\n",
       "      <td>60.00</td>\n",
       "      <td>US</td>\n",
       "      <td>Texas</td>\n",
       "      <td>Lackland Air Force Base</td>\n",
       "      <td>1949</td>\n",
       "      <td>October</td>\n",
       "      <td>light</td>\n",
       "      <td>29.384210</td>\n",
       "      <td>-98.581082</td>\n",
       "    </tr>\n",
       "    <tr>\n",
       "      <th>2</th>\n",
       "      <td>1955-10-10 17:00:00</td>\n",
       "      <td>0.33</td>\n",
       "      <td>GB</td>\n",
       "      <td>England</td>\n",
       "      <td>Blacon</td>\n",
       "      <td>1955</td>\n",
       "      <td>October</td>\n",
       "      <td>circle</td>\n",
       "      <td>53.200000</td>\n",
       "      <td>-2.916667</td>\n",
       "    </tr>\n",
       "    <tr>\n",
       "      <th>3</th>\n",
       "      <td>1956-10-10 21:00:00</td>\n",
       "      <td>30.00</td>\n",
       "      <td>US</td>\n",
       "      <td>Texas</td>\n",
       "      <td>Edna</td>\n",
       "      <td>1956</td>\n",
       "      <td>October</td>\n",
       "      <td>circle</td>\n",
       "      <td>28.978333</td>\n",
       "      <td>-96.645833</td>\n",
       "    </tr>\n",
       "    <tr>\n",
       "      <th>4</th>\n",
       "      <td>1960-10-10 20:00:00</td>\n",
       "      <td>15.00</td>\n",
       "      <td>US</td>\n",
       "      <td>Hawaii</td>\n",
       "      <td>Kane'ohe</td>\n",
       "      <td>1960</td>\n",
       "      <td>October</td>\n",
       "      <td>light</td>\n",
       "      <td>21.418056</td>\n",
       "      <td>-157.803611</td>\n",
       "    </tr>\n",
       "  </tbody>\n",
       "</table>\n",
       "</div>"
      ],
      "text/plain": [
       "            Date_time  Duration_minutes Country    State  \\\n",
       "0 1949-10-10 20:30:00             45.00      US    Texas   \n",
       "1 1949-10-10 21:00:00             60.00      US    Texas   \n",
       "2 1955-10-10 17:00:00              0.33      GB  England   \n",
       "3 1956-10-10 21:00:00             30.00      US    Texas   \n",
       "4 1960-10-10 20:00:00             15.00      US   Hawaii   \n",
       "\n",
       "                      City  Year    Month        sh        lat        long  \n",
       "0               San Marcos  1949  October  cylinder  29.883056  -97.941111  \n",
       "1  Lackland Air Force Base  1949  October     light  29.384210  -98.581082  \n",
       "2                   Blacon  1955  October    circle  53.200000   -2.916667  \n",
       "3                     Edna  1956  October    circle  28.978333  -96.645833  \n",
       "4                 Kane'ohe  1960  October     light  21.418056 -157.803611  "
      ]
     },
     "execution_count": 6,
     "metadata": {},
     "output_type": "execute_result"
    }
   ],
   "source": [
    "data_m.head()"
   ]
  },
  {
   "cell_type": "code",
   "execution_count": 7,
   "metadata": {},
   "outputs": [
    {
     "data": {
      "text/plain": [
       "Date_time           0\n",
       "Duration_minutes    0\n",
       "Country             0\n",
       "State               0\n",
       "City                0\n",
       "Year                0\n",
       "Month               0\n",
       "sh                  0\n",
       "lat                 0\n",
       "long                0\n",
       "dtype: int64"
      ]
     },
     "execution_count": 7,
     "metadata": {},
     "output_type": "execute_result"
    }
   ],
   "source": [
    "data_m.isnull().sum()"
   ]
  },
  {
   "cell_type": "markdown",
   "metadata": {},
   "source": [
    "### 4.4.2 Checking Categorical Variable and their unique values<a id='4.4.2_Checking_Categorical_Variable_and_their_unique_values'></a>"
   ]
  },
  {
   "cell_type": "code",
   "execution_count": 8,
   "metadata": {},
   "outputs": [
    {
     "data": {
      "text/plain": [
       "157"
      ]
     },
     "execution_count": 8,
     "metadata": {},
     "output_type": "execute_result"
    }
   ],
   "source": [
    "data_m['Country'].nunique()"
   ]
  },
  {
   "cell_type": "code",
   "execution_count": 9,
   "metadata": {},
   "outputs": [
    {
     "data": {
      "text/plain": [
       "796"
      ]
     },
     "execution_count": 9,
     "metadata": {},
     "output_type": "execute_result"
    }
   ],
   "source": [
    "data_m['State'].nunique()"
   ]
  },
  {
   "cell_type": "code",
   "execution_count": 10,
   "metadata": {},
   "outputs": [
    {
     "data": {
      "text/plain": [
       "array(['cylinder', 'light', 'circle', 'sphere', 'Circle', 'Changing',\n",
       "       'Disk', 'disk', 'Round', 'fireball', 'unknown', 'Light', 'Sphere',\n",
       "       'other', 'oval', 'cigar', 'rectangle', 'chevron', 'triangle',\n",
       "       'formation', 'Chevron', 'Triangle', 'delta', 'changing', 'Cigar',\n",
       "       'Egg', 'flash', 'Oval', 'Cylinder', 'Flash', 'Formation', 'cross',\n",
       "       'Crescent', 'Fireball', 'Cross', 'Diamond', 'teardrop', 'egg',\n",
       "       'Rectangle', 'Changed', 'diamond', 'Delta', 'cone', 'Cone',\n",
       "       'Hexagon', 'Flare', 'Teardrop', 'Pyramid', 'pyramid', 'flare',\n",
       "       'round'], dtype=object)"
      ]
     },
     "execution_count": 10,
     "metadata": {},
     "output_type": "execute_result"
    }
   ],
   "source": [
    "data_m['sh'].unique()"
   ]
  },
  {
   "cell_type": "markdown",
   "metadata": {},
   "source": [
    "#### 4.4.2.1 Reducing Conflicting Shapes by changing all to lowercase<a id='4.4.2.1_Reducing_Conflicting_Shapes_by_changing_all_to_lowercase'></a>"
   ]
  },
  {
   "cell_type": "code",
   "execution_count": 11,
   "metadata": {},
   "outputs": [
    {
     "name": "stderr",
     "output_type": "stream",
     "text": [
      "D:\\Anacon\\lib\\site-packages\\pandas\\core\\indexing.py:1676: SettingWithCopyWarning: \n",
      "A value is trying to be set on a copy of a slice from a DataFrame.\n",
      "Try using .loc[row_indexer,col_indexer] = value instead\n",
      "\n",
      "See the caveats in the documentation: https://pandas.pydata.org/pandas-docs/stable/user_guide/indexing.html#returning-a-view-versus-a-copy\n",
      "  self._setitem_single_column(ilocs[0], value, pi)\n"
     ]
    }
   ],
   "source": [
    "data_m.loc[:,'sh'] = data_m['sh'].str.lower()"
   ]
  },
  {
   "cell_type": "code",
   "execution_count": 12,
   "metadata": {},
   "outputs": [
    {
     "data": {
      "text/plain": [
       "array(['cylinder', 'light', 'circle', 'sphere', 'changing', 'disk',\n",
       "       'round', 'fireball', 'unknown', 'other', 'oval', 'cigar',\n",
       "       'rectangle', 'chevron', 'triangle', 'formation', 'delta', 'egg',\n",
       "       'flash', 'cross', 'crescent', 'diamond', 'teardrop', 'changed',\n",
       "       'cone', 'hexagon', 'flare', 'pyramid'], dtype=object)"
      ]
     },
     "execution_count": 12,
     "metadata": {},
     "output_type": "execute_result"
    }
   ],
   "source": [
    "data_m['sh'].unique()"
   ]
  },
  {
   "cell_type": "code",
   "execution_count": 13,
   "metadata": {},
   "outputs": [
    {
     "data": {
      "text/plain": [
       "light        23358\n",
       "triangle      7267\n",
       "circle        5460\n",
       "fireball      5201\n",
       "disk          4626\n",
       "sphere        4562\n",
       "other         4415\n",
       "unknown       4039\n",
       "oval          3169\n",
       "formation     2988\n",
       "cigar         1901\n",
       "changing      1780\n",
       "round         1203\n",
       "cylinder      1141\n",
       "rectangle     1133\n",
       "flash         1066\n",
       "diamond       1041\n",
       "chevron        795\n",
       "egg            632\n",
       "teardrop       605\n",
       "changed        427\n",
       "cross          270\n",
       "cone           261\n",
       "crescent        62\n",
       "flare           59\n",
       "delta           44\n",
       "pyramid         28\n",
       "hexagon         11\n",
       "Name: sh, dtype: int64"
      ]
     },
     "execution_count": 13,
     "metadata": {},
     "output_type": "execute_result"
    }
   ],
   "source": [
    "data_m['sh'].value_counts()"
   ]
  },
  {
   "cell_type": "code",
   "execution_count": 14,
   "metadata": {},
   "outputs": [
    {
     "data": {
      "text/plain": [
       "28"
      ]
     },
     "execution_count": 14,
     "metadata": {},
     "output_type": "execute_result"
    }
   ],
   "source": [
    "data_m['sh'].nunique()"
   ]
  },
  {
   "cell_type": "markdown",
   "metadata": {},
   "source": [
    "#### 4.4.2.2 Reducing Country labels by categorising all countries with less than 100 sightings to OTHER<a id='4.4.2.2_Reducing_Country_labels_by_categorising_all_countries_with_less_than_100_sightings_to_OTHER'></a>"
   ]
  },
  {
   "cell_type": "code",
   "execution_count": 15,
   "metadata": {},
   "outputs": [],
   "source": [
    "counts = data_m['Country'].value_counts()"
   ]
  },
  {
   "cell_type": "code",
   "execution_count": 16,
   "metadata": {},
   "outputs": [],
   "source": [
    "mask_1 = data_m['Country'].isin(counts[counts < 100].index)"
   ]
  },
  {
   "cell_type": "code",
   "execution_count": 17,
   "metadata": {},
   "outputs": [
    {
     "name": "stderr",
     "output_type": "stream",
     "text": [
      "D:\\Anacon\\lib\\site-packages\\ipykernel_launcher.py:1: SettingWithCopyWarning: \n",
      "A value is trying to be set on a copy of a slice from a DataFrame\n",
      "\n",
      "See the caveats in the documentation: https://pandas.pydata.org/pandas-docs/stable/user_guide/indexing.html#returning-a-view-versus-a-copy\n",
      "  \"\"\"Entry point for launching an IPython kernel.\n",
      "D:\\Anacon\\lib\\site-packages\\pandas\\core\\series.py:963: SettingWithCopyWarning: \n",
      "A value is trying to be set on a copy of a slice from a DataFrame\n",
      "\n",
      "See the caveats in the documentation: https://pandas.pydata.org/pandas-docs/stable/user_guide/indexing.html#returning-a-view-versus-a-copy\n",
      "  self._where(~key, value, inplace=True)\n"
     ]
    }
   ],
   "source": [
    "data_m['Country'][mask_1] = 'OTHER'"
   ]
  },
  {
   "cell_type": "code",
   "execution_count": 18,
   "metadata": {},
   "outputs": [
    {
     "data": {
      "text/plain": [
       "array(['US', 'GB', 'OTHER', 'GH', 'CA', 'AU', 'MX', 'IN', 'DE', 'NL'],\n",
       "      dtype=object)"
      ]
     },
     "execution_count": 18,
     "metadata": {},
     "output_type": "execute_result"
    }
   ],
   "source": [
    "data_m['Country'].unique()"
   ]
  },
  {
   "cell_type": "code",
   "execution_count": 19,
   "metadata": {},
   "outputs": [
    {
     "data": {
      "text/plain": [
       "796"
      ]
     },
     "execution_count": 19,
     "metadata": {},
     "output_type": "execute_result"
    }
   ],
   "source": [
    "data_m['State'].nunique()"
   ]
  },
  {
   "cell_type": "code",
   "execution_count": 20,
   "metadata": {},
   "outputs": [
    {
     "data": {
      "text/plain": [
       "10444"
      ]
     },
     "execution_count": 20,
     "metadata": {},
     "output_type": "execute_result"
    }
   ],
   "source": [
    "data_m['City'].nunique()"
   ]
  },
  {
   "cell_type": "code",
   "execution_count": 21,
   "metadata": {},
   "outputs": [
    {
     "name": "stderr",
     "output_type": "stream",
     "text": [
      "D:\\Anacon\\lib\\site-packages\\ipykernel_launcher.py:1: SettingWithCopyWarning: \n",
      "A value is trying to be set on a copy of a slice from a DataFrame.\n",
      "Try using .loc[row_indexer,col_indexer] = value instead\n",
      "\n",
      "See the caveats in the documentation: https://pandas.pydata.org/pandas-docs/stable/user_guide/indexing.html#returning-a-view-versus-a-copy\n",
      "  \"\"\"Entry point for launching an IPython kernel.\n"
     ]
    }
   ],
   "source": [
    "data_m['Month'] = data_m['Date_time'].dt.month "
   ]
  },
  {
   "cell_type": "markdown",
   "metadata": {},
   "source": [
    "#### 4.4.2.3 Extracting Month, Day & hour from Datetime column & dropping it<a id='4.4.2.3_Extracting_Month,_Day_&_hour_from_Datetime_column_&_dropping_it'></a>"
   ]
  },
  {
   "cell_type": "code",
   "execution_count": 22,
   "metadata": {},
   "outputs": [
    {
     "name": "stderr",
     "output_type": "stream",
     "text": [
      "D:\\Anacon\\lib\\site-packages\\ipykernel_launcher.py:1: SettingWithCopyWarning: \n",
      "A value is trying to be set on a copy of a slice from a DataFrame.\n",
      "Try using .loc[row_indexer,col_indexer] = value instead\n",
      "\n",
      "See the caveats in the documentation: https://pandas.pydata.org/pandas-docs/stable/user_guide/indexing.html#returning-a-view-versus-a-copy\n",
      "  \"\"\"Entry point for launching an IPython kernel.\n"
     ]
    }
   ],
   "source": [
    "data_m['Day'] = data_m['Date_time'].dt.day"
   ]
  },
  {
   "cell_type": "code",
   "execution_count": 23,
   "metadata": {},
   "outputs": [
    {
     "name": "stderr",
     "output_type": "stream",
     "text": [
      "D:\\Anacon\\lib\\site-packages\\ipykernel_launcher.py:1: SettingWithCopyWarning: \n",
      "A value is trying to be set on a copy of a slice from a DataFrame.\n",
      "Try using .loc[row_indexer,col_indexer] = value instead\n",
      "\n",
      "See the caveats in the documentation: https://pandas.pydata.org/pandas-docs/stable/user_guide/indexing.html#returning-a-view-versus-a-copy\n",
      "  \"\"\"Entry point for launching an IPython kernel.\n"
     ]
    }
   ],
   "source": [
    "data_m['Hour'] = data_m['Date_time'].dt.hour"
   ]
  },
  {
   "cell_type": "code",
   "execution_count": 24,
   "metadata": {},
   "outputs": [],
   "source": [
    "data_m = data_m.drop(['Date_time'], axis = 1) "
   ]
  },
  {
   "cell_type": "code",
   "execution_count": 25,
   "metadata": {},
   "outputs": [
    {
     "name": "stdout",
     "output_type": "stream",
     "text": [
      "<class 'pandas.core.frame.DataFrame'>\n",
      "RangeIndex: 77544 entries, 0 to 77543\n",
      "Data columns (total 11 columns):\n",
      " #   Column            Non-Null Count  Dtype  \n",
      "---  ------            --------------  -----  \n",
      " 0   Duration_minutes  77544 non-null  float64\n",
      " 1   Country           77544 non-null  object \n",
      " 2   State             77544 non-null  object \n",
      " 3   City              77544 non-null  object \n",
      " 4   Year              77544 non-null  int64  \n",
      " 5   Month             77544 non-null  int64  \n",
      " 6   sh                77544 non-null  object \n",
      " 7   lat               77544 non-null  float64\n",
      " 8   long              77544 non-null  float64\n",
      " 9   Day               77544 non-null  int64  \n",
      " 10  Hour              77544 non-null  int64  \n",
      "dtypes: float64(3), int64(4), object(4)\n",
      "memory usage: 6.5+ MB\n"
     ]
    }
   ],
   "source": [
    "data_m.info()"
   ]
  },
  {
   "cell_type": "code",
   "execution_count": null,
   "metadata": {},
   "outputs": [],
   "source": []
  },
  {
   "cell_type": "markdown",
   "metadata": {},
   "source": [
    "### 4.4.3 Creating datasets for Modelling<a id='4.4.3_Creating_datasets_for_Modelling'></a>"
   ]
  },
  {
   "cell_type": "markdown",
   "metadata": {},
   "source": [
    "#### 4.4.3.1 Dataset 1 All Features<a id='4.4.3.1_Dataset_1_All_Features'></a>"
   ]
  },
  {
   "cell_type": "code",
   "execution_count": 26,
   "metadata": {},
   "outputs": [
    {
     "data": {
      "text/html": [
       "<div>\n",
       "<style scoped>\n",
       "    .dataframe tbody tr th:only-of-type {\n",
       "        vertical-align: middle;\n",
       "    }\n",
       "\n",
       "    .dataframe tbody tr th {\n",
       "        vertical-align: top;\n",
       "    }\n",
       "\n",
       "    .dataframe thead th {\n",
       "        text-align: right;\n",
       "    }\n",
       "</style>\n",
       "<table border=\"1\" class=\"dataframe\">\n",
       "  <thead>\n",
       "    <tr style=\"text-align: right;\">\n",
       "      <th></th>\n",
       "      <th>Duration_minutes</th>\n",
       "      <th>Country</th>\n",
       "      <th>State</th>\n",
       "      <th>City</th>\n",
       "      <th>Year</th>\n",
       "      <th>Month</th>\n",
       "      <th>sh</th>\n",
       "      <th>lat</th>\n",
       "      <th>long</th>\n",
       "      <th>Day</th>\n",
       "      <th>Hour</th>\n",
       "    </tr>\n",
       "  </thead>\n",
       "  <tbody>\n",
       "    <tr>\n",
       "      <th>0</th>\n",
       "      <td>45.00</td>\n",
       "      <td>US</td>\n",
       "      <td>Texas</td>\n",
       "      <td>San Marcos</td>\n",
       "      <td>1949</td>\n",
       "      <td>10</td>\n",
       "      <td>cylinder</td>\n",
       "      <td>29.883056</td>\n",
       "      <td>-97.941111</td>\n",
       "      <td>10</td>\n",
       "      <td>20</td>\n",
       "    </tr>\n",
       "    <tr>\n",
       "      <th>1</th>\n",
       "      <td>60.00</td>\n",
       "      <td>US</td>\n",
       "      <td>Texas</td>\n",
       "      <td>Lackland Air Force Base</td>\n",
       "      <td>1949</td>\n",
       "      <td>10</td>\n",
       "      <td>light</td>\n",
       "      <td>29.384210</td>\n",
       "      <td>-98.581082</td>\n",
       "      <td>10</td>\n",
       "      <td>21</td>\n",
       "    </tr>\n",
       "    <tr>\n",
       "      <th>2</th>\n",
       "      <td>0.33</td>\n",
       "      <td>GB</td>\n",
       "      <td>England</td>\n",
       "      <td>Blacon</td>\n",
       "      <td>1955</td>\n",
       "      <td>10</td>\n",
       "      <td>circle</td>\n",
       "      <td>53.200000</td>\n",
       "      <td>-2.916667</td>\n",
       "      <td>10</td>\n",
       "      <td>17</td>\n",
       "    </tr>\n",
       "    <tr>\n",
       "      <th>3</th>\n",
       "      <td>30.00</td>\n",
       "      <td>US</td>\n",
       "      <td>Texas</td>\n",
       "      <td>Edna</td>\n",
       "      <td>1956</td>\n",
       "      <td>10</td>\n",
       "      <td>circle</td>\n",
       "      <td>28.978333</td>\n",
       "      <td>-96.645833</td>\n",
       "      <td>10</td>\n",
       "      <td>21</td>\n",
       "    </tr>\n",
       "    <tr>\n",
       "      <th>4</th>\n",
       "      <td>15.00</td>\n",
       "      <td>US</td>\n",
       "      <td>Hawaii</td>\n",
       "      <td>Kane'ohe</td>\n",
       "      <td>1960</td>\n",
       "      <td>10</td>\n",
       "      <td>light</td>\n",
       "      <td>21.418056</td>\n",
       "      <td>-157.803611</td>\n",
       "      <td>10</td>\n",
       "      <td>20</td>\n",
       "    </tr>\n",
       "  </tbody>\n",
       "</table>\n",
       "</div>"
      ],
      "text/plain": [
       "   Duration_minutes Country    State                     City  Year  Month  \\\n",
       "0             45.00      US    Texas               San Marcos  1949     10   \n",
       "1             60.00      US    Texas  Lackland Air Force Base  1949     10   \n",
       "2              0.33      GB  England                   Blacon  1955     10   \n",
       "3             30.00      US    Texas                     Edna  1956     10   \n",
       "4             15.00      US   Hawaii                 Kane'ohe  1960     10   \n",
       "\n",
       "         sh        lat        long  Day  Hour  \n",
       "0  cylinder  29.883056  -97.941111   10    20  \n",
       "1     light  29.384210  -98.581082   10    21  \n",
       "2    circle  53.200000   -2.916667   10    17  \n",
       "3    circle  28.978333  -96.645833   10    21  \n",
       "4     light  21.418056 -157.803611   10    20  "
      ]
     },
     "execution_count": 26,
     "metadata": {},
     "output_type": "execute_result"
    }
   ],
   "source": [
    "data_m.head()"
   ]
  },
  {
   "cell_type": "markdown",
   "metadata": {},
   "source": [
    "#### 4.4.3.2 Dataset 2 - without City & State Columns<a id='4.4.3.2_Dataset_2_-_without_City_&_State_Columns'></a>"
   ]
  },
  {
   "cell_type": "code",
   "execution_count": 27,
   "metadata": {},
   "outputs": [],
   "source": [
    "data_1 = data_m.drop(['State', 'City'], axis = 1)"
   ]
  },
  {
   "cell_type": "code",
   "execution_count": 28,
   "metadata": {},
   "outputs": [
    {
     "data": {
      "text/html": [
       "<div>\n",
       "<style scoped>\n",
       "    .dataframe tbody tr th:only-of-type {\n",
       "        vertical-align: middle;\n",
       "    }\n",
       "\n",
       "    .dataframe tbody tr th {\n",
       "        vertical-align: top;\n",
       "    }\n",
       "\n",
       "    .dataframe thead th {\n",
       "        text-align: right;\n",
       "    }\n",
       "</style>\n",
       "<table border=\"1\" class=\"dataframe\">\n",
       "  <thead>\n",
       "    <tr style=\"text-align: right;\">\n",
       "      <th></th>\n",
       "      <th>Duration_minutes</th>\n",
       "      <th>Country</th>\n",
       "      <th>Year</th>\n",
       "      <th>Month</th>\n",
       "      <th>sh</th>\n",
       "      <th>lat</th>\n",
       "      <th>long</th>\n",
       "      <th>Day</th>\n",
       "      <th>Hour</th>\n",
       "    </tr>\n",
       "  </thead>\n",
       "  <tbody>\n",
       "    <tr>\n",
       "      <th>0</th>\n",
       "      <td>45.00</td>\n",
       "      <td>US</td>\n",
       "      <td>1949</td>\n",
       "      <td>10</td>\n",
       "      <td>cylinder</td>\n",
       "      <td>29.883056</td>\n",
       "      <td>-97.941111</td>\n",
       "      <td>10</td>\n",
       "      <td>20</td>\n",
       "    </tr>\n",
       "    <tr>\n",
       "      <th>1</th>\n",
       "      <td>60.00</td>\n",
       "      <td>US</td>\n",
       "      <td>1949</td>\n",
       "      <td>10</td>\n",
       "      <td>light</td>\n",
       "      <td>29.384210</td>\n",
       "      <td>-98.581082</td>\n",
       "      <td>10</td>\n",
       "      <td>21</td>\n",
       "    </tr>\n",
       "    <tr>\n",
       "      <th>2</th>\n",
       "      <td>0.33</td>\n",
       "      <td>GB</td>\n",
       "      <td>1955</td>\n",
       "      <td>10</td>\n",
       "      <td>circle</td>\n",
       "      <td>53.200000</td>\n",
       "      <td>-2.916667</td>\n",
       "      <td>10</td>\n",
       "      <td>17</td>\n",
       "    </tr>\n",
       "    <tr>\n",
       "      <th>3</th>\n",
       "      <td>30.00</td>\n",
       "      <td>US</td>\n",
       "      <td>1956</td>\n",
       "      <td>10</td>\n",
       "      <td>circle</td>\n",
       "      <td>28.978333</td>\n",
       "      <td>-96.645833</td>\n",
       "      <td>10</td>\n",
       "      <td>21</td>\n",
       "    </tr>\n",
       "    <tr>\n",
       "      <th>4</th>\n",
       "      <td>15.00</td>\n",
       "      <td>US</td>\n",
       "      <td>1960</td>\n",
       "      <td>10</td>\n",
       "      <td>light</td>\n",
       "      <td>21.418056</td>\n",
       "      <td>-157.803611</td>\n",
       "      <td>10</td>\n",
       "      <td>20</td>\n",
       "    </tr>\n",
       "  </tbody>\n",
       "</table>\n",
       "</div>"
      ],
      "text/plain": [
       "   Duration_minutes Country  Year  Month        sh        lat        long  \\\n",
       "0             45.00      US  1949     10  cylinder  29.883056  -97.941111   \n",
       "1             60.00      US  1949     10     light  29.384210  -98.581082   \n",
       "2              0.33      GB  1955     10    circle  53.200000   -2.916667   \n",
       "3             30.00      US  1956     10    circle  28.978333  -96.645833   \n",
       "4             15.00      US  1960     10     light  21.418056 -157.803611   \n",
       "\n",
       "   Day  Hour  \n",
       "0   10    20  \n",
       "1   10    21  \n",
       "2   10    17  \n",
       "3   10    21  \n",
       "4   10    20  "
      ]
     },
     "execution_count": 28,
     "metadata": {},
     "output_type": "execute_result"
    }
   ],
   "source": [
    "data_1.head()"
   ]
  },
  {
   "cell_type": "code",
   "execution_count": 29,
   "metadata": {},
   "outputs": [
    {
     "data": {
      "text/plain": [
       "(77544, 9)"
      ]
     },
     "execution_count": 29,
     "metadata": {},
     "output_type": "execute_result"
    }
   ],
   "source": [
    "data_1.shape"
   ]
  },
  {
   "cell_type": "markdown",
   "metadata": {},
   "source": [
    "## 4.5 Encoding Categorical Features<a id='4.5_Encoding_Categorical_Features'></a>"
   ]
  },
  {
   "cell_type": "markdown",
   "metadata": {},
   "source": [
    "### 4.5.1 For Dataset 1<a id='4.5.1_For_Dataset_1'></a>"
   ]
  },
  {
   "cell_type": "code",
   "execution_count": 30,
   "metadata": {},
   "outputs": [],
   "source": [
    "# Using get_dummies method from pandas\n",
    "\n",
    "X_1 = data_m[['Year','Month','sh','lat','long','Country','State','City','Day','Hour']]\n",
    "y_1 = data_m['Duration_minutes']"
   ]
  },
  {
   "cell_type": "code",
   "execution_count": 31,
   "metadata": {},
   "outputs": [],
   "source": [
    "X_1 = pd.get_dummies(data = X_1, drop_first = True)"
   ]
  },
  {
   "cell_type": "markdown",
   "metadata": {},
   "source": [
    "### 4.5.2 For Dataset 2<a id='4.5.2_For_Dataset_2'></a>"
   ]
  },
  {
   "cell_type": "code",
   "execution_count": 32,
   "metadata": {},
   "outputs": [],
   "source": [
    "X_2 = data_1[['Country','Year','Month','sh','lat','long','Day','Hour']]\n",
    "y_2 = data_m['Duration_minutes']"
   ]
  },
  {
   "cell_type": "code",
   "execution_count": 33,
   "metadata": {},
   "outputs": [],
   "source": [
    "X_2 = pd.get_dummies(data = X_2, drop_first = True)"
   ]
  },
  {
   "cell_type": "code",
   "execution_count": null,
   "metadata": {},
   "outputs": [],
   "source": []
  },
  {
   "cell_type": "markdown",
   "metadata": {},
   "source": [
    "## 4.6 Train/Test Split<a id='4.6_Train/Test_Split'></a>"
   ]
  },
  {
   "cell_type": "markdown",
   "metadata": {},
   "source": [
    "In machine learning, when you train your model on all of your data, you end up with no data set aside to evaluate model performance. You could keep making more and more complex models that fit the data better and better and not realise you were overfitting to that one set of samples. By partitioning the data into training and testing splits, without letting a model (or missing-value imputation) learn anything about the test split, you have a somewhat independent assessment of how your model might perform in the future. An often overlooked subtlety here is that people all too frequently use the test set to assess model performance _and then compare multiple models to pick the best_. This means their overall model selection process is  fitting to one specific data set, now the test split. You could keep going, trying to get better and better performance on that one data set, but that's  where cross-validation becomes especially useful. While training models, a test split is very useful as a final check on expected future performance."
   ]
  },
  {
   "cell_type": "markdown",
   "metadata": {},
   "source": [
    "### 4.6.1 For Dataset 1<a id='4.6.1_For_Dataset_1'></a>"
   ]
  },
  {
   "cell_type": "code",
   "execution_count": 34,
   "metadata": {},
   "outputs": [],
   "source": [
    "X_1_train, X_1_test, y_1_train, y_1_test = train_test_split(X_1, y_1, test_size = .25, random_state = 40)"
   ]
  },
  {
   "cell_type": "markdown",
   "metadata": {},
   "source": [
    "### 4.6.2 For Dataset 2<a id='4.6.2_For_Dataset_2'></a>"
   ]
  },
  {
   "cell_type": "code",
   "execution_count": 35,
   "metadata": {},
   "outputs": [],
   "source": [
    "X_2_train, X_2_test, y_2_train, y_2_test = train_test_split(X_2, y_2, test_size = .25, random_state = 40)"
   ]
  },
  {
   "cell_type": "code",
   "execution_count": null,
   "metadata": {},
   "outputs": [],
   "source": []
  },
  {
   "cell_type": "markdown",
   "metadata": {},
   "source": [
    "## 4.7  Metrics - User Defined Functions / SK Learn<a id='4.7_Metrics_-_User_Defined_Functions_/_SK_Learn'></a>"
   ]
  },
  {
   "cell_type": "markdown",
   "metadata": {},
   "source": [
    "### 4.7.1 R-squared, or coefficient of determination<a id='4.7.1_R-squared,_or_coefficient_of_determination'></a>"
   ]
  },
  {
   "cell_type": "markdown",
   "metadata": {},
   "source": [
    "One measure is $R^2$, the [coefficient of determination](https://en.wikipedia.org/wiki/Coefficient_of_determination). This is a measure of the proportion of variance in the dependent variable (our ticket price) that is predicted by our \"model\". The linked Wikipedia articles gives a nice explanation of how negative values can arise. This is frequently a cause of confusion for newcomers who, reasonably, ask how can a squared value be negative?\n",
    "\n",
    "Recall the mean can be denoted by $\\bar{y}$, where\n",
    "\n",
    "$$\\bar{y} = \\frac{1}{n}\\sum_{i=1}^ny_i$$\n",
    "\n",
    "and where $y_i$ are the individual values of the dependent variable.\n",
    "\n",
    "The total sum of squares (error), can be expressed as\n",
    "\n",
    "$$SS_{tot} = \\sum_i(y_i-\\bar{y})^2$$\n",
    "\n",
    "The above formula should be familiar as it's simply the variance without the denominator to scale (divide) by the sample size.\n",
    "\n",
    "The residual sum of squares is similarly defined to be\n",
    "\n",
    "$$SS_{res} = \\sum_i(y_i-\\hat{y})^2$$\n",
    "\n",
    "where $\\hat{y}$ are our predicted values for the depended variable.\n",
    "\n",
    "The coefficient of determination, $R^2$, here is given by\n",
    "\n",
    "$$R^2 = 1 - \\frac{SS_{res}}{SS_{tot}}$$\n",
    "\n",
    "Putting it into words, it's one minus the ratio of the residual variance to the original variance. Thus, the baseline model here, which always predicts $\\bar{y}$, should give $R^2=0$. A model that perfectly predicts the observed values would have no residual error and so give $R^2=1$. Models that do worse than predicting the mean will have increased the sum of squares of residuals and so produce a negative $R^2$."
   ]
  },
  {
   "cell_type": "markdown",
   "metadata": {},
   "source": [
    "<b> User Defined </b>"
   ]
  },
  {
   "cell_type": "code",
   "execution_count": null,
   "metadata": {},
   "outputs": [],
   "source": [
    "#Code task 6#\n",
    "#Calculate the R^2 as defined above\n",
    "def r_squared(y, ypred):\n",
    "    \"\"\"R-squared score.\n",
    "    \n",
    "    Calculate the R-squared, or coefficient of determination, of the input.\n",
    "    \n",
    "    Arguments:\n",
    "    y -- the observed values\n",
    "    ypred -- the predicted values\n",
    "    \"\"\"\n",
    "    ybar = np.sum(y) / len(y) #yes, we could use np.mean(y)\n",
    "    sum_sq_tot = np.square((y - ybar)**2) #total sum of squares error\n",
    "    sum_sq_res = np.square((y - ypred)**2) #residual sum of squares error\n",
    "    R2 = 1.0 - sum_sq_res / sum_sq_tot\n",
    "    return R2\n",
    "\n",
    "#Make your predictions by creating an array of length the size of the training set with the single value of the mean."
   ]
  },
  {
   "cell_type": "markdown",
   "metadata": {},
   "source": [
    "<b> SK Learn </b>"
   ]
  },
  {
   "cell_type": "code",
   "execution_count": null,
   "metadata": {},
   "outputs": [],
   "source": [
    "r2_score(y , y_tr_pred)"
   ]
  },
  {
   "cell_type": "markdown",
   "metadata": {},
   "source": [
    "$R^2$ is a common metric, and interpretable in terms of the amount of variance explained, it's less appealing if you want an idea of how \"close\" your predictions are to the true values. Metrics that summarise the difference between predicted and actual values are _mean absolute error_ and _mean squared error_."
   ]
  },
  {
   "cell_type": "markdown",
   "metadata": {},
   "source": [
    "### 4.7.2 Mean Absolute Error<a id='4.7.2_Mean_Absolute_Error'></a>"
   ]
  },
  {
   "cell_type": "markdown",
   "metadata": {},
   "source": [
    "This is very simply the average of the absolute errors:\n",
    "\n",
    "$$MAE = \\frac{1}{n}\\sum_i^n|y_i - \\hat{y}|$$"
   ]
  },
  {
   "cell_type": "markdown",
   "metadata": {},
   "source": [
    "<b> User Defined </b>"
   ]
  },
  {
   "cell_type": "code",
   "execution_count": null,
   "metadata": {},
   "outputs": [],
   "source": [
    "#Code task 7#\n",
    "#Calculate the MAE as defined above\n",
    "def mae(y, ypred):\n",
    "    \"\"\"Mean absolute error.\n",
    "    \n",
    "    Calculate the mean absolute error of the arguments\n",
    "\n",
    "    Arguments:\n",
    "    y -- the observed values\n",
    "    ypred -- the predicted values\n",
    "    \"\"\"\n",
    "    abs_error = np.abs(y - ypred)\n",
    "    mae = np.mean(abs_error)\n",
    "    return mae"
   ]
  },
  {
   "cell_type": "markdown",
   "metadata": {},
   "source": [
    "<b> SK Learn </b>"
   ]
  },
  {
   "cell_type": "code",
   "execution_count": null,
   "metadata": {},
   "outputs": [],
   "source": [
    "mean_absolute_error(y , y_pred)"
   ]
  },
  {
   "cell_type": "markdown",
   "metadata": {},
   "source": [
    "Mean absolute error is arguably the most intuitive of all the metrics, this essentially tells you that, on average, you might expect to be off by around \\\\$19 if you guessed ticket price based on an average of known values."
   ]
  },
  {
   "cell_type": "markdown",
   "metadata": {},
   "source": [
    "### 4.7.3 Mean Squared Error<a id='4.7.3_Mean_Squared_Error'></a>"
   ]
  },
  {
   "cell_type": "markdown",
   "metadata": {},
   "source": [
    "Another common metric (and an important one internally for optimizing machine learning models) is the mean squared error. This is simply the average of the square of the errors:\n",
    "\n",
    "$$MSE = \\frac{1}{n}\\sum_i^n(y_i - \\hat{y})^2$$"
   ]
  },
  {
   "cell_type": "markdown",
   "metadata": {},
   "source": [
    "<b> User Defined </b>"
   ]
  },
  {
   "cell_type": "code",
   "execution_count": null,
   "metadata": {
    "scrolled": true
   },
   "outputs": [],
   "source": [
    "#Code task 8#\n",
    "#Calculate the MSE as defined above\n",
    "def mse(y, ypred):\n",
    "    \"\"\"Mean square error.\n",
    "    \n",
    "    Calculate the mean square error of the arguments\n",
    "\n",
    "    Arguments:\n",
    "    y -- the observed values\n",
    "    ypred -- the predicted values\n",
    "    \"\"\"\n",
    "    sq_error = (y - ypred)**2\n",
    "    mse = np.mean(sq_error)\n",
    "    return mse"
   ]
  },
  {
   "cell_type": "markdown",
   "metadata": {},
   "source": [
    "<b> SK Learn </b>"
   ]
  },
  {
   "cell_type": "code",
   "execution_count": null,
   "metadata": {},
   "outputs": [],
   "source": [
    "mean_squared_error(y , y_tr_pred)"
   ]
  },
  {
   "cell_type": "markdown",
   "metadata": {},
   "source": [
    "## 4.8  Scaling Data<a id='4.8_Scaling_Data'></a>"
   ]
  },
  {
   "cell_type": "markdown",
   "metadata": {},
   "source": []
  },
  {
   "cell_type": "code",
   "execution_count": 41,
   "metadata": {},
   "outputs": [],
   "source": [
    "scaler = StandardScaler()\n",
    "scaler.fit(X_2_train)\n",
    "X_2_tr_scaled = scaler.transform(X_2_train)\n",
    "X_2_te_scaled = scaler.transform(X_2_test)"
   ]
  },
  {
   "cell_type": "markdown",
   "metadata": {},
   "source": [
    "## 4.9 Training Model on Data<a id='4.9_Training_Model_on_Data'></a>"
   ]
  },
  {
   "cell_type": "markdown",
   "metadata": {},
   "source": [
    "### 4.9.1 Linear Regression Model<a id='4.9.1_Linear_Regression_Model'></a>"
   ]
  },
  {
   "cell_type": "markdown",
   "metadata": {},
   "source": [
    "#### 4.9.1.1 Train Model on Train Split without Scaling<a id='4.8.1.1_Train_Model_on_Train_Split_without_Scaling'></a>"
   ]
  },
  {
   "cell_type": "code",
   "execution_count": 36,
   "metadata": {},
   "outputs": [
    {
     "data": {
      "text/plain": [
       "LinearRegression()"
      ]
     },
     "execution_count": 36,
     "metadata": {},
     "output_type": "execute_result"
    }
   ],
   "source": [
    "lm = LinearRegression()\n",
    "lm.fit(X_2_train, y_2_train)"
   ]
  },
  {
   "cell_type": "code",
   "execution_count": 37,
   "metadata": {},
   "outputs": [],
   "source": [
    "y_2_tr_pred = lm.predict(X_2_train)\n",
    "y_2_te_pred = lm.predict(X_2_test)"
   ]
  },
  {
   "cell_type": "code",
   "execution_count": 58,
   "metadata": {},
   "outputs": [
    {
     "data": {
      "text/plain": [
       "1.0"
      ]
     },
     "execution_count": 58,
     "metadata": {},
     "output_type": "execute_result"
    }
   ],
   "source": [
    "lm.score(X_2_test, y_2_te_pred)"
   ]
  },
  {
   "cell_type": "code",
   "execution_count": 38,
   "metadata": {},
   "outputs": [
    {
     "data": {
      "text/plain": [
       "(0.004243870520794779, 0.00378264583083443)"
      ]
     },
     "execution_count": 38,
     "metadata": {},
     "output_type": "execute_result"
    }
   ],
   "source": [
    "r2_score(y_2_train, y_2_tr_pred), r2_score(y_2_test, y_2_te_pred)"
   ]
  },
  {
   "cell_type": "code",
   "execution_count": 39,
   "metadata": {},
   "outputs": [
    {
     "data": {
      "text/plain": [
       "(18.75776326576067, 19.81914073070893)"
      ]
     },
     "execution_count": 39,
     "metadata": {},
     "output_type": "execute_result"
    }
   ],
   "source": [
    "mean_absolute_error(y_2_train, y_2_tr_pred), mean_absolute_error(y_2_test, y_2_te_pred)"
   ]
  },
  {
   "cell_type": "code",
   "execution_count": null,
   "metadata": {},
   "outputs": [],
   "source": []
  },
  {
   "cell_type": "markdown",
   "metadata": {},
   "source": [
    "#### 4.9.1.2 Train Model on Train Split with Scaling<a id='4.9.1.2_Train_Model_on_Train_Split_with_Scaling'></a>"
   ]
  },
  {
   "cell_type": "code",
   "execution_count": 42,
   "metadata": {},
   "outputs": [
    {
     "data": {
      "text/plain": [
       "LinearRegression()"
      ]
     },
     "execution_count": 42,
     "metadata": {},
     "output_type": "execute_result"
    }
   ],
   "source": [
    "lm_2 = LinearRegression()\n",
    "lm_2.fit(X_2_tr_scaled, y_2_train)"
   ]
  },
  {
   "cell_type": "code",
   "execution_count": 43,
   "metadata": {},
   "outputs": [],
   "source": [
    "y_2_tr_sc_pred = lm.predict(X_2_tr_scaled)\n",
    "y_2_te_sc_pred = lm.predict(X_2_te_scaled)"
   ]
  },
  {
   "cell_type": "code",
   "execution_count": 47,
   "metadata": {},
   "outputs": [
    {
     "data": {
      "text/plain": [
       "(-39.65812828048206, -24.058947651934194)"
      ]
     },
     "execution_count": 47,
     "metadata": {},
     "output_type": "execute_result"
    }
   ],
   "source": [
    "r2_score(y_2_train, y_2_tr_sc_pred), r2_score(y_2_test, y_2_te_sc_pred)"
   ]
  },
  {
   "cell_type": "code",
   "execution_count": 48,
   "metadata": {},
   "outputs": [
    {
     "data": {
      "text/plain": [
       "(425.32967551414123, 425.6837535440549)"
      ]
     },
     "execution_count": 48,
     "metadata": {},
     "output_type": "execute_result"
    }
   ],
   "source": [
    "mean_absolute_error(y_2_train, y_2_tr_sc_pred), mean_absolute_error(y_2_test, y_2_te_sc_pred)"
   ]
  },
  {
   "cell_type": "markdown",
   "metadata": {},
   "source": [
    "### 4.9.2 StatsModel OLS<a id='4.9.2_StatsModel_OLS'></a>"
   ]
  },
  {
   "cell_type": "code",
   "execution_count": 50,
   "metadata": {},
   "outputs": [],
   "source": [
    "from statsmodels.formula.api import ols\n",
    "\n",
    "fit = ols('Duration_minutes ~ C(Country) + Year + Month + C(sh) + lat + long + Day + Hour', data=data_1).fit() \n"
   ]
  },
  {
   "cell_type": "code",
   "execution_count": 51,
   "metadata": {},
   "outputs": [
    {
     "data": {
      "text/html": [
       "<table class=\"simpletable\">\n",
       "<caption>OLS Regression Results</caption>\n",
       "<tr>\n",
       "  <th>Dep. Variable:</th>    <td>Duration_minutes</td> <th>  R-squared:         </th>  <td>   0.004</td>  \n",
       "</tr>\n",
       "<tr>\n",
       "  <th>Model:</th>                   <td>OLS</td>       <th>  Adj. R-squared:    </th>  <td>   0.004</td>  \n",
       "</tr>\n",
       "<tr>\n",
       "  <th>Method:</th>             <td>Least Squares</td>  <th>  F-statistic:       </th>  <td>   8.185</td>  \n",
       "</tr>\n",
       "<tr>\n",
       "  <th>Date:</th>             <td>Sun, 23 May 2021</td> <th>  Prob (F-statistic):</th>  <td>7.06e-49</td>  \n",
       "</tr>\n",
       "<tr>\n",
       "  <th>Time:</th>                 <td>17:55:34</td>     <th>  Log-Likelihood:    </th> <td>-4.4238e+05</td>\n",
       "</tr>\n",
       "<tr>\n",
       "  <th>No. Observations:</th>      <td> 77544</td>      <th>  AIC:               </th>  <td>8.849e+05</td> \n",
       "</tr>\n",
       "<tr>\n",
       "  <th>Df Residuals:</th>          <td> 77501</td>      <th>  BIC:               </th>  <td>8.852e+05</td> \n",
       "</tr>\n",
       "<tr>\n",
       "  <th>Df Model:</th>              <td>    42</td>      <th>                     </th>      <td> </td>     \n",
       "</tr>\n",
       "<tr>\n",
       "  <th>Covariance Type:</th>      <td>nonrobust</td>    <th>                     </th>      <td> </td>     \n",
       "</tr>\n",
       "</table>\n",
       "<table class=\"simpletable\">\n",
       "<tr>\n",
       "           <td></td>              <th>coef</th>     <th>std err</th>      <th>t</th>      <th>P>|t|</th>  <th>[0.025</th>    <th>0.975]</th>  \n",
       "</tr>\n",
       "<tr>\n",
       "  <th>Intercept</th>           <td>  519.5124</td> <td>   51.782</td> <td>   10.033</td> <td> 0.000</td> <td>  418.020</td> <td>  621.005</td>\n",
       "</tr>\n",
       "<tr>\n",
       "  <th>C(Country)[T.CA]</th>    <td>    1.8758</td> <td>    5.123</td> <td>    0.366</td> <td> 0.714</td> <td>   -8.165</td> <td>   11.917</td>\n",
       "</tr>\n",
       "<tr>\n",
       "  <th>C(Country)[T.DE]</th>    <td>    5.7447</td> <td>    7.820</td> <td>    0.735</td> <td> 0.463</td> <td>   -9.581</td> <td>   21.071</td>\n",
       "</tr>\n",
       "<tr>\n",
       "  <th>C(Country)[T.GB]</th>    <td>    0.6273</td> <td>    4.838</td> <td>    0.130</td> <td> 0.897</td> <td>   -8.856</td> <td>   10.110</td>\n",
       "</tr>\n",
       "<tr>\n",
       "  <th>C(Country)[T.GH]</th>    <td>    4.6511</td> <td>    4.143</td> <td>    1.123</td> <td> 0.262</td> <td>   -3.469</td> <td>   12.772</td>\n",
       "</tr>\n",
       "<tr>\n",
       "  <th>C(Country)[T.IN]</th>    <td>    7.1857</td> <td>    6.216</td> <td>    1.156</td> <td> 0.248</td> <td>   -4.997</td> <td>   19.369</td>\n",
       "</tr>\n",
       "<tr>\n",
       "  <th>C(Country)[T.MX]</th>    <td>   12.9614</td> <td>    6.786</td> <td>    1.910</td> <td> 0.056</td> <td>   -0.339</td> <td>   26.262</td>\n",
       "</tr>\n",
       "<tr>\n",
       "  <th>C(Country)[T.NL]</th>    <td>    0.8329</td> <td>    8.370</td> <td>    0.100</td> <td> 0.921</td> <td>  -15.572</td> <td>   17.238</td>\n",
       "</tr>\n",
       "<tr>\n",
       "  <th>C(Country)[T.OTHER]</th> <td>    2.4902</td> <td>    4.139</td> <td>    0.602</td> <td> 0.547</td> <td>   -5.623</td> <td>   10.603</td>\n",
       "</tr>\n",
       "<tr>\n",
       "  <th>C(Country)[T.US]</th>    <td>    2.6047</td> <td>    4.848</td> <td>    0.537</td> <td> 0.591</td> <td>   -6.897</td> <td>   12.106</td>\n",
       "</tr>\n",
       "<tr>\n",
       "  <th>C(sh)[T.changing]</th>   <td>    2.0989</td> <td>    3.918</td> <td>    0.536</td> <td> 0.592</td> <td>   -5.579</td> <td>    9.777</td>\n",
       "</tr>\n",
       "<tr>\n",
       "  <th>C(sh)[T.chevron]</th>    <td>  -20.4590</td> <td>    4.362</td> <td>   -4.690</td> <td> 0.000</td> <td>  -29.009</td> <td>  -11.909</td>\n",
       "</tr>\n",
       "<tr>\n",
       "  <th>C(sh)[T.cigar]</th>      <td>  -17.3283</td> <td>    3.895</td> <td>   -4.449</td> <td> 0.000</td> <td>  -24.963</td> <td>   -9.694</td>\n",
       "</tr>\n",
       "<tr>\n",
       "  <th>C(sh)[T.circle]</th>     <td>  -10.8253</td> <td>    3.653</td> <td>   -2.963</td> <td> 0.003</td> <td>  -17.985</td> <td>   -3.665</td>\n",
       "</tr>\n",
       "<tr>\n",
       "  <th>C(sh)[T.cone]</th>       <td>   -8.9467</td> <td>    5.712</td> <td>   -1.566</td> <td> 0.117</td> <td>  -20.143</td> <td>    2.249</td>\n",
       "</tr>\n",
       "<tr>\n",
       "  <th>C(sh)[T.crescent]</th>   <td>  -23.9005</td> <td>    9.881</td> <td>   -2.419</td> <td> 0.016</td> <td>  -43.267</td> <td>   -4.534</td>\n",
       "</tr>\n",
       "<tr>\n",
       "  <th>C(sh)[T.cross]</th>      <td>  -16.5158</td> <td>    5.653</td> <td>   -2.922</td> <td> 0.003</td> <td>  -27.595</td> <td>   -5.437</td>\n",
       "</tr>\n",
       "<tr>\n",
       "  <th>C(sh)[T.cylinder]</th>   <td>  -13.8662</td> <td>    4.125</td> <td>   -3.362</td> <td> 0.001</td> <td>  -21.950</td> <td>   -5.782</td>\n",
       "</tr>\n",
       "<tr>\n",
       "  <th>C(sh)[T.delta]</th>      <td>  -16.9373</td> <td>   11.511</td> <td>   -1.471</td> <td> 0.141</td> <td>  -39.499</td> <td>    5.624</td>\n",
       "</tr>\n",
       "<tr>\n",
       "  <th>C(sh)[T.diamond]</th>    <td>  -10.2150</td> <td>    4.178</td> <td>   -2.445</td> <td> 0.014</td> <td>  -18.404</td> <td>   -2.027</td>\n",
       "</tr>\n",
       "<tr>\n",
       "  <th>C(sh)[T.disk]</th>       <td>  -14.0999</td> <td>    3.682</td> <td>   -3.829</td> <td> 0.000</td> <td>  -21.317</td> <td>   -6.883</td>\n",
       "</tr>\n",
       "<tr>\n",
       "  <th>C(sh)[T.egg]</th>        <td>   -6.2012</td> <td>    4.555</td> <td>   -1.361</td> <td> 0.173</td> <td>  -15.128</td> <td>    2.726</td>\n",
       "</tr>\n",
       "<tr>\n",
       "  <th>C(sh)[T.fireball]</th>   <td>  -18.4956</td> <td>    3.661</td> <td>   -5.052</td> <td> 0.000</td> <td>  -25.671</td> <td>  -11.320</td>\n",
       "</tr>\n",
       "<tr>\n",
       "  <th>C(sh)[T.flare]</th>      <td>  -22.4383</td> <td>   10.098</td> <td>   -2.222</td> <td> 0.026</td> <td>  -42.231</td> <td>   -2.646</td>\n",
       "</tr>\n",
       "<tr>\n",
       "  <th>C(sh)[T.flash]</th>      <td>  -15.8506</td> <td>    4.164</td> <td>   -3.807</td> <td> 0.000</td> <td>  -24.012</td> <td>   -7.689</td>\n",
       "</tr>\n",
       "<tr>\n",
       "  <th>C(sh)[T.formation]</th>  <td>  -16.1902</td> <td>    3.761</td> <td>   -4.304</td> <td> 0.000</td> <td>  -23.562</td> <td>   -8.818</td>\n",
       "</tr>\n",
       "<tr>\n",
       "  <th>C(sh)[T.hexagon]</th>    <td>  -26.6253</td> <td>   22.201</td> <td>   -1.199</td> <td> 0.230</td> <td>  -70.139</td> <td>   16.888</td>\n",
       "</tr>\n",
       "<tr>\n",
       "  <th>C(sh)[T.light]</th>      <td>  -11.6233</td> <td>    3.550</td> <td>   -3.274</td> <td> 0.001</td> <td>  -18.582</td> <td>   -4.665</td>\n",
       "</tr>\n",
       "<tr>\n",
       "  <th>C(sh)[T.other]</th>      <td>  -10.3165</td> <td>    3.685</td> <td>   -2.800</td> <td> 0.005</td> <td>  -17.538</td> <td>   -3.095</td>\n",
       "</tr>\n",
       "<tr>\n",
       "  <th>C(sh)[T.oval]</th>       <td>  -12.2138</td> <td>    3.748</td> <td>   -3.259</td> <td> 0.001</td> <td>  -19.560</td> <td>   -4.868</td>\n",
       "</tr>\n",
       "<tr>\n",
       "  <th>C(sh)[T.pyramid]</th>    <td>  -16.5805</td> <td>   14.183</td> <td>   -1.169</td> <td> 0.242</td> <td>  -44.379</td> <td>   11.218</td>\n",
       "</tr>\n",
       "<tr>\n",
       "  <th>C(sh)[T.rectangle]</th>  <td>  -18.2689</td> <td>    4.128</td> <td>   -4.425</td> <td> 0.000</td> <td>  -26.361</td> <td>  -10.177</td>\n",
       "</tr>\n",
       "<tr>\n",
       "  <th>C(sh)[T.round]</th>      <td>  -15.4694</td> <td>    4.095</td> <td>   -3.777</td> <td> 0.000</td> <td>  -23.496</td> <td>   -7.443</td>\n",
       "</tr>\n",
       "<tr>\n",
       "  <th>C(sh)[T.sphere]</th>     <td>  -14.2239</td> <td>    3.679</td> <td>   -3.866</td> <td> 0.000</td> <td>  -21.435</td> <td>   -7.013</td>\n",
       "</tr>\n",
       "<tr>\n",
       "  <th>C(sh)[T.teardrop]</th>   <td>  -16.5600</td> <td>    4.595</td> <td>   -3.604</td> <td> 0.000</td> <td>  -25.567</td> <td>   -7.553</td>\n",
       "</tr>\n",
       "<tr>\n",
       "  <th>C(sh)[T.triangle]</th>   <td>  -15.5490</td> <td>    3.620</td> <td>   -4.295</td> <td> 0.000</td> <td>  -22.644</td> <td>   -8.454</td>\n",
       "</tr>\n",
       "<tr>\n",
       "  <th>C(sh)[T.unknown]</th>    <td>  -10.7336</td> <td>    3.700</td> <td>   -2.901</td> <td> 0.004</td> <td>  -17.985</td> <td>   -3.482</td>\n",
       "</tr>\n",
       "<tr>\n",
       "  <th>Year</th>                <td>   -0.2457</td> <td>    0.026</td> <td>   -9.541</td> <td> 0.000</td> <td>   -0.296</td> <td>   -0.195</td>\n",
       "</tr>\n",
       "<tr>\n",
       "  <th>Month</th>               <td>    0.0636</td> <td>    0.081</td> <td>    0.785</td> <td> 0.432</td> <td>   -0.095</td> <td>    0.222</td>\n",
       "</tr>\n",
       "<tr>\n",
       "  <th>lat</th>                 <td>   -0.0355</td> <td>    0.038</td> <td>   -0.947</td> <td> 0.344</td> <td>   -0.109</td> <td>    0.038</td>\n",
       "</tr>\n",
       "<tr>\n",
       "  <th>long</th>                <td>   -0.0168</td> <td>    0.013</td> <td>   -1.307</td> <td> 0.191</td> <td>   -0.042</td> <td>    0.008</td>\n",
       "</tr>\n",
       "<tr>\n",
       "  <th>Day</th>                 <td>    0.0298</td> <td>    0.029</td> <td>    1.013</td> <td> 0.311</td> <td>   -0.028</td> <td>    0.088</td>\n",
       "</tr>\n",
       "<tr>\n",
       "  <th>Hour</th>                <td>   -0.1738</td> <td>    0.034</td> <td>   -5.063</td> <td> 0.000</td> <td>   -0.241</td> <td>   -0.106</td>\n",
       "</tr>\n",
       "</table>\n",
       "<table class=\"simpletable\">\n",
       "<tr>\n",
       "  <th>Omnibus:</th>       <td>207927.282</td> <th>  Durbin-Watson:     </th>    <td>   1.987</td>   \n",
       "</tr>\n",
       "<tr>\n",
       "  <th>Prob(Omnibus):</th>   <td> 0.000</td>   <th>  Jarque-Bera (JB):  </th> <td>8434588957.859</td>\n",
       "</tr>\n",
       "<tr>\n",
       "  <th>Skew:</th>            <td>32.619</td>   <th>  Prob(JB):          </th>    <td>    0.00</td>   \n",
       "</tr>\n",
       "<tr>\n",
       "  <th>Kurtosis:</th>       <td>1617.393</td>  <th>  Cond. No.          </th>    <td>3.98e+05</td>   \n",
       "</tr>\n",
       "</table><br/><br/>Notes:<br/>[1] Standard Errors assume that the covariance matrix of the errors is correctly specified.<br/>[2] The condition number is large, 3.98e+05. This might indicate that there are<br/>strong multicollinearity or other numerical problems."
      ],
      "text/plain": [
       "<class 'statsmodels.iolib.summary.Summary'>\n",
       "\"\"\"\n",
       "                            OLS Regression Results                            \n",
       "==============================================================================\n",
       "Dep. Variable:       Duration_minutes   R-squared:                       0.004\n",
       "Model:                            OLS   Adj. R-squared:                  0.004\n",
       "Method:                 Least Squares   F-statistic:                     8.185\n",
       "Date:                Sun, 23 May 2021   Prob (F-statistic):           7.06e-49\n",
       "Time:                        17:55:34   Log-Likelihood:            -4.4238e+05\n",
       "No. Observations:               77544   AIC:                         8.849e+05\n",
       "Df Residuals:                   77501   BIC:                         8.852e+05\n",
       "Df Model:                          42                                         \n",
       "Covariance Type:            nonrobust                                         \n",
       "=======================================================================================\n",
       "                          coef    std err          t      P>|t|      [0.025      0.975]\n",
       "---------------------------------------------------------------------------------------\n",
       "Intercept             519.5124     51.782     10.033      0.000     418.020     621.005\n",
       "C(Country)[T.CA]        1.8758      5.123      0.366      0.714      -8.165      11.917\n",
       "C(Country)[T.DE]        5.7447      7.820      0.735      0.463      -9.581      21.071\n",
       "C(Country)[T.GB]        0.6273      4.838      0.130      0.897      -8.856      10.110\n",
       "C(Country)[T.GH]        4.6511      4.143      1.123      0.262      -3.469      12.772\n",
       "C(Country)[T.IN]        7.1857      6.216      1.156      0.248      -4.997      19.369\n",
       "C(Country)[T.MX]       12.9614      6.786      1.910      0.056      -0.339      26.262\n",
       "C(Country)[T.NL]        0.8329      8.370      0.100      0.921     -15.572      17.238\n",
       "C(Country)[T.OTHER]     2.4902      4.139      0.602      0.547      -5.623      10.603\n",
       "C(Country)[T.US]        2.6047      4.848      0.537      0.591      -6.897      12.106\n",
       "C(sh)[T.changing]       2.0989      3.918      0.536      0.592      -5.579       9.777\n",
       "C(sh)[T.chevron]      -20.4590      4.362     -4.690      0.000     -29.009     -11.909\n",
       "C(sh)[T.cigar]        -17.3283      3.895     -4.449      0.000     -24.963      -9.694\n",
       "C(sh)[T.circle]       -10.8253      3.653     -2.963      0.003     -17.985      -3.665\n",
       "C(sh)[T.cone]          -8.9467      5.712     -1.566      0.117     -20.143       2.249\n",
       "C(sh)[T.crescent]     -23.9005      9.881     -2.419      0.016     -43.267      -4.534\n",
       "C(sh)[T.cross]        -16.5158      5.653     -2.922      0.003     -27.595      -5.437\n",
       "C(sh)[T.cylinder]     -13.8662      4.125     -3.362      0.001     -21.950      -5.782\n",
       "C(sh)[T.delta]        -16.9373     11.511     -1.471      0.141     -39.499       5.624\n",
       "C(sh)[T.diamond]      -10.2150      4.178     -2.445      0.014     -18.404      -2.027\n",
       "C(sh)[T.disk]         -14.0999      3.682     -3.829      0.000     -21.317      -6.883\n",
       "C(sh)[T.egg]           -6.2012      4.555     -1.361      0.173     -15.128       2.726\n",
       "C(sh)[T.fireball]     -18.4956      3.661     -5.052      0.000     -25.671     -11.320\n",
       "C(sh)[T.flare]        -22.4383     10.098     -2.222      0.026     -42.231      -2.646\n",
       "C(sh)[T.flash]        -15.8506      4.164     -3.807      0.000     -24.012      -7.689\n",
       "C(sh)[T.formation]    -16.1902      3.761     -4.304      0.000     -23.562      -8.818\n",
       "C(sh)[T.hexagon]      -26.6253     22.201     -1.199      0.230     -70.139      16.888\n",
       "C(sh)[T.light]        -11.6233      3.550     -3.274      0.001     -18.582      -4.665\n",
       "C(sh)[T.other]        -10.3165      3.685     -2.800      0.005     -17.538      -3.095\n",
       "C(sh)[T.oval]         -12.2138      3.748     -3.259      0.001     -19.560      -4.868\n",
       "C(sh)[T.pyramid]      -16.5805     14.183     -1.169      0.242     -44.379      11.218\n",
       "C(sh)[T.rectangle]    -18.2689      4.128     -4.425      0.000     -26.361     -10.177\n",
       "C(sh)[T.round]        -15.4694      4.095     -3.777      0.000     -23.496      -7.443\n",
       "C(sh)[T.sphere]       -14.2239      3.679     -3.866      0.000     -21.435      -7.013\n",
       "C(sh)[T.teardrop]     -16.5600      4.595     -3.604      0.000     -25.567      -7.553\n",
       "C(sh)[T.triangle]     -15.5490      3.620     -4.295      0.000     -22.644      -8.454\n",
       "C(sh)[T.unknown]      -10.7336      3.700     -2.901      0.004     -17.985      -3.482\n",
       "Year                   -0.2457      0.026     -9.541      0.000      -0.296      -0.195\n",
       "Month                   0.0636      0.081      0.785      0.432      -0.095       0.222\n",
       "lat                    -0.0355      0.038     -0.947      0.344      -0.109       0.038\n",
       "long                   -0.0168      0.013     -1.307      0.191      -0.042       0.008\n",
       "Day                     0.0298      0.029      1.013      0.311      -0.028       0.088\n",
       "Hour                   -0.1738      0.034     -5.063      0.000      -0.241      -0.106\n",
       "==============================================================================\n",
       "Omnibus:                   207927.282   Durbin-Watson:                   1.987\n",
       "Prob(Omnibus):                  0.000   Jarque-Bera (JB):       8434588957.859\n",
       "Skew:                          32.619   Prob(JB):                         0.00\n",
       "Kurtosis:                    1617.393   Cond. No.                     3.98e+05\n",
       "==============================================================================\n",
       "\n",
       "Notes:\n",
       "[1] Standard Errors assume that the covariance matrix of the errors is correctly specified.\n",
       "[2] The condition number is large, 3.98e+05. This might indicate that there are\n",
       "strong multicollinearity or other numerical problems.\n",
       "\"\"\""
      ]
     },
     "execution_count": 51,
     "metadata": {},
     "output_type": "execute_result"
    }
   ],
   "source": [
    "fit.summary()"
   ]
  },
  {
   "cell_type": "markdown",
   "metadata": {},
   "source": [
    "### 4.9.3 Lasso Regression<a id='4.9.3_Lasso_Regression'></a>"
   ]
  },
  {
   "cell_type": "code",
   "execution_count": 63,
   "metadata": {},
   "outputs": [
    {
     "data": {
      "text/plain": [
       "Lasso(alpha=1)"
      ]
     },
     "execution_count": 63,
     "metadata": {},
     "output_type": "execute_result"
    }
   ],
   "source": [
    "from sklearn.linear_model import Lasso\n",
    "lasso = Lasso(alpha = 1)\n",
    "lasso.fit(X_2_train, y_2_train)"
   ]
  },
  {
   "cell_type": "code",
   "execution_count": 64,
   "metadata": {},
   "outputs": [],
   "source": [
    "y_2_tr_lasso_pred = lasso.predict(X_2_train)\n",
    "y_2_te_lasso_pred = lasso.predict(X_2_test)"
   ]
  },
  {
   "cell_type": "code",
   "execution_count": 65,
   "metadata": {},
   "outputs": [
    {
     "data": {
      "text/plain": [
       "(0.0015857632207292305, 0.0017492023121261635)"
      ]
     },
     "execution_count": 65,
     "metadata": {},
     "output_type": "execute_result"
    }
   ],
   "source": [
    "r2_score(y_2_train, y_2_tr_lasso_pred), r2_score(y_2_test, y_2_te_lasso_pred)"
   ]
  },
  {
   "cell_type": "code",
   "execution_count": 66,
   "metadata": {},
   "outputs": [
    {
     "data": {
      "text/plain": [
       "(18.868996274436256, 19.99531513815915)"
      ]
     },
     "execution_count": 66,
     "metadata": {},
     "output_type": "execute_result"
    }
   ],
   "source": [
    "mean_absolute_error(y_2_train, y_2_tr_lasso_pred), mean_absolute_error(y_2_test, y_2_te_lasso_pred)"
   ]
  },
  {
   "cell_type": "code",
   "execution_count": null,
   "metadata": {},
   "outputs": [],
   "source": []
  }
 ],
 "metadata": {
  "kernelspec": {
   "display_name": "Python 3",
   "language": "python",
   "name": "python3"
  },
  "language_info": {
   "codemirror_mode": {
    "name": "ipython",
    "version": 3
   },
   "file_extension": ".py",
   "mimetype": "text/x-python",
   "name": "python",
   "nbconvert_exporter": "python",
   "pygments_lexer": "ipython3",
   "version": "3.7.3"
  },
  "toc": {
   "base_numbering": 1,
   "nav_menu": {},
   "number_sections": true,
   "sideBar": true,
   "skip_h1_title": false,
   "title_cell": "Table of Contents",
   "title_sidebar": "Contents",
   "toc_cell": false,
   "toc_position": {},
   "toc_section_display": true,
   "toc_window_display": true
  },
  "varInspector": {
   "cols": {
    "lenName": 16,
    "lenType": 16,
    "lenVar": 40
   },
   "kernels_config": {
    "python": {
     "delete_cmd_postfix": "",
     "delete_cmd_prefix": "del ",
     "library": "var_list.py",
     "varRefreshCmd": "print(var_dic_list())"
    },
    "r": {
     "delete_cmd_postfix": ") ",
     "delete_cmd_prefix": "rm(",
     "library": "var_list.r",
     "varRefreshCmd": "cat(var_dic_list()) "
    }
   },
   "types_to_exclude": [
    "module",
    "function",
    "builtin_function_or_method",
    "instance",
    "_Feature"
   ],
   "window_display": false
  }
 },
 "nbformat": 4,
 "nbformat_minor": 4
}
