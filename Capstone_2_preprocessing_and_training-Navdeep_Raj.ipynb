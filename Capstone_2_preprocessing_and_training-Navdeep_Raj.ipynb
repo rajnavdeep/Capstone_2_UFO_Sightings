{
 "cells": [
  {
   "cell_type": "markdown",
   "metadata": {},
   "source": [
    "# 4 Pre-Processing Data<a id='4_Pre-Processing_Data'></a>"
   ]
  },
  {
   "cell_type": "markdown",
   "metadata": {},
   "source": [
    "## 4.1 Contents<a id='4.1_Contents'></a>\n",
    "* [4 Pre-Processing Data](#4_Pre-Processing_Data)\n",
    "  * [4.1 Contents](#4.1_Contents)\n",
    "  * [4.2 Introduction](#4.2_Introduction)\n",
    "  * [4.3 Imports](#4.3_Imports)\n",
    "  * [4.4 Load Data](#4.4_Load_Data)\n",
    "      * [4.4.1 Checking Null Values](#4.4.1_Checking_Null_Values)\n",
    "      * [4.4.2 Checking Categorical Variable and their unique values](#4.4.2_Checking_Categorical_Variable_and_their_unique_values)\n",
    "          * [4.4.2.1 Reducing Conflicting Shapes by changing all to lowercase](#4.4.2.1_Reducing_Conflicting_Shapes_by_changing_all_to_lowercase)\n",
    "          * [4.4.2.2 Reducing Country labels by categorising all countries with less than 100 sightings to OTHER](#4.4.2.2_Reducing_Country_labels_by_categorising_all_countries_with_less_than_100_sightings_to_OTHER)\n",
    "          * [4.4.2.3 Extracting Month, Day & hour from Datetime column & dropping it](#Extracting_Month,_Day_&_hour_from_Datetime_column_&_dropping_it)\n",
    "      * [4.4.3 Creating datasets for Modelling](#4.4.3_Creating_datasets_for_Modelling)\n",
    "          * [4.4.3.1 Dataset 1 All Features](#4.4.3.1_Dataset_1_All_Features)\n",
    "          * [4.4.3.2 Dataset 2 - without City & State Columns](#4.4.3.2_Dataset_2_-_without_City_&_State_Columns)\n",
    "  * [4.5 Additional Data Exploration](#4.5_Additional_Data_Exploration)\n",
    "      * [4.5.1 Average Duration by Country](#4.5.1_Average_Duration_by_Country)\n",
    "      * [4.5.2 Average Duration by Shape](#4.5.2_Average_Duration_by_Shape)\n",
    "      * [4.5.3 Average Duration by Month](#4.5.3_Average_Duration_by_Month)\n",
    "      * [4.5.4 Duration by Latitude & Longitude](#4.5.4_Duration_by_Latitude_&_Longitude)\n",
    "  * [4.6 Encoding Categorical Features](#4.6_Encoding_Categorical_Features)\n",
    "      * [4.6.1 Ordinal Encoder](#4.6.1_Ordinal_Encoder)\n",
    "      * [4.6.2 One-Hot Encoder](#4.6.2_One-Hot_Encoder)\n",
    "      * [4.6.3 Binary Encoder](#4.6.3_Binary_Encoder)\n",
    "      * [4.6.4 BaseN Encoder](#4.6.4_BaseN_Encoder)\n",
    "      * [4.6.5 Hashing Encoder](#4.6.5_Hashing_Encoder)\n",
    "      * [4.6.6 Encoding Summary](#4.6.6_Encoding_Summary)\n",
    "  * [4.7 Train/Test Split](#4.7_Train/Test_Split)\n",
    "      * [4.7.1 For Original Dataset](#4.7.1_For_Original_Dataset)\n",
    "      * [4.7.2 For less featured](#4.7.2_For_less_featured)\n",
    "  * [4.8 Preprocessing Summary](#4.8_Preprocessing_Summary)"
   ]
  },
  {
   "cell_type": "markdown",
   "metadata": {},
   "source": [
    "## 4.2 Introduction<a id='4.2_Introduction'></a>"
   ]
  },
  {
   "cell_type": "markdown",
   "metadata": {},
   "source": [
    "In preceding notebooks, performed preliminary assessments of data quality and refined the question to be answered. You found a small number of data values that gave clear choices about whether to replace values or drop a whole row. You determined that predicting the adult weekend ticket price was your primary aim. You threw away records with missing price data, but not before making the most of the other available data to look for any patterns between the states. You didn't see any and decided to treat all states equally; the state label didn't seem to be particularly useful. \n",
    "\n",
    "We explore UFO Sightings data by cleaning and transforminf it and also visualized some relationships between shape, duration, datetime and location\n",
    "\n",
    "Our purpose is to predict duration using various regression models and test their assessment as to which gives us the best prediction\n"
   ]
  },
  {
   "cell_type": "markdown",
   "metadata": {},
   "source": [
    "## 4.3 Imports<a id='4.3_Imports'></a>"
   ]
  },
  {
   "cell_type": "code",
   "execution_count": 2,
   "metadata": {},
   "outputs": [],
   "source": [
    "import pandas as pd\n",
    "import numpy as np\n",
    "import os\n",
    "import pickle\n",
    "import matplotlib.pyplot as plt\n",
    "import seaborn as sns\n",
    "\n",
    "from sklearn.decomposition import PCA\n",
    "from sklearn.preprocessing import scale\n",
    "from sklearn.model_selection import train_test_split, cross_validate, GridSearchCV, learning_curve\n",
    "from sklearn.preprocessing import StandardScaler, MinMaxScaler\n",
    "from sklearn.dummy import DummyRegressor\n",
    "from sklearn.feature_selection import SelectKBest, f_regression\n",
    "import datetime\n",
    "\n",
    "from library.sb_utils import save_file"
   ]
  },
  {
   "cell_type": "markdown",
   "metadata": {},
   "source": [
    "## 4.4 Load Data<a id='4.4_Load_Data'></a>"
   ]
  },
  {
   "cell_type": "markdown",
   "metadata": {},
   "source": [
    " After performing wrangling and EDA on our data in the previous two notebooks, some more exploration as well encoding for categorical variables is performed in this notebook so as to get more insights from our data before proceeding to Modelling"
   ]
  },
  {
   "cell_type": "code",
   "execution_count": 3,
   "metadata": {
    "scrolled": true
   },
   "outputs": [],
   "source": [
    "data = pd.read_csv('ufo_c.csv', parse_dates = ['Date_time', 'Date_posted'], low_memory = False)"
   ]
  },
  {
   "cell_type": "code",
   "execution_count": 4,
   "metadata": {},
   "outputs": [
    {
     "data": {
      "text/html": [
       "<div>\n",
       "<style scoped>\n",
       "    .dataframe tbody tr th:only-of-type {\n",
       "        vertical-align: middle;\n",
       "    }\n",
       "\n",
       "    .dataframe tbody tr th {\n",
       "        vertical-align: top;\n",
       "    }\n",
       "\n",
       "    .dataframe thead th {\n",
       "        text-align: right;\n",
       "    }\n",
       "</style>\n",
       "<table border=\"1\" class=\"dataframe\">\n",
       "  <thead>\n",
       "    <tr style=\"text-align: right;\">\n",
       "      <th></th>\n",
       "      <th>Date_time</th>\n",
       "      <th>Duration_minutes</th>\n",
       "      <th>Description</th>\n",
       "      <th>Date_posted</th>\n",
       "      <th>lat_long</th>\n",
       "      <th>Country</th>\n",
       "      <th>State</th>\n",
       "      <th>City</th>\n",
       "      <th>Shape_final</th>\n",
       "      <th>Year</th>\n",
       "      <th>Month</th>\n",
       "      <th>sh</th>\n",
       "      <th>lat</th>\n",
       "      <th>long</th>\n",
       "    </tr>\n",
       "  </thead>\n",
       "  <tbody>\n",
       "    <tr>\n",
       "      <th>0</th>\n",
       "      <td>1949-10-10 20:30:00</td>\n",
       "      <td>45.00</td>\n",
       "      <td>This event took place in early fall around 194...</td>\n",
       "      <td>2004-04-27</td>\n",
       "      <td>(29.8830556, -97.9411111)</td>\n",
       "      <td>US</td>\n",
       "      <td>Texas</td>\n",
       "      <td>San Marcos</td>\n",
       "      <td>['cylinder']</td>\n",
       "      <td>1949</td>\n",
       "      <td>October</td>\n",
       "      <td>cylinder</td>\n",
       "      <td>29.883056</td>\n",
       "      <td>-97.941111</td>\n",
       "    </tr>\n",
       "    <tr>\n",
       "      <th>1</th>\n",
       "      <td>1949-10-10 21:00:00</td>\n",
       "      <td>60.00</td>\n",
       "      <td>1949 Lackland AFB&amp;#44 TX.  Lights racing acros...</td>\n",
       "      <td>2005-12-16</td>\n",
       "      <td>(29.38421, -98.581082)</td>\n",
       "      <td>US</td>\n",
       "      <td>Texas</td>\n",
       "      <td>Lackland Air Force Base</td>\n",
       "      <td>['light']</td>\n",
       "      <td>1949</td>\n",
       "      <td>October</td>\n",
       "      <td>light</td>\n",
       "      <td>29.384210</td>\n",
       "      <td>-98.581082</td>\n",
       "    </tr>\n",
       "    <tr>\n",
       "      <th>2</th>\n",
       "      <td>1955-10-10 17:00:00</td>\n",
       "      <td>0.33</td>\n",
       "      <td>Green/Orange circular disc over Chester&amp;#44 En...</td>\n",
       "      <td>2008-01-21</td>\n",
       "      <td>(53.2, -2.916667)</td>\n",
       "      <td>GB</td>\n",
       "      <td>England</td>\n",
       "      <td>Blacon</td>\n",
       "      <td>['circle']</td>\n",
       "      <td>1955</td>\n",
       "      <td>October</td>\n",
       "      <td>circle</td>\n",
       "      <td>53.200000</td>\n",
       "      <td>-2.916667</td>\n",
       "    </tr>\n",
       "    <tr>\n",
       "      <th>3</th>\n",
       "      <td>1956-10-10 21:00:00</td>\n",
       "      <td>30.00</td>\n",
       "      <td>My older brother and twin sister were leaving ...</td>\n",
       "      <td>2004-01-17</td>\n",
       "      <td>(28.9783333, -96.6458333)</td>\n",
       "      <td>US</td>\n",
       "      <td>Texas</td>\n",
       "      <td>Edna</td>\n",
       "      <td>['circle']</td>\n",
       "      <td>1956</td>\n",
       "      <td>October</td>\n",
       "      <td>circle</td>\n",
       "      <td>28.978333</td>\n",
       "      <td>-96.645833</td>\n",
       "    </tr>\n",
       "    <tr>\n",
       "      <th>4</th>\n",
       "      <td>1960-10-10 20:00:00</td>\n",
       "      <td>15.00</td>\n",
       "      <td>AS a Marine 1st Lt. flying an FJ4B fighter/att...</td>\n",
       "      <td>2004-01-22</td>\n",
       "      <td>(21.4180556, -157.8036111)</td>\n",
       "      <td>US</td>\n",
       "      <td>Hawaii</td>\n",
       "      <td>Kane'ohe</td>\n",
       "      <td>['light']</td>\n",
       "      <td>1960</td>\n",
       "      <td>October</td>\n",
       "      <td>light</td>\n",
       "      <td>21.418056</td>\n",
       "      <td>-157.803611</td>\n",
       "    </tr>\n",
       "  </tbody>\n",
       "</table>\n",
       "</div>"
      ],
      "text/plain": [
       "            Date_time  Duration_minutes  \\\n",
       "0 1949-10-10 20:30:00             45.00   \n",
       "1 1949-10-10 21:00:00             60.00   \n",
       "2 1955-10-10 17:00:00              0.33   \n",
       "3 1956-10-10 21:00:00             30.00   \n",
       "4 1960-10-10 20:00:00             15.00   \n",
       "\n",
       "                                         Description Date_posted  \\\n",
       "0  This event took place in early fall around 194...  2004-04-27   \n",
       "1  1949 Lackland AFB&#44 TX.  Lights racing acros...  2005-12-16   \n",
       "2  Green/Orange circular disc over Chester&#44 En...  2008-01-21   \n",
       "3  My older brother and twin sister were leaving ...  2004-01-17   \n",
       "4  AS a Marine 1st Lt. flying an FJ4B fighter/att...  2004-01-22   \n",
       "\n",
       "                     lat_long Country    State                     City  \\\n",
       "0   (29.8830556, -97.9411111)      US    Texas               San Marcos   \n",
       "1      (29.38421, -98.581082)      US    Texas  Lackland Air Force Base   \n",
       "2           (53.2, -2.916667)      GB  England                   Blacon   \n",
       "3   (28.9783333, -96.6458333)      US    Texas                     Edna   \n",
       "4  (21.4180556, -157.8036111)      US   Hawaii                 Kane'ohe   \n",
       "\n",
       "    Shape_final  Year    Month        sh        lat        long  \n",
       "0  ['cylinder']  1949  October  cylinder  29.883056  -97.941111  \n",
       "1     ['light']  1949  October     light  29.384210  -98.581082  \n",
       "2    ['circle']  1955  October    circle  53.200000   -2.916667  \n",
       "3    ['circle']  1956  October    circle  28.978333  -96.645833  \n",
       "4     ['light']  1960  October     light  21.418056 -157.803611  "
      ]
     },
     "execution_count": 4,
     "metadata": {},
     "output_type": "execute_result"
    }
   ],
   "source": [
    "data.head()"
   ]
  },
  {
   "cell_type": "markdown",
   "metadata": {},
   "source": [
    "### 4.4.1 Checking Null Values<a id='4.4.1_Checking_Null_Values'></a>"
   ]
  },
  {
   "cell_type": "code",
   "execution_count": 5,
   "metadata": {},
   "outputs": [
    {
     "name": "stdout",
     "output_type": "stream",
     "text": [
      "<class 'pandas.core.frame.DataFrame'>\n",
      "RangeIndex: 77544 entries, 0 to 77543\n",
      "Data columns (total 14 columns):\n",
      " #   Column            Non-Null Count  Dtype         \n",
      "---  ------            --------------  -----         \n",
      " 0   Date_time         77544 non-null  datetime64[ns]\n",
      " 1   Duration_minutes  77544 non-null  float64       \n",
      " 2   Description       77544 non-null  object        \n",
      " 3   Date_posted       77544 non-null  datetime64[ns]\n",
      " 4   lat_long          77544 non-null  object        \n",
      " 5   Country           77544 non-null  object        \n",
      " 6   State             77544 non-null  object        \n",
      " 7   City              77544 non-null  object        \n",
      " 8   Shape_final       77544 non-null  object        \n",
      " 9   Year              77544 non-null  int64         \n",
      " 10  Month             77544 non-null  object        \n",
      " 11  sh                77544 non-null  object        \n",
      " 12  lat               77544 non-null  float64       \n",
      " 13  long              77544 non-null  float64       \n",
      "dtypes: datetime64[ns](2), float64(3), int64(1), object(8)\n",
      "memory usage: 8.3+ MB\n"
     ]
    }
   ],
   "source": [
    "data.info()"
   ]
  },
  {
   "cell_type": "markdown",
   "metadata": {},
   "source": [
    " After loading our dataset, I checked for any missing values as well as if our datat types are correct or not. As observed, Both dates are in DATETIME format, Our target column Duration is numerical float, Shape, country, City, State are categorical. All features have no null values "
   ]
  },
  {
   "cell_type": "markdown",
   "metadata": {},
   "source": [
    "<b> In below cell, Just selecting the required columns for our exploration and encoding</b>"
   ]
  },
  {
   "cell_type": "code",
   "execution_count": 6,
   "metadata": {},
   "outputs": [],
   "source": [
    "data_m = data[['Date_time', 'Duration_minutes', 'Country', 'State', 'City', 'Year', 'Month', 'sh', 'lat','long']]"
   ]
  },
  {
   "cell_type": "code",
   "execution_count": 7,
   "metadata": {},
   "outputs": [
    {
     "data": {
      "text/html": [
       "<div>\n",
       "<style scoped>\n",
       "    .dataframe tbody tr th:only-of-type {\n",
       "        vertical-align: middle;\n",
       "    }\n",
       "\n",
       "    .dataframe tbody tr th {\n",
       "        vertical-align: top;\n",
       "    }\n",
       "\n",
       "    .dataframe thead th {\n",
       "        text-align: right;\n",
       "    }\n",
       "</style>\n",
       "<table border=\"1\" class=\"dataframe\">\n",
       "  <thead>\n",
       "    <tr style=\"text-align: right;\">\n",
       "      <th></th>\n",
       "      <th>Date_time</th>\n",
       "      <th>Duration_minutes</th>\n",
       "      <th>Country</th>\n",
       "      <th>State</th>\n",
       "      <th>City</th>\n",
       "      <th>Year</th>\n",
       "      <th>Month</th>\n",
       "      <th>sh</th>\n",
       "      <th>lat</th>\n",
       "      <th>long</th>\n",
       "    </tr>\n",
       "  </thead>\n",
       "  <tbody>\n",
       "    <tr>\n",
       "      <th>0</th>\n",
       "      <td>1949-10-10 20:30:00</td>\n",
       "      <td>45.00</td>\n",
       "      <td>US</td>\n",
       "      <td>Texas</td>\n",
       "      <td>San Marcos</td>\n",
       "      <td>1949</td>\n",
       "      <td>October</td>\n",
       "      <td>cylinder</td>\n",
       "      <td>29.883056</td>\n",
       "      <td>-97.941111</td>\n",
       "    </tr>\n",
       "    <tr>\n",
       "      <th>1</th>\n",
       "      <td>1949-10-10 21:00:00</td>\n",
       "      <td>60.00</td>\n",
       "      <td>US</td>\n",
       "      <td>Texas</td>\n",
       "      <td>Lackland Air Force Base</td>\n",
       "      <td>1949</td>\n",
       "      <td>October</td>\n",
       "      <td>light</td>\n",
       "      <td>29.384210</td>\n",
       "      <td>-98.581082</td>\n",
       "    </tr>\n",
       "    <tr>\n",
       "      <th>2</th>\n",
       "      <td>1955-10-10 17:00:00</td>\n",
       "      <td>0.33</td>\n",
       "      <td>GB</td>\n",
       "      <td>England</td>\n",
       "      <td>Blacon</td>\n",
       "      <td>1955</td>\n",
       "      <td>October</td>\n",
       "      <td>circle</td>\n",
       "      <td>53.200000</td>\n",
       "      <td>-2.916667</td>\n",
       "    </tr>\n",
       "    <tr>\n",
       "      <th>3</th>\n",
       "      <td>1956-10-10 21:00:00</td>\n",
       "      <td>30.00</td>\n",
       "      <td>US</td>\n",
       "      <td>Texas</td>\n",
       "      <td>Edna</td>\n",
       "      <td>1956</td>\n",
       "      <td>October</td>\n",
       "      <td>circle</td>\n",
       "      <td>28.978333</td>\n",
       "      <td>-96.645833</td>\n",
       "    </tr>\n",
       "    <tr>\n",
       "      <th>4</th>\n",
       "      <td>1960-10-10 20:00:00</td>\n",
       "      <td>15.00</td>\n",
       "      <td>US</td>\n",
       "      <td>Hawaii</td>\n",
       "      <td>Kane'ohe</td>\n",
       "      <td>1960</td>\n",
       "      <td>October</td>\n",
       "      <td>light</td>\n",
       "      <td>21.418056</td>\n",
       "      <td>-157.803611</td>\n",
       "    </tr>\n",
       "  </tbody>\n",
       "</table>\n",
       "</div>"
      ],
      "text/plain": [
       "            Date_time  Duration_minutes Country    State  \\\n",
       "0 1949-10-10 20:30:00             45.00      US    Texas   \n",
       "1 1949-10-10 21:00:00             60.00      US    Texas   \n",
       "2 1955-10-10 17:00:00              0.33      GB  England   \n",
       "3 1956-10-10 21:00:00             30.00      US    Texas   \n",
       "4 1960-10-10 20:00:00             15.00      US   Hawaii   \n",
       "\n",
       "                      City  Year    Month        sh        lat        long  \n",
       "0               San Marcos  1949  October  cylinder  29.883056  -97.941111  \n",
       "1  Lackland Air Force Base  1949  October     light  29.384210  -98.581082  \n",
       "2                   Blacon  1955  October    circle  53.200000   -2.916667  \n",
       "3                     Edna  1956  October    circle  28.978333  -96.645833  \n",
       "4                 Kane'ohe  1960  October     light  21.418056 -157.803611  "
      ]
     },
     "execution_count": 7,
     "metadata": {},
     "output_type": "execute_result"
    }
   ],
   "source": [
    "data_m.head()"
   ]
  },
  {
   "cell_type": "code",
   "execution_count": 8,
   "metadata": {},
   "outputs": [
    {
     "data": {
      "text/plain": [
       "(77544, 10)"
      ]
     },
     "execution_count": 8,
     "metadata": {},
     "output_type": "execute_result"
    }
   ],
   "source": [
    "data_m.shape"
   ]
  },
  {
   "cell_type": "markdown",
   "metadata": {},
   "source": [
    "Our final dataset has 11 features and around 77500 rows"
   ]
  },
  {
   "cell_type": "markdown",
   "metadata": {},
   "source": [
    "### 4.4.2 Checking Categorical Variable and their unique values<a id='4.4.2_Checking_Categorical_Variable_and_their_unique_values'></a>"
   ]
  },
  {
   "cell_type": "markdown",
   "metadata": {},
   "source": [
    "<b> Checking Unique values in Country Column</b>"
   ]
  },
  {
   "cell_type": "code",
   "execution_count": 9,
   "metadata": {},
   "outputs": [
    {
     "data": {
      "text/plain": [
       "157"
      ]
     },
     "execution_count": 9,
     "metadata": {},
     "output_type": "execute_result"
    }
   ],
   "source": [
    "data_m['Country'].nunique()"
   ]
  },
  {
   "cell_type": "markdown",
   "metadata": {},
   "source": [
    "Country Column has <b> 157 </b> Unique names "
   ]
  },
  {
   "cell_type": "code",
   "execution_count": 10,
   "metadata": {},
   "outputs": [
    {
     "data": {
      "text/plain": [
       "796"
      ]
     },
     "execution_count": 10,
     "metadata": {},
     "output_type": "execute_result"
    }
   ],
   "source": [
    "data_m['State'].nunique()"
   ]
  },
  {
   "cell_type": "markdown",
   "metadata": {},
   "source": [
    " State Column has <b>796 </b>Unique names"
   ]
  },
  {
   "cell_type": "code",
   "execution_count": 11,
   "metadata": {},
   "outputs": [
    {
     "data": {
      "text/plain": [
       "10444"
      ]
     },
     "execution_count": 11,
     "metadata": {},
     "output_type": "execute_result"
    }
   ],
   "source": [
    "data_m['City'].nunique()"
   ]
  },
  {
   "cell_type": "markdown",
   "metadata": {},
   "source": [
    " City Column has more than <b>10000</b> unique names which is too much too encode"
   ]
  },
  {
   "cell_type": "code",
   "execution_count": 12,
   "metadata": {},
   "outputs": [
    {
     "data": {
      "text/plain": [
       "51"
      ]
     },
     "execution_count": 12,
     "metadata": {},
     "output_type": "execute_result"
    }
   ],
   "source": [
    "data_m['sh'].nunique()"
   ]
  },
  {
   "cell_type": "code",
   "execution_count": 13,
   "metadata": {},
   "outputs": [
    {
     "data": {
      "text/plain": [
       "array(['cylinder', 'light', 'circle', 'sphere', 'Circle', 'Changing',\n",
       "       'Disk', 'disk', 'Round', 'fireball', 'unknown', 'Light', 'Sphere',\n",
       "       'other', 'oval', 'cigar', 'rectangle', 'chevron', 'triangle',\n",
       "       'formation', 'Chevron', 'Triangle', 'delta', 'changing', 'Cigar',\n",
       "       'Egg', 'flash', 'Oval', 'Cylinder', 'Flash', 'Formation', 'cross',\n",
       "       'Crescent', 'Fireball', 'Cross', 'Diamond', 'teardrop', 'egg',\n",
       "       'Rectangle', 'Changed', 'diamond', 'Delta', 'cone', 'Cone',\n",
       "       'Hexagon', 'Flare', 'Teardrop', 'Pyramid', 'pyramid', 'flare',\n",
       "       'round'], dtype=object)"
      ]
     },
     "execution_count": 13,
     "metadata": {},
     "output_type": "execute_result"
    }
   ],
   "source": [
    "data_m['sh'].unique()"
   ]
  },
  {
   "cell_type": "markdown",
   "metadata": {},
   "source": [
    " Shape column has <b>51</b> unique values but as can be seen that some values are same but they only differ in their first alphabet being in different casesso below I have converted all shape values to lowercase to eliminate the duplication of same values"
   ]
  },
  {
   "cell_type": "markdown",
   "metadata": {},
   "source": [
    "#### 4.4.2.1 Reducing Conflicting Shapes by changing all to lowercase<a id='4.4.2.1_Reducing_Conflicting_Shapes_by_changing_all_to_lowercase'></a>"
   ]
  },
  {
   "cell_type": "code",
   "execution_count": 14,
   "metadata": {},
   "outputs": [
    {
     "name": "stderr",
     "output_type": "stream",
     "text": [
      "D:\\Anacon\\lib\\site-packages\\pandas\\core\\indexing.py:1676: SettingWithCopyWarning: \n",
      "A value is trying to be set on a copy of a slice from a DataFrame.\n",
      "Try using .loc[row_indexer,col_indexer] = value instead\n",
      "\n",
      "See the caveats in the documentation: https://pandas.pydata.org/pandas-docs/stable/user_guide/indexing.html#returning-a-view-versus-a-copy\n",
      "  self._setitem_single_column(ilocs[0], value, pi)\n"
     ]
    }
   ],
   "source": [
    "# Changing shape values to lowercase\n",
    "\n",
    "data_m.loc[:,'sh'] = data_m['sh'].str.lower()"
   ]
  },
  {
   "cell_type": "code",
   "execution_count": 15,
   "metadata": {},
   "outputs": [
    {
     "data": {
      "text/plain": [
       "array(['cylinder', 'light', 'circle', 'sphere', 'changing', 'disk',\n",
       "       'round', 'fireball', 'unknown', 'other', 'oval', 'cigar',\n",
       "       'rectangle', 'chevron', 'triangle', 'formation', 'delta', 'egg',\n",
       "       'flash', 'cross', 'crescent', 'diamond', 'teardrop', 'changed',\n",
       "       'cone', 'hexagon', 'flare', 'pyramid'], dtype=object)"
      ]
     },
     "execution_count": 15,
     "metadata": {},
     "output_type": "execute_result"
    }
   ],
   "source": [
    "data_m['sh'].unique()"
   ]
  },
  {
   "cell_type": "code",
   "execution_count": 17,
   "metadata": {},
   "outputs": [
    {
     "data": {
      "text/plain": [
       "28"
      ]
     },
     "execution_count": 17,
     "metadata": {},
     "output_type": "execute_result"
    }
   ],
   "source": [
    "data_m['sh'].nunique()"
   ]
  },
  {
   "cell_type": "markdown",
   "metadata": {},
   "source": [
    "As can be seen above after changing to lower case our number of shapes has gone down from 51 to 28 and it can be noticed that the\n",
    "top shape is light with as more than 23000 sightings followed by traingle and circle"
   ]
  },
  {
   "cell_type": "markdown",
   "metadata": {},
   "source": [
    "#### 4.4.2.2 Reducing Country labels by categorising all countries with less than 100 sightings to OTHER<a id='4.4.2.2_Reducing_Country_labels_by_categorising_all_countries_with_less_than_100_sightings_to_OTHER'></a>"
   ]
  },
  {
   "cell_type": "markdown",
   "metadata": {},
   "source": [
    "As we saw that country column has 157 unique values so to reduce the categories, I have put all the countries having less than 100 sightings into one single category called  \"OTHER\" . Follwing steps are performed below:\n",
    "* First I chech the each value and its count as assign it to counts\n",
    "* I create a mask to get the index of countries from value count variable 'COUNTS' which have less than 100 count\n",
    "* I assign 'OTHER' to all the mask index countries"
   ]
  },
  {
   "cell_type": "code",
   "execution_count": 19,
   "metadata": {},
   "outputs": [],
   "source": [
    "counts = data_m['Country'].value_counts()"
   ]
  },
  {
   "cell_type": "code",
   "execution_count": 20,
   "metadata": {},
   "outputs": [],
   "source": [
    "mask_1 = data_m['Country'].isin(counts[counts < 100].index)"
   ]
  },
  {
   "cell_type": "code",
   "execution_count": 21,
   "metadata": {},
   "outputs": [
    {
     "name": "stderr",
     "output_type": "stream",
     "text": [
      "D:\\Anacon\\lib\\site-packages\\ipykernel_launcher.py:1: SettingWithCopyWarning: \n",
      "A value is trying to be set on a copy of a slice from a DataFrame\n",
      "\n",
      "See the caveats in the documentation: https://pandas.pydata.org/pandas-docs/stable/user_guide/indexing.html#returning-a-view-versus-a-copy\n",
      "  \"\"\"Entry point for launching an IPython kernel.\n",
      "D:\\Anacon\\lib\\site-packages\\pandas\\core\\series.py:963: SettingWithCopyWarning: \n",
      "A value is trying to be set on a copy of a slice from a DataFrame\n",
      "\n",
      "See the caveats in the documentation: https://pandas.pydata.org/pandas-docs/stable/user_guide/indexing.html#returning-a-view-versus-a-copy\n",
      "  self._where(~key, value, inplace=True)\n"
     ]
    }
   ],
   "source": [
    "data_m['Country'][mask_1] = 'OTHER'"
   ]
  },
  {
   "cell_type": "code",
   "execution_count": 22,
   "metadata": {},
   "outputs": [
    {
     "data": {
      "text/plain": [
       "array(['US', 'GB', 'OTHER', 'GH', 'CA', 'AU', 'MX', 'IN', 'DE', 'NL'],\n",
       "      dtype=object)"
      ]
     },
     "execution_count": 22,
     "metadata": {},
     "output_type": "execute_result"
    }
   ],
   "source": [
    "data_m['Country'].unique()"
   ]
  },
  {
   "cell_type": "code",
   "execution_count": 23,
   "metadata": {},
   "outputs": [
    {
     "data": {
      "text/plain": [
       "10"
      ]
     },
     "execution_count": 23,
     "metadata": {},
     "output_type": "execute_result"
    }
   ],
   "source": [
    "data_m['Country'].nunique()"
   ]
  },
  {
   "cell_type": "markdown",
   "metadata": {},
   "source": [
    "After performing some transformation on country column as mentioned above, we now have 10 unique values/Categories in our country column.\n",
    "\n",
    "Since State and City Columns have a lot of unique values so its better to drop these columns although I will keep the original dataset with all its columns incase some of our model requires all features"
   ]
  },
  {
   "cell_type": "markdown",
   "metadata": {},
   "source": [
    "In below cell just converting string month value to integer type"
   ]
  },
  {
   "cell_type": "code",
   "execution_count": 24,
   "metadata": {},
   "outputs": [
    {
     "name": "stderr",
     "output_type": "stream",
     "text": [
      "D:\\Anacon\\lib\\site-packages\\ipykernel_launcher.py:1: SettingWithCopyWarning: \n",
      "A value is trying to be set on a copy of a slice from a DataFrame.\n",
      "Try using .loc[row_indexer,col_indexer] = value instead\n",
      "\n",
      "See the caveats in the documentation: https://pandas.pydata.org/pandas-docs/stable/user_guide/indexing.html#returning-a-view-versus-a-copy\n",
      "  \"\"\"Entry point for launching an IPython kernel.\n"
     ]
    }
   ],
   "source": [
    "data_m['Month'] = data_m['Date_time'].dt.month "
   ]
  },
  {
   "cell_type": "markdown",
   "metadata": {},
   "source": [
    "#### 4.4.2.3 Extracting Month, Day & hour from Datetime column & dropping it<a id='4.4.2.3_Extracting_Month,_Day_&_hour_from_Datetime_column_&_dropping_it'></a>"
   ]
  },
  {
   "cell_type": "markdown",
   "metadata": {},
   "source": [
    "Extracting Day and hour from datetime column in order to have more numerical features as regression models don't accept datetime format. After Extracting the Date_time Column is dropped"
   ]
  },
  {
   "cell_type": "code",
   "execution_count": 25,
   "metadata": {},
   "outputs": [
    {
     "name": "stderr",
     "output_type": "stream",
     "text": [
      "D:\\Anacon\\lib\\site-packages\\ipykernel_launcher.py:1: SettingWithCopyWarning: \n",
      "A value is trying to be set on a copy of a slice from a DataFrame.\n",
      "Try using .loc[row_indexer,col_indexer] = value instead\n",
      "\n",
      "See the caveats in the documentation: https://pandas.pydata.org/pandas-docs/stable/user_guide/indexing.html#returning-a-view-versus-a-copy\n",
      "  \"\"\"Entry point for launching an IPython kernel.\n"
     ]
    }
   ],
   "source": [
    "data_m['Day'] = data_m['Date_time'].dt.day"
   ]
  },
  {
   "cell_type": "code",
   "execution_count": 26,
   "metadata": {},
   "outputs": [
    {
     "name": "stderr",
     "output_type": "stream",
     "text": [
      "D:\\Anacon\\lib\\site-packages\\ipykernel_launcher.py:1: SettingWithCopyWarning: \n",
      "A value is trying to be set on a copy of a slice from a DataFrame.\n",
      "Try using .loc[row_indexer,col_indexer] = value instead\n",
      "\n",
      "See the caveats in the documentation: https://pandas.pydata.org/pandas-docs/stable/user_guide/indexing.html#returning-a-view-versus-a-copy\n",
      "  \"\"\"Entry point for launching an IPython kernel.\n"
     ]
    }
   ],
   "source": [
    "data_m['Hour'] = data_m['Date_time'].dt.hour"
   ]
  },
  {
   "cell_type": "code",
   "execution_count": 27,
   "metadata": {},
   "outputs": [],
   "source": [
    "data_m = data_m.drop(['Date_time'], axis = 1) "
   ]
  },
  {
   "cell_type": "code",
   "execution_count": 28,
   "metadata": {},
   "outputs": [
    {
     "data": {
      "text/html": [
       "<div>\n",
       "<style scoped>\n",
       "    .dataframe tbody tr th:only-of-type {\n",
       "        vertical-align: middle;\n",
       "    }\n",
       "\n",
       "    .dataframe tbody tr th {\n",
       "        vertical-align: top;\n",
       "    }\n",
       "\n",
       "    .dataframe thead th {\n",
       "        text-align: right;\n",
       "    }\n",
       "</style>\n",
       "<table border=\"1\" class=\"dataframe\">\n",
       "  <thead>\n",
       "    <tr style=\"text-align: right;\">\n",
       "      <th></th>\n",
       "      <th>Duration_minutes</th>\n",
       "      <th>Country</th>\n",
       "      <th>State</th>\n",
       "      <th>City</th>\n",
       "      <th>Year</th>\n",
       "      <th>Month</th>\n",
       "      <th>sh</th>\n",
       "      <th>lat</th>\n",
       "      <th>long</th>\n",
       "      <th>Day</th>\n",
       "      <th>Hour</th>\n",
       "    </tr>\n",
       "  </thead>\n",
       "  <tbody>\n",
       "    <tr>\n",
       "      <th>0</th>\n",
       "      <td>45.00</td>\n",
       "      <td>US</td>\n",
       "      <td>Texas</td>\n",
       "      <td>San Marcos</td>\n",
       "      <td>1949</td>\n",
       "      <td>10</td>\n",
       "      <td>cylinder</td>\n",
       "      <td>29.883056</td>\n",
       "      <td>-97.941111</td>\n",
       "      <td>10</td>\n",
       "      <td>20</td>\n",
       "    </tr>\n",
       "    <tr>\n",
       "      <th>1</th>\n",
       "      <td>60.00</td>\n",
       "      <td>US</td>\n",
       "      <td>Texas</td>\n",
       "      <td>Lackland Air Force Base</td>\n",
       "      <td>1949</td>\n",
       "      <td>10</td>\n",
       "      <td>light</td>\n",
       "      <td>29.384210</td>\n",
       "      <td>-98.581082</td>\n",
       "      <td>10</td>\n",
       "      <td>21</td>\n",
       "    </tr>\n",
       "    <tr>\n",
       "      <th>2</th>\n",
       "      <td>0.33</td>\n",
       "      <td>GB</td>\n",
       "      <td>England</td>\n",
       "      <td>Blacon</td>\n",
       "      <td>1955</td>\n",
       "      <td>10</td>\n",
       "      <td>circle</td>\n",
       "      <td>53.200000</td>\n",
       "      <td>-2.916667</td>\n",
       "      <td>10</td>\n",
       "      <td>17</td>\n",
       "    </tr>\n",
       "    <tr>\n",
       "      <th>3</th>\n",
       "      <td>30.00</td>\n",
       "      <td>US</td>\n",
       "      <td>Texas</td>\n",
       "      <td>Edna</td>\n",
       "      <td>1956</td>\n",
       "      <td>10</td>\n",
       "      <td>circle</td>\n",
       "      <td>28.978333</td>\n",
       "      <td>-96.645833</td>\n",
       "      <td>10</td>\n",
       "      <td>21</td>\n",
       "    </tr>\n",
       "    <tr>\n",
       "      <th>4</th>\n",
       "      <td>15.00</td>\n",
       "      <td>US</td>\n",
       "      <td>Hawaii</td>\n",
       "      <td>Kane'ohe</td>\n",
       "      <td>1960</td>\n",
       "      <td>10</td>\n",
       "      <td>light</td>\n",
       "      <td>21.418056</td>\n",
       "      <td>-157.803611</td>\n",
       "      <td>10</td>\n",
       "      <td>20</td>\n",
       "    </tr>\n",
       "  </tbody>\n",
       "</table>\n",
       "</div>"
      ],
      "text/plain": [
       "   Duration_minutes Country    State                     City  Year  Month  \\\n",
       "0             45.00      US    Texas               San Marcos  1949     10   \n",
       "1             60.00      US    Texas  Lackland Air Force Base  1949     10   \n",
       "2              0.33      GB  England                   Blacon  1955     10   \n",
       "3             30.00      US    Texas                     Edna  1956     10   \n",
       "4             15.00      US   Hawaii                 Kane'ohe  1960     10   \n",
       "\n",
       "         sh        lat        long  Day  Hour  \n",
       "0  cylinder  29.883056  -97.941111   10    20  \n",
       "1     light  29.384210  -98.581082   10    21  \n",
       "2    circle  53.200000   -2.916667   10    17  \n",
       "3    circle  28.978333  -96.645833   10    21  \n",
       "4     light  21.418056 -157.803611   10    20  "
      ]
     },
     "execution_count": 28,
     "metadata": {},
     "output_type": "execute_result"
    }
   ],
   "source": [
    "data_m.head()"
   ]
  },
  {
   "cell_type": "code",
   "execution_count": 29,
   "metadata": {},
   "outputs": [
    {
     "name": "stdout",
     "output_type": "stream",
     "text": [
      "<class 'pandas.core.frame.DataFrame'>\n",
      "RangeIndex: 77544 entries, 0 to 77543\n",
      "Data columns (total 11 columns):\n",
      " #   Column            Non-Null Count  Dtype  \n",
      "---  ------            --------------  -----  \n",
      " 0   Duration_minutes  77544 non-null  float64\n",
      " 1   Country           77544 non-null  object \n",
      " 2   State             77544 non-null  object \n",
      " 3   City              77544 non-null  object \n",
      " 4   Year              77544 non-null  int64  \n",
      " 5   Month             77544 non-null  int64  \n",
      " 6   sh                77544 non-null  object \n",
      " 7   lat               77544 non-null  float64\n",
      " 8   long              77544 non-null  float64\n",
      " 9   Day               77544 non-null  int64  \n",
      " 10  Hour              77544 non-null  int64  \n",
      "dtypes: float64(3), int64(4), object(4)\n",
      "memory usage: 6.5+ MB\n"
     ]
    }
   ],
   "source": [
    "data_m.info()"
   ]
  },
  {
   "cell_type": "markdown",
   "metadata": {},
   "source": [
    "This is our original final dataset with all features and no null values. In few follwing cells, I have creating one more dataset without State and City Columns just to have a more simplified dataset with less categorical variables"
   ]
  },
  {
   "cell_type": "markdown",
   "metadata": {},
   "source": [
    "### 4.4.3 Creating datasets for Modelling<a id='4.4.3_Creating_datasets_for_Modelling'></a>"
   ]
  },
  {
   "cell_type": "markdown",
   "metadata": {},
   "source": [
    "#### 4.4.3.1 Dataset 1 All Features<a id='4.4.3.1_Dataset_1_All_Features'></a>"
   ]
  },
  {
   "cell_type": "code",
   "execution_count": 30,
   "metadata": {},
   "outputs": [
    {
     "data": {
      "text/html": [
       "<div>\n",
       "<style scoped>\n",
       "    .dataframe tbody tr th:only-of-type {\n",
       "        vertical-align: middle;\n",
       "    }\n",
       "\n",
       "    .dataframe tbody tr th {\n",
       "        vertical-align: top;\n",
       "    }\n",
       "\n",
       "    .dataframe thead th {\n",
       "        text-align: right;\n",
       "    }\n",
       "</style>\n",
       "<table border=\"1\" class=\"dataframe\">\n",
       "  <thead>\n",
       "    <tr style=\"text-align: right;\">\n",
       "      <th></th>\n",
       "      <th>Duration_minutes</th>\n",
       "      <th>Country</th>\n",
       "      <th>State</th>\n",
       "      <th>City</th>\n",
       "      <th>Year</th>\n",
       "      <th>Month</th>\n",
       "      <th>sh</th>\n",
       "      <th>lat</th>\n",
       "      <th>long</th>\n",
       "      <th>Day</th>\n",
       "      <th>Hour</th>\n",
       "    </tr>\n",
       "  </thead>\n",
       "  <tbody>\n",
       "    <tr>\n",
       "      <th>0</th>\n",
       "      <td>45.00</td>\n",
       "      <td>US</td>\n",
       "      <td>Texas</td>\n",
       "      <td>San Marcos</td>\n",
       "      <td>1949</td>\n",
       "      <td>10</td>\n",
       "      <td>cylinder</td>\n",
       "      <td>29.883056</td>\n",
       "      <td>-97.941111</td>\n",
       "      <td>10</td>\n",
       "      <td>20</td>\n",
       "    </tr>\n",
       "    <tr>\n",
       "      <th>1</th>\n",
       "      <td>60.00</td>\n",
       "      <td>US</td>\n",
       "      <td>Texas</td>\n",
       "      <td>Lackland Air Force Base</td>\n",
       "      <td>1949</td>\n",
       "      <td>10</td>\n",
       "      <td>light</td>\n",
       "      <td>29.384210</td>\n",
       "      <td>-98.581082</td>\n",
       "      <td>10</td>\n",
       "      <td>21</td>\n",
       "    </tr>\n",
       "    <tr>\n",
       "      <th>2</th>\n",
       "      <td>0.33</td>\n",
       "      <td>GB</td>\n",
       "      <td>England</td>\n",
       "      <td>Blacon</td>\n",
       "      <td>1955</td>\n",
       "      <td>10</td>\n",
       "      <td>circle</td>\n",
       "      <td>53.200000</td>\n",
       "      <td>-2.916667</td>\n",
       "      <td>10</td>\n",
       "      <td>17</td>\n",
       "    </tr>\n",
       "    <tr>\n",
       "      <th>3</th>\n",
       "      <td>30.00</td>\n",
       "      <td>US</td>\n",
       "      <td>Texas</td>\n",
       "      <td>Edna</td>\n",
       "      <td>1956</td>\n",
       "      <td>10</td>\n",
       "      <td>circle</td>\n",
       "      <td>28.978333</td>\n",
       "      <td>-96.645833</td>\n",
       "      <td>10</td>\n",
       "      <td>21</td>\n",
       "    </tr>\n",
       "    <tr>\n",
       "      <th>4</th>\n",
       "      <td>15.00</td>\n",
       "      <td>US</td>\n",
       "      <td>Hawaii</td>\n",
       "      <td>Kane'ohe</td>\n",
       "      <td>1960</td>\n",
       "      <td>10</td>\n",
       "      <td>light</td>\n",
       "      <td>21.418056</td>\n",
       "      <td>-157.803611</td>\n",
       "      <td>10</td>\n",
       "      <td>20</td>\n",
       "    </tr>\n",
       "  </tbody>\n",
       "</table>\n",
       "</div>"
      ],
      "text/plain": [
       "   Duration_minutes Country    State                     City  Year  Month  \\\n",
       "0             45.00      US    Texas               San Marcos  1949     10   \n",
       "1             60.00      US    Texas  Lackland Air Force Base  1949     10   \n",
       "2              0.33      GB  England                   Blacon  1955     10   \n",
       "3             30.00      US    Texas                     Edna  1956     10   \n",
       "4             15.00      US   Hawaii                 Kane'ohe  1960     10   \n",
       "\n",
       "         sh        lat        long  Day  Hour  \n",
       "0  cylinder  29.883056  -97.941111   10    20  \n",
       "1     light  29.384210  -98.581082   10    21  \n",
       "2    circle  53.200000   -2.916667   10    17  \n",
       "3    circle  28.978333  -96.645833   10    21  \n",
       "4     light  21.418056 -157.803611   10    20  "
      ]
     },
     "execution_count": 30,
     "metadata": {},
     "output_type": "execute_result"
    }
   ],
   "source": [
    "data_m.head()"
   ]
  },
  {
   "cell_type": "markdown",
   "metadata": {},
   "source": [
    "<b>This is our first dataset 'data_m'. which has 11 features</b>"
   ]
  },
  {
   "cell_type": "markdown",
   "metadata": {},
   "source": [
    "#### 4.4.3.2 Dataset 2 - without City & State Columns<a id='4.4.3.2_Dataset_2_-_without_City_&_State_Columns'></a>"
   ]
  },
  {
   "cell_type": "markdown",
   "metadata": {},
   "source": [
    "data_1 = data_m.drop(['State', 'City'], axis = 1)"
   ]
  },
  {
   "cell_type": "code",
   "execution_count": 32,
   "metadata": {},
   "outputs": [
    {
     "data": {
      "text/html": [
       "<div>\n",
       "<style scoped>\n",
       "    .dataframe tbody tr th:only-of-type {\n",
       "        vertical-align: middle;\n",
       "    }\n",
       "\n",
       "    .dataframe tbody tr th {\n",
       "        vertical-align: top;\n",
       "    }\n",
       "\n",
       "    .dataframe thead th {\n",
       "        text-align: right;\n",
       "    }\n",
       "</style>\n",
       "<table border=\"1\" class=\"dataframe\">\n",
       "  <thead>\n",
       "    <tr style=\"text-align: right;\">\n",
       "      <th></th>\n",
       "      <th>Duration_minutes</th>\n",
       "      <th>Country</th>\n",
       "      <th>Year</th>\n",
       "      <th>Month</th>\n",
       "      <th>sh</th>\n",
       "      <th>lat</th>\n",
       "      <th>long</th>\n",
       "      <th>Day</th>\n",
       "      <th>Hour</th>\n",
       "    </tr>\n",
       "  </thead>\n",
       "  <tbody>\n",
       "    <tr>\n",
       "      <th>0</th>\n",
       "      <td>45.00</td>\n",
       "      <td>US</td>\n",
       "      <td>1949</td>\n",
       "      <td>10</td>\n",
       "      <td>cylinder</td>\n",
       "      <td>29.883056</td>\n",
       "      <td>-97.941111</td>\n",
       "      <td>10</td>\n",
       "      <td>20</td>\n",
       "    </tr>\n",
       "    <tr>\n",
       "      <th>1</th>\n",
       "      <td>60.00</td>\n",
       "      <td>US</td>\n",
       "      <td>1949</td>\n",
       "      <td>10</td>\n",
       "      <td>light</td>\n",
       "      <td>29.384210</td>\n",
       "      <td>-98.581082</td>\n",
       "      <td>10</td>\n",
       "      <td>21</td>\n",
       "    </tr>\n",
       "    <tr>\n",
       "      <th>2</th>\n",
       "      <td>0.33</td>\n",
       "      <td>GB</td>\n",
       "      <td>1955</td>\n",
       "      <td>10</td>\n",
       "      <td>circle</td>\n",
       "      <td>53.200000</td>\n",
       "      <td>-2.916667</td>\n",
       "      <td>10</td>\n",
       "      <td>17</td>\n",
       "    </tr>\n",
       "    <tr>\n",
       "      <th>3</th>\n",
       "      <td>30.00</td>\n",
       "      <td>US</td>\n",
       "      <td>1956</td>\n",
       "      <td>10</td>\n",
       "      <td>circle</td>\n",
       "      <td>28.978333</td>\n",
       "      <td>-96.645833</td>\n",
       "      <td>10</td>\n",
       "      <td>21</td>\n",
       "    </tr>\n",
       "    <tr>\n",
       "      <th>4</th>\n",
       "      <td>15.00</td>\n",
       "      <td>US</td>\n",
       "      <td>1960</td>\n",
       "      <td>10</td>\n",
       "      <td>light</td>\n",
       "      <td>21.418056</td>\n",
       "      <td>-157.803611</td>\n",
       "      <td>10</td>\n",
       "      <td>20</td>\n",
       "    </tr>\n",
       "  </tbody>\n",
       "</table>\n",
       "</div>"
      ],
      "text/plain": [
       "   Duration_minutes Country  Year  Month        sh        lat        long  \\\n",
       "0             45.00      US  1949     10  cylinder  29.883056  -97.941111   \n",
       "1             60.00      US  1949     10     light  29.384210  -98.581082   \n",
       "2              0.33      GB  1955     10    circle  53.200000   -2.916667   \n",
       "3             30.00      US  1956     10    circle  28.978333  -96.645833   \n",
       "4             15.00      US  1960     10     light  21.418056 -157.803611   \n",
       "\n",
       "   Day  Hour  \n",
       "0   10    20  \n",
       "1   10    21  \n",
       "2   10    17  \n",
       "3   10    21  \n",
       "4   10    20  "
      ]
     },
     "execution_count": 32,
     "metadata": {},
     "output_type": "execute_result"
    }
   ],
   "source": [
    "data_1.head()"
   ]
  },
  {
   "cell_type": "code",
   "execution_count": 33,
   "metadata": {},
   "outputs": [
    {
     "data": {
      "text/plain": [
       "(77544, 9)"
      ]
     },
     "execution_count": 33,
     "metadata": {},
     "output_type": "execute_result"
    }
   ],
   "source": [
    "data_1.shape"
   ]
  },
  {
   "cell_type": "markdown",
   "metadata": {},
   "source": [
    "<b> This is our second dataset 'data_1' after dropping State and City Columns. As observed this dataset only has two categorical \n",
    "features namely Country with 10 categories and Shape with 28 categories, rest all columns are numerical either \n",
    "float type or integer type.\n",
    "\n",
    "This dataset has 9 feature and 77000 rows</b>"
   ]
  },
  {
   "cell_type": "markdown",
   "metadata": {},
   "source": [
    "## 4.5 Additional Data Exploration<a id='4.5_Additional_Data_Exploration'></a>"
   ]
  },
  {
   "cell_type": "markdown",
   "metadata": {},
   "source": [
    "Below mentioned explorations are to visualize duartion our target variable with other feature. Mostly it is bivariate, idea is to see how other features are related to duration in terms of average duration or max duration"
   ]
  },
  {
   "cell_type": "code",
   "execution_count": 35,
   "metadata": {},
   "outputs": [],
   "source": [
    "data_2 = data_1.copy()"
   ]
  },
  {
   "cell_type": "markdown",
   "metadata": {},
   "source": [
    "### 4.5.1 Average Duration by Country<a id='4.5.1_Average_Duration_by_Country'></a>"
   ]
  },
  {
   "cell_type": "markdown",
   "metadata": {},
   "source": [
    "Lets check max and average duration based on countries"
   ]
  },
  {
   "cell_type": "code",
   "execution_count": 41,
   "metadata": {},
   "outputs": [],
   "source": [
    "data_country = data_2.groupby('Country').agg(Max_Duration = ('Duration_minutes', max), Avg_Duration = ('Duration_minutes', np.mean))"
   ]
  },
  {
   "cell_type": "code",
   "execution_count": 46,
   "metadata": {},
   "outputs": [],
   "source": [
    "data_country = data_country.sort_values(by = 'Avg_Duration', ascending = False)"
   ]
  },
  {
   "cell_type": "code",
   "execution_count": 49,
   "metadata": {},
   "outputs": [
    {
     "data": {
      "text/html": [
       "<div>\n",
       "<style scoped>\n",
       "    .dataframe tbody tr th:only-of-type {\n",
       "        vertical-align: middle;\n",
       "    }\n",
       "\n",
       "    .dataframe tbody tr th {\n",
       "        vertical-align: top;\n",
       "    }\n",
       "\n",
       "    .dataframe thead th {\n",
       "        text-align: right;\n",
       "    }\n",
       "</style>\n",
       "<table border=\"1\" class=\"dataframe\">\n",
       "  <thead>\n",
       "    <tr style=\"text-align: right;\">\n",
       "      <th></th>\n",
       "      <th>Max_Duration</th>\n",
       "      <th>Avg_Duration</th>\n",
       "    </tr>\n",
       "    <tr>\n",
       "      <th>Country</th>\n",
       "      <th></th>\n",
       "      <th></th>\n",
       "    </tr>\n",
       "  </thead>\n",
       "  <tbody>\n",
       "    <tr>\n",
       "      <th>MX</th>\n",
       "      <td>1080.0</td>\n",
       "      <td>27.089585</td>\n",
       "    </tr>\n",
       "    <tr>\n",
       "      <th>GH</th>\n",
       "      <td>1440.0</td>\n",
       "      <td>19.036849</td>\n",
       "    </tr>\n",
       "    <tr>\n",
       "      <th>IN</th>\n",
       "      <td>300.0</td>\n",
       "      <td>17.041643</td>\n",
       "    </tr>\n",
       "    <tr>\n",
       "      <th>DE</th>\n",
       "      <td>840.0</td>\n",
       "      <td>17.024341</td>\n",
       "    </tr>\n",
       "    <tr>\n",
       "      <th>US</th>\n",
       "      <td>5760.0</td>\n",
       "      <td>15.151452</td>\n",
       "    </tr>\n",
       "  </tbody>\n",
       "</table>\n",
       "</div>"
      ],
      "text/plain": [
       "         Max_Duration  Avg_Duration\n",
       "Country                            \n",
       "MX             1080.0     27.089585\n",
       "GH             1440.0     19.036849\n",
       "IN              300.0     17.041643\n",
       "DE              840.0     17.024341\n",
       "US             5760.0     15.151452"
      ]
     },
     "execution_count": 49,
     "metadata": {},
     "output_type": "execute_result"
    }
   ],
   "source": [
    "data_country.head()"
   ]
  },
  {
   "cell_type": "code",
   "execution_count": 51,
   "metadata": {},
   "outputs": [
    {
     "data": {
      "image/png": "[encoded data removed]",
      "text/plain": [
       "<Figure size 720x360 with 1 Axes>"
      ]
     },
     "metadata": {
      "needs_background": "light"
     },
     "output_type": "display_data"
    }
   ],
   "source": [
    "plt.subplots(figsize=(10, 5))\n",
    "plt.bar(data_country.index, data_country.Avg_Duration)\n",
    "plt.xlabel('Country')\n",
    "plt.ylabel('Avg Duration')\n",
    "plt.title('Average Duration based on country');"
   ]
  },
  {
   "cell_type": "markdown",
   "metadata": {},
   "source": [
    "As can be seen above the highest average duration for UFO Sighting is observed in Mexico with around 27 minutes follwed by Ghana at 19 and India at 17 minutes respectively"
   ]
  },
  {
   "cell_type": "markdown",
   "metadata": {},
   "source": [
    "### 4.5.2 Average Duration by Shape<a id='4.5.2_Average_Duration_by_Shape'></a>"
   ]
  },
  {
   "cell_type": "markdown",
   "metadata": {},
   "source": [
    "<b> Lets compare shape and duration</b>"
   ]
  },
  {
   "cell_type": "code",
   "execution_count": 52,
   "metadata": {},
   "outputs": [],
   "source": [
    "data_shape = data_2.groupby('sh').agg(Max_Duration = ('Duration_minutes', max), Avg_Duration = ('Duration_minutes', np.mean), Total_Duration = ('Duration_minutes', sum))"
   ]
  },
  {
   "cell_type": "code",
   "execution_count": 57,
   "metadata": {},
   "outputs": [],
   "source": [
    "# Sorting it by Av g Duration in descending order\n",
    "\n",
    "data_shape = data_shape.sort_values(by = 'Avg_Duration', ascending = False)"
   ]
  },
  {
   "cell_type": "code",
   "execution_count": 58,
   "metadata": {},
   "outputs": [
    {
     "data": {
      "text/html": [
       "<div>\n",
       "<style scoped>\n",
       "    .dataframe tbody tr th:only-of-type {\n",
       "        vertical-align: middle;\n",
       "    }\n",
       "\n",
       "    .dataframe tbody tr th {\n",
       "        vertical-align: top;\n",
       "    }\n",
       "\n",
       "    .dataframe thead th {\n",
       "        text-align: right;\n",
       "    }\n",
       "</style>\n",
       "<table border=\"1\" class=\"dataframe\">\n",
       "  <thead>\n",
       "    <tr style=\"text-align: right;\">\n",
       "      <th></th>\n",
       "      <th>Max_Duration</th>\n",
       "      <th>Avg_Duration</th>\n",
       "      <th>Total_Duration</th>\n",
       "    </tr>\n",
       "    <tr>\n",
       "      <th>sh</th>\n",
       "      <th></th>\n",
       "      <th></th>\n",
       "      <th></th>\n",
       "    </tr>\n",
       "  </thead>\n",
       "  <tbody>\n",
       "    <tr>\n",
       "      <th>changing</th>\n",
       "      <td>2640.0</td>\n",
       "      <td>29.822803</td>\n",
       "      <td>53084.59</td>\n",
       "    </tr>\n",
       "    <tr>\n",
       "      <th>changed</th>\n",
       "      <td>4320.0</td>\n",
       "      <td>27.965222</td>\n",
       "      <td>11941.15</td>\n",
       "    </tr>\n",
       "    <tr>\n",
       "      <th>egg</th>\n",
       "      <td>4320.0</td>\n",
       "      <td>22.329778</td>\n",
       "      <td>14112.42</td>\n",
       "    </tr>\n",
       "    <tr>\n",
       "      <th>cone</th>\n",
       "      <td>300.0</td>\n",
       "      <td>18.932337</td>\n",
       "      <td>4941.34</td>\n",
       "    </tr>\n",
       "    <tr>\n",
       "      <th>other</th>\n",
       "      <td>4500.0</td>\n",
       "      <td>17.936306</td>\n",
       "      <td>79188.79</td>\n",
       "    </tr>\n",
       "    <tr>\n",
       "      <th>diamond</th>\n",
       "      <td>1440.0</td>\n",
       "      <td>17.760058</td>\n",
       "      <td>18488.22</td>\n",
       "    </tr>\n",
       "    <tr>\n",
       "      <th>unknown</th>\n",
       "      <td>1800.0</td>\n",
       "      <td>17.327576</td>\n",
       "      <td>69986.08</td>\n",
       "    </tr>\n",
       "    <tr>\n",
       "      <th>circle</th>\n",
       "      <td>2640.0</td>\n",
       "      <td>16.949370</td>\n",
       "      <td>92543.56</td>\n",
       "    </tr>\n",
       "    <tr>\n",
       "      <th>oval</th>\n",
       "      <td>5760.0</td>\n",
       "      <td>16.072799</td>\n",
       "      <td>50934.70</td>\n",
       "    </tr>\n",
       "    <tr>\n",
       "      <th>light</th>\n",
       "      <td>2700.0</td>\n",
       "      <td>16.011263</td>\n",
       "      <td>373991.07</td>\n",
       "    </tr>\n",
       "  </tbody>\n",
       "</table>\n",
       "</div>"
      ],
      "text/plain": [
       "          Max_Duration  Avg_Duration  Total_Duration\n",
       "sh                                                  \n",
       "changing        2640.0     29.822803        53084.59\n",
       "changed         4320.0     27.965222        11941.15\n",
       "egg             4320.0     22.329778        14112.42\n",
       "cone             300.0     18.932337         4941.34\n",
       "other           4500.0     17.936306        79188.79\n",
       "diamond         1440.0     17.760058        18488.22\n",
       "unknown         1800.0     17.327576        69986.08\n",
       "circle          2640.0     16.949370        92543.56\n",
       "oval            5760.0     16.072799        50934.70\n",
       "light           2700.0     16.011263       373991.07"
      ]
     },
     "execution_count": 58,
     "metadata": {},
     "output_type": "execute_result"
    }
   ],
   "source": [
    "data_shape.head(10)"
   ]
  },
  {
   "cell_type": "code",
   "execution_count": 62,
   "metadata": {},
   "outputs": [
    {
     "data": {
      "image/png": "[encoded data removed]",
      "text/plain": [
       "<Figure size 720x360 with 1 Axes>"
      ]
     },
     "metadata": {
      "needs_background": "light"
     },
     "output_type": "display_data"
    }
   ],
   "source": [
    "plt.subplots(figsize=(10, 5))\n",
    "plt.plot(data_shape.index, data_shape.Avg_Duration)\n",
    "plt.xlabel('Shape')\n",
    "plt.xticks(rotation = 60)\n",
    "plt.ylabel('Avg Duration')\n",
    "plt.title('Top Shapes by their Average Duration');"
   ]
  },
  {
   "cell_type": "markdown",
   "metadata": {},
   "source": [
    "When it comes to shapes , changing/changed leads with highest avg duration of UFO Sighting at 29 minutes floowed by Egg Shape and Cone Shape"
   ]
  },
  {
   "cell_type": "markdown",
   "metadata": {},
   "source": [
    "### 4.5.3 Average Duration by Month<a id='4.5.3_Average_Duration_by_Month'></a>"
   ]
  },
  {
   "cell_type": "code",
   "execution_count": 88,
   "metadata": {},
   "outputs": [],
   "source": [
    "data_mont = data_2.groupby('Month').agg(Avg_Duration = ('Duration_minutes', np.mean), Total_Duration = ('Duration_minutes', sum))"
   ]
  },
  {
   "cell_type": "code",
   "execution_count": 89,
   "metadata": {},
   "outputs": [],
   "source": [
    "data_mont = data_mont.sort_values(by = 'Avg_Duration', ascending = False)"
   ]
  },
  {
   "cell_type": "code",
   "execution_count": 90,
   "metadata": {},
   "outputs": [
    {
     "data": {
      "text/html": [
       "<div>\n",
       "<style scoped>\n",
       "    .dataframe tbody tr th:only-of-type {\n",
       "        vertical-align: middle;\n",
       "    }\n",
       "\n",
       "    .dataframe tbody tr th {\n",
       "        vertical-align: top;\n",
       "    }\n",
       "\n",
       "    .dataframe thead th {\n",
       "        text-align: right;\n",
       "    }\n",
       "</style>\n",
       "<table border=\"1\" class=\"dataframe\">\n",
       "  <thead>\n",
       "    <tr style=\"text-align: right;\">\n",
       "      <th></th>\n",
       "      <th>Avg_Duration</th>\n",
       "      <th>Total_Duration</th>\n",
       "    </tr>\n",
       "    <tr>\n",
       "      <th>Month</th>\n",
       "      <th></th>\n",
       "      <th></th>\n",
       "    </tr>\n",
       "  </thead>\n",
       "  <tbody>\n",
       "    <tr>\n",
       "      <th>8</th>\n",
       "      <td>16.715483</td>\n",
       "      <td>139774.87</td>\n",
       "    </tr>\n",
       "    <tr>\n",
       "      <th>2</th>\n",
       "      <td>16.481327</td>\n",
       "      <td>73770.42</td>\n",
       "    </tr>\n",
       "    <tr>\n",
       "      <th>5</th>\n",
       "      <td>15.919023</td>\n",
       "      <td>81489.48</td>\n",
       "    </tr>\n",
       "    <tr>\n",
       "      <th>10</th>\n",
       "      <td>15.849868</td>\n",
       "      <td>113881.30</td>\n",
       "    </tr>\n",
       "    <tr>\n",
       "      <th>9</th>\n",
       "      <td>15.224194</td>\n",
       "      <td>111776.03</td>\n",
       "    </tr>\n",
       "    <tr>\n",
       "      <th>12</th>\n",
       "      <td>15.088627</td>\n",
       "      <td>83213.78</td>\n",
       "    </tr>\n",
       "    <tr>\n",
       "      <th>3</th>\n",
       "      <td>14.935534</td>\n",
       "      <td>78426.49</td>\n",
       "    </tr>\n",
       "    <tr>\n",
       "      <th>6</th>\n",
       "      <td>14.743506</td>\n",
       "      <td>115648.06</td>\n",
       "    </tr>\n",
       "    <tr>\n",
       "      <th>7</th>\n",
       "      <td>14.530905</td>\n",
       "      <td>133495.42</td>\n",
       "    </tr>\n",
       "    <tr>\n",
       "      <th>4</th>\n",
       "      <td>13.983848</td>\n",
       "      <td>73918.62</td>\n",
       "    </tr>\n",
       "    <tr>\n",
       "      <th>11</th>\n",
       "      <td>13.972688</td>\n",
       "      <td>90920.28</td>\n",
       "    </tr>\n",
       "    <tr>\n",
       "      <th>1</th>\n",
       "      <td>13.138605</td>\n",
       "      <td>71868.17</td>\n",
       "    </tr>\n",
       "  </tbody>\n",
       "</table>\n",
       "</div>"
      ],
      "text/plain": [
       "       Avg_Duration  Total_Duration\n",
       "Month                              \n",
       "8         16.715483       139774.87\n",
       "2         16.481327        73770.42\n",
       "5         15.919023        81489.48\n",
       "10        15.849868       113881.30\n",
       "9         15.224194       111776.03\n",
       "12        15.088627        83213.78\n",
       "3         14.935534        78426.49\n",
       "6         14.743506       115648.06\n",
       "7         14.530905       133495.42\n",
       "4         13.983848        73918.62\n",
       "11        13.972688        90920.28\n",
       "1         13.138605        71868.17"
      ]
     },
     "execution_count": 90,
     "metadata": {},
     "output_type": "execute_result"
    }
   ],
   "source": [
    "data_mont.head(12)"
   ]
  },
  {
   "cell_type": "code",
   "execution_count": 93,
   "metadata": {},
   "outputs": [
    {
     "data": {
      "image/png": "[encoded data removed]",
      "text/plain": [
       "<Figure size 720x360 with 1 Axes>"
      ]
     },
     "metadata": {
      "needs_background": "light"
     },
     "output_type": "display_data"
    }
   ],
   "source": [
    "plt.subplots(figsize=(10, 5))\n",
    "plt.bar(data_mont.index, data_mont.Avg_Duration, color = 'orange')\n",
    "plt.xlabel('Month')\n",
    "#plt.xticks(rotation = 60)\n",
    "plt.ylabel('Avg Duration')\n",
    "plt.title('Top Months by their Average Duration');"
   ]
  },
  {
   "cell_type": "markdown",
   "metadata": {},
   "source": [
    "As senn above, when it comes to avegae duration August and February are almost at tie with 16 minutes of average duration.\n",
    "August also leads where UFOs were seen for most of the times follwed by July"
   ]
  },
  {
   "cell_type": "markdown",
   "metadata": {},
   "source": [
    "### 4.5.4 Duration by Latitude & Longitude<a id='4.5.4 Duration_by_Latitude_&_Longitude'></a>"
   ]
  },
  {
   "cell_type": "code",
   "execution_count": 134,
   "metadata": {},
   "outputs": [
    {
     "name": "stderr",
     "output_type": "stream",
     "text": [
      "D:\\Anacon\\lib\\site-packages\\seaborn\\_decorators.py:43: FutureWarning: Pass the following variables as keyword args: x, y. From version 0.12, the only valid positional argument will be `data`, and passing other arguments without an explicit keyword will result in an error or misinterpretation.\n",
      "  FutureWarning\n"
     ]
    },
    {
     "data": {
      "image/png": "[encoded data removed]",
      "text/plain": [
       "<Figure size 1080x720 with 1 Axes>"
      ]
     },
     "metadata": {
      "needs_background": "light"
     },
     "output_type": "display_data"
    }
   ],
   "source": [
    "plt.subplots(figsize=(15, 10))\n",
    "sns.scatterplot('long' , 'lat', data = data_2, hue = 'Duration_minutes')\n",
    "\n",
    "plt.title('Duration as per Latitude and longitude')\n",
    "plt.show()"
   ]
  },
  {
   "cell_type": "markdown",
   "metadata": {},
   "source": [
    "As observed above, most of our sightings are in US follwed by Europe, Indiaand some in australia and Latin America\n",
    "\n",
    "Most of the duration are less than 100 repsented by light colors"
   ]
  },
  {
   "cell_type": "markdown",
   "metadata": {},
   "source": [
    "<b> After bit of exploration , lets encode the categorical variables to get all numerical columns for our furthur modelling</b>"
   ]
  },
  {
   "cell_type": "markdown",
   "metadata": {},
   "source": [
    "## 4.6 Encoding Categorical Features<a id='4.6_Encoding_Categorical_Features'></a>"
   ]
  },
  {
   "cell_type": "markdown",
   "metadata": {},
   "source": [
    "### 4.6.1 Ordinal Encoder<a id='4.6.1_Ordinal_Encoder'></a>"
   ]
  },
  {
   "cell_type": "markdown",
   "metadata": {},
   "source": [
    " <b> Approach 1 - Ordinal Encoding or Label Encoding </b> - It is used to transform non-numerical labels into numerical labels (or nominal categorical variables). Numerical labels are always between 1 and the number of classes. The labels chosen for the categories have no relationship. So categories that have some ties or are close to each other lose such information after encoding. The first unique value in your column becomes 1, the second becomes 2, the third becomes 3, and so on.."
   ]
  },
  {
   "cell_type": "code",
   "execution_count": 97,
   "metadata": {},
   "outputs": [
    {
     "name": "stderr",
     "output_type": "stream",
     "text": [
      "D:\\Anacon\\lib\\site-packages\\category_encoders\\utils.py:21: FutureWarning: is_categorical is deprecated and will be removed in a future version.  Use is_categorical_dtype instead\n",
      "  elif pd.api.types.is_categorical(cols):\n"
     ]
    }
   ],
   "source": [
    "import category_encoders as ce\n",
    "\n",
    "X = data_1[['Country','Year','Month','sh','lat','long','Day','Hour']]\n",
    "y = data_m['Duration_minutes']\n",
    "\n",
    "ce_ordinal = ce.OrdinalEncoder(cols = ['Country', 'sh'])\n",
    "\n",
    "X_OR = ce_ordinal.fit_transform(X)"
   ]
  },
  {
   "cell_type": "code",
   "execution_count": 98,
   "metadata": {},
   "outputs": [
    {
     "data": {
      "text/html": [
       "<div>\n",
       "<style scoped>\n",
       "    .dataframe tbody tr th:only-of-type {\n",
       "        vertical-align: middle;\n",
       "    }\n",
       "\n",
       "    .dataframe tbody tr th {\n",
       "        vertical-align: top;\n",
       "    }\n",
       "\n",
       "    .dataframe thead th {\n",
       "        text-align: right;\n",
       "    }\n",
       "</style>\n",
       "<table border=\"1\" class=\"dataframe\">\n",
       "  <thead>\n",
       "    <tr style=\"text-align: right;\">\n",
       "      <th></th>\n",
       "      <th>Country</th>\n",
       "      <th>Year</th>\n",
       "      <th>Month</th>\n",
       "      <th>sh</th>\n",
       "      <th>lat</th>\n",
       "      <th>long</th>\n",
       "      <th>Day</th>\n",
       "      <th>Hour</th>\n",
       "    </tr>\n",
       "  </thead>\n",
       "  <tbody>\n",
       "    <tr>\n",
       "      <th>0</th>\n",
       "      <td>1</td>\n",
       "      <td>1949</td>\n",
       "      <td>10</td>\n",
       "      <td>1</td>\n",
       "      <td>29.883056</td>\n",
       "      <td>-97.941111</td>\n",
       "      <td>10</td>\n",
       "      <td>20</td>\n",
       "    </tr>\n",
       "    <tr>\n",
       "      <th>1</th>\n",
       "      <td>1</td>\n",
       "      <td>1949</td>\n",
       "      <td>10</td>\n",
       "      <td>2</td>\n",
       "      <td>29.384210</td>\n",
       "      <td>-98.581082</td>\n",
       "      <td>10</td>\n",
       "      <td>21</td>\n",
       "    </tr>\n",
       "    <tr>\n",
       "      <th>2</th>\n",
       "      <td>2</td>\n",
       "      <td>1955</td>\n",
       "      <td>10</td>\n",
       "      <td>3</td>\n",
       "      <td>53.200000</td>\n",
       "      <td>-2.916667</td>\n",
       "      <td>10</td>\n",
       "      <td>17</td>\n",
       "    </tr>\n",
       "    <tr>\n",
       "      <th>3</th>\n",
       "      <td>1</td>\n",
       "      <td>1956</td>\n",
       "      <td>10</td>\n",
       "      <td>3</td>\n",
       "      <td>28.978333</td>\n",
       "      <td>-96.645833</td>\n",
       "      <td>10</td>\n",
       "      <td>21</td>\n",
       "    </tr>\n",
       "    <tr>\n",
       "      <th>4</th>\n",
       "      <td>1</td>\n",
       "      <td>1960</td>\n",
       "      <td>10</td>\n",
       "      <td>2</td>\n",
       "      <td>21.418056</td>\n",
       "      <td>-157.803611</td>\n",
       "      <td>10</td>\n",
       "      <td>20</td>\n",
       "    </tr>\n",
       "  </tbody>\n",
       "</table>\n",
       "</div>"
      ],
      "text/plain": [
       "   Country  Year  Month  sh        lat        long  Day  Hour\n",
       "0        1  1949     10   1  29.883056  -97.941111   10    20\n",
       "1        1  1949     10   2  29.384210  -98.581082   10    21\n",
       "2        2  1955     10   3  53.200000   -2.916667   10    17\n",
       "3        1  1956     10   3  28.978333  -96.645833   10    21\n",
       "4        1  1960     10   2  21.418056 -157.803611   10    20"
      ]
     },
     "execution_count": 98,
     "metadata": {},
     "output_type": "execute_result"
    }
   ],
   "source": [
    "X_OR.head()"
   ]
  },
  {
   "cell_type": "markdown",
   "metadata": {},
   "source": [
    "### 4.6.2 One-Hot Encoder<a id='4.6.2_One-Hot_Encoder'></a>"
   ]
  },
  {
   "cell_type": "markdown",
   "metadata": {},
   "source": [
    "<b> Approach 2 - One Hot Encoding </b> -  we map each category to a vector that contains 1 and 0 denoting the presence of the feature or not. The number of vectors depends on the categories which we have in our dataset. For high cardinality features, this method produces a lot of columns that slows down the learning of the model significantly.\n",
    "\n",
    "Two ways - \n",
    "* Pandas - .get_dummies() method\n",
    "* Scikit Learn's OneHotEncoder()"
   ]
  },
  {
   "cell_type": "code",
   "execution_count": 103,
   "metadata": {},
   "outputs": [
    {
     "name": "stderr",
     "output_type": "stream",
     "text": [
      "D:\\Anacon\\lib\\site-packages\\category_encoders\\utils.py:21: FutureWarning: is_categorical is deprecated and will be removed in a future version.  Use is_categorical_dtype instead\n",
      "  elif pd.api.types.is_categorical(cols):\n"
     ]
    }
   ],
   "source": [
    "X = data_1[['Country','Year','Month','sh','lat','long','Day','Hour']]\n",
    "y = data_m['Duration_minutes']\n",
    "\n",
    "ce_OHE = ce.OneHotEncoder(cols=['Country', 'sh'])\n",
    "\n",
    "X_OHE = ce_OHE.fit_transform(X)"
   ]
  },
  {
   "cell_type": "code",
   "execution_count": 104,
   "metadata": {},
   "outputs": [
    {
     "data": {
      "text/html": [
       "<div>\n",
       "<style scoped>\n",
       "    .dataframe tbody tr th:only-of-type {\n",
       "        vertical-align: middle;\n",
       "    }\n",
       "\n",
       "    .dataframe tbody tr th {\n",
       "        vertical-align: top;\n",
       "    }\n",
       "\n",
       "    .dataframe thead th {\n",
       "        text-align: right;\n",
       "    }\n",
       "</style>\n",
       "<table border=\"1\" class=\"dataframe\">\n",
       "  <thead>\n",
       "    <tr style=\"text-align: right;\">\n",
       "      <th></th>\n",
       "      <th>Country_1</th>\n",
       "      <th>Country_2</th>\n",
       "      <th>Country_3</th>\n",
       "      <th>Country_4</th>\n",
       "      <th>Country_5</th>\n",
       "      <th>Country_6</th>\n",
       "      <th>Country_7</th>\n",
       "      <th>Country_8</th>\n",
       "      <th>Country_9</th>\n",
       "      <th>Country_10</th>\n",
       "      <th>...</th>\n",
       "      <th>sh_23</th>\n",
       "      <th>sh_24</th>\n",
       "      <th>sh_25</th>\n",
       "      <th>sh_26</th>\n",
       "      <th>sh_27</th>\n",
       "      <th>sh_28</th>\n",
       "      <th>lat</th>\n",
       "      <th>long</th>\n",
       "      <th>Day</th>\n",
       "      <th>Hour</th>\n",
       "    </tr>\n",
       "  </thead>\n",
       "  <tbody>\n",
       "    <tr>\n",
       "      <th>0</th>\n",
       "      <td>1</td>\n",
       "      <td>0</td>\n",
       "      <td>0</td>\n",
       "      <td>0</td>\n",
       "      <td>0</td>\n",
       "      <td>0</td>\n",
       "      <td>0</td>\n",
       "      <td>0</td>\n",
       "      <td>0</td>\n",
       "      <td>0</td>\n",
       "      <td>...</td>\n",
       "      <td>0</td>\n",
       "      <td>0</td>\n",
       "      <td>0</td>\n",
       "      <td>0</td>\n",
       "      <td>0</td>\n",
       "      <td>0</td>\n",
       "      <td>29.883056</td>\n",
       "      <td>-97.941111</td>\n",
       "      <td>10</td>\n",
       "      <td>20</td>\n",
       "    </tr>\n",
       "    <tr>\n",
       "      <th>1</th>\n",
       "      <td>1</td>\n",
       "      <td>0</td>\n",
       "      <td>0</td>\n",
       "      <td>0</td>\n",
       "      <td>0</td>\n",
       "      <td>0</td>\n",
       "      <td>0</td>\n",
       "      <td>0</td>\n",
       "      <td>0</td>\n",
       "      <td>0</td>\n",
       "      <td>...</td>\n",
       "      <td>0</td>\n",
       "      <td>0</td>\n",
       "      <td>0</td>\n",
       "      <td>0</td>\n",
       "      <td>0</td>\n",
       "      <td>0</td>\n",
       "      <td>29.384210</td>\n",
       "      <td>-98.581082</td>\n",
       "      <td>10</td>\n",
       "      <td>21</td>\n",
       "    </tr>\n",
       "    <tr>\n",
       "      <th>2</th>\n",
       "      <td>0</td>\n",
       "      <td>1</td>\n",
       "      <td>0</td>\n",
       "      <td>0</td>\n",
       "      <td>0</td>\n",
       "      <td>0</td>\n",
       "      <td>0</td>\n",
       "      <td>0</td>\n",
       "      <td>0</td>\n",
       "      <td>0</td>\n",
       "      <td>...</td>\n",
       "      <td>0</td>\n",
       "      <td>0</td>\n",
       "      <td>0</td>\n",
       "      <td>0</td>\n",
       "      <td>0</td>\n",
       "      <td>0</td>\n",
       "      <td>53.200000</td>\n",
       "      <td>-2.916667</td>\n",
       "      <td>10</td>\n",
       "      <td>17</td>\n",
       "    </tr>\n",
       "    <tr>\n",
       "      <th>3</th>\n",
       "      <td>1</td>\n",
       "      <td>0</td>\n",
       "      <td>0</td>\n",
       "      <td>0</td>\n",
       "      <td>0</td>\n",
       "      <td>0</td>\n",
       "      <td>0</td>\n",
       "      <td>0</td>\n",
       "      <td>0</td>\n",
       "      <td>0</td>\n",
       "      <td>...</td>\n",
       "      <td>0</td>\n",
       "      <td>0</td>\n",
       "      <td>0</td>\n",
       "      <td>0</td>\n",
       "      <td>0</td>\n",
       "      <td>0</td>\n",
       "      <td>28.978333</td>\n",
       "      <td>-96.645833</td>\n",
       "      <td>10</td>\n",
       "      <td>21</td>\n",
       "    </tr>\n",
       "    <tr>\n",
       "      <th>4</th>\n",
       "      <td>1</td>\n",
       "      <td>0</td>\n",
       "      <td>0</td>\n",
       "      <td>0</td>\n",
       "      <td>0</td>\n",
       "      <td>0</td>\n",
       "      <td>0</td>\n",
       "      <td>0</td>\n",
       "      <td>0</td>\n",
       "      <td>0</td>\n",
       "      <td>...</td>\n",
       "      <td>0</td>\n",
       "      <td>0</td>\n",
       "      <td>0</td>\n",
       "      <td>0</td>\n",
       "      <td>0</td>\n",
       "      <td>0</td>\n",
       "      <td>21.418056</td>\n",
       "      <td>-157.803611</td>\n",
       "      <td>10</td>\n",
       "      <td>20</td>\n",
       "    </tr>\n",
       "  </tbody>\n",
       "</table>\n",
       "<p>5 rows × 44 columns</p>\n",
       "</div>"
      ],
      "text/plain": [
       "   Country_1  Country_2  Country_3  Country_4  Country_5  Country_6  \\\n",
       "0          1          0          0          0          0          0   \n",
       "1          1          0          0          0          0          0   \n",
       "2          0          1          0          0          0          0   \n",
       "3          1          0          0          0          0          0   \n",
       "4          1          0          0          0          0          0   \n",
       "\n",
       "   Country_7  Country_8  Country_9  Country_10  ...  sh_23  sh_24  sh_25  \\\n",
       "0          0          0          0           0  ...      0      0      0   \n",
       "1          0          0          0           0  ...      0      0      0   \n",
       "2          0          0          0           0  ...      0      0      0   \n",
       "3          0          0          0           0  ...      0      0      0   \n",
       "4          0          0          0           0  ...      0      0      0   \n",
       "\n",
       "   sh_26  sh_27  sh_28        lat        long  Day  Hour  \n",
       "0      0      0      0  29.883056  -97.941111   10    20  \n",
       "1      0      0      0  29.384210  -98.581082   10    21  \n",
       "2      0      0      0  53.200000   -2.916667   10    17  \n",
       "3      0      0      0  28.978333  -96.645833   10    21  \n",
       "4      0      0      0  21.418056 -157.803611   10    20  \n",
       "\n",
       "[5 rows x 44 columns]"
      ]
     },
     "execution_count": 104,
     "metadata": {},
     "output_type": "execute_result"
    }
   ],
   "source": [
    "X_OHE.head()"
   ]
  },
  {
   "cell_type": "markdown",
   "metadata": {},
   "source": [
    "<b> One hot Encoding using Pandas get_dummies method</b>"
   ]
  },
  {
   "cell_type": "code",
   "execution_count": 101,
   "metadata": {},
   "outputs": [],
   "source": [
    "# Using Pandas Dummy method\n",
    "\n",
    "X = data_1[['Country','Year','Month','sh','lat','long','Day','Hour']]\n",
    "y = data_m['Duration_minutes']\n",
    "\n",
    "X_dumm = pd.get_dummies(data = X)"
   ]
  },
  {
   "cell_type": "code",
   "execution_count": 102,
   "metadata": {},
   "outputs": [
    {
     "data": {
      "text/html": [
       "<div>\n",
       "<style scoped>\n",
       "    .dataframe tbody tr th:only-of-type {\n",
       "        vertical-align: middle;\n",
       "    }\n",
       "\n",
       "    .dataframe tbody tr th {\n",
       "        vertical-align: top;\n",
       "    }\n",
       "\n",
       "    .dataframe thead th {\n",
       "        text-align: right;\n",
       "    }\n",
       "</style>\n",
       "<table border=\"1\" class=\"dataframe\">\n",
       "  <thead>\n",
       "    <tr style=\"text-align: right;\">\n",
       "      <th></th>\n",
       "      <th>Year</th>\n",
       "      <th>Month</th>\n",
       "      <th>lat</th>\n",
       "      <th>long</th>\n",
       "      <th>Day</th>\n",
       "      <th>Hour</th>\n",
       "      <th>Country_AU</th>\n",
       "      <th>Country_CA</th>\n",
       "      <th>Country_DE</th>\n",
       "      <th>Country_GB</th>\n",
       "      <th>...</th>\n",
       "      <th>sh_light</th>\n",
       "      <th>sh_other</th>\n",
       "      <th>sh_oval</th>\n",
       "      <th>sh_pyramid</th>\n",
       "      <th>sh_rectangle</th>\n",
       "      <th>sh_round</th>\n",
       "      <th>sh_sphere</th>\n",
       "      <th>sh_teardrop</th>\n",
       "      <th>sh_triangle</th>\n",
       "      <th>sh_unknown</th>\n",
       "    </tr>\n",
       "  </thead>\n",
       "  <tbody>\n",
       "    <tr>\n",
       "      <th>0</th>\n",
       "      <td>1949</td>\n",
       "      <td>10</td>\n",
       "      <td>29.883056</td>\n",
       "      <td>-97.941111</td>\n",
       "      <td>10</td>\n",
       "      <td>20</td>\n",
       "      <td>0</td>\n",
       "      <td>0</td>\n",
       "      <td>0</td>\n",
       "      <td>0</td>\n",
       "      <td>...</td>\n",
       "      <td>0</td>\n",
       "      <td>0</td>\n",
       "      <td>0</td>\n",
       "      <td>0</td>\n",
       "      <td>0</td>\n",
       "      <td>0</td>\n",
       "      <td>0</td>\n",
       "      <td>0</td>\n",
       "      <td>0</td>\n",
       "      <td>0</td>\n",
       "    </tr>\n",
       "    <tr>\n",
       "      <th>1</th>\n",
       "      <td>1949</td>\n",
       "      <td>10</td>\n",
       "      <td>29.384210</td>\n",
       "      <td>-98.581082</td>\n",
       "      <td>10</td>\n",
       "      <td>21</td>\n",
       "      <td>0</td>\n",
       "      <td>0</td>\n",
       "      <td>0</td>\n",
       "      <td>0</td>\n",
       "      <td>...</td>\n",
       "      <td>1</td>\n",
       "      <td>0</td>\n",
       "      <td>0</td>\n",
       "      <td>0</td>\n",
       "      <td>0</td>\n",
       "      <td>0</td>\n",
       "      <td>0</td>\n",
       "      <td>0</td>\n",
       "      <td>0</td>\n",
       "      <td>0</td>\n",
       "    </tr>\n",
       "    <tr>\n",
       "      <th>2</th>\n",
       "      <td>1955</td>\n",
       "      <td>10</td>\n",
       "      <td>53.200000</td>\n",
       "      <td>-2.916667</td>\n",
       "      <td>10</td>\n",
       "      <td>17</td>\n",
       "      <td>0</td>\n",
       "      <td>0</td>\n",
       "      <td>0</td>\n",
       "      <td>1</td>\n",
       "      <td>...</td>\n",
       "      <td>0</td>\n",
       "      <td>0</td>\n",
       "      <td>0</td>\n",
       "      <td>0</td>\n",
       "      <td>0</td>\n",
       "      <td>0</td>\n",
       "      <td>0</td>\n",
       "      <td>0</td>\n",
       "      <td>0</td>\n",
       "      <td>0</td>\n",
       "    </tr>\n",
       "    <tr>\n",
       "      <th>3</th>\n",
       "      <td>1956</td>\n",
       "      <td>10</td>\n",
       "      <td>28.978333</td>\n",
       "      <td>-96.645833</td>\n",
       "      <td>10</td>\n",
       "      <td>21</td>\n",
       "      <td>0</td>\n",
       "      <td>0</td>\n",
       "      <td>0</td>\n",
       "      <td>0</td>\n",
       "      <td>...</td>\n",
       "      <td>0</td>\n",
       "      <td>0</td>\n",
       "      <td>0</td>\n",
       "      <td>0</td>\n",
       "      <td>0</td>\n",
       "      <td>0</td>\n",
       "      <td>0</td>\n",
       "      <td>0</td>\n",
       "      <td>0</td>\n",
       "      <td>0</td>\n",
       "    </tr>\n",
       "    <tr>\n",
       "      <th>4</th>\n",
       "      <td>1960</td>\n",
       "      <td>10</td>\n",
       "      <td>21.418056</td>\n",
       "      <td>-157.803611</td>\n",
       "      <td>10</td>\n",
       "      <td>20</td>\n",
       "      <td>0</td>\n",
       "      <td>0</td>\n",
       "      <td>0</td>\n",
       "      <td>0</td>\n",
       "      <td>...</td>\n",
       "      <td>1</td>\n",
       "      <td>0</td>\n",
       "      <td>0</td>\n",
       "      <td>0</td>\n",
       "      <td>0</td>\n",
       "      <td>0</td>\n",
       "      <td>0</td>\n",
       "      <td>0</td>\n",
       "      <td>0</td>\n",
       "      <td>0</td>\n",
       "    </tr>\n",
       "  </tbody>\n",
       "</table>\n",
       "<p>5 rows × 44 columns</p>\n",
       "</div>"
      ],
      "text/plain": [
       "   Year  Month        lat        long  Day  Hour  Country_AU  Country_CA  \\\n",
       "0  1949     10  29.883056  -97.941111   10    20           0           0   \n",
       "1  1949     10  29.384210  -98.581082   10    21           0           0   \n",
       "2  1955     10  53.200000   -2.916667   10    17           0           0   \n",
       "3  1956     10  28.978333  -96.645833   10    21           0           0   \n",
       "4  1960     10  21.418056 -157.803611   10    20           0           0   \n",
       "\n",
       "   Country_DE  Country_GB  ...  sh_light  sh_other  sh_oval  sh_pyramid  \\\n",
       "0           0           0  ...         0         0        0           0   \n",
       "1           0           0  ...         1         0        0           0   \n",
       "2           0           1  ...         0         0        0           0   \n",
       "3           0           0  ...         0         0        0           0   \n",
       "4           0           0  ...         1         0        0           0   \n",
       "\n",
       "   sh_rectangle  sh_round  sh_sphere  sh_teardrop  sh_triangle  sh_unknown  \n",
       "0             0         0          0            0            0           0  \n",
       "1             0         0          0            0            0           0  \n",
       "2             0         0          0            0            0           0  \n",
       "3             0         0          0            0            0           0  \n",
       "4             0         0          0            0            0           0  \n",
       "\n",
       "[5 rows x 44 columns]"
      ]
     },
     "execution_count": 102,
     "metadata": {},
     "output_type": "execute_result"
    }
   ],
   "source": [
    "X_dumm.head()"
   ]
  },
  {
   "cell_type": "markdown",
   "metadata": {},
   "source": [
    "As Get Dummies method changes categories to binary 0, 1 depending on number of categories, we can see that this has created 44\n",
    "columns after making each column a feature with value 0 or 1. SK learn's One hot Encoder and Pandas get_dummies function work in the same manner"
   ]
  },
  {
   "cell_type": "markdown",
   "metadata": {},
   "source": [
    "### 4.6.3 Binary Encoder<a id='4.6.3_Binary_Encoder'></a>"
   ]
  },
  {
   "cell_type": "markdown",
   "metadata": {},
   "source": [
    "<b>Approach 3 - Binary Encoder </b>- First, the categories are encoded as ordinal, then those integers are converted into binary code, then the digits from that binary string are split into separate columns. This is useful when you have a large number of categories"
   ]
  },
  {
   "cell_type": "code",
   "execution_count": 105,
   "metadata": {},
   "outputs": [
    {
     "name": "stderr",
     "output_type": "stream",
     "text": [
      "D:\\Anacon\\lib\\site-packages\\category_encoders\\utils.py:21: FutureWarning: is_categorical is deprecated and will be removed in a future version.  Use is_categorical_dtype instead\n",
      "  elif pd.api.types.is_categorical(cols):\n"
     ]
    }
   ],
   "source": [
    "X = data_1[['Country','Year','Month','sh','lat','long','Day','Hour']]\n",
    "y = data_m['Duration_minutes']\n",
    "\n",
    "ce_Bin = ce.BinaryEncoder(cols=['Country', 'sh'])\n",
    "\n",
    "X_Bin = ce_Bin.fit_transform(X)"
   ]
  },
  {
   "cell_type": "code",
   "execution_count": 106,
   "metadata": {},
   "outputs": [
    {
     "data": {
      "text/html": [
       "<div>\n",
       "<style scoped>\n",
       "    .dataframe tbody tr th:only-of-type {\n",
       "        vertical-align: middle;\n",
       "    }\n",
       "\n",
       "    .dataframe tbody tr th {\n",
       "        vertical-align: top;\n",
       "    }\n",
       "\n",
       "    .dataframe thead th {\n",
       "        text-align: right;\n",
       "    }\n",
       "</style>\n",
       "<table border=\"1\" class=\"dataframe\">\n",
       "  <thead>\n",
       "    <tr style=\"text-align: right;\">\n",
       "      <th></th>\n",
       "      <th>Country_0</th>\n",
       "      <th>Country_1</th>\n",
       "      <th>Country_2</th>\n",
       "      <th>Country_3</th>\n",
       "      <th>Country_4</th>\n",
       "      <th>Year</th>\n",
       "      <th>Month</th>\n",
       "      <th>sh_0</th>\n",
       "      <th>sh_1</th>\n",
       "      <th>sh_2</th>\n",
       "      <th>sh_3</th>\n",
       "      <th>sh_4</th>\n",
       "      <th>sh_5</th>\n",
       "      <th>lat</th>\n",
       "      <th>long</th>\n",
       "      <th>Day</th>\n",
       "      <th>Hour</th>\n",
       "    </tr>\n",
       "  </thead>\n",
       "  <tbody>\n",
       "    <tr>\n",
       "      <th>0</th>\n",
       "      <td>0</td>\n",
       "      <td>0</td>\n",
       "      <td>0</td>\n",
       "      <td>0</td>\n",
       "      <td>1</td>\n",
       "      <td>1949</td>\n",
       "      <td>10</td>\n",
       "      <td>0</td>\n",
       "      <td>0</td>\n",
       "      <td>0</td>\n",
       "      <td>0</td>\n",
       "      <td>0</td>\n",
       "      <td>1</td>\n",
       "      <td>29.883056</td>\n",
       "      <td>-97.941111</td>\n",
       "      <td>10</td>\n",
       "      <td>20</td>\n",
       "    </tr>\n",
       "    <tr>\n",
       "      <th>1</th>\n",
       "      <td>0</td>\n",
       "      <td>0</td>\n",
       "      <td>0</td>\n",
       "      <td>0</td>\n",
       "      <td>1</td>\n",
       "      <td>1949</td>\n",
       "      <td>10</td>\n",
       "      <td>0</td>\n",
       "      <td>0</td>\n",
       "      <td>0</td>\n",
       "      <td>0</td>\n",
       "      <td>1</td>\n",
       "      <td>0</td>\n",
       "      <td>29.384210</td>\n",
       "      <td>-98.581082</td>\n",
       "      <td>10</td>\n",
       "      <td>21</td>\n",
       "    </tr>\n",
       "    <tr>\n",
       "      <th>2</th>\n",
       "      <td>0</td>\n",
       "      <td>0</td>\n",
       "      <td>0</td>\n",
       "      <td>1</td>\n",
       "      <td>0</td>\n",
       "      <td>1955</td>\n",
       "      <td>10</td>\n",
       "      <td>0</td>\n",
       "      <td>0</td>\n",
       "      <td>0</td>\n",
       "      <td>0</td>\n",
       "      <td>1</td>\n",
       "      <td>1</td>\n",
       "      <td>53.200000</td>\n",
       "      <td>-2.916667</td>\n",
       "      <td>10</td>\n",
       "      <td>17</td>\n",
       "    </tr>\n",
       "    <tr>\n",
       "      <th>3</th>\n",
       "      <td>0</td>\n",
       "      <td>0</td>\n",
       "      <td>0</td>\n",
       "      <td>0</td>\n",
       "      <td>1</td>\n",
       "      <td>1956</td>\n",
       "      <td>10</td>\n",
       "      <td>0</td>\n",
       "      <td>0</td>\n",
       "      <td>0</td>\n",
       "      <td>0</td>\n",
       "      <td>1</td>\n",
       "      <td>1</td>\n",
       "      <td>28.978333</td>\n",
       "      <td>-96.645833</td>\n",
       "      <td>10</td>\n",
       "      <td>21</td>\n",
       "    </tr>\n",
       "    <tr>\n",
       "      <th>4</th>\n",
       "      <td>0</td>\n",
       "      <td>0</td>\n",
       "      <td>0</td>\n",
       "      <td>0</td>\n",
       "      <td>1</td>\n",
       "      <td>1960</td>\n",
       "      <td>10</td>\n",
       "      <td>0</td>\n",
       "      <td>0</td>\n",
       "      <td>0</td>\n",
       "      <td>0</td>\n",
       "      <td>1</td>\n",
       "      <td>0</td>\n",
       "      <td>21.418056</td>\n",
       "      <td>-157.803611</td>\n",
       "      <td>10</td>\n",
       "      <td>20</td>\n",
       "    </tr>\n",
       "  </tbody>\n",
       "</table>\n",
       "</div>"
      ],
      "text/plain": [
       "   Country_0  Country_1  Country_2  Country_3  Country_4  Year  Month  sh_0  \\\n",
       "0          0          0          0          0          1  1949     10     0   \n",
       "1          0          0          0          0          1  1949     10     0   \n",
       "2          0          0          0          1          0  1955     10     0   \n",
       "3          0          0          0          0          1  1956     10     0   \n",
       "4          0          0          0          0          1  1960     10     0   \n",
       "\n",
       "   sh_1  sh_2  sh_3  sh_4  sh_5        lat        long  Day  Hour  \n",
       "0     0     0     0     0     1  29.883056  -97.941111   10    20  \n",
       "1     0     0     0     1     0  29.384210  -98.581082   10    21  \n",
       "2     0     0     0     1     1  53.200000   -2.916667   10    17  \n",
       "3     0     0     0     1     1  28.978333  -96.645833   10    21  \n",
       "4     0     0     0     1     0  21.418056 -157.803611   10    20  "
      ]
     },
     "execution_count": 106,
     "metadata": {},
     "output_type": "execute_result"
    }
   ],
   "source": [
    "X_Bin.head()"
   ]
  },
  {
   "cell_type": "markdown",
   "metadata": {},
   "source": [
    "Binary is more effective if we have more unique values in categorical features, it has already reduced number of features\n",
    "44 to 17 which is more suitable for our modelling purposes"
   ]
  },
  {
   "cell_type": "markdown",
   "metadata": {},
   "source": [
    "### 4.6.4 BaseN Encoder<a id='4.6.4_BaseN_Encoder'></a>"
   ]
  },
  {
   "cell_type": "markdown",
   "metadata": {},
   "source": [
    "<b> Approach 4 - BaseN Encoding </b>- In binary encoding, we convert the integers into binary i.e base 2. BaseN allows us to convert the integers with any value of the base. So, if you have something like city_name in your dataset which could be in thousands then it is advisable to use BaseN as it will reduce the dimensions further as you get after using binary-encoding."
   ]
  },
  {
   "cell_type": "code",
   "execution_count": 108,
   "metadata": {},
   "outputs": [
    {
     "name": "stderr",
     "output_type": "stream",
     "text": [
      "D:\\Anacon\\lib\\site-packages\\category_encoders\\utils.py:21: FutureWarning: is_categorical is deprecated and will be removed in a future version.  Use is_categorical_dtype instead\n",
      "  elif pd.api.types.is_categorical(cols):\n"
     ]
    }
   ],
   "source": [
    "# For dataset 1\n",
    "\n",
    "X = data_1[['Country','Year','Month','sh','lat','long','Day','Hour']]\n",
    "y = data_m['Duration_minutes']\n",
    "\n",
    "ce_BN = ce.BaseNEncoder(cols=['Country', 'sh'], base = 3)\n",
    "\n",
    "X_BN = ce_BN.fit_transform(X)"
   ]
  },
  {
   "cell_type": "code",
   "execution_count": 111,
   "metadata": {},
   "outputs": [
    {
     "data": {
      "text/html": [
       "<div>\n",
       "<style scoped>\n",
       "    .dataframe tbody tr th:only-of-type {\n",
       "        vertical-align: middle;\n",
       "    }\n",
       "\n",
       "    .dataframe tbody tr th {\n",
       "        vertical-align: top;\n",
       "    }\n",
       "\n",
       "    .dataframe thead th {\n",
       "        text-align: right;\n",
       "    }\n",
       "</style>\n",
       "<table border=\"1\" class=\"dataframe\">\n",
       "  <thead>\n",
       "    <tr style=\"text-align: right;\">\n",
       "      <th></th>\n",
       "      <th>Country_0</th>\n",
       "      <th>Country_1</th>\n",
       "      <th>Country_2</th>\n",
       "      <th>Country_3</th>\n",
       "      <th>Year</th>\n",
       "      <th>Month</th>\n",
       "      <th>sh_0</th>\n",
       "      <th>sh_1</th>\n",
       "      <th>sh_2</th>\n",
       "      <th>sh_3</th>\n",
       "      <th>sh_4</th>\n",
       "      <th>lat</th>\n",
       "      <th>long</th>\n",
       "      <th>Day</th>\n",
       "      <th>Hour</th>\n",
       "    </tr>\n",
       "  </thead>\n",
       "  <tbody>\n",
       "    <tr>\n",
       "      <th>73568</th>\n",
       "      <td>0</td>\n",
       "      <td>0</td>\n",
       "      <td>0</td>\n",
       "      <td>1</td>\n",
       "      <td>2011</td>\n",
       "      <td>9</td>\n",
       "      <td>0</td>\n",
       "      <td>0</td>\n",
       "      <td>1</td>\n",
       "      <td>0</td>\n",
       "      <td>0</td>\n",
       "      <td>44.923889</td>\n",
       "      <td>-92.959167</td>\n",
       "      <td>20</td>\n",
       "      <td>1</td>\n",
       "    </tr>\n",
       "    <tr>\n",
       "      <th>75559</th>\n",
       "      <td>0</td>\n",
       "      <td>0</td>\n",
       "      <td>0</td>\n",
       "      <td>1</td>\n",
       "      <td>2012</td>\n",
       "      <td>9</td>\n",
       "      <td>0</td>\n",
       "      <td>0</td>\n",
       "      <td>1</td>\n",
       "      <td>0</td>\n",
       "      <td>2</td>\n",
       "      <td>39.114167</td>\n",
       "      <td>-94.627222</td>\n",
       "      <td>28</td>\n",
       "      <td>19</td>\n",
       "    </tr>\n",
       "    <tr>\n",
       "      <th>27999</th>\n",
       "      <td>0</td>\n",
       "      <td>0</td>\n",
       "      <td>1</td>\n",
       "      <td>2</td>\n",
       "      <td>2004</td>\n",
       "      <td>2</td>\n",
       "      <td>0</td>\n",
       "      <td>0</td>\n",
       "      <td>0</td>\n",
       "      <td>1</td>\n",
       "      <td>1</td>\n",
       "      <td>53.633333</td>\n",
       "      <td>-113.633333</td>\n",
       "      <td>28</td>\n",
       "      <td>18</td>\n",
       "    </tr>\n",
       "    <tr>\n",
       "      <th>11894</th>\n",
       "      <td>0</td>\n",
       "      <td>0</td>\n",
       "      <td>0</td>\n",
       "      <td>1</td>\n",
       "      <td>2014</td>\n",
       "      <td>1</td>\n",
       "      <td>0</td>\n",
       "      <td>0</td>\n",
       "      <td>2</td>\n",
       "      <td>0</td>\n",
       "      <td>0</td>\n",
       "      <td>40.995278</td>\n",
       "      <td>-74.012500</td>\n",
       "      <td>12</td>\n",
       "      <td>17</td>\n",
       "    </tr>\n",
       "    <tr>\n",
       "      <th>24821</th>\n",
       "      <td>0</td>\n",
       "      <td>0</td>\n",
       "      <td>0</td>\n",
       "      <td>1</td>\n",
       "      <td>2013</td>\n",
       "      <td>2</td>\n",
       "      <td>0</td>\n",
       "      <td>0</td>\n",
       "      <td>0</td>\n",
       "      <td>2</td>\n",
       "      <td>2</td>\n",
       "      <td>26.933889</td>\n",
       "      <td>-80.094444</td>\n",
       "      <td>10</td>\n",
       "      <td>22</td>\n",
       "    </tr>\n",
       "  </tbody>\n",
       "</table>\n",
       "</div>"
      ],
      "text/plain": [
       "       Country_0  Country_1  Country_2  Country_3  Year  Month  sh_0  sh_1  \\\n",
       "73568          0          0          0          1  2011      9     0     0   \n",
       "75559          0          0          0          1  2012      9     0     0   \n",
       "27999          0          0          1          2  2004      2     0     0   \n",
       "11894          0          0          0          1  2014      1     0     0   \n",
       "24821          0          0          0          1  2013      2     0     0   \n",
       "\n",
       "       sh_2  sh_3  sh_4        lat        long  Day  Hour  \n",
       "73568     1     0     0  44.923889  -92.959167   20     1  \n",
       "75559     1     0     2  39.114167  -94.627222   28    19  \n",
       "27999     0     1     1  53.633333 -113.633333   28    18  \n",
       "11894     2     0     0  40.995278  -74.012500   12    17  \n",
       "24821     0     2     2  26.933889  -80.094444   10    22  "
      ]
     },
     "execution_count": 111,
     "metadata": {},
     "output_type": "execute_result"
    }
   ],
   "source": [
    "X_BN.sample(5)"
   ]
  },
  {
   "cell_type": "code",
   "execution_count": 112,
   "metadata": {},
   "outputs": [
    {
     "name": "stderr",
     "output_type": "stream",
     "text": [
      "D:\\Anacon\\lib\\site-packages\\category_encoders\\utils.py:21: FutureWarning: is_categorical is deprecated and will be removed in a future version.  Use is_categorical_dtype instead\n",
      "  elif pd.api.types.is_categorical(cols):\n"
     ]
    }
   ],
   "source": [
    "# For dataset original\n",
    "\n",
    "X = data_m[['Country','Year','Month','State','City','sh','lat','long','Day','Hour']]\n",
    "y = data_m['Duration_minutes']\n",
    "\n",
    "ce_BNO = ce.BaseNEncoder(cols=['Country', 'sh', 'State','City'], base = 10)\n",
    "\n",
    "X_BNO = ce_BNO.fit_transform(X)"
   ]
  },
  {
   "cell_type": "code",
   "execution_count": 113,
   "metadata": {},
   "outputs": [
    {
     "data": {
      "text/html": [
       "<div>\n",
       "<style scoped>\n",
       "    .dataframe tbody tr th:only-of-type {\n",
       "        vertical-align: middle;\n",
       "    }\n",
       "\n",
       "    .dataframe tbody tr th {\n",
       "        vertical-align: top;\n",
       "    }\n",
       "\n",
       "    .dataframe thead th {\n",
       "        text-align: right;\n",
       "    }\n",
       "</style>\n",
       "<table border=\"1\" class=\"dataframe\">\n",
       "  <thead>\n",
       "    <tr style=\"text-align: right;\">\n",
       "      <th></th>\n",
       "      <th>Country_0</th>\n",
       "      <th>Country_1</th>\n",
       "      <th>Year</th>\n",
       "      <th>Month</th>\n",
       "      <th>State_0</th>\n",
       "      <th>State_1</th>\n",
       "      <th>State_2</th>\n",
       "      <th>State_3</th>\n",
       "      <th>City_0</th>\n",
       "      <th>City_1</th>\n",
       "      <th>...</th>\n",
       "      <th>City_3</th>\n",
       "      <th>City_4</th>\n",
       "      <th>City_5</th>\n",
       "      <th>sh_0</th>\n",
       "      <th>sh_1</th>\n",
       "      <th>sh_2</th>\n",
       "      <th>lat</th>\n",
       "      <th>long</th>\n",
       "      <th>Day</th>\n",
       "      <th>Hour</th>\n",
       "    </tr>\n",
       "  </thead>\n",
       "  <tbody>\n",
       "    <tr>\n",
       "      <th>0</th>\n",
       "      <td>0</td>\n",
       "      <td>1</td>\n",
       "      <td>1949</td>\n",
       "      <td>10</td>\n",
       "      <td>0</td>\n",
       "      <td>0</td>\n",
       "      <td>0</td>\n",
       "      <td>1</td>\n",
       "      <td>0</td>\n",
       "      <td>0</td>\n",
       "      <td>...</td>\n",
       "      <td>0</td>\n",
       "      <td>0</td>\n",
       "      <td>1</td>\n",
       "      <td>0</td>\n",
       "      <td>0</td>\n",
       "      <td>1</td>\n",
       "      <td>29.883056</td>\n",
       "      <td>-97.941111</td>\n",
       "      <td>10</td>\n",
       "      <td>20</td>\n",
       "    </tr>\n",
       "    <tr>\n",
       "      <th>1</th>\n",
       "      <td>0</td>\n",
       "      <td>1</td>\n",
       "      <td>1949</td>\n",
       "      <td>10</td>\n",
       "      <td>0</td>\n",
       "      <td>0</td>\n",
       "      <td>0</td>\n",
       "      <td>1</td>\n",
       "      <td>0</td>\n",
       "      <td>0</td>\n",
       "      <td>...</td>\n",
       "      <td>0</td>\n",
       "      <td>0</td>\n",
       "      <td>2</td>\n",
       "      <td>0</td>\n",
       "      <td>0</td>\n",
       "      <td>2</td>\n",
       "      <td>29.384210</td>\n",
       "      <td>-98.581082</td>\n",
       "      <td>10</td>\n",
       "      <td>21</td>\n",
       "    </tr>\n",
       "    <tr>\n",
       "      <th>2</th>\n",
       "      <td>0</td>\n",
       "      <td>2</td>\n",
       "      <td>1955</td>\n",
       "      <td>10</td>\n",
       "      <td>0</td>\n",
       "      <td>0</td>\n",
       "      <td>0</td>\n",
       "      <td>2</td>\n",
       "      <td>0</td>\n",
       "      <td>0</td>\n",
       "      <td>...</td>\n",
       "      <td>0</td>\n",
       "      <td>0</td>\n",
       "      <td>3</td>\n",
       "      <td>0</td>\n",
       "      <td>0</td>\n",
       "      <td>3</td>\n",
       "      <td>53.200000</td>\n",
       "      <td>-2.916667</td>\n",
       "      <td>10</td>\n",
       "      <td>17</td>\n",
       "    </tr>\n",
       "    <tr>\n",
       "      <th>3</th>\n",
       "      <td>0</td>\n",
       "      <td>1</td>\n",
       "      <td>1956</td>\n",
       "      <td>10</td>\n",
       "      <td>0</td>\n",
       "      <td>0</td>\n",
       "      <td>0</td>\n",
       "      <td>1</td>\n",
       "      <td>0</td>\n",
       "      <td>0</td>\n",
       "      <td>...</td>\n",
       "      <td>0</td>\n",
       "      <td>0</td>\n",
       "      <td>4</td>\n",
       "      <td>0</td>\n",
       "      <td>0</td>\n",
       "      <td>3</td>\n",
       "      <td>28.978333</td>\n",
       "      <td>-96.645833</td>\n",
       "      <td>10</td>\n",
       "      <td>21</td>\n",
       "    </tr>\n",
       "    <tr>\n",
       "      <th>4</th>\n",
       "      <td>0</td>\n",
       "      <td>1</td>\n",
       "      <td>1960</td>\n",
       "      <td>10</td>\n",
       "      <td>0</td>\n",
       "      <td>0</td>\n",
       "      <td>0</td>\n",
       "      <td>3</td>\n",
       "      <td>0</td>\n",
       "      <td>0</td>\n",
       "      <td>...</td>\n",
       "      <td>0</td>\n",
       "      <td>0</td>\n",
       "      <td>5</td>\n",
       "      <td>0</td>\n",
       "      <td>0</td>\n",
       "      <td>2</td>\n",
       "      <td>21.418056</td>\n",
       "      <td>-157.803611</td>\n",
       "      <td>10</td>\n",
       "      <td>20</td>\n",
       "    </tr>\n",
       "  </tbody>\n",
       "</table>\n",
       "<p>5 rows × 21 columns</p>\n",
       "</div>"
      ],
      "text/plain": [
       "   Country_0  Country_1  Year  Month  State_0  State_1  State_2  State_3  \\\n",
       "0          0          1  1949     10        0        0        0        1   \n",
       "1          0          1  1949     10        0        0        0        1   \n",
       "2          0          2  1955     10        0        0        0        2   \n",
       "3          0          1  1956     10        0        0        0        1   \n",
       "4          0          1  1960     10        0        0        0        3   \n",
       "\n",
       "   City_0  City_1  ...  City_3  City_4  City_5  sh_0  sh_1  sh_2        lat  \\\n",
       "0       0       0  ...       0       0       1     0     0     1  29.883056   \n",
       "1       0       0  ...       0       0       2     0     0     2  29.384210   \n",
       "2       0       0  ...       0       0       3     0     0     3  53.200000   \n",
       "3       0       0  ...       0       0       4     0     0     3  28.978333   \n",
       "4       0       0  ...       0       0       5     0     0     2  21.418056   \n",
       "\n",
       "         long  Day  Hour  \n",
       "0  -97.941111   10    20  \n",
       "1  -98.581082   10    21  \n",
       "2   -2.916667   10    17  \n",
       "3  -96.645833   10    21  \n",
       "4 -157.803611   10    20  \n",
       "\n",
       "[5 rows x 21 columns]"
      ]
     },
     "execution_count": 113,
     "metadata": {},
     "output_type": "execute_result"
    }
   ],
   "source": [
    "X_BNO.head()"
   ]
  },
  {
   "cell_type": "markdown",
   "metadata": {},
   "source": [
    "For our original dataset BaseN Encoder seems to be pretty suitable with keeping base as 10 we have used all the features and have manged to get just 21 features where as City column had more than 10000 values"
   ]
  },
  {
   "cell_type": "markdown",
   "metadata": {},
   "source": [
    "### 4.6.5 Hashing Encoder<a id='4.6.5_Hashing_Encoder'></a>"
   ]
  },
  {
   "cell_type": "markdown",
   "metadata": {},
   "source": [
    "<b> Approach 5 - Hashing </b> - It is the process of transformation of a string of characters into a usually shorter fixed-length value using an algorithm that represents the original string. It uses md5 algorithm to convert the string into a fixed-length shorter string that we can define by using the parameter n_components. If you set the parameter to 5 then it doesn’t matter to the algorithm whether the length of your category is 7 or 700, it will convert it into a string of length 5 which will finally give us 5 different columns representing our categorical value"
   ]
  },
  {
   "cell_type": "code",
   "execution_count": 116,
   "metadata": {},
   "outputs": [
    {
     "name": "stderr",
     "output_type": "stream",
     "text": [
      "D:\\Anacon\\lib\\site-packages\\category_encoders\\utils.py:21: FutureWarning: is_categorical is deprecated and will be removed in a future version.  Use is_categorical_dtype instead\n",
      "  elif pd.api.types.is_categorical(cols):\n"
     ]
    }
   ],
   "source": [
    "# For dataset 1\n",
    "\n",
    "X = data_1[['Country','Year','Month','sh','lat','long','Day','Hour']]\n",
    "y = data_m['Duration_minutes']\n",
    "\n",
    "ce_HE = ce.HashingEncoder(cols=['Country', 'sh'], n_components = 5)\n",
    "\n",
    "X_HE = ce_HE.fit_transform(X)"
   ]
  },
  {
   "cell_type": "code",
   "execution_count": 118,
   "metadata": {},
   "outputs": [
    {
     "data": {
      "text/html": [
       "<div>\n",
       "<style scoped>\n",
       "    .dataframe tbody tr th:only-of-type {\n",
       "        vertical-align: middle;\n",
       "    }\n",
       "\n",
       "    .dataframe tbody tr th {\n",
       "        vertical-align: top;\n",
       "    }\n",
       "\n",
       "    .dataframe thead th {\n",
       "        text-align: right;\n",
       "    }\n",
       "</style>\n",
       "<table border=\"1\" class=\"dataframe\">\n",
       "  <thead>\n",
       "    <tr style=\"text-align: right;\">\n",
       "      <th></th>\n",
       "      <th>col_0</th>\n",
       "      <th>col_1</th>\n",
       "      <th>col_2</th>\n",
       "      <th>col_3</th>\n",
       "      <th>col_4</th>\n",
       "      <th>Year</th>\n",
       "      <th>Month</th>\n",
       "      <th>lat</th>\n",
       "      <th>long</th>\n",
       "      <th>Day</th>\n",
       "      <th>Hour</th>\n",
       "    </tr>\n",
       "  </thead>\n",
       "  <tbody>\n",
       "    <tr>\n",
       "      <th>0</th>\n",
       "      <td>0</td>\n",
       "      <td>0</td>\n",
       "      <td>1</td>\n",
       "      <td>0</td>\n",
       "      <td>1</td>\n",
       "      <td>1949</td>\n",
       "      <td>10</td>\n",
       "      <td>29.883056</td>\n",
       "      <td>-97.941111</td>\n",
       "      <td>10</td>\n",
       "      <td>20</td>\n",
       "    </tr>\n",
       "    <tr>\n",
       "      <th>1</th>\n",
       "      <td>0</td>\n",
       "      <td>0</td>\n",
       "      <td>1</td>\n",
       "      <td>0</td>\n",
       "      <td>1</td>\n",
       "      <td>1949</td>\n",
       "      <td>10</td>\n",
       "      <td>29.384210</td>\n",
       "      <td>-98.581082</td>\n",
       "      <td>10</td>\n",
       "      <td>21</td>\n",
       "    </tr>\n",
       "    <tr>\n",
       "      <th>2</th>\n",
       "      <td>0</td>\n",
       "      <td>0</td>\n",
       "      <td>1</td>\n",
       "      <td>0</td>\n",
       "      <td>1</td>\n",
       "      <td>1955</td>\n",
       "      <td>10</td>\n",
       "      <td>53.200000</td>\n",
       "      <td>-2.916667</td>\n",
       "      <td>10</td>\n",
       "      <td>17</td>\n",
       "    </tr>\n",
       "    <tr>\n",
       "      <th>3</th>\n",
       "      <td>0</td>\n",
       "      <td>0</td>\n",
       "      <td>1</td>\n",
       "      <td>0</td>\n",
       "      <td>1</td>\n",
       "      <td>1956</td>\n",
       "      <td>10</td>\n",
       "      <td>28.978333</td>\n",
       "      <td>-96.645833</td>\n",
       "      <td>10</td>\n",
       "      <td>21</td>\n",
       "    </tr>\n",
       "    <tr>\n",
       "      <th>4</th>\n",
       "      <td>0</td>\n",
       "      <td>0</td>\n",
       "      <td>1</td>\n",
       "      <td>0</td>\n",
       "      <td>1</td>\n",
       "      <td>1960</td>\n",
       "      <td>10</td>\n",
       "      <td>21.418056</td>\n",
       "      <td>-157.803611</td>\n",
       "      <td>10</td>\n",
       "      <td>20</td>\n",
       "    </tr>\n",
       "  </tbody>\n",
       "</table>\n",
       "</div>"
      ],
      "text/plain": [
       "   col_0  col_1  col_2  col_3  col_4  Year  Month        lat        long  Day  \\\n",
       "0      0      0      1      0      1  1949     10  29.883056  -97.941111   10   \n",
       "1      0      0      1      0      1  1949     10  29.384210  -98.581082   10   \n",
       "2      0      0      1      0      1  1955     10  53.200000   -2.916667   10   \n",
       "3      0      0      1      0      1  1956     10  28.978333  -96.645833   10   \n",
       "4      0      0      1      0      1  1960     10  21.418056 -157.803611   10   \n",
       "\n",
       "   Hour  \n",
       "0    20  \n",
       "1    21  \n",
       "2    17  \n",
       "3    21  \n",
       "4    20  "
      ]
     },
     "execution_count": 118,
     "metadata": {},
     "output_type": "execute_result"
    }
   ],
   "source": [
    "X_HE.head()"
   ]
  },
  {
   "cell_type": "markdown",
   "metadata": {},
   "source": [
    "### 4.6.6 Encoding Summary<a id='4.6.6_Encoding_Summary'></a>"
   ]
  },
  {
   "cell_type": "markdown",
   "metadata": {},
   "source": [
    "\n",
    "\n",
    "* I have used 5 approaches for encoding in case of my dataset\n",
    "* Out of first three approaches which I used on dataset with 9 features, results are ok, While the ordinal encoder yields same 9 features as compare to One-Hot which gave 44 features but sometimes ordinal suits more to categories which have order but out dataset doesn;t have any order for their categories \n",
    "* Between next three approaches i.e Binary, BaseN and Hashing, I find BaseN to be the best for our data as we can use it for both of our datasets i.e original and less featured one also\n",
    "\n",
    "We have Five feature set to train our data\n",
    "1. X_OR (Ordinal Encoded)\n",
    "2. X_dumm/X_OHE - (One-Hot Encoded)\n",
    "3. X_BN (Binary Encoded)\n",
    "4. X_BNO (BaseN Encoded)\n",
    "5. X_HE (Hashing Encoded)\n",
    "\n",
    "For our two datasets, Original with all features, I will use BaseN Encoded feature set\n",
    "and for dataset without State and City, lets use wither Ordinal or Binary"
   ]
  },
  {
   "cell_type": "markdown",
   "metadata": {},
   "source": [
    "## 4.7 Train/Test Split<a id='4.7_Train/Test_Split'></a>"
   ]
  },
  {
   "cell_type": "markdown",
   "metadata": {},
   "source": [
    "Lets Split our dataset into Train and Test data for furthur modelling purposes. For original Dataset I am useing BaseN Encoded Dataset and For shorter I am using Binary Encoded Dataset"
   ]
  },
  {
   "cell_type": "markdown",
   "metadata": {},
   "source": [
    "### 4.7.1 For Original Dataset<a id='4.7.1_For_Original_Dataset'></a>"
   ]
  },
  {
   "cell_type": "code",
   "execution_count": 119,
   "metadata": {},
   "outputs": [],
   "source": [
    "X_BNO_train, X_BNO_test, y_train, y_test = train_test_split(X_BNO, y, test_size = .25, random_state = 40)"
   ]
  },
  {
   "cell_type": "markdown",
   "metadata": {},
   "source": [
    "For Less featured dataset, I am using Binary/Ordinal Encoded Feature set"
   ]
  },
  {
   "cell_type": "markdown",
   "metadata": {},
   "source": [
    "### 4.7.2 For less featured<a id='4.7.2_For_less_featured'></a>"
   ]
  },
  {
   "cell_type": "code",
   "execution_count": 120,
   "metadata": {},
   "outputs": [],
   "source": [
    "# binary Encoder\n",
    "\n",
    "X_BN_train, X_BN_test, y_BN_train, y_BN_test = train_test_split(X_BN, y, test_size = .25, random_state = 40)"
   ]
  },
  {
   "cell_type": "code",
   "execution_count": null,
   "metadata": {},
   "outputs": [],
   "source": [
    "# Ordinal Encoder"
   ]
  },
  {
   "cell_type": "code",
   "execution_count": 121,
   "metadata": {},
   "outputs": [],
   "source": [
    "X_OR_train, X_OR_test, y_OR_train, y_OR_test = train_test_split(X_OR, y, test_size = .25, random_state = 40)"
   ]
  },
  {
   "cell_type": "markdown",
   "metadata": {},
   "source": [
    "## 4.8 Preprocessing Summary<a id='4.8_Preprocessing_Summary'></a>"
   ]
  },
  {
   "cell_type": "markdown",
   "metadata": {},
   "source": [
    "\n",
    "\n",
    "1. We started by checking our cleaned data set for null values and ensuring correct data types\n",
    "2. We checked for unique values in all the categorical feature that our dataset has, which are Country, State, City and Shape\n",
    "3. We did some modfication for Country Column to reduce the number of unique values by categorising all countries having less than 100 sightings  into OTHER catwegory\n",
    "4. We checked other columns auch as City and State both have bery high number of unique values i.e 10000 and 700 respectively\n",
    "5. We created two datasets one with all the features and other without city and State columns\n",
    "6. We did some more visualizations in terms of our target variable in respect to other features\n",
    "7. We encoded out categorical features using 5 encoding techinques to see which gives us the best dataset\n",
    "8. We selected BaseN Encoder for original dataset abd binary/Ordinal for less featured dataset\n",
    "9. We split our datasets into train and test set for furthur modelling to be preformed in next notebook\n"
   ]
  }
 ],
 "metadata": {
  "kernelspec": {
   "display_name": "Python 3",
   "language": "python",
   "name": "python3"
  },
  "language_info": {
   "codemirror_mode": {
    "name": "ipython",
    "version": 3
   },
   "file_extension": ".py",
   "mimetype": "text/x-python",
   "name": "python",
   "nbconvert_exporter": "python",
   "pygments_lexer": "ipython3",
   "version": "3.7.3"
  },
  "toc": {
   "base_numbering": 1,
   "nav_menu": {},
   "number_sections": true,
   "sideBar": true,
   "skip_h1_title": false,
   "title_cell": "Table of Contents",
   "title_sidebar": "Contents",
   "toc_cell": false,
   "toc_position": {},
   "toc_section_display": true,
   "toc_window_display": true
  },
  "varInspector": {
   "cols": {
    "lenName": 16,
    "lenType": 16,
    "lenVar": 40
   },
   "kernels_config": {
    "python": {
     "delete_cmd_postfix": "",
     "delete_cmd_prefix": "del ",
     "library": "var_list.py",
     "varRefreshCmd": "print(var_dic_list())"
    },
    "r": {
     "delete_cmd_postfix": ") ",
     "delete_cmd_prefix": "rm(",
     "library": "var_list.r",
     "varRefreshCmd": "cat(var_dic_list()) "
    }
   },
   "types_to_exclude": [
    "module",
    "function",
    "builtin_function_or_method",
    "instance",
    "_Feature"
   ],
   "window_display": false
  }
 },
 "nbformat": 4,
 "nbformat_minor": 4
}
