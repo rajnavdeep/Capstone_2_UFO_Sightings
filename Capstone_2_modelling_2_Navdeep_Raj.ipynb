{
 "cells": [
  {
   "cell_type": "markdown",
   "metadata": {},
   "source": [
    "# 5 Modeling<a id='5_Modeling'></a>"
   ]
  },
  {
   "cell_type": "markdown",
   "metadata": {},
   "source": [
    "## 5.1 Contents<a id='5.1_Contents'></a>\n",
    "* [5 Modeling](#5_Modeling)\n",
    "  * [5.1 Contents](#5.1_Contents)\n",
    "  * [5.2 Introduction](#5.2_Introduction)\n",
    "  * [5.3 Imports](#5.3_Imports)\n",
    "  * [5.4 Load Data](#5.4_Load_Data)\n",
    "  * [5.5 Prepare Data](#5.5_Prepare_Data)\n",
    "  * [5.6 Splitting Data](#5.6_Splitting_Data)\n",
    "      * [5.6.1 Scaling data](#5.6.1_Scaling_data)\n",
    "  * [5.7 Training Modela](#5.7_Training_Models)\n",
    "     * [5.7.1 Linear Regression](#5.7.1_Linear_Regression)\n",
    "          * [5.7.1.1 OLS on Scaled data](#5.7.1.1_OLS_on_Scaled_data)\n",
    "     * [5.7.2 Lasso Regression](#5.7.2_Lasso_Regression)\n",
    "          * [5.7.2.1 Lasso on Scaled data](#5.7.2.1_Lasso_on_Scaled_data)\n",
    "     * [5.7.3 Bayesian Ridge Regression](#5.7.3_Bayesian_Ridge_Regression)\n",
    "          * [5.7.3.1 Bayesian Ridge on Scaled data](#5.7.3.1_Bayesian_Ridge_on_Scaled_data)\n",
    "     * [5.7.4 SGD Regression](#5.7.4_SGD_Regression)\n",
    "          * [5.7.4.1 SGD on Scaled data](#5.7.4.1_SGD_on_Scaled_data)\n",
    "     * [5.7.5 Decision Tree Regression](#5.7.5_Decision_Tree_Regression)\n",
    "     * [5.7.6 Random Forest Regression](#5.7.6_Random_Forest_Regression)\n",
    "  * [5.8 Using GridSearchCV & Cross-Validation](#5.8_Using_GridSearchCV_&_Cross-Validation)\n",
    "     * [5.8.1 Multiple Linear Regression without Regularization](#5.8.1_Multiple_Linear_Regression_without_Regularization)\n",
    "     * [5.8.2 GridSearchCV with Ridge](#5.8.2_GridSearchCV_with_Ridge)\n",
    "     * [5.8.3 GridSearchCV with Lasso](#5.8.3_GridSearchCV_with_Lasso)\n",
    "     * [5.8.4 GridSearchCV with ElasticNet](#5.8.4_GridSearchCV_with_ElasticNet)\n",
    "     * [5.8.5 Dataframe of Coefficients](#5.8.5_Dataframe_of_Coefficients)\n",
    "   \n"
   ]
  },
  {
   "cell_type": "markdown",
   "metadata": {},
   "source": [
    "## 5.2 Introduction<a id='5.2_Introduction'></a>"
   ]
  },
  {
   "cell_type": "markdown",
   "metadata": {},
   "source": [
    "In this notebook, we now take our two final datasets one which is original with all the features and the other a smaller version excluding two features i.e State & City. Here we will train our data in some regression models (Linear as well as non- linear) to gain insights about the duration prediction for the UFO Sightings as well as explore the sensitivity of changes to various parameters. \n"
   ]
  },
  {
   "cell_type": "markdown",
   "metadata": {},
   "source": [
    "## 5.3 Imports<a id='5.3_Imports'></a>"
   ]
  },
  {
   "cell_type": "code",
   "execution_count": 55,
   "metadata": {},
   "outputs": [],
   "source": [
    "import pandas as pd\n",
    "import numpy as np\n",
    "import os\n",
    "import pickle\n",
    "import matplotlib.pyplot as plt\n",
    "import seaborn as sns\n",
    "import category_encoders \n",
    "#from sklearn.decomposition import PCA\n",
    "#from sklearn.preprocessing import sca#le\n",
    "from sklearn.model_selection import train_test_split, cross_validate, GridSearchCV, learning_curve\n",
    "from sklearn.preprocessing import StandardScaler, MinMaxScaler\n",
    "from sklearn import linear_model\n",
    "from sklearn.metrics import mean_squared_error, r2_score\n",
    "from sklearn.metrics import confusion_matrix, classification_report"
   ]
  },
  {
   "cell_type": "markdown",
   "metadata": {},
   "source": [
    "## 5.4 Load Data<a id='5.4_Load_Data'></a>"
   ]
  },
  {
   "cell_type": "markdown",
   "metadata": {},
   "source": [
    "Lets load the previously cleaned and preprocessed datasets, One dataset has all the featrures as in the original dataset and the second dataset has reduced features except State & City"
   ]
  },
  {
   "cell_type": "code",
   "execution_count": 2,
   "metadata": {},
   "outputs": [],
   "source": [
    "data_1 = pd.read_csv('UFO_dataset_1.csv')"
   ]
  },
  {
   "cell_type": "code",
   "execution_count": 3,
   "metadata": {},
   "outputs": [],
   "source": [
    "data_2 = pd.read_csv('UFO_dataset_2.csv')"
   ]
  },
  {
   "cell_type": "code",
   "execution_count": 4,
   "metadata": {
    "scrolled": true
   },
   "outputs": [],
   "source": [
    "data_1 = data_1.drop(['Unnamed: 0'], axis = 1)"
   ]
  },
  {
   "cell_type": "code",
   "execution_count": 5,
   "metadata": {},
   "outputs": [
    {
     "data": {
      "text/html": [
       "<div>\n",
       "<style scoped>\n",
       "    .dataframe tbody tr th:only-of-type {\n",
       "        vertical-align: middle;\n",
       "    }\n",
       "\n",
       "    .dataframe tbody tr th {\n",
       "        vertical-align: top;\n",
       "    }\n",
       "\n",
       "    .dataframe thead th {\n",
       "        text-align: right;\n",
       "    }\n",
       "</style>\n",
       "<table border=\"1\" class=\"dataframe\">\n",
       "  <thead>\n",
       "    <tr style=\"text-align: right;\">\n",
       "      <th></th>\n",
       "      <th>Duration_minutes</th>\n",
       "      <th>Country</th>\n",
       "      <th>State</th>\n",
       "      <th>City</th>\n",
       "      <th>Year</th>\n",
       "      <th>Month</th>\n",
       "      <th>sh</th>\n",
       "      <th>lat</th>\n",
       "      <th>long</th>\n",
       "      <th>Day</th>\n",
       "      <th>Hour</th>\n",
       "    </tr>\n",
       "  </thead>\n",
       "  <tbody>\n",
       "    <tr>\n",
       "      <th>0</th>\n",
       "      <td>45.00</td>\n",
       "      <td>US</td>\n",
       "      <td>Texas</td>\n",
       "      <td>San Marcos</td>\n",
       "      <td>1949</td>\n",
       "      <td>10</td>\n",
       "      <td>cylinder</td>\n",
       "      <td>29.883056</td>\n",
       "      <td>-97.941111</td>\n",
       "      <td>10</td>\n",
       "      <td>20</td>\n",
       "    </tr>\n",
       "    <tr>\n",
       "      <th>1</th>\n",
       "      <td>60.00</td>\n",
       "      <td>US</td>\n",
       "      <td>Texas</td>\n",
       "      <td>Lackland Air Force Base</td>\n",
       "      <td>1949</td>\n",
       "      <td>10</td>\n",
       "      <td>light</td>\n",
       "      <td>29.384210</td>\n",
       "      <td>-98.581082</td>\n",
       "      <td>10</td>\n",
       "      <td>21</td>\n",
       "    </tr>\n",
       "    <tr>\n",
       "      <th>2</th>\n",
       "      <td>0.33</td>\n",
       "      <td>GB</td>\n",
       "      <td>England</td>\n",
       "      <td>Blacon</td>\n",
       "      <td>1955</td>\n",
       "      <td>10</td>\n",
       "      <td>circle</td>\n",
       "      <td>53.200000</td>\n",
       "      <td>-2.916667</td>\n",
       "      <td>10</td>\n",
       "      <td>17</td>\n",
       "    </tr>\n",
       "    <tr>\n",
       "      <th>3</th>\n",
       "      <td>30.00</td>\n",
       "      <td>US</td>\n",
       "      <td>Texas</td>\n",
       "      <td>Edna</td>\n",
       "      <td>1956</td>\n",
       "      <td>10</td>\n",
       "      <td>circle</td>\n",
       "      <td>28.978333</td>\n",
       "      <td>-96.645833</td>\n",
       "      <td>10</td>\n",
       "      <td>21</td>\n",
       "    </tr>\n",
       "    <tr>\n",
       "      <th>4</th>\n",
       "      <td>15.00</td>\n",
       "      <td>US</td>\n",
       "      <td>Hawaii</td>\n",
       "      <td>Kane'ohe</td>\n",
       "      <td>1960</td>\n",
       "      <td>10</td>\n",
       "      <td>light</td>\n",
       "      <td>21.418056</td>\n",
       "      <td>-157.803611</td>\n",
       "      <td>10</td>\n",
       "      <td>20</td>\n",
       "    </tr>\n",
       "  </tbody>\n",
       "</table>\n",
       "</div>"
      ],
      "text/plain": [
       "   Duration_minutes Country    State                     City  Year  Month  \\\n",
       "0             45.00      US    Texas               San Marcos  1949     10   \n",
       "1             60.00      US    Texas  Lackland Air Force Base  1949     10   \n",
       "2              0.33      GB  England                   Blacon  1955     10   \n",
       "3             30.00      US    Texas                     Edna  1956     10   \n",
       "4             15.00      US   Hawaii                 Kane'ohe  1960     10   \n",
       "\n",
       "         sh        lat        long  Day  Hour  \n",
       "0  cylinder  29.883056  -97.941111   10    20  \n",
       "1     light  29.384210  -98.581082   10    21  \n",
       "2    circle  53.200000   -2.916667   10    17  \n",
       "3    circle  28.978333  -96.645833   10    21  \n",
       "4     light  21.418056 -157.803611   10    20  "
      ]
     },
     "execution_count": 5,
     "metadata": {},
     "output_type": "execute_result"
    }
   ],
   "source": [
    "data_1.head()"
   ]
  },
  {
   "cell_type": "code",
   "execution_count": 6,
   "metadata": {},
   "outputs": [],
   "source": [
    "data_2 = data_2.drop(['Unnamed: 0'], axis = 1)"
   ]
  },
  {
   "cell_type": "code",
   "execution_count": 7,
   "metadata": {},
   "outputs": [
    {
     "data": {
      "text/html": [
       "<div>\n",
       "<style scoped>\n",
       "    .dataframe tbody tr th:only-of-type {\n",
       "        vertical-align: middle;\n",
       "    }\n",
       "\n",
       "    .dataframe tbody tr th {\n",
       "        vertical-align: top;\n",
       "    }\n",
       "\n",
       "    .dataframe thead th {\n",
       "        text-align: right;\n",
       "    }\n",
       "</style>\n",
       "<table border=\"1\" class=\"dataframe\">\n",
       "  <thead>\n",
       "    <tr style=\"text-align: right;\">\n",
       "      <th></th>\n",
       "      <th>Duration_minutes</th>\n",
       "      <th>Country</th>\n",
       "      <th>Year</th>\n",
       "      <th>Month</th>\n",
       "      <th>sh</th>\n",
       "      <th>lat</th>\n",
       "      <th>long</th>\n",
       "      <th>Day</th>\n",
       "      <th>Hour</th>\n",
       "    </tr>\n",
       "  </thead>\n",
       "  <tbody>\n",
       "    <tr>\n",
       "      <th>0</th>\n",
       "      <td>45.00</td>\n",
       "      <td>US</td>\n",
       "      <td>1949</td>\n",
       "      <td>10</td>\n",
       "      <td>cylinder</td>\n",
       "      <td>29.883056</td>\n",
       "      <td>-97.941111</td>\n",
       "      <td>10</td>\n",
       "      <td>20</td>\n",
       "    </tr>\n",
       "    <tr>\n",
       "      <th>1</th>\n",
       "      <td>60.00</td>\n",
       "      <td>US</td>\n",
       "      <td>1949</td>\n",
       "      <td>10</td>\n",
       "      <td>light</td>\n",
       "      <td>29.384210</td>\n",
       "      <td>-98.581082</td>\n",
       "      <td>10</td>\n",
       "      <td>21</td>\n",
       "    </tr>\n",
       "    <tr>\n",
       "      <th>2</th>\n",
       "      <td>0.33</td>\n",
       "      <td>GB</td>\n",
       "      <td>1955</td>\n",
       "      <td>10</td>\n",
       "      <td>circle</td>\n",
       "      <td>53.200000</td>\n",
       "      <td>-2.916667</td>\n",
       "      <td>10</td>\n",
       "      <td>17</td>\n",
       "    </tr>\n",
       "    <tr>\n",
       "      <th>3</th>\n",
       "      <td>30.00</td>\n",
       "      <td>US</td>\n",
       "      <td>1956</td>\n",
       "      <td>10</td>\n",
       "      <td>circle</td>\n",
       "      <td>28.978333</td>\n",
       "      <td>-96.645833</td>\n",
       "      <td>10</td>\n",
       "      <td>21</td>\n",
       "    </tr>\n",
       "    <tr>\n",
       "      <th>4</th>\n",
       "      <td>15.00</td>\n",
       "      <td>US</td>\n",
       "      <td>1960</td>\n",
       "      <td>10</td>\n",
       "      <td>light</td>\n",
       "      <td>21.418056</td>\n",
       "      <td>-157.803611</td>\n",
       "      <td>10</td>\n",
       "      <td>20</td>\n",
       "    </tr>\n",
       "  </tbody>\n",
       "</table>\n",
       "</div>"
      ],
      "text/plain": [
       "   Duration_minutes Country  Year  Month        sh        lat        long  \\\n",
       "0             45.00      US  1949     10  cylinder  29.883056  -97.941111   \n",
       "1             60.00      US  1949     10     light  29.384210  -98.581082   \n",
       "2              0.33      GB  1955     10    circle  53.200000   -2.916667   \n",
       "3             30.00      US  1956     10    circle  28.978333  -96.645833   \n",
       "4             15.00      US  1960     10     light  21.418056 -157.803611   \n",
       "\n",
       "   Day  Hour  \n",
       "0   10    20  \n",
       "1   10    21  \n",
       "2   10    17  \n",
       "3   10    21  \n",
       "4   10    20  "
      ]
     },
     "execution_count": 7,
     "metadata": {},
     "output_type": "execute_result"
    }
   ],
   "source": [
    "data_2.head()"
   ]
  },
  {
   "cell_type": "markdown",
   "metadata": {},
   "source": [
    "Changing Numerical duration in minutes into categorical columns with 5 categories\n",
    "\n",
    "* Very Short < 5 minutes\n",
    "* Short - - 15 minutes\n",
    "* Medium - 15 - 120 minutes\n",
    "* Long - 120 - 600 minutes\n",
    "* Unreal - > 600 minutes"
   ]
  },
  {
   "cell_type": "code",
   "execution_count": 8,
   "metadata": {},
   "outputs": [],
   "source": [
    "bins = [0, 5, 15, 120, 600, np.inf]\n",
    "names = ['Very Short', 'Short', 'Medium', 'Long', 'Unreal']\n",
    "\n",
    "data_1['Duration'] = pd.cut(data_1['Duration_minutes'], bins, labels=names)\n",
    "data_2['Duration'] = pd.cut(data_1['Duration_minutes'], bins, labels=names)"
   ]
  },
  {
   "cell_type": "markdown",
   "metadata": {},
   "source": [
    "Dropping Duration in minutes, latitude and longitude column"
   ]
  },
  {
   "cell_type": "code",
   "execution_count": 9,
   "metadata": {},
   "outputs": [],
   "source": [
    "data_1 = data_1.drop(['Duration_minutes','lat','long'], axis = 1)"
   ]
  },
  {
   "cell_type": "code",
   "execution_count": 10,
   "metadata": {},
   "outputs": [
    {
     "data": {
      "text/html": [
       "<div>\n",
       "<style scoped>\n",
       "    .dataframe tbody tr th:only-of-type {\n",
       "        vertical-align: middle;\n",
       "    }\n",
       "\n",
       "    .dataframe tbody tr th {\n",
       "        vertical-align: top;\n",
       "    }\n",
       "\n",
       "    .dataframe thead th {\n",
       "        text-align: right;\n",
       "    }\n",
       "</style>\n",
       "<table border=\"1\" class=\"dataframe\">\n",
       "  <thead>\n",
       "    <tr style=\"text-align: right;\">\n",
       "      <th></th>\n",
       "      <th>Country</th>\n",
       "      <th>State</th>\n",
       "      <th>City</th>\n",
       "      <th>Year</th>\n",
       "      <th>Month</th>\n",
       "      <th>sh</th>\n",
       "      <th>Day</th>\n",
       "      <th>Hour</th>\n",
       "      <th>Duration</th>\n",
       "    </tr>\n",
       "  </thead>\n",
       "  <tbody>\n",
       "    <tr>\n",
       "      <th>0</th>\n",
       "      <td>US</td>\n",
       "      <td>Texas</td>\n",
       "      <td>San Marcos</td>\n",
       "      <td>1949</td>\n",
       "      <td>10</td>\n",
       "      <td>cylinder</td>\n",
       "      <td>10</td>\n",
       "      <td>20</td>\n",
       "      <td>Medium</td>\n",
       "    </tr>\n",
       "    <tr>\n",
       "      <th>1</th>\n",
       "      <td>US</td>\n",
       "      <td>Texas</td>\n",
       "      <td>Lackland Air Force Base</td>\n",
       "      <td>1949</td>\n",
       "      <td>10</td>\n",
       "      <td>light</td>\n",
       "      <td>10</td>\n",
       "      <td>21</td>\n",
       "      <td>Medium</td>\n",
       "    </tr>\n",
       "    <tr>\n",
       "      <th>2</th>\n",
       "      <td>GB</td>\n",
       "      <td>England</td>\n",
       "      <td>Blacon</td>\n",
       "      <td>1955</td>\n",
       "      <td>10</td>\n",
       "      <td>circle</td>\n",
       "      <td>10</td>\n",
       "      <td>17</td>\n",
       "      <td>Very Short</td>\n",
       "    </tr>\n",
       "    <tr>\n",
       "      <th>3</th>\n",
       "      <td>US</td>\n",
       "      <td>Texas</td>\n",
       "      <td>Edna</td>\n",
       "      <td>1956</td>\n",
       "      <td>10</td>\n",
       "      <td>circle</td>\n",
       "      <td>10</td>\n",
       "      <td>21</td>\n",
       "      <td>Medium</td>\n",
       "    </tr>\n",
       "    <tr>\n",
       "      <th>4</th>\n",
       "      <td>US</td>\n",
       "      <td>Hawaii</td>\n",
       "      <td>Kane'ohe</td>\n",
       "      <td>1960</td>\n",
       "      <td>10</td>\n",
       "      <td>light</td>\n",
       "      <td>10</td>\n",
       "      <td>20</td>\n",
       "      <td>Short</td>\n",
       "    </tr>\n",
       "  </tbody>\n",
       "</table>\n",
       "</div>"
      ],
      "text/plain": [
       "  Country    State                     City  Year  Month        sh  Day  Hour  \\\n",
       "0      US    Texas               San Marcos  1949     10  cylinder   10    20   \n",
       "1      US    Texas  Lackland Air Force Base  1949     10     light   10    21   \n",
       "2      GB  England                   Blacon  1955     10    circle   10    17   \n",
       "3      US    Texas                     Edna  1956     10    circle   10    21   \n",
       "4      US   Hawaii                 Kane'ohe  1960     10     light   10    20   \n",
       "\n",
       "     Duration  \n",
       "0      Medium  \n",
       "1      Medium  \n",
       "2  Very Short  \n",
       "3      Medium  \n",
       "4       Short  "
      ]
     },
     "execution_count": 10,
     "metadata": {},
     "output_type": "execute_result"
    }
   ],
   "source": [
    "data_1.head()"
   ]
  },
  {
   "cell_type": "code",
   "execution_count": 11,
   "metadata": {},
   "outputs": [
    {
     "name": "stdout",
     "output_type": "stream",
     "text": [
      "<class 'pandas.core.frame.DataFrame'>\n",
      "RangeIndex: 77544 entries, 0 to 77543\n",
      "Data columns (total 9 columns):\n",
      " #   Column    Non-Null Count  Dtype   \n",
      "---  ------    --------------  -----   \n",
      " 0   Country   77544 non-null  object  \n",
      " 1   State     77544 non-null  object  \n",
      " 2   City      77544 non-null  object  \n",
      " 3   Year      77544 non-null  int64   \n",
      " 4   Month     77544 non-null  int64   \n",
      " 5   sh        77544 non-null  object  \n",
      " 6   Day       77544 non-null  int64   \n",
      " 7   Hour      77544 non-null  int64   \n",
      " 8   Duration  77487 non-null  category\n",
      "dtypes: category(1), int64(4), object(4)\n",
      "memory usage: 4.8+ MB\n"
     ]
    }
   ],
   "source": [
    "data_1.info()"
   ]
  },
  {
   "cell_type": "markdown",
   "metadata": {},
   "source": [
    "Histogram showing distribution of duration timings by categories. Mostly we have very short duration i.e less than 5 minutes with more than 50000 sightings"
   ]
  },
  {
   "cell_type": "code",
   "execution_count": 12,
   "metadata": {
    "scrolled": true
   },
   "outputs": [
    {
     "data": {
      "text/plain": [
       "<AxesSubplot:>"
      ]
     },
     "execution_count": 12,
     "metadata": {},
     "output_type": "execute_result"
    },
    {
     "data": {
      "image/png": "[encoded data removed]",
      "text/plain": [
       "<Figure size 432x288 with 1 Axes>"
      ]
     },
     "metadata": {
      "needs_background": "light"
     },
     "output_type": "display_data"
    }
   ],
   "source": [
    "data_1.Duration.hist()"
   ]
  },
  {
   "cell_type": "markdown",
   "metadata": {},
   "source": [
    "After changing into categorical we get 57 more null values for the target variable, just subsetting teh dataframe on duration column"
   ]
  },
  {
   "cell_type": "code",
   "execution_count": 14,
   "metadata": {},
   "outputs": [
    {
     "data": {
      "text/plain": [
       "Country      0\n",
       "State        0\n",
       "City         0\n",
       "Year         0\n",
       "Month        0\n",
       "sh           0\n",
       "Day          0\n",
       "Hour         0\n",
       "Duration    57\n",
       "dtype: int64"
      ]
     },
     "execution_count": 14,
     "metadata": {},
     "output_type": "execute_result"
    }
   ],
   "source": [
    "data_1.isnull().sum()"
   ]
  },
  {
   "cell_type": "code",
   "execution_count": 15,
   "metadata": {},
   "outputs": [],
   "source": [
    "data_1 = data_1.dropna(subset = ['Duration'])"
   ]
  },
  {
   "cell_type": "markdown",
   "metadata": {},
   "source": [
    "<b> Dataset 1 </b>"
   ]
  },
  {
   "cell_type": "code",
   "execution_count": 16,
   "metadata": {},
   "outputs": [
    {
     "data": {
      "text/html": [
       "<div>\n",
       "<style scoped>\n",
       "    .dataframe tbody tr th:only-of-type {\n",
       "        vertical-align: middle;\n",
       "    }\n",
       "\n",
       "    .dataframe tbody tr th {\n",
       "        vertical-align: top;\n",
       "    }\n",
       "\n",
       "    .dataframe thead th {\n",
       "        text-align: right;\n",
       "    }\n",
       "</style>\n",
       "<table border=\"1\" class=\"dataframe\">\n",
       "  <thead>\n",
       "    <tr style=\"text-align: right;\">\n",
       "      <th></th>\n",
       "      <th>Country</th>\n",
       "      <th>State</th>\n",
       "      <th>City</th>\n",
       "      <th>Year</th>\n",
       "      <th>Month</th>\n",
       "      <th>sh</th>\n",
       "      <th>Day</th>\n",
       "      <th>Hour</th>\n",
       "      <th>Duration</th>\n",
       "    </tr>\n",
       "  </thead>\n",
       "  <tbody>\n",
       "    <tr>\n",
       "      <th>0</th>\n",
       "      <td>US</td>\n",
       "      <td>Texas</td>\n",
       "      <td>San Marcos</td>\n",
       "      <td>1949</td>\n",
       "      <td>10</td>\n",
       "      <td>cylinder</td>\n",
       "      <td>10</td>\n",
       "      <td>20</td>\n",
       "      <td>Medium</td>\n",
       "    </tr>\n",
       "    <tr>\n",
       "      <th>1</th>\n",
       "      <td>US</td>\n",
       "      <td>Texas</td>\n",
       "      <td>Lackland Air Force Base</td>\n",
       "      <td>1949</td>\n",
       "      <td>10</td>\n",
       "      <td>light</td>\n",
       "      <td>10</td>\n",
       "      <td>21</td>\n",
       "      <td>Medium</td>\n",
       "    </tr>\n",
       "    <tr>\n",
       "      <th>2</th>\n",
       "      <td>GB</td>\n",
       "      <td>England</td>\n",
       "      <td>Blacon</td>\n",
       "      <td>1955</td>\n",
       "      <td>10</td>\n",
       "      <td>circle</td>\n",
       "      <td>10</td>\n",
       "      <td>17</td>\n",
       "      <td>Very Short</td>\n",
       "    </tr>\n",
       "    <tr>\n",
       "      <th>3</th>\n",
       "      <td>US</td>\n",
       "      <td>Texas</td>\n",
       "      <td>Edna</td>\n",
       "      <td>1956</td>\n",
       "      <td>10</td>\n",
       "      <td>circle</td>\n",
       "      <td>10</td>\n",
       "      <td>21</td>\n",
       "      <td>Medium</td>\n",
       "    </tr>\n",
       "    <tr>\n",
       "      <th>4</th>\n",
       "      <td>US</td>\n",
       "      <td>Hawaii</td>\n",
       "      <td>Kane'ohe</td>\n",
       "      <td>1960</td>\n",
       "      <td>10</td>\n",
       "      <td>light</td>\n",
       "      <td>10</td>\n",
       "      <td>20</td>\n",
       "      <td>Short</td>\n",
       "    </tr>\n",
       "  </tbody>\n",
       "</table>\n",
       "</div>"
      ],
      "text/plain": [
       "  Country    State                     City  Year  Month        sh  Day  Hour  \\\n",
       "0      US    Texas               San Marcos  1949     10  cylinder   10    20   \n",
       "1      US    Texas  Lackland Air Force Base  1949     10     light   10    21   \n",
       "2      GB  England                   Blacon  1955     10    circle   10    17   \n",
       "3      US    Texas                     Edna  1956     10    circle   10    21   \n",
       "4      US   Hawaii                 Kane'ohe  1960     10     light   10    20   \n",
       "\n",
       "     Duration  \n",
       "0      Medium  \n",
       "1      Medium  \n",
       "2  Very Short  \n",
       "3      Medium  \n",
       "4       Short  "
      ]
     },
     "execution_count": 16,
     "metadata": {},
     "output_type": "execute_result"
    }
   ],
   "source": [
    "data_1.head()"
   ]
  },
  {
   "cell_type": "code",
   "execution_count": 19,
   "metadata": {},
   "outputs": [],
   "source": [
    "data_2 = data_2.drop(['Duration_minutes','lat','long'], axis = 1)"
   ]
  },
  {
   "cell_type": "markdown",
   "metadata": {},
   "source": [
    "<b> Dataset 2 </b>"
   ]
  },
  {
   "cell_type": "code",
   "execution_count": 20,
   "metadata": {},
   "outputs": [
    {
     "data": {
      "text/html": [
       "<div>\n",
       "<style scoped>\n",
       "    .dataframe tbody tr th:only-of-type {\n",
       "        vertical-align: middle;\n",
       "    }\n",
       "\n",
       "    .dataframe tbody tr th {\n",
       "        vertical-align: top;\n",
       "    }\n",
       "\n",
       "    .dataframe thead th {\n",
       "        text-align: right;\n",
       "    }\n",
       "</style>\n",
       "<table border=\"1\" class=\"dataframe\">\n",
       "  <thead>\n",
       "    <tr style=\"text-align: right;\">\n",
       "      <th></th>\n",
       "      <th>Country</th>\n",
       "      <th>Year</th>\n",
       "      <th>Month</th>\n",
       "      <th>sh</th>\n",
       "      <th>Day</th>\n",
       "      <th>Hour</th>\n",
       "      <th>Duration</th>\n",
       "    </tr>\n",
       "  </thead>\n",
       "  <tbody>\n",
       "    <tr>\n",
       "      <th>0</th>\n",
       "      <td>US</td>\n",
       "      <td>1949</td>\n",
       "      <td>10</td>\n",
       "      <td>cylinder</td>\n",
       "      <td>10</td>\n",
       "      <td>20</td>\n",
       "      <td>Medium</td>\n",
       "    </tr>\n",
       "    <tr>\n",
       "      <th>1</th>\n",
       "      <td>US</td>\n",
       "      <td>1949</td>\n",
       "      <td>10</td>\n",
       "      <td>light</td>\n",
       "      <td>10</td>\n",
       "      <td>21</td>\n",
       "      <td>Medium</td>\n",
       "    </tr>\n",
       "    <tr>\n",
       "      <th>2</th>\n",
       "      <td>GB</td>\n",
       "      <td>1955</td>\n",
       "      <td>10</td>\n",
       "      <td>circle</td>\n",
       "      <td>10</td>\n",
       "      <td>17</td>\n",
       "      <td>Very Short</td>\n",
       "    </tr>\n",
       "    <tr>\n",
       "      <th>3</th>\n",
       "      <td>US</td>\n",
       "      <td>1956</td>\n",
       "      <td>10</td>\n",
       "      <td>circle</td>\n",
       "      <td>10</td>\n",
       "      <td>21</td>\n",
       "      <td>Medium</td>\n",
       "    </tr>\n",
       "    <tr>\n",
       "      <th>4</th>\n",
       "      <td>US</td>\n",
       "      <td>1960</td>\n",
       "      <td>10</td>\n",
       "      <td>light</td>\n",
       "      <td>10</td>\n",
       "      <td>20</td>\n",
       "      <td>Short</td>\n",
       "    </tr>\n",
       "  </tbody>\n",
       "</table>\n",
       "</div>"
      ],
      "text/plain": [
       "  Country  Year  Month        sh  Day  Hour    Duration\n",
       "0      US  1949     10  cylinder   10    20      Medium\n",
       "1      US  1949     10     light   10    21      Medium\n",
       "2      GB  1955     10    circle   10    17  Very Short\n",
       "3      US  1956     10    circle   10    21      Medium\n",
       "4      US  1960     10     light   10    20       Short"
      ]
     },
     "execution_count": 20,
     "metadata": {},
     "output_type": "execute_result"
    }
   ],
   "source": [
    "data_2.head()"
   ]
  },
  {
   "cell_type": "code",
   "execution_count": 26,
   "metadata": {},
   "outputs": [],
   "source": [
    "data_2 = data_2.dropna(subset = ['Duration'])"
   ]
  },
  {
   "cell_type": "markdown",
   "metadata": {},
   "source": [
    "In Dataset 1, we have four cateforical features i.e Country, State, City, Shape while in Datset 2 we have 2 categorical features i.e Country and Shape.\n",
    "\n",
    "As per the preprocessing done in the previous notebook, Our categorical columns have following unique values\n",
    "\n",
    "    * Country  - 10 \n",
    "    * State - 796\n",
    "    * City - >10000\n",
    "    * Shape - 28\n",
    "\n",
    "In few steps below we have encoded our categorical variables as to have all numerical features for regression modelling"
   ]
  },
  {
   "cell_type": "markdown",
   "metadata": {},
   "source": [
    "Since we have to convert aur categorical features into numerical for regressiona models, encoding for categorical features is performed below\n",
    "\n",
    "* I have used two encoding techniques - Binary Encoding for the original dataset and Ordinal encoding for the second dataset"
   ]
  },
  {
   "cell_type": "markdown",
   "metadata": {},
   "source": [
    "### 5.5.1 Encoding Categorical<a id='5.5.1_Encoding_catgorical'></a>"
   ]
  },
  {
   "cell_type": "code",
   "execution_count": 31,
   "metadata": {},
   "outputs": [],
   "source": [
    "from sklearn import preprocessing\n",
    "X = data_2[['Country','Year','Month','sh','Day','Hour']]\n",
    "y = data_2['Duration']\n",
    "\n",
    "X = pd.get_dummies(X)\n",
    "#ce_lab = preprocessing.LabelEncoder()\n",
    "\n",
    "#X = cenc.fit_transform(X)\n",
    "#y = ce_lab.fit_transform(y)"
   ]
  },
  {
   "cell_type": "code",
   "execution_count": 32,
   "metadata": {},
   "outputs": [
    {
     "data": {
      "text/plain": [
       "(77487, 42)"
      ]
     },
     "execution_count": 32,
     "metadata": {},
     "output_type": "execute_result"
    }
   ],
   "source": [
    "X.shape"
   ]
  },
  {
   "cell_type": "code",
   "execution_count": 56,
   "metadata": {},
   "outputs": [
    {
     "name": "stderr",
     "output_type": "stream",
     "text": [
      "D:\\Anacon\\lib\\site-packages\\category_encoders\\utils.py:21: FutureWarning: is_categorical is deprecated and will be removed in a future version.  Use is_categorical_dtype instead\n",
      "  elif pd.api.types.is_categorical(cols):\n"
     ]
    }
   ],
   "source": [
    "X_1 = data_1[['Country','Year','Month','sh','Day','Hour','State','City']]\n",
    "y_1 = data_1['Duration']\n",
    "\n",
    "ce_bin = category_encoders.BinaryEncoder(cols=['Country','sh','State','City'])\n",
    "\n",
    "X_1 = ce_bin.fit_transform(X_1)"
   ]
  },
  {
   "cell_type": "code",
   "execution_count": 57,
   "metadata": {},
   "outputs": [
    {
     "data": {
      "text/plain": [
       "(77487, 41)"
      ]
     },
     "execution_count": 57,
     "metadata": {},
     "output_type": "execute_result"
    }
   ],
   "source": [
    "X_1.shape"
   ]
  },
  {
   "cell_type": "markdown",
   "metadata": {},
   "source": [
    "After using Binary encoding or original data, Because Of State and City columns which have a lot of unique values,\n",
    "we have 43 columns and 77544 rows"
   ]
  },
  {
   "cell_type": "markdown",
   "metadata": {},
   "source": [
    "## 5.6 Splitting Data<a id='5.6_Splitting_Data'></a>"
   ]
  },
  {
   "cell_type": "code",
   "execution_count": 33,
   "metadata": {},
   "outputs": [],
   "source": [
    "X_train, X_test, y_train, y_test = train_test_split(X, y, test_size = .25, random_state = 40)"
   ]
  },
  {
   "cell_type": "code",
   "execution_count": 58,
   "metadata": {},
   "outputs": [],
   "source": [
    "X_1_train, X_1_test, y_1_train, y_1_test = train_test_split(X_1, y_1, test_size = .25, random_state = 40)"
   ]
  },
  {
   "cell_type": "markdown",
   "metadata": {},
   "source": [
    "## 5.7 Training Models<a id='5.7_Training_Models'></a>"
   ]
  },
  {
   "cell_type": "markdown",
   "metadata": {},
   "source": [
    "First Model to train is the Multiple Linear regression withoput any regulaization, Here I am using second dataset to train and predict for my test set. Metrics being used are RMSE & R2"
   ]
  },
  {
   "cell_type": "markdown",
   "metadata": {},
   "source": [
    "### 5.7.1 Decision Tree Classification<a id='5.7.1_Decision_Tree_Classification'></a>"
   ]
  },
  {
   "cell_type": "code",
   "execution_count": 34,
   "metadata": {},
   "outputs": [],
   "source": [
    "from sklearn.tree import DecisionTreeClassifier\n",
    "dtree_model = DecisionTreeClassifier(max_depth = 3).fit(X_train, y_train)\n",
    "dtree_predictions = dtree_model.predict(X_test)"
   ]
  },
  {
   "cell_type": "code",
   "execution_count": 35,
   "metadata": {},
   "outputs": [
    {
     "data": {
      "text/plain": [
       "array([[    0,     1,     0,     0,   283],\n",
       "       [    0,    11,     0,     0,  2965],\n",
       "       [    0,    10,     0,     0,  2955],\n",
       "       [    0,     0,     0,     0,    15],\n",
       "       [    0,     8,     0,     0, 13124]], dtype=int64)"
      ]
     },
     "execution_count": 35,
     "metadata": {},
     "output_type": "execute_result"
    }
   ],
   "source": [
    "confusion_matrix(y_test, dtree_predictions)"
   ]
  },
  {
   "cell_type": "code",
   "execution_count": 36,
   "metadata": {},
   "outputs": [
    {
     "name": "stderr",
     "output_type": "stream",
     "text": [
      "D:\\Anacon\\lib\\site-packages\\sklearn\\metrics\\_classification.py:1221: UndefinedMetricWarning: Precision and F-score are ill-defined and being set to 0.0 in labels with no predicted samples. Use `zero_division` parameter to control this behavior.\n",
      "  _warn_prf(average, modifier, msg_start, len(result))\n"
     ]
    },
    {
     "data": {
      "text/plain": [
       "'              precision    recall  f1-score   support\\n\\n        Long       0.00      0.00      0.00       284\\n      Medium       0.37      0.00      0.01      2976\\n       Short       0.00      0.00      0.00      2965\\n      Unreal       0.00      0.00      0.00        15\\n  Very Short       0.68      1.00      0.81     13132\\n\\n    accuracy                           0.68     19372\\n   macro avg       0.21      0.20      0.16     19372\\nweighted avg       0.52      0.68      0.55     19372\\n'"
      ]
     },
     "execution_count": 36,
     "metadata": {},
     "output_type": "execute_result"
    }
   ],
   "source": [
    "classification_report(y_test, dtree_predictions)"
   ]
  },
  {
   "cell_type": "code",
   "execution_count": 41,
   "metadata": {},
   "outputs": [
    {
     "data": {
      "text/plain": [
       "0.6780404707825728"
      ]
     },
     "execution_count": 41,
     "metadata": {},
     "output_type": "execute_result"
    }
   ],
   "source": [
    "dtree_model.score(X_test, y_test)"
   ]
  },
  {
   "cell_type": "markdown",
   "metadata": {},
   "source": [
    "<b> Data Set 2</b>"
   ]
  },
  {
   "cell_type": "code",
   "execution_count": 60,
   "metadata": {},
   "outputs": [],
   "source": [
    "#from sklearn.tree import DecisionTreeClassifier\n",
    "dtree_model_1 = DecisionTreeClassifier(max_depth = 3).fit(X_1_train, y_1_train)\n",
    "dtree_predictions_1 = dtree_model_1.predict(X_1_test)"
   ]
  },
  {
   "cell_type": "code",
   "execution_count": 61,
   "metadata": {},
   "outputs": [
    {
     "data": {
      "text/plain": [
       "array([[    0,     0,     0,     0,   284],\n",
       "       [    0,     0,     0,     0,  2976],\n",
       "       [    0,     0,     1,     0,  2964],\n",
       "       [    0,     0,     0,     0,    15],\n",
       "       [    0,     0,     2,     0, 13130]], dtype=int64)"
      ]
     },
     "execution_count": 61,
     "metadata": {},
     "output_type": "execute_result"
    }
   ],
   "source": [
    "confusion_matrix(y_1_test, dtree_predictions_1)"
   ]
  },
  {
   "cell_type": "code",
   "execution_count": 63,
   "metadata": {},
   "outputs": [
    {
     "data": {
      "text/plain": [
       "0.6778339871980178"
      ]
     },
     "execution_count": 63,
     "metadata": {},
     "output_type": "execute_result"
    }
   ],
   "source": [
    "dtree_model_1.score(X_1_test, y_1_test)"
   ]
  },
  {
   "cell_type": "markdown",
   "metadata": {},
   "source": [
    "### 5.7.2 KNN Classification<a id='5.7.2_KNN_Classification'></a>"
   ]
  },
  {
   "cell_type": "code",
   "execution_count": 37,
   "metadata": {},
   "outputs": [],
   "source": [
    "from sklearn.neighbors import KNeighborsClassifier\n",
    "knn = KNeighborsClassifier(n_neighbors = 7).fit(X_train, y_train)"
   ]
  },
  {
   "cell_type": "code",
   "execution_count": 38,
   "metadata": {},
   "outputs": [],
   "source": [
    "knn_predictions = knn.predict(X_test)"
   ]
  },
  {
   "cell_type": "code",
   "execution_count": 39,
   "metadata": {},
   "outputs": [
    {
     "data": {
      "text/plain": [
       "array([[    1,    27,     9,     0,   247],\n",
       "       [    5,   282,   155,     0,  2534],\n",
       "       [    0,   213,   186,     0,  2566],\n",
       "       [    1,     1,     2,     0,    11],\n",
       "       [    8,   791,   691,     0, 11642]], dtype=int64)"
      ]
     },
     "execution_count": 39,
     "metadata": {},
     "output_type": "execute_result"
    }
   ],
   "source": [
    "confusion_matrix(y_test, knn_predictions)"
   ]
  },
  {
   "cell_type": "code",
   "execution_count": 40,
   "metadata": {},
   "outputs": [
    {
     "data": {
      "text/plain": [
       "0.6251806731364856"
      ]
     },
     "execution_count": 40,
     "metadata": {},
     "output_type": "execute_result"
    }
   ],
   "source": [
    "knn.score(X_test, y_test)"
   ]
  },
  {
   "cell_type": "markdown",
   "metadata": {},
   "source": [
    "### 5.7.3 Naive Baiyes Classification<a id='5.7.3_Naive_Baiyes_Classification'></a>"
   ]
  },
  {
   "cell_type": "code",
   "execution_count": 42,
   "metadata": {},
   "outputs": [],
   "source": [
    "from sklearn.naive_bayes import GaussianNB\n",
    "gnb = GaussianNB()\n",
    "y_pred = gnb.fit(X_train, y_train).predict(X_test)\n"
   ]
  },
  {
   "cell_type": "code",
   "execution_count": 43,
   "metadata": {},
   "outputs": [
    {
     "data": {
      "text/plain": [
       "array([[   33,     1,     0,   249,     1],\n",
       "       [  354,    13,    17,  2572,    20],\n",
       "       [  409,    11,    32,  2492,    21],\n",
       "       [    2,     0,     0,    13,     0],\n",
       "       [ 1991,    50,   116, 10821,   154]], dtype=int64)"
      ]
     },
     "execution_count": 43,
     "metadata": {},
     "output_type": "execute_result"
    }
   ],
   "source": [
    "confusion_matrix(y_test, y_pred)"
   ]
  },
  {
   "cell_type": "code",
   "execution_count": 45,
   "metadata": {},
   "outputs": [
    {
     "data": {
      "text/plain": [
       "0.012647119553995457"
      ]
     },
     "execution_count": 45,
     "metadata": {},
     "output_type": "execute_result"
    }
   ],
   "source": [
    "gnb.score(X_test, y_test)"
   ]
  },
  {
   "cell_type": "markdown",
   "metadata": {},
   "source": [
    "### 5.7.4 random Forest Classification<a id='5.7.4_Random_Forest_Classification'></a>"
   ]
  },
  {
   "cell_type": "code",
   "execution_count": 46,
   "metadata": {},
   "outputs": [],
   "source": [
    "from sklearn.ensemble import RandomForestClassifier\n",
    "rf = RandomForestClassifier()\n",
    "y_pred = rf.fit(X_train, y_train).predict(X_test)"
   ]
  },
  {
   "cell_type": "code",
   "execution_count": 47,
   "metadata": {},
   "outputs": [
    {
     "data": {
      "text/plain": [
       "array([[    5,    16,     9,     0,   254],\n",
       "       [   13,   247,   163,     0,  2553],\n",
       "       [    4,   187,   196,     0,  2578],\n",
       "       [    1,     1,     1,     0,    12],\n",
       "       [   15,   605,   587,     5, 11920]], dtype=int64)"
      ]
     },
     "execution_count": 47,
     "metadata": {},
     "output_type": "execute_result"
    }
   ],
   "source": [
    "confusion_matrix(y_test, y_pred) "
   ]
  },
  {
   "cell_type": "code",
   "execution_count": 48,
   "metadata": {},
   "outputs": [
    {
     "data": {
      "text/plain": [
       "0.6384472434441462"
      ]
     },
     "execution_count": 48,
     "metadata": {},
     "output_type": "execute_result"
    }
   ],
   "source": [
    "rf.score(X_test, y_test)"
   ]
  },
  {
   "cell_type": "markdown",
   "metadata": {},
   "source": [
    "### 5.7.5 SVM Classification<a id='5.7.5_SVM_Classification'></a>"
   ]
  },
  {
   "cell_type": "code",
   "execution_count": 64,
   "metadata": {},
   "outputs": [],
   "source": [
    "from sklearn.svm import SVC\n",
    "\n",
    "model_SV = SVC(decision_function_shape='ovo')\n",
    "# fit model\n",
    "model_SV.fit(X_train, y_train)\n",
    "# make predictions\n",
    "y_pred = model_SV.predict(X_train)"
   ]
  },
  {
   "cell_type": "code",
   "execution_count": 65,
   "metadata": {},
   "outputs": [
    {
     "data": {
      "text/plain": [
       "0.6778856080941565"
      ]
     },
     "execution_count": 65,
     "metadata": {},
     "output_type": "execute_result"
    }
   ],
   "source": [
    "model_SV.score(X_test, y_test)"
   ]
  },
  {
   "cell_type": "markdown",
   "metadata": {},
   "source": [
    "## 5.8 Using GridSearchCV & Cross-Validation<a id='5.8_Using_GridSearchCV_&_Cross-Validation'></a>"
   ]
  },
  {
   "cell_type": "markdown",
   "metadata": {},
   "source": [
    "we have two sets X_1, X_2 , using various regression techniques to find the best parameters and model for our data using cross validation and GridsearchCV to see if we can fine tune our parmaters and improve our model. We will use R2 score as our metric for the gridsearch evaluation.\n",
    "We are using dataset without splitting"
   ]
  },
  {
   "cell_type": "markdown",
   "metadata": {},
   "source": [
    "### 5.8.1 GridSearchCV with Decision Tree Classifier<a id='5.8.1_GridSearchCV_with_Decision_Tree_Classifier'></a>"
   ]
  },
  {
   "cell_type": "code",
   "execution_count": 66,
   "metadata": {},
   "outputs": [
    {
     "name": "stdout",
     "output_type": "stream",
     "text": [
      "Best Score: 0.6830250356995531\n",
      "Best params: {'criterion': 'gini', 'max_depth': 3, 'max_features': 3}\n"
     ]
    }
   ],
   "source": [
    "parameter_grid = {'max_depth': [3, 4, 5,6,7,8,9,10,15,20],\n",
    "                 'criterion':['gini','entropy'],\n",
    "                 }\n",
    "\n",
    "grid_search = GridSearchCV(DecisionTreeClassifier(), param_grid = parameter_grid,\n",
    "                          cv =10)\n",
    "\n",
    "grid_search.fit(X_train, y_train)\n",
    "\n",
    "print (\"Best Score: {}\".format(grid_search.best_score_))\n",
    "print (\"Best params: {}\".format(grid_search.best_params_))"
   ]
  },
  {
   "cell_type": "code",
   "execution_count": 71,
   "metadata": {},
   "outputs": [],
   "source": [
    "model_f = DecisionTreeClassifier(max_depth = 3, max_features = 3, criterion = 'gini').fit(X_train, y_train)\n",
    "y_pre = model_f.predict(X_test)"
   ]
  },
  {
   "cell_type": "code",
   "execution_count": null,
   "metadata": {},
   "outputs": [],
   "source": []
  }
 ],
 "metadata": {
  "kernelspec": {
   "display_name": "Python 3",
   "language": "python",
   "name": "python3"
  },
  "language_info": {
   "codemirror_mode": {
    "name": "ipython",
    "version": 3
   },
   "file_extension": ".py",
   "mimetype": "text/x-python",
   "name": "python",
   "nbconvert_exporter": "python",
   "pygments_lexer": "ipython3",
   "version": "3.7.3"
  },
  "toc": {
   "base_numbering": 1,
   "nav_menu": {},
   "number_sections": true,
   "sideBar": true,
   "skip_h1_title": false,
   "title_cell": "Table of Contents",
   "title_sidebar": "Contents",
   "toc_cell": false,
   "toc_position": {},
   "toc_section_display": true,
   "toc_window_display": true
  },
  "varInspector": {
   "cols": {
    "lenName": 16,
    "lenType": 16,
    "lenVar": 40
   },
   "kernels_config": {
    "python": {
     "delete_cmd_postfix": "",
     "delete_cmd_prefix": "del ",
     "library": "var_list.py",
     "varRefreshCmd": "print(var_dic_list())"
    },
    "r": {
     "delete_cmd_postfix": ") ",
     "delete_cmd_prefix": "rm(",
     "library": "var_list.r",
     "varRefreshCmd": "cat(var_dic_list()) "
    }
   },
   "types_to_exclude": [
    "module",
    "function",
    "builtin_function_or_method",
    "instance",
    "_Feature"
   ],
   "window_display": false
  }
 },
 "nbformat": 4,
 "nbformat_minor": 4
}
