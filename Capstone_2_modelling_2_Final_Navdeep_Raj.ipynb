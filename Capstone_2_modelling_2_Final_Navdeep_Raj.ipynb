{
 "cells": [
  {
   "cell_type": "markdown",
   "metadata": {},
   "source": [
    "# 5 Modeling<a id='5_Modeling'></a>"
   ]
  },
  {
   "cell_type": "markdown",
   "metadata": {},
   "source": [
    "## 5.1 Contents<a id='5.1_Contents'></a>\n",
    "* [5 Modeling](#5_Modeling)\n",
    "  * [5.1 Contents](#5.1_Contents)\n",
    "  * [5.2 Introduction](#5.2_Introduction)\n",
    "  * [5.3 Imports](#5.3_Imports)\n",
    "  * [5.4 Load Data](#5.4_Load_Data)\n",
    "  * [5.5 Prepare Data](#5.5_Prepare_Data)\n",
    "      * [5.5.1 Encoding Categorical](#5.5.1_Encoding_catgorical)\n",
    "  * [5.6 Splitting Data](#5.6_Splitting_Data)\n",
    "  * [5.7 Training Models](#5.7_Training_Models)\n",
    "     * [5.7.1 Decision Tree Classification](#5.7.1_Decision_Tree_Classification)\n",
    "          * [Decision Tree Confusion Matrix](#Decision_Tree_Confusion_Matrix)\n",
    "          * [Decision Tree Classification Report](#Decision_Tree_Classification_Report)\n",
    "     * [5.7.2 KNN Classification](#5.7.2_KNN_Classification)\n",
    "          * [KNN Confusion Matrix](#KNN_Confusion_Matrix)\n",
    "          * [KNN Classification Report](#KNN_Classification_Report)\n",
    "     * [5.7.3 Naive Bayes Classification](#5.7.3_Naive_Bayes_Classification)\n",
    "          * [Naive Bayes Confusion Matrix](#Naive_Bayes_Confusion_Matrix)\n",
    "          * [Naive Bayes Classification Report](#Naive_Bayes_Classification_Report)\n",
    "     * [5.7.4 Random Forest Classification](#5.7.4_Random_Forest_Classification)\n",
    "          * [Random Forest Confusion Matrix](#Random_Forest_Confusion_Matrix)\n",
    "          * [Random Forest Classification Report](#Random_Forest_Classification_Report)\n",
    "     * [5.7.5 SVC Classification](#5.7.5_SVC_Classification)\n",
    "          * [SVC Confusion Matrix](#SVC_Confusion_Matrix)\n",
    "          * [SVC Classification Report](#SVC_Classification_Report)\n",
    "     * [Metrics Summary](#Metrics_Summary)\n",
    "   * [5.8 Parameter Tuning](#5.8_Parameter_Tuning)\n",
    "          * [5.8.1 KNN Using Cross Validation](#5.8.1_KNN_Using_Cross_Validation)\n",
    "          * [5.8.2 KNN Using GridSearchCV](#5.8.2_KNN_Using_GridSearchCV)\n",
    "          * [5.8.3 Decision Tree Using GridSearchCV](#5.8.3_Decision_Tree_Using_GridSearchCV)\n",
    "          * [5.8.4 Random Forest Using GridSearchCV](#5.8.4_Random_Forest_Using_GridSearchCV)\n",
    "          * [5.8.5 Multinomial NB Using GridSearchCV](#5.8.5_Multinomial_NB_Using_GridSearchCV)\n",
    "          * [5.8.6 Summary After Parameter Tuning](#5.8.6_Summary_After_Parameter_Tuning)\n",
    "   \n"
   ]
  },
  {
   "cell_type": "markdown",
   "metadata": {},
   "source": [
    "## 5.2 Introduction<a id='5.2_Introduction'></a>"
   ]
  },
  {
   "cell_type": "markdown",
   "metadata": {},
   "source": [
    "In this notebook, we now take our two final datasets one which is original with all the features and the other a smaller version excluding two features i.e State & City. Here I have created three labels for durationn namely Short, Medium and Long and run some classification models to label the UFo Sightings as per the duration\n"
   ]
  },
  {
   "cell_type": "markdown",
   "metadata": {},
   "source": [
    "## 5.3 Imports<a id='5.3_Imports'></a>"
   ]
  },
  {
   "cell_type": "code",
   "execution_count": 92,
   "metadata": {},
   "outputs": [],
   "source": [
    "import pandas as pd\n",
    "import numpy as np\n",
    "import os\n",
    "import pickle\n",
    "import matplotlib.pyplot as plt\n",
    "import seaborn as sns\n",
    "import category_encoders \n",
    "#from sklearn.decomposition import PCA\n",
    "#from sklearn.preprocessing import sca#le\n",
    "from sklearn.model_selection import train_test_split, cross_validate, GridSearchCV, learning_curve\n",
    "from sklearn.preprocessing import StandardScaler, MinMaxScaler\n",
    "from sklearn import linear_model\n",
    "from sklearn.metrics import mean_squared_error, r2_score\n",
    "from sklearn.metrics import confusion_matrix, classification_report\n",
    "from sklearn.model_selection import cross_val_score"
   ]
  },
  {
   "cell_type": "markdown",
   "metadata": {},
   "source": [
    "## 5.4 Load Data<a id='5.4_Load_Data'></a>"
   ]
  },
  {
   "cell_type": "markdown",
   "metadata": {},
   "source": [
    "Lets load the previously cleaned and preprocessed datasets, One dataset has all the featrures as in the original dataset and the second dataset has reduced features except State & City"
   ]
  },
  {
   "cell_type": "code",
   "execution_count": 2,
   "metadata": {},
   "outputs": [],
   "source": [
    "data_1 = pd.read_csv('UFO_dataset_1.csv')"
   ]
  },
  {
   "cell_type": "code",
   "execution_count": 3,
   "metadata": {},
   "outputs": [],
   "source": [
    "data_2 = pd.read_csv('UFO_dataset_2.csv')"
   ]
  },
  {
   "cell_type": "code",
   "execution_count": 4,
   "metadata": {
    "scrolled": true
   },
   "outputs": [],
   "source": [
    "data_1 = data_1.drop(['Unnamed: 0'], axis = 1)"
   ]
  },
  {
   "cell_type": "code",
   "execution_count": 5,
   "metadata": {},
   "outputs": [
    {
     "data": {
      "text/html": [
       "<div>\n",
       "<style scoped>\n",
       "    .dataframe tbody tr th:only-of-type {\n",
       "        vertical-align: middle;\n",
       "    }\n",
       "\n",
       "    .dataframe tbody tr th {\n",
       "        vertical-align: top;\n",
       "    }\n",
       "\n",
       "    .dataframe thead th {\n",
       "        text-align: right;\n",
       "    }\n",
       "</style>\n",
       "<table border=\"1\" class=\"dataframe\">\n",
       "  <thead>\n",
       "    <tr style=\"text-align: right;\">\n",
       "      <th></th>\n",
       "      <th>Duration_minutes</th>\n",
       "      <th>Country</th>\n",
       "      <th>State</th>\n",
       "      <th>City</th>\n",
       "      <th>Year</th>\n",
       "      <th>Month</th>\n",
       "      <th>sh</th>\n",
       "      <th>lat</th>\n",
       "      <th>long</th>\n",
       "      <th>Day</th>\n",
       "      <th>Hour</th>\n",
       "    </tr>\n",
       "  </thead>\n",
       "  <tbody>\n",
       "    <tr>\n",
       "      <th>0</th>\n",
       "      <td>45.00</td>\n",
       "      <td>US</td>\n",
       "      <td>Texas</td>\n",
       "      <td>San Marcos</td>\n",
       "      <td>1949</td>\n",
       "      <td>10</td>\n",
       "      <td>cylinder</td>\n",
       "      <td>29.883056</td>\n",
       "      <td>-97.941111</td>\n",
       "      <td>10</td>\n",
       "      <td>20</td>\n",
       "    </tr>\n",
       "    <tr>\n",
       "      <th>1</th>\n",
       "      <td>60.00</td>\n",
       "      <td>US</td>\n",
       "      <td>Texas</td>\n",
       "      <td>Lackland Air Force Base</td>\n",
       "      <td>1949</td>\n",
       "      <td>10</td>\n",
       "      <td>light</td>\n",
       "      <td>29.384210</td>\n",
       "      <td>-98.581082</td>\n",
       "      <td>10</td>\n",
       "      <td>21</td>\n",
       "    </tr>\n",
       "    <tr>\n",
       "      <th>2</th>\n",
       "      <td>0.33</td>\n",
       "      <td>GB</td>\n",
       "      <td>England</td>\n",
       "      <td>Blacon</td>\n",
       "      <td>1955</td>\n",
       "      <td>10</td>\n",
       "      <td>circle</td>\n",
       "      <td>53.200000</td>\n",
       "      <td>-2.916667</td>\n",
       "      <td>10</td>\n",
       "      <td>17</td>\n",
       "    </tr>\n",
       "    <tr>\n",
       "      <th>3</th>\n",
       "      <td>30.00</td>\n",
       "      <td>US</td>\n",
       "      <td>Texas</td>\n",
       "      <td>Edna</td>\n",
       "      <td>1956</td>\n",
       "      <td>10</td>\n",
       "      <td>circle</td>\n",
       "      <td>28.978333</td>\n",
       "      <td>-96.645833</td>\n",
       "      <td>10</td>\n",
       "      <td>21</td>\n",
       "    </tr>\n",
       "    <tr>\n",
       "      <th>4</th>\n",
       "      <td>15.00</td>\n",
       "      <td>US</td>\n",
       "      <td>Hawaii</td>\n",
       "      <td>Kane'ohe</td>\n",
       "      <td>1960</td>\n",
       "      <td>10</td>\n",
       "      <td>light</td>\n",
       "      <td>21.418056</td>\n",
       "      <td>-157.803611</td>\n",
       "      <td>10</td>\n",
       "      <td>20</td>\n",
       "    </tr>\n",
       "  </tbody>\n",
       "</table>\n",
       "</div>"
      ],
      "text/plain": [
       "   Duration_minutes Country    State                     City  Year  Month  \\\n",
       "0             45.00      US    Texas               San Marcos  1949     10   \n",
       "1             60.00      US    Texas  Lackland Air Force Base  1949     10   \n",
       "2              0.33      GB  England                   Blacon  1955     10   \n",
       "3             30.00      US    Texas                     Edna  1956     10   \n",
       "4             15.00      US   Hawaii                 Kane'ohe  1960     10   \n",
       "\n",
       "         sh        lat        long  Day  Hour  \n",
       "0  cylinder  29.883056  -97.941111   10    20  \n",
       "1     light  29.384210  -98.581082   10    21  \n",
       "2    circle  53.200000   -2.916667   10    17  \n",
       "3    circle  28.978333  -96.645833   10    21  \n",
       "4     light  21.418056 -157.803611   10    20  "
      ]
     },
     "execution_count": 5,
     "metadata": {},
     "output_type": "execute_result"
    }
   ],
   "source": [
    "data_1.head()"
   ]
  },
  {
   "cell_type": "code",
   "execution_count": 6,
   "metadata": {},
   "outputs": [],
   "source": [
    "data_2 = data_2.drop(['Unnamed: 0'], axis = 1)"
   ]
  },
  {
   "cell_type": "code",
   "execution_count": 7,
   "metadata": {},
   "outputs": [
    {
     "data": {
      "text/html": [
       "<div>\n",
       "<style scoped>\n",
       "    .dataframe tbody tr th:only-of-type {\n",
       "        vertical-align: middle;\n",
       "    }\n",
       "\n",
       "    .dataframe tbody tr th {\n",
       "        vertical-align: top;\n",
       "    }\n",
       "\n",
       "    .dataframe thead th {\n",
       "        text-align: right;\n",
       "    }\n",
       "</style>\n",
       "<table border=\"1\" class=\"dataframe\">\n",
       "  <thead>\n",
       "    <tr style=\"text-align: right;\">\n",
       "      <th></th>\n",
       "      <th>Duration_minutes</th>\n",
       "      <th>Country</th>\n",
       "      <th>Year</th>\n",
       "      <th>Month</th>\n",
       "      <th>sh</th>\n",
       "      <th>lat</th>\n",
       "      <th>long</th>\n",
       "      <th>Day</th>\n",
       "      <th>Hour</th>\n",
       "    </tr>\n",
       "  </thead>\n",
       "  <tbody>\n",
       "    <tr>\n",
       "      <th>0</th>\n",
       "      <td>45.00</td>\n",
       "      <td>US</td>\n",
       "      <td>1949</td>\n",
       "      <td>10</td>\n",
       "      <td>cylinder</td>\n",
       "      <td>29.883056</td>\n",
       "      <td>-97.941111</td>\n",
       "      <td>10</td>\n",
       "      <td>20</td>\n",
       "    </tr>\n",
       "    <tr>\n",
       "      <th>1</th>\n",
       "      <td>60.00</td>\n",
       "      <td>US</td>\n",
       "      <td>1949</td>\n",
       "      <td>10</td>\n",
       "      <td>light</td>\n",
       "      <td>29.384210</td>\n",
       "      <td>-98.581082</td>\n",
       "      <td>10</td>\n",
       "      <td>21</td>\n",
       "    </tr>\n",
       "    <tr>\n",
       "      <th>2</th>\n",
       "      <td>0.33</td>\n",
       "      <td>GB</td>\n",
       "      <td>1955</td>\n",
       "      <td>10</td>\n",
       "      <td>circle</td>\n",
       "      <td>53.200000</td>\n",
       "      <td>-2.916667</td>\n",
       "      <td>10</td>\n",
       "      <td>17</td>\n",
       "    </tr>\n",
       "    <tr>\n",
       "      <th>3</th>\n",
       "      <td>30.00</td>\n",
       "      <td>US</td>\n",
       "      <td>1956</td>\n",
       "      <td>10</td>\n",
       "      <td>circle</td>\n",
       "      <td>28.978333</td>\n",
       "      <td>-96.645833</td>\n",
       "      <td>10</td>\n",
       "      <td>21</td>\n",
       "    </tr>\n",
       "    <tr>\n",
       "      <th>4</th>\n",
       "      <td>15.00</td>\n",
       "      <td>US</td>\n",
       "      <td>1960</td>\n",
       "      <td>10</td>\n",
       "      <td>light</td>\n",
       "      <td>21.418056</td>\n",
       "      <td>-157.803611</td>\n",
       "      <td>10</td>\n",
       "      <td>20</td>\n",
       "    </tr>\n",
       "  </tbody>\n",
       "</table>\n",
       "</div>"
      ],
      "text/plain": [
       "   Duration_minutes Country  Year  Month        sh        lat        long  \\\n",
       "0             45.00      US  1949     10  cylinder  29.883056  -97.941111   \n",
       "1             60.00      US  1949     10     light  29.384210  -98.581082   \n",
       "2              0.33      GB  1955     10    circle  53.200000   -2.916667   \n",
       "3             30.00      US  1956     10    circle  28.978333  -96.645833   \n",
       "4             15.00      US  1960     10     light  21.418056 -157.803611   \n",
       "\n",
       "   Day  Hour  \n",
       "0   10    20  \n",
       "1   10    21  \n",
       "2   10    17  \n",
       "3   10    21  \n",
       "4   10    20  "
      ]
     },
     "execution_count": 7,
     "metadata": {},
     "output_type": "execute_result"
    }
   ],
   "source": [
    "data_2.head()"
   ]
  },
  {
   "cell_type": "markdown",
   "metadata": {},
   "source": [
    "## 5.5 Prepare Data<a id='5.5_Prepare_Data'></a>"
   ]
  },
  {
   "cell_type": "markdown",
   "metadata": {},
   "source": [
    "Changing Numerical duration in minutes into categorical columns with 3 categories\n",
    "\n",
    "\n",
    "* Short - < 5 minutes minutes\n",
    "* Medium - 5 - 60 minutes\n",
    "* Long - > 60 minutes\n"
   ]
  },
  {
   "cell_type": "code",
   "execution_count": 8,
   "metadata": {},
   "outputs": [],
   "source": [
    "bins = [0, 5, 60, np.inf]\n",
    "names = ['Short', 'Medium', 'Long']\n",
    "\n",
    "data_1['Duration'] = pd.cut(data_1['Duration_minutes'], bins, labels=names)\n",
    "data_2['Duration'] = pd.cut(data_1['Duration_minutes'], bins, labels=names)"
   ]
  },
  {
   "cell_type": "markdown",
   "metadata": {},
   "source": [
    "Dropping Duration in minutes, latitude and longitude column"
   ]
  },
  {
   "cell_type": "code",
   "execution_count": 9,
   "metadata": {},
   "outputs": [],
   "source": [
    "data_1 = data_1.drop(['Duration_minutes','lat','long'], axis = 1)"
   ]
  },
  {
   "cell_type": "code",
   "execution_count": 10,
   "metadata": {},
   "outputs": [
    {
     "data": {
      "text/html": [
       "<div>\n",
       "<style scoped>\n",
       "    .dataframe tbody tr th:only-of-type {\n",
       "        vertical-align: middle;\n",
       "    }\n",
       "\n",
       "    .dataframe tbody tr th {\n",
       "        vertical-align: top;\n",
       "    }\n",
       "\n",
       "    .dataframe thead th {\n",
       "        text-align: right;\n",
       "    }\n",
       "</style>\n",
       "<table border=\"1\" class=\"dataframe\">\n",
       "  <thead>\n",
       "    <tr style=\"text-align: right;\">\n",
       "      <th></th>\n",
       "      <th>Country</th>\n",
       "      <th>State</th>\n",
       "      <th>City</th>\n",
       "      <th>Year</th>\n",
       "      <th>Month</th>\n",
       "      <th>sh</th>\n",
       "      <th>Day</th>\n",
       "      <th>Hour</th>\n",
       "      <th>Duration</th>\n",
       "    </tr>\n",
       "  </thead>\n",
       "  <tbody>\n",
       "    <tr>\n",
       "      <th>0</th>\n",
       "      <td>US</td>\n",
       "      <td>Texas</td>\n",
       "      <td>San Marcos</td>\n",
       "      <td>1949</td>\n",
       "      <td>10</td>\n",
       "      <td>cylinder</td>\n",
       "      <td>10</td>\n",
       "      <td>20</td>\n",
       "      <td>Medium</td>\n",
       "    </tr>\n",
       "    <tr>\n",
       "      <th>1</th>\n",
       "      <td>US</td>\n",
       "      <td>Texas</td>\n",
       "      <td>Lackland Air Force Base</td>\n",
       "      <td>1949</td>\n",
       "      <td>10</td>\n",
       "      <td>light</td>\n",
       "      <td>10</td>\n",
       "      <td>21</td>\n",
       "      <td>Medium</td>\n",
       "    </tr>\n",
       "    <tr>\n",
       "      <th>2</th>\n",
       "      <td>GB</td>\n",
       "      <td>England</td>\n",
       "      <td>Blacon</td>\n",
       "      <td>1955</td>\n",
       "      <td>10</td>\n",
       "      <td>circle</td>\n",
       "      <td>10</td>\n",
       "      <td>17</td>\n",
       "      <td>Short</td>\n",
       "    </tr>\n",
       "    <tr>\n",
       "      <th>3</th>\n",
       "      <td>US</td>\n",
       "      <td>Texas</td>\n",
       "      <td>Edna</td>\n",
       "      <td>1956</td>\n",
       "      <td>10</td>\n",
       "      <td>circle</td>\n",
       "      <td>10</td>\n",
       "      <td>21</td>\n",
       "      <td>Medium</td>\n",
       "    </tr>\n",
       "    <tr>\n",
       "      <th>4</th>\n",
       "      <td>US</td>\n",
       "      <td>Hawaii</td>\n",
       "      <td>Kane'ohe</td>\n",
       "      <td>1960</td>\n",
       "      <td>10</td>\n",
       "      <td>light</td>\n",
       "      <td>10</td>\n",
       "      <td>20</td>\n",
       "      <td>Medium</td>\n",
       "    </tr>\n",
       "  </tbody>\n",
       "</table>\n",
       "</div>"
      ],
      "text/plain": [
       "  Country    State                     City  Year  Month        sh  Day  Hour  \\\n",
       "0      US    Texas               San Marcos  1949     10  cylinder   10    20   \n",
       "1      US    Texas  Lackland Air Force Base  1949     10     light   10    21   \n",
       "2      GB  England                   Blacon  1955     10    circle   10    17   \n",
       "3      US    Texas                     Edna  1956     10    circle   10    21   \n",
       "4      US   Hawaii                 Kane'ohe  1960     10     light   10    20   \n",
       "\n",
       "  Duration  \n",
       "0   Medium  \n",
       "1   Medium  \n",
       "2    Short  \n",
       "3   Medium  \n",
       "4   Medium  "
      ]
     },
     "execution_count": 10,
     "metadata": {},
     "output_type": "execute_result"
    }
   ],
   "source": [
    "data_1.head()"
   ]
  },
  {
   "cell_type": "code",
   "execution_count": 11,
   "metadata": {},
   "outputs": [
    {
     "name": "stdout",
     "output_type": "stream",
     "text": [
      "<class 'pandas.core.frame.DataFrame'>\n",
      "RangeIndex: 77544 entries, 0 to 77543\n",
      "Data columns (total 9 columns):\n",
      " #   Column    Non-Null Count  Dtype   \n",
      "---  ------    --------------  -----   \n",
      " 0   Country   77544 non-null  object  \n",
      " 1   State     77544 non-null  object  \n",
      " 2   City      77544 non-null  object  \n",
      " 3   Year      77544 non-null  int64   \n",
      " 4   Month     77544 non-null  int64   \n",
      " 5   sh        77544 non-null  object  \n",
      " 6   Day       77544 non-null  int64   \n",
      " 7   Hour      77544 non-null  int64   \n",
      " 8   Duration  77487 non-null  category\n",
      "dtypes: category(1), int64(4), object(4)\n",
      "memory usage: 4.8+ MB\n"
     ]
    }
   ],
   "source": [
    "data_1.info()"
   ]
  },
  {
   "cell_type": "markdown",
   "metadata": {},
   "source": [
    "Histogram showing distribution of duration timings by categories. Mostly we have very short duration i.e less than 5 minutes with more than 50000 sightings"
   ]
  },
  {
   "cell_type": "code",
   "execution_count": 115,
   "metadata": {},
   "outputs": [
    {
     "data": {
      "text/plain": [
       "Short     52826\n",
       "Medium    22119\n",
       "Long       2542\n",
       "Name: Duration, dtype: int64"
      ]
     },
     "execution_count": 115,
     "metadata": {},
     "output_type": "execute_result"
    }
   ],
   "source": [
    "data_1.Duration.value_counts()"
   ]
  },
  {
   "cell_type": "code",
   "execution_count": 12,
   "metadata": {
    "scrolled": true
   },
   "outputs": [
    {
     "data": {
      "text/plain": [
       "<AxesSubplot:>"
      ]
     },
     "execution_count": 12,
     "metadata": {},
     "output_type": "execute_result"
    },
    {
     "data": {
      "image/png": "[encoded data removed]",
      "text/plain": [
       "<Figure size 432x288 with 1 Axes>"
      ]
     },
     "metadata": {
      "needs_background": "light"
     },
     "output_type": "display_data"
    }
   ],
   "source": [
    "data_1.Duration.hist()"
   ]
  },
  {
   "cell_type": "markdown",
   "metadata": {},
   "source": [
    "<b> As observed from the histogram, Our major rows fall into short duratio category with more than 50000 sightings, followed by Medium at aroung 22000 and Long at around 2500 </b>"
   ]
  },
  {
   "cell_type": "markdown",
   "metadata": {},
   "source": [
    "Checking the null values\n",
    "\n",
    "After changing into categorical we get 57 more null values for the target variable, just subsetting the dataframe on Duration column"
   ]
  },
  {
   "cell_type": "code",
   "execution_count": 13,
   "metadata": {},
   "outputs": [
    {
     "data": {
      "text/plain": [
       "Country      0\n",
       "State        0\n",
       "City         0\n",
       "Year         0\n",
       "Month        0\n",
       "sh           0\n",
       "Day          0\n",
       "Hour         0\n",
       "Duration    57\n",
       "dtype: int64"
      ]
     },
     "execution_count": 13,
     "metadata": {},
     "output_type": "execute_result"
    }
   ],
   "source": [
    "data_1.isnull().sum()"
   ]
  },
  {
   "cell_type": "code",
   "execution_count": 14,
   "metadata": {},
   "outputs": [],
   "source": [
    "data_1 = data_1.dropna(subset = ['Duration'])"
   ]
  },
  {
   "cell_type": "code",
   "execution_count": 17,
   "metadata": {},
   "outputs": [
    {
     "data": {
      "text/plain": [
       "Country      0\n",
       "Year         0\n",
       "Month        0\n",
       "sh           0\n",
       "Day          0\n",
       "Hour         0\n",
       "Duration    57\n",
       "dtype: int64"
      ]
     },
     "execution_count": 17,
     "metadata": {},
     "output_type": "execute_result"
    }
   ],
   "source": [
    "data_2.isnull().sum()"
   ]
  },
  {
   "cell_type": "code",
   "execution_count": 18,
   "metadata": {},
   "outputs": [],
   "source": [
    "data_2 = data_2.dropna(subset = ['Duration'])"
   ]
  },
  {
   "cell_type": "markdown",
   "metadata": {},
   "source": [
    "<b> Dataset 1 </b>"
   ]
  },
  {
   "cell_type": "code",
   "execution_count": 15,
   "metadata": {},
   "outputs": [
    {
     "data": {
      "text/html": [
       "<div>\n",
       "<style scoped>\n",
       "    .dataframe tbody tr th:only-of-type {\n",
       "        vertical-align: middle;\n",
       "    }\n",
       "\n",
       "    .dataframe tbody tr th {\n",
       "        vertical-align: top;\n",
       "    }\n",
       "\n",
       "    .dataframe thead th {\n",
       "        text-align: right;\n",
       "    }\n",
       "</style>\n",
       "<table border=\"1\" class=\"dataframe\">\n",
       "  <thead>\n",
       "    <tr style=\"text-align: right;\">\n",
       "      <th></th>\n",
       "      <th>Country</th>\n",
       "      <th>State</th>\n",
       "      <th>City</th>\n",
       "      <th>Year</th>\n",
       "      <th>Month</th>\n",
       "      <th>sh</th>\n",
       "      <th>Day</th>\n",
       "      <th>Hour</th>\n",
       "      <th>Duration</th>\n",
       "    </tr>\n",
       "  </thead>\n",
       "  <tbody>\n",
       "    <tr>\n",
       "      <th>0</th>\n",
       "      <td>US</td>\n",
       "      <td>Texas</td>\n",
       "      <td>San Marcos</td>\n",
       "      <td>1949</td>\n",
       "      <td>10</td>\n",
       "      <td>cylinder</td>\n",
       "      <td>10</td>\n",
       "      <td>20</td>\n",
       "      <td>Medium</td>\n",
       "    </tr>\n",
       "    <tr>\n",
       "      <th>1</th>\n",
       "      <td>US</td>\n",
       "      <td>Texas</td>\n",
       "      <td>Lackland Air Force Base</td>\n",
       "      <td>1949</td>\n",
       "      <td>10</td>\n",
       "      <td>light</td>\n",
       "      <td>10</td>\n",
       "      <td>21</td>\n",
       "      <td>Medium</td>\n",
       "    </tr>\n",
       "    <tr>\n",
       "      <th>2</th>\n",
       "      <td>GB</td>\n",
       "      <td>England</td>\n",
       "      <td>Blacon</td>\n",
       "      <td>1955</td>\n",
       "      <td>10</td>\n",
       "      <td>circle</td>\n",
       "      <td>10</td>\n",
       "      <td>17</td>\n",
       "      <td>Short</td>\n",
       "    </tr>\n",
       "    <tr>\n",
       "      <th>3</th>\n",
       "      <td>US</td>\n",
       "      <td>Texas</td>\n",
       "      <td>Edna</td>\n",
       "      <td>1956</td>\n",
       "      <td>10</td>\n",
       "      <td>circle</td>\n",
       "      <td>10</td>\n",
       "      <td>21</td>\n",
       "      <td>Medium</td>\n",
       "    </tr>\n",
       "    <tr>\n",
       "      <th>4</th>\n",
       "      <td>US</td>\n",
       "      <td>Hawaii</td>\n",
       "      <td>Kane'ohe</td>\n",
       "      <td>1960</td>\n",
       "      <td>10</td>\n",
       "      <td>light</td>\n",
       "      <td>10</td>\n",
       "      <td>20</td>\n",
       "      <td>Medium</td>\n",
       "    </tr>\n",
       "  </tbody>\n",
       "</table>\n",
       "</div>"
      ],
      "text/plain": [
       "  Country    State                     City  Year  Month        sh  Day  Hour  \\\n",
       "0      US    Texas               San Marcos  1949     10  cylinder   10    20   \n",
       "1      US    Texas  Lackland Air Force Base  1949     10     light   10    21   \n",
       "2      GB  England                   Blacon  1955     10    circle   10    17   \n",
       "3      US    Texas                     Edna  1956     10    circle   10    21   \n",
       "4      US   Hawaii                 Kane'ohe  1960     10     light   10    20   \n",
       "\n",
       "  Duration  \n",
       "0   Medium  \n",
       "1   Medium  \n",
       "2    Short  \n",
       "3   Medium  \n",
       "4   Medium  "
      ]
     },
     "execution_count": 15,
     "metadata": {},
     "output_type": "execute_result"
    }
   ],
   "source": [
    "data_1.head()"
   ]
  },
  {
   "cell_type": "code",
   "execution_count": 16,
   "metadata": {},
   "outputs": [],
   "source": [
    "data_2 = data_2.drop(['Duration_minutes','lat','long'], axis = 1)"
   ]
  },
  {
   "cell_type": "markdown",
   "metadata": {},
   "source": [
    "<b> Dataset 2 </b>"
   ]
  },
  {
   "cell_type": "code",
   "execution_count": 19,
   "metadata": {},
   "outputs": [
    {
     "data": {
      "text/html": [
       "<div>\n",
       "<style scoped>\n",
       "    .dataframe tbody tr th:only-of-type {\n",
       "        vertical-align: middle;\n",
       "    }\n",
       "\n",
       "    .dataframe tbody tr th {\n",
       "        vertical-align: top;\n",
       "    }\n",
       "\n",
       "    .dataframe thead th {\n",
       "        text-align: right;\n",
       "    }\n",
       "</style>\n",
       "<table border=\"1\" class=\"dataframe\">\n",
       "  <thead>\n",
       "    <tr style=\"text-align: right;\">\n",
       "      <th></th>\n",
       "      <th>Country</th>\n",
       "      <th>Year</th>\n",
       "      <th>Month</th>\n",
       "      <th>sh</th>\n",
       "      <th>Day</th>\n",
       "      <th>Hour</th>\n",
       "      <th>Duration</th>\n",
       "    </tr>\n",
       "  </thead>\n",
       "  <tbody>\n",
       "    <tr>\n",
       "      <th>0</th>\n",
       "      <td>US</td>\n",
       "      <td>1949</td>\n",
       "      <td>10</td>\n",
       "      <td>cylinder</td>\n",
       "      <td>10</td>\n",
       "      <td>20</td>\n",
       "      <td>Medium</td>\n",
       "    </tr>\n",
       "    <tr>\n",
       "      <th>1</th>\n",
       "      <td>US</td>\n",
       "      <td>1949</td>\n",
       "      <td>10</td>\n",
       "      <td>light</td>\n",
       "      <td>10</td>\n",
       "      <td>21</td>\n",
       "      <td>Medium</td>\n",
       "    </tr>\n",
       "    <tr>\n",
       "      <th>2</th>\n",
       "      <td>GB</td>\n",
       "      <td>1955</td>\n",
       "      <td>10</td>\n",
       "      <td>circle</td>\n",
       "      <td>10</td>\n",
       "      <td>17</td>\n",
       "      <td>Short</td>\n",
       "    </tr>\n",
       "    <tr>\n",
       "      <th>3</th>\n",
       "      <td>US</td>\n",
       "      <td>1956</td>\n",
       "      <td>10</td>\n",
       "      <td>circle</td>\n",
       "      <td>10</td>\n",
       "      <td>21</td>\n",
       "      <td>Medium</td>\n",
       "    </tr>\n",
       "    <tr>\n",
       "      <th>4</th>\n",
       "      <td>US</td>\n",
       "      <td>1960</td>\n",
       "      <td>10</td>\n",
       "      <td>light</td>\n",
       "      <td>10</td>\n",
       "      <td>20</td>\n",
       "      <td>Medium</td>\n",
       "    </tr>\n",
       "  </tbody>\n",
       "</table>\n",
       "</div>"
      ],
      "text/plain": [
       "  Country  Year  Month        sh  Day  Hour Duration\n",
       "0      US  1949     10  cylinder   10    20   Medium\n",
       "1      US  1949     10     light   10    21   Medium\n",
       "2      GB  1955     10    circle   10    17    Short\n",
       "3      US  1956     10    circle   10    21   Medium\n",
       "4      US  1960     10     light   10    20   Medium"
      ]
     },
     "execution_count": 19,
     "metadata": {},
     "output_type": "execute_result"
    }
   ],
   "source": [
    "data_2.head()"
   ]
  },
  {
   "cell_type": "markdown",
   "metadata": {},
   "source": [
    "In Dataset 1, we have four cateforical features i.e Country, State, City, Shape while in Datset 2 we have 2 categorical features i.e Country and Shape.\n",
    "\n",
    "As per the preprocessing done in the previous notebook, Our categorical columns have following unique values\n",
    "\n",
    "    * Country  - 10 \n",
    "    * State - 796\n",
    "    * City - >10000\n",
    "    * Shape - 28\n",
    "\n",
    "In few steps below we have encoded our categorical variables as to have all numerical features for Modelling"
   ]
  },
  {
   "cell_type": "markdown",
   "metadata": {},
   "source": [
    "Since we have to convert aur categorical features into numerical for regressiona models, encoding for categorical features is performed below\n",
    "\n",
    "* I have used two encoding techniques - Binary Encoding for the original dataset and Ordinal encoding for the second dataset"
   ]
  },
  {
   "cell_type": "markdown",
   "metadata": {},
   "source": [
    "### 5.5.1 Encoding Categorical<a id='5.5.1_Encoding_catgorical'></a>"
   ]
  },
  {
   "cell_type": "code",
   "execution_count": 20,
   "metadata": {},
   "outputs": [],
   "source": [
    "from sklearn import preprocessing\n",
    "X = data_2[['Country','Year','Month','sh','Day','Hour']]\n",
    "y = data_2['Duration']\n",
    "\n",
    "X = pd.get_dummies(X)\n",
    "#ce_lab = preprocessing.LabelEncoder()\n",
    "\n",
    "#X = cenc.fit_transform(X)\n",
    "#y = ce_lab.fit_transform(y)"
   ]
  },
  {
   "cell_type": "code",
   "execution_count": 21,
   "metadata": {},
   "outputs": [
    {
     "data": {
      "text/plain": [
       "(77487, 42)"
      ]
     },
     "execution_count": 21,
     "metadata": {},
     "output_type": "execute_result"
    }
   ],
   "source": [
    "X.shape"
   ]
  },
  {
   "cell_type": "code",
   "execution_count": 22,
   "metadata": {},
   "outputs": [
    {
     "name": "stderr",
     "output_type": "stream",
     "text": [
      "D:\\Anacon\\lib\\site-packages\\category_encoders\\utils.py:21: FutureWarning: is_categorical is deprecated and will be removed in a future version.  Use is_categorical_dtype instead\n",
      "  elif pd.api.types.is_categorical(cols):\n"
     ]
    }
   ],
   "source": [
    "X_1 = data_1[['Country','Year','Month','sh','Day','Hour','State','City']]\n",
    "y_1 = data_1['Duration']\n",
    "\n",
    "ce_bin = category_encoders.BinaryEncoder(cols=['Country','sh','State','City'])\n",
    "\n",
    "X_1 = ce_bin.fit_transform(X_1)"
   ]
  },
  {
   "cell_type": "code",
   "execution_count": 23,
   "metadata": {},
   "outputs": [
    {
     "data": {
      "text/plain": [
       "(77487, 41)"
      ]
     },
     "execution_count": 23,
     "metadata": {},
     "output_type": "execute_result"
    }
   ],
   "source": [
    "X_1.shape"
   ]
  },
  {
   "cell_type": "markdown",
   "metadata": {},
   "source": [
    "After using Binary encoding or original data, Because Of State and City columns which have a lot of unique values,\n",
    "we have 43 columns and 77544 rows"
   ]
  },
  {
   "cell_type": "markdown",
   "metadata": {},
   "source": [
    "## 5.6 Splitting Data<a id='5.6_Splitting_Data'></a>"
   ]
  },
  {
   "cell_type": "markdown",
   "metadata": {},
   "source": [
    "<b> For Dataset 2 </b>"
   ]
  },
  {
   "cell_type": "code",
   "execution_count": 24,
   "metadata": {},
   "outputs": [],
   "source": [
    "X_train, X_test, y_train, y_test = train_test_split(X, y, test_size = .25, random_state = 40)"
   ]
  },
  {
   "cell_type": "markdown",
   "metadata": {},
   "source": [
    "<b> For Dataset 1 </b>"
   ]
  },
  {
   "cell_type": "code",
   "execution_count": 36,
   "metadata": {},
   "outputs": [],
   "source": [
    "X_1_train, X_1_test, y_1_train, y_1_test = train_test_split(X_1, y_1, test_size = .25, random_state = 40)"
   ]
  },
  {
   "cell_type": "markdown",
   "metadata": {},
   "source": [
    "## 5.7 Training Models<a id='5.7_Training_Models'></a>"
   ]
  },
  {
   "cell_type": "markdown",
   "metadata": {},
   "source": [
    "Below I have run differnet classification algorithms to find the most suitable for our dataset. Each Algortihm is followed by confusion matrix and classification report"
   ]
  },
  {
   "cell_type": "markdown",
   "metadata": {},
   "source": [
    "### 5.7.1 Decision Tree Classification<a id='5.7.1_Decision_Tree_Classification'></a>"
   ]
  },
  {
   "cell_type": "code",
   "execution_count": 25,
   "metadata": {},
   "outputs": [],
   "source": [
    "from sklearn.tree import DecisionTreeClassifier\n",
    "dtree_model = DecisionTreeClassifier(max_depth = 3).fit(X_train, y_train)\n",
    "dtree_predictions = dtree_model.predict(X_test)"
   ]
  },
  {
   "cell_type": "code",
   "execution_count": 29,
   "metadata": {},
   "outputs": [],
   "source": [
    "cm = confusion_matrix(y_test, dtree_predictions)"
   ]
  },
  {
   "cell_type": "code",
   "execution_count": 28,
   "metadata": {},
   "outputs": [
    {
     "data": {
      "text/plain": [
       "0.6774726409250464"
      ]
     },
     "execution_count": 28,
     "metadata": {},
     "output_type": "execute_result"
    }
   ],
   "source": [
    "dtree_model.score(X_test, y_test)"
   ]
  },
  {
   "cell_type": "markdown",
   "metadata": {},
   "source": [
    "#### Decision Tree Confusion Matrix<a id='Decision_Tree_Confusion_Matrix'></a>"
   ]
  },
  {
   "cell_type": "code",
   "execution_count": 47,
   "metadata": {},
   "outputs": [
    {
     "data": {
      "text/html": [
       "<div>\n",
       "<style scoped>\n",
       "    .dataframe tbody tr th:only-of-type {\n",
       "        vertical-align: middle;\n",
       "    }\n",
       "\n",
       "    .dataframe tbody tr th {\n",
       "        vertical-align: top;\n",
       "    }\n",
       "\n",
       "    .dataframe thead th {\n",
       "        text-align: right;\n",
       "    }\n",
       "</style>\n",
       "<table border=\"1\" class=\"dataframe\">\n",
       "  <thead>\n",
       "    <tr style=\"text-align: right;\">\n",
       "      <th></th>\n",
       "      <th>Long</th>\n",
       "      <th>Medium</th>\n",
       "      <th>Short</th>\n",
       "    </tr>\n",
       "  </thead>\n",
       "  <tbody>\n",
       "    <tr>\n",
       "      <th>Long</th>\n",
       "      <td>0</td>\n",
       "      <td>11</td>\n",
       "      <td>594</td>\n",
       "    </tr>\n",
       "    <tr>\n",
       "      <th>Medium</th>\n",
       "      <td>0</td>\n",
       "      <td>66</td>\n",
       "      <td>5569</td>\n",
       "    </tr>\n",
       "    <tr>\n",
       "      <th>Short</th>\n",
       "      <td>0</td>\n",
       "      <td>74</td>\n",
       "      <td>13058</td>\n",
       "    </tr>\n",
       "  </tbody>\n",
       "</table>\n",
       "</div>"
      ],
      "text/plain": [
       "        Long  Medium  Short\n",
       "Long       0      11    594\n",
       "Medium     0      66   5569\n",
       "Short      0      74  13058"
      ]
     },
     "execution_count": 47,
     "metadata": {},
     "output_type": "execute_result"
    }
   ],
   "source": [
    "labels = np.unique(y_test)\n",
    "a =  confusion_matrix(y_test, dtree_predictions, labels=labels)\n",
    "\n",
    "pd.DataFrame(a, index=labels, columns=labels)"
   ]
  },
  {
   "cell_type": "markdown",
   "metadata": {},
   "source": [
    "<b> As Seen from the Confusion Matriix , Around 600 values which are long were predicted as Short where as 5500 Medium were predicted as short and 13000 were predicted correctly so around 68% were predicted correctly for short where as only 66 were oredicted correctly for Medium duration and 11 for long duration, overall Accuracy is 0.68 whcih is not bad but still predictability is not that good for medium and long</b>"
   ]
  },
  {
   "cell_type": "code",
   "execution_count": 48,
   "metadata": {},
   "outputs": [
    {
     "data": {
      "image/png": "[encoded data removed]",
      "text/plain": [
       "<Figure size 648x432 with 2 Axes>"
      ]
     },
     "metadata": {
      "needs_background": "light"
     },
     "output_type": "display_data"
    }
   ],
   "source": [
    "from sklearn.metrics import accuracy_score\n",
    "cm_df = pd.DataFrame(cm,\n",
    "                     index = ['Long','Medium','Short'], \n",
    "                     columns = ['Long','Medium','Short'])\n",
    "\n",
    "plt.figure(figsize=(9,6))\n",
    "sns.heatmap(cm_df, annot=True)\n",
    "plt.title('Decision tree Classifier \\nAccuracy:{0:.3f}'.format(accuracy_score(y_test, dtree_predictions)))\n",
    "plt.ylabel('True label')\n",
    "plt.xlabel('Predicted label')\n",
    "plt.show()"
   ]
  },
  {
   "cell_type": "markdown",
   "metadata": {},
   "source": [
    "#### Decision Tree Classification Report<a id='Decision_Tree_Classification_Report'></a>"
   ]
  },
  {
   "cell_type": "code",
   "execution_count": 105,
   "metadata": {},
   "outputs": [
    {
     "name": "stdout",
     "output_type": "stream",
     "text": [
      "              precision    recall  f1-score   support\n",
      "\n",
      "        Long       0.00      0.00      0.00       605\n",
      "      Medium       0.44      0.01      0.02      5635\n",
      "       Short       0.68      0.99      0.81     13132\n",
      "\n",
      "    accuracy                           0.68     19372\n",
      "   macro avg       0.37      0.34      0.28     19372\n",
      "weighted avg       0.59      0.68      0.55     19372\n",
      "\n"
     ]
    }
   ],
   "source": [
    "print(classification_report(y_test, dtree_predictions))"
   ]
  },
  {
   "cell_type": "code",
   "execution_count": 66,
   "metadata": {},
   "outputs": [
    {
     "data": {
      "image/png": "[encoded data removed]",
      "text/plain": [
       "<Figure size 720x504 with 2 Axes>"
      ]
     },
     "metadata": {
      "needs_background": "light"
     },
     "output_type": "display_data"
    }
   ],
   "source": [
    "plt.figure(figsize=(10,7))\n",
    "clf_report = classification_report(y_test, dtree_predictions,\n",
    "                                   labels=labels,\n",
    "                                   target_names=labels,\n",
    "                                   output_dict=True)\n",
    "sns.heatmap(pd.DataFrame(clf_report).iloc[:-1, :].T, annot=True)\n",
    "plt.title('Decision tree CLassification Report')\n",
    "\n",
    "plt.show()"
   ]
  },
  {
   "cell_type": "markdown",
   "metadata": {},
   "source": [
    "<b> Data Set 2</b>"
   ]
  },
  {
   "cell_type": "code",
   "execution_count": 37,
   "metadata": {},
   "outputs": [],
   "source": [
    "#from sklearn.tree import DecisionTreeClassifier\n",
    "dtree_model_1 = DecisionTreeClassifier(max_depth = 3).fit(X_1_train, y_1_train)\n",
    "dtree_predictions_1 = dtree_model_1.predict(X_1_test)"
   ]
  },
  {
   "cell_type": "code",
   "execution_count": 38,
   "metadata": {},
   "outputs": [
    {
     "data": {
      "text/plain": [
       "array([[    0,     0,   605],\n",
       "       [    0,     0,  5635],\n",
       "       [    0,     0, 13132]], dtype=int64)"
      ]
     },
     "execution_count": 38,
     "metadata": {},
     "output_type": "execute_result"
    }
   ],
   "source": [
    "confusion_matrix(y_1_test, dtree_predictions_1)"
   ]
  },
  {
   "cell_type": "code",
   "execution_count": 39,
   "metadata": {},
   "outputs": [
    {
     "data": {
      "text/plain": [
       "0.6778856080941565"
      ]
     },
     "execution_count": 39,
     "metadata": {},
     "output_type": "execute_result"
    }
   ],
   "source": [
    "dtree_model_1.score(X_1_test, y_1_test)"
   ]
  },
  {
   "cell_type": "markdown",
   "metadata": {},
   "source": [
    "### 5.7.2 KNN Classification<a id='5.7.2_KNN_Classification'></a>"
   ]
  },
  {
   "cell_type": "code",
   "execution_count": 40,
   "metadata": {},
   "outputs": [],
   "source": [
    "from sklearn.neighbors import KNeighborsClassifier\n",
    "knn = KNeighborsClassifier(n_neighbors = 7).fit(X_train, y_train)"
   ]
  },
  {
   "cell_type": "code",
   "execution_count": 41,
   "metadata": {},
   "outputs": [],
   "source": [
    "knn_predictions = knn.predict(X_test)"
   ]
  },
  {
   "cell_type": "code",
   "execution_count": 43,
   "metadata": {},
   "outputs": [],
   "source": [
    "cm_kn = confusion_matrix(y_test, knn_predictions)"
   ]
  },
  {
   "cell_type": "code",
   "execution_count": 44,
   "metadata": {},
   "outputs": [
    {
     "data": {
      "text/plain": [
       "0.6305492463349164"
      ]
     },
     "execution_count": 44,
     "metadata": {},
     "output_type": "execute_result"
    }
   ],
   "source": [
    "knn.score(X_test, y_test)"
   ]
  },
  {
   "cell_type": "markdown",
   "metadata": {},
   "source": [
    "#### KNN Confusion Matrix<a id='KNN_Confusion_Matrix'></a>"
   ]
  },
  {
   "cell_type": "code",
   "execution_count": 49,
   "metadata": {},
   "outputs": [
    {
     "data": {
      "text/html": [
       "<div>\n",
       "<style scoped>\n",
       "    .dataframe tbody tr th:only-of-type {\n",
       "        vertical-align: middle;\n",
       "    }\n",
       "\n",
       "    .dataframe tbody tr th {\n",
       "        vertical-align: top;\n",
       "    }\n",
       "\n",
       "    .dataframe thead th {\n",
       "        text-align: right;\n",
       "    }\n",
       "</style>\n",
       "<table border=\"1\" class=\"dataframe\">\n",
       "  <thead>\n",
       "    <tr style=\"text-align: right;\">\n",
       "      <th></th>\n",
       "      <th>Long</th>\n",
       "      <th>Medium</th>\n",
       "      <th>Short</th>\n",
       "    </tr>\n",
       "  </thead>\n",
       "  <tbody>\n",
       "    <tr>\n",
       "      <th>Long</th>\n",
       "      <td>4</td>\n",
       "      <td>104</td>\n",
       "      <td>497</td>\n",
       "    </tr>\n",
       "    <tr>\n",
       "      <th>Medium</th>\n",
       "      <td>10</td>\n",
       "      <td>1060</td>\n",
       "      <td>4565</td>\n",
       "    </tr>\n",
       "    <tr>\n",
       "      <th>Short</th>\n",
       "      <td>18</td>\n",
       "      <td>1963</td>\n",
       "      <td>11151</td>\n",
       "    </tr>\n",
       "  </tbody>\n",
       "</table>\n",
       "</div>"
      ],
      "text/plain": [
       "        Long  Medium  Short\n",
       "Long       4     104    497\n",
       "Medium    10    1060   4565\n",
       "Short     18    1963  11151"
      ]
     },
     "execution_count": 49,
     "metadata": {},
     "output_type": "execute_result"
    }
   ],
   "source": [
    "labels = np.unique(y_test)\n",
    "b =  confusion_matrix(y_test, knn_predictions, labels=labels)\n",
    "\n",
    "pd.DataFrame(b, index=labels, columns=labels)"
   ]
  },
  {
   "cell_type": "markdown",
   "metadata": {},
   "source": [
    "<b> As Seen from the Confusion Matriix , Although accuracy is bit less at 63% but it shows improvement in predicting as compared to decision tree classifier. Around 497 values which are long were predicted as Short where as 104 as Medium and 4 correctly as long. \n",
    "    \n",
    "In case of medium, its improved to 1000 values being predicted correctly and 4500 as short\n",
    "\n",
    "In Short category, although the number is bit less, around 11100 values being predicted correctly, but it still is better with other categories </b>"
   ]
  },
  {
   "cell_type": "code",
   "execution_count": 46,
   "metadata": {},
   "outputs": [
    {
     "data": {
      "image/png": "[encoded data removed]",
      "text/plain": [
       "<Figure size 648x432 with 2 Axes>"
      ]
     },
     "metadata": {
      "needs_background": "light"
     },
     "output_type": "display_data"
    }
   ],
   "source": [
    "cm_kdf = pd.DataFrame(cm_kn,\n",
    "                     index = ['Long','Medium','Short'], \n",
    "                     columns = ['Long','Medium','Short'])\n",
    "\n",
    "plt.figure(figsize=(9,6))\n",
    "sns.heatmap(cm_kdf, annot=True)\n",
    "plt.title('KNN Classifier \\nAccuracy:{0:.3f}'.format(accuracy_score(y_test, knn_predictions)))\n",
    "plt.ylabel('True label')\n",
    "plt.xlabel('Predicted label')\n",
    "plt.show()"
   ]
  },
  {
   "cell_type": "markdown",
   "metadata": {},
   "source": [
    "#### KNN Classification Report<a id='KNN_Classification_Report'></a>"
   ]
  },
  {
   "cell_type": "code",
   "execution_count": 104,
   "metadata": {},
   "outputs": [
    {
     "name": "stdout",
     "output_type": "stream",
     "text": [
      "              precision    recall  f1-score   support\n",
      "\n",
      "        Long       0.12      0.01      0.01       605\n",
      "      Medium       0.34      0.19      0.24      5635\n",
      "       Short       0.69      0.85      0.76     13132\n",
      "\n",
      "    accuracy                           0.63     19372\n",
      "   macro avg       0.38      0.35      0.34     19372\n",
      "weighted avg       0.57      0.63      0.59     19372\n",
      "\n"
     ]
    }
   ],
   "source": [
    "print(classification_report(y_test, knn_predictions))"
   ]
  },
  {
   "cell_type": "code",
   "execution_count": 67,
   "metadata": {},
   "outputs": [
    {
     "data": {
      "image/png": "[encoded data removed]",
      "text/plain": [
       "<Figure size 720x504 with 2 Axes>"
      ]
     },
     "metadata": {
      "needs_background": "light"
     },
     "output_type": "display_data"
    }
   ],
   "source": [
    "plt.figure(figsize=(10,7))\n",
    "clf_report_1 = classification_report(y_test, knn_predictions,\n",
    "                                   labels=labels,\n",
    "                                   target_names=labels,\n",
    "                                   output_dict=True)\n",
    "sns.heatmap(pd.DataFrame(clf_report_1).iloc[:-1, :].T, annot=True)\n",
    "plt.title('KNN CLassification Report')\n",
    "\n",
    "plt.show()"
   ]
  },
  {
   "cell_type": "markdown",
   "metadata": {},
   "source": [
    "### 5.7.3 Naive Baiyes Classification<a id='5.7.3_Naive_Baiyes_Classification'></a>"
   ]
  },
  {
   "cell_type": "code",
   "execution_count": 68,
   "metadata": {},
   "outputs": [],
   "source": [
    "from sklearn.naive_bayes import GaussianNB\n",
    "gnb = GaussianNB()\n",
    "nb_pred = gnb.fit(X_train, y_train).predict(X_test)\n"
   ]
  },
  {
   "cell_type": "code",
   "execution_count": 69,
   "metadata": {},
   "outputs": [],
   "source": [
    "cm_NB = confusion_matrix(y_test, nb_pred)"
   ]
  },
  {
   "cell_type": "code",
   "execution_count": 70,
   "metadata": {},
   "outputs": [
    {
     "data": {
      "text/plain": [
       "0.14448688829238077"
      ]
     },
     "execution_count": 70,
     "metadata": {},
     "output_type": "execute_result"
    }
   ],
   "source": [
    "gnb.score(X_test, y_test)"
   ]
  },
  {
   "cell_type": "markdown",
   "metadata": {},
   "source": [
    "#### Naive Bayes Confusion Matrix<a id='Naive_Bayes_Confusion_Matrix'></a>"
   ]
  },
  {
   "cell_type": "code",
   "execution_count": 71,
   "metadata": {},
   "outputs": [
    {
     "data": {
      "text/html": [
       "<div>\n",
       "<style scoped>\n",
       "    .dataframe tbody tr th:only-of-type {\n",
       "        vertical-align: middle;\n",
       "    }\n",
       "\n",
       "    .dataframe tbody tr th {\n",
       "        vertical-align: top;\n",
       "    }\n",
       "\n",
       "    .dataframe thead th {\n",
       "        text-align: right;\n",
       "    }\n",
       "</style>\n",
       "<table border=\"1\" class=\"dataframe\">\n",
       "  <thead>\n",
       "    <tr style=\"text-align: right;\">\n",
       "      <th></th>\n",
       "      <th>Long</th>\n",
       "      <th>Medium</th>\n",
       "      <th>Short</th>\n",
       "    </tr>\n",
       "  </thead>\n",
       "  <tbody>\n",
       "    <tr>\n",
       "      <th>Long</th>\n",
       "      <td>528</td>\n",
       "      <td>45</td>\n",
       "      <td>32</td>\n",
       "    </tr>\n",
       "    <tr>\n",
       "      <th>Medium</th>\n",
       "      <td>4574</td>\n",
       "      <td>553</td>\n",
       "      <td>508</td>\n",
       "    </tr>\n",
       "    <tr>\n",
       "      <th>Short</th>\n",
       "      <td>10009</td>\n",
       "      <td>1405</td>\n",
       "      <td>1718</td>\n",
       "    </tr>\n",
       "  </tbody>\n",
       "</table>\n",
       "</div>"
      ],
      "text/plain": [
       "         Long  Medium  Short\n",
       "Long      528      45     32\n",
       "Medium   4574     553    508\n",
       "Short   10009    1405   1718"
      ]
     },
     "execution_count": 71,
     "metadata": {},
     "output_type": "execute_result"
    }
   ],
   "source": [
    "labels = np.unique(y_test)\n",
    "c =  confusion_matrix(y_test, nb_pred, labels=labels)\n",
    "\n",
    "pd.DataFrame(c, index=labels, columns=labels)"
   ]
  },
  {
   "cell_type": "markdown",
   "metadata": {},
   "source": [
    "<b> As Seen from the Confusion Matrix , this is pretty worse when it comes to accuracy just .14 and its reveres of previous models, For long this is predicting 528 correct vales out of 605 values but for other classes the prediction is pretty poor \n",
    "    \n",
    "   * 4500 medium incorrectly as long and 508 medium as short\n",
    "    \n",
    "   * 10000 short values incorrectly as long and 1400 short as medium while the correct predicting for short is very less compared to previous models i.e. only 1700 values\n",
    "    \n",
    "This model seems unsuitable for our data </b>"
   ]
  },
  {
   "cell_type": "code",
   "execution_count": 72,
   "metadata": {},
   "outputs": [
    {
     "data": {
      "image/png": "[encoded data removed]",
      "text/plain": [
       "<Figure size 648x432 with 2 Axes>"
      ]
     },
     "metadata": {
      "needs_background": "light"
     },
     "output_type": "display_data"
    }
   ],
   "source": [
    "cm_nbdf = pd.DataFrame(cm_NB,\n",
    "                     index = ['Long','Medium','Short'], \n",
    "                     columns = ['Long','Medium','Short'])\n",
    "\n",
    "plt.figure(figsize=(9,6))\n",
    "sns.heatmap(cm_nbdf, annot=True)\n",
    "plt.title('Naive Bayes Classifier \\nAccuracy:{0:.3f}'.format(accuracy_score(y_test, nb_pred)))\n",
    "plt.ylabel('True label')\n",
    "plt.xlabel('Predicted label')\n",
    "plt.show()"
   ]
  },
  {
   "cell_type": "markdown",
   "metadata": {},
   "source": [
    "#### Naive Bayes Classification Report<a id='Naive_Bayes_Classification_Report'></a>"
   ]
  },
  {
   "cell_type": "code",
   "execution_count": 103,
   "metadata": {},
   "outputs": [
    {
     "name": "stdout",
     "output_type": "stream",
     "text": [
      "              precision    recall  f1-score   support\n",
      "\n",
      "        Long       0.03      0.87      0.07       605\n",
      "      Medium       0.28      0.10      0.14      5635\n",
      "       Short       0.76      0.13      0.22     13132\n",
      "\n",
      "    accuracy                           0.14     19372\n",
      "   macro avg       0.36      0.37      0.15     19372\n",
      "weighted avg       0.60      0.14      0.20     19372\n",
      "\n"
     ]
    }
   ],
   "source": [
    "print(classification_report(y_test, nb_pred))"
   ]
  },
  {
   "cell_type": "code",
   "execution_count": 73,
   "metadata": {},
   "outputs": [
    {
     "data": {
      "image/png": "[encoded data removed]",
      "text/plain": [
       "<Figure size 720x504 with 2 Axes>"
      ]
     },
     "metadata": {
      "needs_background": "light"
     },
     "output_type": "display_data"
    }
   ],
   "source": [
    "plt.figure(figsize=(10,7))\n",
    "clf_report_2 = classification_report(y_test, nb_pred,\n",
    "                                   labels=labels,\n",
    "                                   target_names=labels,\n",
    "                                   output_dict=True)\n",
    "sns.heatmap(pd.DataFrame(clf_report_2).iloc[:-1, :].T, annot=True)\n",
    "plt.title('Naive bayes CLassification Report')\n",
    "\n",
    "plt.show()"
   ]
  },
  {
   "cell_type": "markdown",
   "metadata": {},
   "source": [
    "### 5.7.4 Random Forest Classification<a id='5.7.4_Random_Forest_Classification'></a>"
   ]
  },
  {
   "cell_type": "code",
   "execution_count": 74,
   "metadata": {},
   "outputs": [],
   "source": [
    "from sklearn.ensemble import RandomForestClassifier\n",
    "rf = RandomForestClassifier()\n",
    "rf_pred = rf.fit(X_train, y_train).predict(X_test)"
   ]
  },
  {
   "cell_type": "code",
   "execution_count": 75,
   "metadata": {},
   "outputs": [],
   "source": [
    "cm_rf = confusion_matrix(y_test, rf_pred) "
   ]
  },
  {
   "cell_type": "code",
   "execution_count": 76,
   "metadata": {},
   "outputs": [
    {
     "data": {
      "text/plain": [
       "0.6409766673549453"
      ]
     },
     "execution_count": 76,
     "metadata": {},
     "output_type": "execute_result"
    }
   ],
   "source": [
    "rf.score(X_test, y_test)"
   ]
  },
  {
   "cell_type": "markdown",
   "metadata": {},
   "source": [
    "#### Random Forest Confusion Matrix<a id='Random_Forest_Confusion_Matrix'></a>"
   ]
  },
  {
   "cell_type": "code",
   "execution_count": 77,
   "metadata": {},
   "outputs": [
    {
     "data": {
      "text/html": [
       "<div>\n",
       "<style scoped>\n",
       "    .dataframe tbody tr th:only-of-type {\n",
       "        vertical-align: middle;\n",
       "    }\n",
       "\n",
       "    .dataframe tbody tr th {\n",
       "        vertical-align: top;\n",
       "    }\n",
       "\n",
       "    .dataframe thead th {\n",
       "        text-align: right;\n",
       "    }\n",
       "</style>\n",
       "<table border=\"1\" class=\"dataframe\">\n",
       "  <thead>\n",
       "    <tr style=\"text-align: right;\">\n",
       "      <th></th>\n",
       "      <th>Long</th>\n",
       "      <th>Medium</th>\n",
       "      <th>Short</th>\n",
       "    </tr>\n",
       "  </thead>\n",
       "  <tbody>\n",
       "    <tr>\n",
       "      <th>Long</th>\n",
       "      <td>7</td>\n",
       "      <td>107</td>\n",
       "      <td>491</td>\n",
       "    </tr>\n",
       "    <tr>\n",
       "      <th>Medium</th>\n",
       "      <td>47</td>\n",
       "      <td>1006</td>\n",
       "      <td>4582</td>\n",
       "    </tr>\n",
       "    <tr>\n",
       "      <th>Short</th>\n",
       "      <td>59</td>\n",
       "      <td>1669</td>\n",
       "      <td>11404</td>\n",
       "    </tr>\n",
       "  </tbody>\n",
       "</table>\n",
       "</div>"
      ],
      "text/plain": [
       "        Long  Medium  Short\n",
       "Long       7     107    491\n",
       "Medium    47    1006   4582\n",
       "Short     59    1669  11404"
      ]
     },
     "execution_count": 77,
     "metadata": {},
     "output_type": "execute_result"
    }
   ],
   "source": [
    "labels = np.unique(y_test)\n",
    "d =  confusion_matrix(y_test, rf_pred, labels=labels)\n",
    "\n",
    "pd.DataFrame(d, index=labels, columns=labels)"
   ]
  },
  {
   "cell_type": "markdown",
   "metadata": {},
   "source": [
    "<b> As Seen from the Confusion Matriix , with accuracy of .641 another tree based algorithm seems to be performing same as decision tree but with little improvement with correct values being predicted for Long, Medium and Short are 7, 1006 and 11400 respectively. which is acceptable</b>"
   ]
  },
  {
   "cell_type": "code",
   "execution_count": 78,
   "metadata": {},
   "outputs": [
    {
     "data": {
      "image/png": "[encoded data removed]",
      "text/plain": [
       "<Figure size 648x432 with 2 Axes>"
      ]
     },
     "metadata": {
      "needs_background": "light"
     },
     "output_type": "display_data"
    }
   ],
   "source": [
    "cm_rfdf = pd.DataFrame(cm_rf,\n",
    "                       index = ['Long','Medium','Short'], \n",
    "                     columns = ['Long','Medium','Short'])\n",
    "\n",
    "plt.figure(figsize=(9,6))\n",
    "sns.heatmap(cm_rfdf, annot=True)\n",
    "plt.title('Random Forest Classifier \\nAccuracy:{0:.3f}'.format(accuracy_score(y_test, rf_pred)))\n",
    "plt.ylabel('True label')\n",
    "plt.xlabel('Predicted label')\n",
    "plt.show()"
   ]
  },
  {
   "cell_type": "markdown",
   "metadata": {},
   "source": [
    "#### Random Forest Classification Report<a id='Random_Forest_Classification_Report'></a>"
   ]
  },
  {
   "cell_type": "code",
   "execution_count": 102,
   "metadata": {},
   "outputs": [
    {
     "name": "stdout",
     "output_type": "stream",
     "text": [
      "              precision    recall  f1-score   support\n",
      "\n",
      "        Long       0.06      0.01      0.02       605\n",
      "      Medium       0.36      0.18      0.24      5635\n",
      "       Short       0.69      0.87      0.77     13132\n",
      "\n",
      "    accuracy                           0.64     19372\n",
      "   macro avg       0.37      0.35      0.34     19372\n",
      "weighted avg       0.58      0.64      0.59     19372\n",
      "\n"
     ]
    }
   ],
   "source": [
    "print(classification_report(y_test, rf_pred))"
   ]
  },
  {
   "cell_type": "code",
   "execution_count": 79,
   "metadata": {},
   "outputs": [
    {
     "data": {
      "image/png": "[encoded data removed]",
      "text/plain": [
       "<Figure size 720x504 with 2 Axes>"
      ]
     },
     "metadata": {
      "needs_background": "light"
     },
     "output_type": "display_data"
    }
   ],
   "source": [
    "plt.figure(figsize=(10,7))\n",
    "clf_report_3 = classification_report(y_test, rf_pred,\n",
    "                                   labels=labels,\n",
    "                                   target_names=labels,\n",
    "                                   output_dict=True)\n",
    "sns.heatmap(pd.DataFrame(clf_report_3).iloc[:-1, :].T, annot=True)\n",
    "plt.title('Random Forest CLassification Report')\n",
    "\n",
    "plt.show()"
   ]
  },
  {
   "cell_type": "markdown",
   "metadata": {},
   "source": [
    "### 5.7.5 SVC Classification<a id='5.7.5_SVC_Classification'></a>"
   ]
  },
  {
   "cell_type": "code",
   "execution_count": 83,
   "metadata": {},
   "outputs": [],
   "source": [
    "from sklearn.svm import SVC\n",
    "\n",
    "model_SV = SVC(decision_function_shape='ovo')\n",
    "# fit model\n",
    "model_SV.fit(X_train, y_train)\n",
    "# make predictions\n",
    "sv_pred = model_SV.predict(X_test)"
   ]
  },
  {
   "cell_type": "code",
   "execution_count": 81,
   "metadata": {},
   "outputs": [
    {
     "data": {
      "text/plain": [
       "0.6778856080941565"
      ]
     },
     "execution_count": 81,
     "metadata": {},
     "output_type": "execute_result"
    }
   ],
   "source": [
    "model_SV.score(X_test, y_test)"
   ]
  },
  {
   "cell_type": "code",
   "execution_count": 84,
   "metadata": {},
   "outputs": [],
   "source": [
    "cm_SV = confusion_matrix(y_test, sv_pred)"
   ]
  },
  {
   "cell_type": "markdown",
   "metadata": {},
   "source": [
    "#### SVC Confusion Matrix<a id='SVC_Confusion_Matrix'></a>"
   ]
  },
  {
   "cell_type": "code",
   "execution_count": 85,
   "metadata": {},
   "outputs": [
    {
     "data": {
      "text/html": [
       "<div>\n",
       "<style scoped>\n",
       "    .dataframe tbody tr th:only-of-type {\n",
       "        vertical-align: middle;\n",
       "    }\n",
       "\n",
       "    .dataframe tbody tr th {\n",
       "        vertical-align: top;\n",
       "    }\n",
       "\n",
       "    .dataframe thead th {\n",
       "        text-align: right;\n",
       "    }\n",
       "</style>\n",
       "<table border=\"1\" class=\"dataframe\">\n",
       "  <thead>\n",
       "    <tr style=\"text-align: right;\">\n",
       "      <th></th>\n",
       "      <th>Long</th>\n",
       "      <th>Medium</th>\n",
       "      <th>Short</th>\n",
       "    </tr>\n",
       "  </thead>\n",
       "  <tbody>\n",
       "    <tr>\n",
       "      <th>Long</th>\n",
       "      <td>0</td>\n",
       "      <td>0</td>\n",
       "      <td>605</td>\n",
       "    </tr>\n",
       "    <tr>\n",
       "      <th>Medium</th>\n",
       "      <td>0</td>\n",
       "      <td>0</td>\n",
       "      <td>5635</td>\n",
       "    </tr>\n",
       "    <tr>\n",
       "      <th>Short</th>\n",
       "      <td>0</td>\n",
       "      <td>0</td>\n",
       "      <td>13132</td>\n",
       "    </tr>\n",
       "  </tbody>\n",
       "</table>\n",
       "</div>"
      ],
      "text/plain": [
       "        Long  Medium  Short\n",
       "Long       0       0    605\n",
       "Medium     0       0   5635\n",
       "Short      0       0  13132"
      ]
     },
     "execution_count": 85,
     "metadata": {},
     "output_type": "execute_result"
    }
   ],
   "source": [
    "labels = np.unique(y_test)\n",
    "e =  confusion_matrix(y_test, sv_pred, labels=labels)\n",
    "\n",
    "pd.DataFrame(e, index=labels, columns=labels)"
   ]
  },
  {
   "cell_type": "markdown",
   "metadata": {},
   "source": [
    "<b> Here i have used SVC for multiple classes using One over One cllassification method , as per confusion matrix, its only predcting values as sort there is no prediction for medium and large, So although  accuracy is better bur again prediction is poor/b>"
   ]
  },
  {
   "cell_type": "code",
   "execution_count": 86,
   "metadata": {},
   "outputs": [
    {
     "data": {
      "image/png": "[encoded data removed]",
      "text/plain": [
       "<Figure size 648x432 with 2 Axes>"
      ]
     },
     "metadata": {
      "needs_background": "light"
     },
     "output_type": "display_data"
    }
   ],
   "source": [
    "cm_svdf = pd.DataFrame(cm_SV,\n",
    "                       index = ['Long','Medium','Short'], \n",
    "                     columns = ['Long','Medium','Short'])\n",
    "\n",
    "plt.figure(figsize=(9,6))\n",
    "sns.heatmap(cm_svdf, annot=True)\n",
    "plt.title('SVM Classifier \\nAccuracy:{0:.3f}'.format(accuracy_score(y_test, sv_pred)))\n",
    "plt.ylabel('True label')\n",
    "plt.xlabel('Predicted label')\n",
    "plt.show()"
   ]
  },
  {
   "cell_type": "markdown",
   "metadata": {},
   "source": [
    "#### SVC Classification Report<a id='SVC_Classification_Report'></a>"
   ]
  },
  {
   "cell_type": "code",
   "execution_count": 101,
   "metadata": {},
   "outputs": [
    {
     "name": "stdout",
     "output_type": "stream",
     "text": [
      "              precision    recall  f1-score   support\n",
      "\n",
      "        Long       0.00      0.00      0.00       605\n",
      "      Medium       0.00      0.00      0.00      5635\n",
      "       Short       0.68      1.00      0.81     13132\n",
      "\n",
      "    accuracy                           0.68     19372\n",
      "   macro avg       0.23      0.33      0.27     19372\n",
      "weighted avg       0.46      0.68      0.55     19372\n",
      "\n"
     ]
    }
   ],
   "source": [
    "print(classification_report(y_test, sv_pred))"
   ]
  },
  {
   "cell_type": "code",
   "execution_count": 87,
   "metadata": {},
   "outputs": [
    {
     "name": "stderr",
     "output_type": "stream",
     "text": [
      "D:\\Anacon\\lib\\site-packages\\sklearn\\metrics\\_classification.py:1221: UndefinedMetricWarning: Precision and F-score are ill-defined and being set to 0.0 in labels with no predicted samples. Use `zero_division` parameter to control this behavior.\n",
      "  _warn_prf(average, modifier, msg_start, len(result))\n"
     ]
    },
    {
     "data": {
      "image/png": "[encoded data removed]",
      "text/plain": [
       "<Figure size 720x504 with 2 Axes>"
      ]
     },
     "metadata": {
      "needs_background": "light"
     },
     "output_type": "display_data"
    }
   ],
   "source": [
    "plt.figure(figsize=(10,7))\n",
    "clf_report_4 = classification_report(y_test, sv_pred,\n",
    "                                   labels=labels,\n",
    "                                   target_names=labels,\n",
    "                                   output_dict=True)\n",
    "sns.heatmap(pd.DataFrame(clf_report_4).iloc[:-1, :].T, annot=True)\n",
    "plt.title('Random Forest CLassification Report')\n",
    "\n",
    "plt.show()"
   ]
  },
  {
   "cell_type": "markdown",
   "metadata": {},
   "source": [
    "### 5.7.6 Metrics Summary<a id='5.7.6_Metrics_Summary'></a>"
   ]
  },
  {
   "cell_type": "markdown",
   "metadata": {},
   "source": [
    "| Class | Support | F1 Score | Precision | Recall |\n",
    "| :-: | :-: | :-: | :-: | :-: | \n",
    "| <b>SVC Classifier</b> | Accuracy | 0.68 |\n",
    "| Short | 13132 | 0.81 | 0.68 | 1.0 |\n",
    "| Medium | 5635 | 0 | 0 | 0 |\n",
    "| Long | 605 | 0 | 0 | 0 |\n",
    "| <b>Decision Tree Classifier</b> | Accuracy | 0.68 |\n",
    "| Short | 13132 | 0.81 | 0.68 | 0.99 |\n",
    "| Medium | 5635 | 0.023 | 0.44 | 0.012 |\n",
    "| Long | 605 | 0 | 0 | 0 |\n",
    "| <b>KNN Classifier</b> | Accuracy | 0.63 |\n",
    "| Short | 13132 | 0.76 | 0.69 | 0.85 |\n",
    "| Medium | 5635 | 0.24 | 0.34 | 0.19 |\n",
    "| Long | 605 | 0.01 | 0.12 | 0.01 |\n",
    "| <b>Naives Bayes Classifier</b> | Accuracy | 0.14 |\n",
    "| Short | 13132 | 0.22 | 0.76 | 0.13 |\n",
    "| Medium | 5635 | 0.14 | 0.28 | 0.10 |\n",
    "| Long | 605 | 0.07 | 0.03 | 0.87 |\n",
    "| <b>Random Forest Classifier</b> | Accuracy | 0.64 |\n",
    "| Short | 13132 | 0.77 | 0.69 | 0.87 |\n",
    "| Medium | 5635 | 0.24 | 0.36 | 0.18 |\n",
    "| Long | 605 | 0.02 | 0.06 | 0.01 |\n"
   ]
  },
  {
   "cell_type": "markdown",
   "metadata": {},
   "source": [
    "<b> As Seen from the Comparison Chart for various Models\n",
    "    \n",
    "    * Although SVC is higher in accuracy but, its orediction for medium and Long duration is 0, so it doesn't look suitable\n",
    "    \n",
    "    * In my opinion, KNN and Random Forest seem to be much better models for our data, although accuracy is aroun 0.64 for both but their prediction is better than other models\n",
    "    \n",
    " Lets try to tune some hyper Paramters below to see if we can improve on our models</b>"
   ]
  },
  {
   "cell_type": "markdown",
   "metadata": {},
   "source": [
    "## 5.8 Parameter Tuning<a id='5.8_Parameter_Tuning'></a>"
   ]
  },
  {
   "cell_type": "markdown",
   "metadata": {},
   "source": [
    "<b> Using GridSearchCV and various Clasification techniques to find the best parameters and model to see if we can fine tune our parmaters and improve our model. We will use accuracy for evaluating best score and parmeters </b>"
   ]
  },
  {
   "cell_type": "markdown",
   "metadata": {},
   "source": [
    "### 5.8.1 KNN Using Cross Validation<a id='5.8.1_KNN_Using_Cross_Validation'></a>"
   ]
  },
  {
   "cell_type": "code",
   "execution_count": 93,
   "metadata": {},
   "outputs": [
    {
     "name": "stdout",
     "output_type": "stream",
     "text": [
      "[0.60627178 0.61324042 0.62575816 0.61053039 0.62808104 0.60704607\n",
      " 0.61336947 0.60454311 0.59305627 0.61448116]\n"
     ]
    }
   ],
   "source": [
    "scores = cross_val_score(knn, X, y, cv=10, scoring='accuracy')\n",
    "print(scores)\n"
   ]
  },
  {
   "cell_type": "code",
   "execution_count": 94,
   "metadata": {},
   "outputs": [
    {
     "name": "stdout",
     "output_type": "stream",
     "text": [
      "0.6116377865600324\n"
     ]
    }
   ],
   "source": [
    "print(scores.mean())"
   ]
  },
  {
   "cell_type": "markdown",
   "metadata": {},
   "source": [
    "### 5.8.2 KNN Using GridSearchCV<a id='5.8.2_KNN_Using_GridSearchCV'></a>"
   ]
  },
  {
   "cell_type": "code",
   "execution_count": 95,
   "metadata": {},
   "outputs": [],
   "source": [
    "k_range = list(range(1, 21))\n",
    "param_grid = dict(n_neighbors=k_range)\n",
    "\n",
    "grid = GridSearchCV(knn, param_grid, cv=10, scoring='accuracy')"
   ]
  },
  {
   "cell_type": "code",
   "execution_count": 96,
   "metadata": {},
   "outputs": [
    {
     "data": {
      "text/plain": [
       "GridSearchCV(cv=10, estimator=KNeighborsClassifier(n_neighbors=7),\n",
       "             param_grid={'n_neighbors': [1, 2, 3, 4, 5, 6, 7, 8, 9, 10, 11, 12,\n",
       "                                         13, 14, 15, 16, 17, 18, 19, 20]},\n",
       "             scoring='accuracy')"
      ]
     },
     "execution_count": 96,
     "metadata": {},
     "output_type": "execute_result"
    }
   ],
   "source": [
    "grid.fit(X, y)"
   ]
  },
  {
   "cell_type": "code",
   "execution_count": 97,
   "metadata": {
    "scrolled": true
   },
   "outputs": [
    {
     "name": "stdout",
     "output_type": "stream",
     "text": [
      "Best Score: 0.6564064905405551\n",
      "Best params: {'n_neighbors': 20}\n"
     ]
    }
   ],
   "source": [
    "print (\"Best Score: {}\".format(grid.best_score_))\n",
    "print (\"Best params: {}\".format(grid.best_params_))"
   ]
  },
  {
   "cell_type": "code",
   "execution_count": 121,
   "metadata": {},
   "outputs": [],
   "source": [
    "KN = KNeighborsClassifier(n_neighbors = 20)\n",
    "\n",
    "KN.fit(X_train, y_train)\n",
    "\n",
    "y_kn = KN.predict(X_test)\n",
    "\n"
   ]
  },
  {
   "cell_type": "code",
   "execution_count": 122,
   "metadata": {},
   "outputs": [
    {
     "data": {
      "text/html": [
       "<div>\n",
       "<style scoped>\n",
       "    .dataframe tbody tr th:only-of-type {\n",
       "        vertical-align: middle;\n",
       "    }\n",
       "\n",
       "    .dataframe tbody tr th {\n",
       "        vertical-align: top;\n",
       "    }\n",
       "\n",
       "    .dataframe thead th {\n",
       "        text-align: right;\n",
       "    }\n",
       "</style>\n",
       "<table border=\"1\" class=\"dataframe\">\n",
       "  <thead>\n",
       "    <tr style=\"text-align: right;\">\n",
       "      <th></th>\n",
       "      <th>Long</th>\n",
       "      <th>Medium</th>\n",
       "      <th>Short</th>\n",
       "    </tr>\n",
       "  </thead>\n",
       "  <tbody>\n",
       "    <tr>\n",
       "      <th>Long</th>\n",
       "      <td>0</td>\n",
       "      <td>46</td>\n",
       "      <td>559</td>\n",
       "    </tr>\n",
       "    <tr>\n",
       "      <th>Medium</th>\n",
       "      <td>0</td>\n",
       "      <td>497</td>\n",
       "      <td>5138</td>\n",
       "    </tr>\n",
       "    <tr>\n",
       "      <th>Short</th>\n",
       "      <td>0</td>\n",
       "      <td>732</td>\n",
       "      <td>12400</td>\n",
       "    </tr>\n",
       "  </tbody>\n",
       "</table>\n",
       "</div>"
      ],
      "text/plain": [
       "        Long  Medium  Short\n",
       "Long       0      46    559\n",
       "Medium     0     497   5138\n",
       "Short      0     732  12400"
      ]
     },
     "execution_count": 122,
     "metadata": {},
     "output_type": "execute_result"
    }
   ],
   "source": [
    "labels = np.unique(y_test)\n",
    "g =  confusion_matrix(y_test, y_kn, labels=labels)\n",
    "\n",
    "pd.DataFrame(g, index=labels, columns=labels)"
   ]
  },
  {
   "cell_type": "markdown",
   "metadata": {},
   "source": [
    "### 5.8.3 Decision Tree Using GridSearchCV<a id='5.8.3_Decision_Tree_Using_GridSearchCV'></a>"
   ]
  },
  {
   "cell_type": "code",
   "execution_count": 98,
   "metadata": {},
   "outputs": [
    {
     "name": "stdout",
     "output_type": "stream",
     "text": [
      "Best Score: 0.6817788702630738\n",
      "Best params: {'criterion': 'entropy', 'max_depth': 3}\n"
     ]
    }
   ],
   "source": [
    "parameter_grid = {'max_depth': [3, 4, 5,6,7,8,9,10,15,20],\n",
    "                 'criterion':['gini','entropy'],\n",
    "                 }\n",
    "\n",
    "grid_search = GridSearchCV(DecisionTreeClassifier(), param_grid = parameter_grid,\n",
    "                          cv =10)\n",
    "\n",
    "grid_search.fit(X, y)\n",
    "\n",
    "print (\"Best Score: {}\".format(grid_search.best_score_))\n",
    "print (\"Best params: {}\".format(grid_search.best_params_))"
   ]
  },
  {
   "cell_type": "code",
   "execution_count": 89,
   "metadata": {},
   "outputs": [],
   "source": [
    "model_f = DecisionTreeClassifier(max_depth = 3, criterion = 'entropy').fit(X_train, y_train)\n",
    "y_pre = model_f.predict(X_test)"
   ]
  },
  {
   "cell_type": "markdown",
   "metadata": {},
   "source": [
    "<b> CONFUSION MATRIX </b>"
   ]
  },
  {
   "cell_type": "code",
   "execution_count": 90,
   "metadata": {},
   "outputs": [
    {
     "data": {
      "text/html": [
       "<div>\n",
       "<style scoped>\n",
       "    .dataframe tbody tr th:only-of-type {\n",
       "        vertical-align: middle;\n",
       "    }\n",
       "\n",
       "    .dataframe tbody tr th {\n",
       "        vertical-align: top;\n",
       "    }\n",
       "\n",
       "    .dataframe thead th {\n",
       "        text-align: right;\n",
       "    }\n",
       "</style>\n",
       "<table border=\"1\" class=\"dataframe\">\n",
       "  <thead>\n",
       "    <tr style=\"text-align: right;\">\n",
       "      <th></th>\n",
       "      <th>Long</th>\n",
       "      <th>Medium</th>\n",
       "      <th>Short</th>\n",
       "    </tr>\n",
       "  </thead>\n",
       "  <tbody>\n",
       "    <tr>\n",
       "      <th>Long</th>\n",
       "      <td>0</td>\n",
       "      <td>4</td>\n",
       "      <td>601</td>\n",
       "    </tr>\n",
       "    <tr>\n",
       "      <th>Medium</th>\n",
       "      <td>0</td>\n",
       "      <td>14</td>\n",
       "      <td>5621</td>\n",
       "    </tr>\n",
       "    <tr>\n",
       "      <th>Short</th>\n",
       "      <td>0</td>\n",
       "      <td>8</td>\n",
       "      <td>13124</td>\n",
       "    </tr>\n",
       "  </tbody>\n",
       "</table>\n",
       "</div>"
      ],
      "text/plain": [
       "        Long  Medium  Short\n",
       "Long       0       4    601\n",
       "Medium     0      14   5621\n",
       "Short      0       8  13124"
      ]
     },
     "execution_count": 90,
     "metadata": {},
     "output_type": "execute_result"
    }
   ],
   "source": [
    "labels = np.unique(y_test)\n",
    "f =  confusion_matrix(y_test, y_pre, labels=labels)\n",
    "\n",
    "pd.DataFrame(f, index=labels, columns=labels)"
   ]
  },
  {
   "cell_type": "code",
   "execution_count": 113,
   "metadata": {},
   "outputs": [
    {
     "name": "stderr",
     "output_type": "stream",
     "text": [
      "D:\\Anacon\\lib\\site-packages\\sklearn\\metrics\\_classification.py:1221: UndefinedMetricWarning: Precision and F-score are ill-defined and being set to 0.0 in labels with no predicted samples. Use `zero_division` parameter to control this behavior.\n",
      "  _warn_prf(average, modifier, msg_start, len(result))\n"
     ]
    },
    {
     "name": "stdout",
     "output_type": "stream",
     "text": [
      "              precision    recall  f1-score   support\n",
      "\n",
      "        Long       0.00      0.00      0.00       605\n",
      "      Medium       0.54      0.00      0.00      5635\n",
      "       Short       0.68      1.00      0.81     13132\n",
      "\n",
      "    accuracy                           0.68     19372\n",
      "   macro avg       0.41      0.33      0.27     19372\n",
      "weighted avg       0.62      0.68      0.55     19372\n",
      "\n"
     ]
    }
   ],
   "source": [
    "print(classification_report(y_test, y_pre))"
   ]
  },
  {
   "cell_type": "markdown",
   "metadata": {},
   "source": [
    "### 5.8.4 Random Forest Using GridSearchCV<a id='5.8.4_Random_Forest_Using_GridSearchCV'></a>"
   ]
  },
  {
   "cell_type": "code",
   "execution_count": 107,
   "metadata": {},
   "outputs": [
    {
     "name": "stdout",
     "output_type": "stream",
     "text": [
      "Best Score: 0.6169804024112568\n",
      "Best params: {'criterion': 'gini', 'max_features': 3, 'n_estimators': 500}\n"
     ]
    }
   ],
   "source": [
    "parame_grid = {\n",
    "    'n_estimators': [100, 200, 300, 400 ,500],\n",
    "    'max_features': [3, 4, 5],\n",
    "    'criterion': ['gini', 'entropy']\n",
    "}\n",
    "\n",
    "rf = RandomForestClassifier()\n",
    "\n",
    "gs_rf = GridSearchCV(rf, param_grid = parame_grid,\n",
    "                          cv =5)\n",
    "\n",
    "gs_rf.fit(X, y)\n",
    "\n",
    "print (\"Best Score: {}\".format(gs_rf.best_score_))\n",
    "print (\"Best params: {}\".format(gs_rf.best_params_))\n"
   ]
  },
  {
   "cell_type": "code",
   "execution_count": 118,
   "metadata": {},
   "outputs": [],
   "source": [
    "RFC = RandomForestClassifier(criterion = 'gini', max_features = 3, n_estimators = 500)\n",
    "\n",
    "RFC.fit(X_train, y_train)\n",
    "\n",
    "y_rfc = RFC.predict(X_test)\n",
    "\n"
   ]
  },
  {
   "cell_type": "code",
   "execution_count": 120,
   "metadata": {},
   "outputs": [
    {
     "data": {
      "text/plain": [
       "0.6383956225480074"
      ]
     },
     "execution_count": 120,
     "metadata": {},
     "output_type": "execute_result"
    }
   ],
   "source": [
    "RFC.score(X_test, y_test)"
   ]
  },
  {
   "cell_type": "code",
   "execution_count": 119,
   "metadata": {},
   "outputs": [
    {
     "data": {
      "text/html": [
       "<div>\n",
       "<style scoped>\n",
       "    .dataframe tbody tr th:only-of-type {\n",
       "        vertical-align: middle;\n",
       "    }\n",
       "\n",
       "    .dataframe tbody tr th {\n",
       "        vertical-align: top;\n",
       "    }\n",
       "\n",
       "    .dataframe thead th {\n",
       "        text-align: right;\n",
       "    }\n",
       "</style>\n",
       "<table border=\"1\" class=\"dataframe\">\n",
       "  <thead>\n",
       "    <tr style=\"text-align: right;\">\n",
       "      <th></th>\n",
       "      <th>Long</th>\n",
       "      <th>Medium</th>\n",
       "      <th>Short</th>\n",
       "    </tr>\n",
       "  </thead>\n",
       "  <tbody>\n",
       "    <tr>\n",
       "      <th>Long</th>\n",
       "      <td>8</td>\n",
       "      <td>102</td>\n",
       "      <td>495</td>\n",
       "    </tr>\n",
       "    <tr>\n",
       "      <th>Medium</th>\n",
       "      <td>43</td>\n",
       "      <td>938</td>\n",
       "      <td>4654</td>\n",
       "    </tr>\n",
       "    <tr>\n",
       "      <th>Short</th>\n",
       "      <td>64</td>\n",
       "      <td>1647</td>\n",
       "      <td>11421</td>\n",
       "    </tr>\n",
       "  </tbody>\n",
       "</table>\n",
       "</div>"
      ],
      "text/plain": [
       "        Long  Medium  Short\n",
       "Long       8     102    495\n",
       "Medium    43     938   4654\n",
       "Short     64    1647  11421"
      ]
     },
     "execution_count": 119,
     "metadata": {},
     "output_type": "execute_result"
    }
   ],
   "source": [
    "labels = np.unique(y_test)\n",
    "e =  confusion_matrix(y_test, y_rfc, labels=labels)\n",
    "\n",
    "pd.DataFrame(e, index=labels, columns=labels)"
   ]
  },
  {
   "cell_type": "markdown",
   "metadata": {},
   "source": [
    "### 5.8.5 Multinomial NB Using GridSearchCV<a id='5.8.5_Multinomial_NB_Using_GridSearchCV'></a>"
   ]
  },
  {
   "cell_type": "code",
   "execution_count": 109,
   "metadata": {},
   "outputs": [
    {
     "name": "stdout",
     "output_type": "stream",
     "text": [
      "Best Score: 0.681146518078135\n",
      "Best params: {'alpha': 0.1}\n"
     ]
    }
   ],
   "source": [
    "from sklearn.naive_bayes import MultinomialNB\n",
    "\n",
    "Param_grid = {\n",
    "    'alpha': [0.01, 0.1, 1.0]\n",
    "}\n",
    "\n",
    "mnb = MultinomialNB()\n",
    "\n",
    "gs_mnb = GridSearchCV(mnb, param_grid = Param_grid,\n",
    "                          cv =5)\n",
    "\n",
    "gs_mnb.fit(X, y)\n",
    "\n",
    "print (\"Best Score: {}\".format(gs_mnb.best_score_))\n",
    "print (\"Best params: {}\".format(gs_mnb.best_params_))\n"
   ]
  },
  {
   "cell_type": "code",
   "execution_count": 110,
   "metadata": {},
   "outputs": [],
   "source": [
    "MNB = MultinomialNB(alpha = 0.1)\n",
    "\n",
    "MNB.fit(X_train, y_train)\n",
    "\n",
    "y_mnb = MNB.predict(X_test)\n",
    "\n"
   ]
  },
  {
   "cell_type": "code",
   "execution_count": 111,
   "metadata": {},
   "outputs": [
    {
     "data": {
      "text/html": [
       "<div>\n",
       "<style scoped>\n",
       "    .dataframe tbody tr th:only-of-type {\n",
       "        vertical-align: middle;\n",
       "    }\n",
       "\n",
       "    .dataframe tbody tr th {\n",
       "        vertical-align: top;\n",
       "    }\n",
       "\n",
       "    .dataframe thead th {\n",
       "        text-align: right;\n",
       "    }\n",
       "</style>\n",
       "<table border=\"1\" class=\"dataframe\">\n",
       "  <thead>\n",
       "    <tr style=\"text-align: right;\">\n",
       "      <th></th>\n",
       "      <th>Long</th>\n",
       "      <th>Medium</th>\n",
       "      <th>Short</th>\n",
       "    </tr>\n",
       "  </thead>\n",
       "  <tbody>\n",
       "    <tr>\n",
       "      <th>Long</th>\n",
       "      <td>6</td>\n",
       "      <td>7</td>\n",
       "      <td>592</td>\n",
       "    </tr>\n",
       "    <tr>\n",
       "      <th>Medium</th>\n",
       "      <td>22</td>\n",
       "      <td>39</td>\n",
       "      <td>5574</td>\n",
       "    </tr>\n",
       "    <tr>\n",
       "      <th>Short</th>\n",
       "      <td>22</td>\n",
       "      <td>26</td>\n",
       "      <td>13084</td>\n",
       "    </tr>\n",
       "  </tbody>\n",
       "</table>\n",
       "</div>"
      ],
      "text/plain": [
       "        Long  Medium  Short\n",
       "Long       6       7    592\n",
       "Medium    22      39   5574\n",
       "Short     22      26  13084"
      ]
     },
     "execution_count": 111,
     "metadata": {},
     "output_type": "execute_result"
    }
   ],
   "source": [
    "labels = np.unique(y_test)\n",
    "f =  confusion_matrix(y_test, y_mnb, labels=labels)\n",
    "\n",
    "pd.DataFrame(f, index=labels, columns=labels)"
   ]
  },
  {
   "cell_type": "markdown",
   "metadata": {},
   "source": [
    "<b> CONFUSION MATRIX </b>"
   ]
  },
  {
   "cell_type": "code",
   "execution_count": 112,
   "metadata": {},
   "outputs": [
    {
     "name": "stdout",
     "output_type": "stream",
     "text": [
      "              precision    recall  f1-score   support\n",
      "\n",
      "        Long       0.12      0.01      0.02       605\n",
      "      Medium       0.54      0.01      0.01      5635\n",
      "       Short       0.68      1.00      0.81     13132\n",
      "\n",
      "    accuracy                           0.68     19372\n",
      "   macro avg       0.45      0.34      0.28     19372\n",
      "weighted avg       0.62      0.68      0.55     19372\n",
      "\n"
     ]
    }
   ],
   "source": [
    "print(classification_report(y_test, y_mnb))"
   ]
  },
  {
   "cell_type": "markdown",
   "metadata": {},
   "source": [
    "### 5.8.6 Summary After Parameter Tuning<a id='5.8.6_Summary_After_Parameter_Tuning'></a>"
   ]
  },
  {
   "cell_type": "markdown",
   "metadata": {},
   "source": [
    "\n",
    "* <b> Model - Decision Tree </b>\n",
    "\n",
    "    * Best Criterion - Entropy\n",
    "    * Max Depth = 3 \n",
    "\n",
    "    * Score = 0.682\n",
    "\n",
    "* <b> Model - KNN </b>\n",
    "\n",
    "    * Best Neighbors - 20 \n",
    "\n",
    "    * Score = 0.656\n",
    "\n",
    "* <b> Model - Random Forest </b>\n",
    "\n",
    "    * Best Criterion - Gini\n",
    "    * Max features = 3 \n",
    "    * Best n_Estimators = 500\n",
    "\n",
    "    * Score = 0.616\n",
    "\n",
    "* <b> Model - Multinomial NB </b>\n",
    "\n",
    "    * Best Alpha = 0.1\n",
    "\n",
    "    * Score = 0.681\n",
    "\n"
   ]
  },
  {
   "cell_type": "markdown",
   "metadata": {},
   "source": [
    "<b> Final Conclusion after tuning Parameters\n",
    "    \n",
    "    * In my opinion Random Forest seems to be the best model after tuning paramters, althouh the accuracy is less at 0.62 \n",
    "    but its prediction is much better than other models when using the best paramters\n",
    "    \n",
    "    \n",
    "    * Although Multinomial Nb is the best in accuracy but its correct prediction for medium and Long is very less\n",
    " "
   ]
  }
 ],
 "metadata": {
  "kernelspec": {
   "display_name": "Python 3",
   "language": "python",
   "name": "python3"
  },
  "language_info": {
   "codemirror_mode": {
    "name": "ipython",
    "version": 3
   },
   "file_extension": ".py",
   "mimetype": "text/x-python",
   "name": "python",
   "nbconvert_exporter": "python",
   "pygments_lexer": "ipython3",
   "version": "3.7.3"
  },
  "toc": {
   "base_numbering": 1,
   "nav_menu": {},
   "number_sections": true,
   "sideBar": true,
   "skip_h1_title": false,
   "title_cell": "Table of Contents",
   "title_sidebar": "Contents",
   "toc_cell": false,
   "toc_position": {},
   "toc_section_display": true,
   "toc_window_display": true
  },
  "varInspector": {
   "cols": {
    "lenName": 16,
    "lenType": 16,
    "lenVar": 40
   },
   "kernels_config": {
    "python": {
     "delete_cmd_postfix": "",
     "delete_cmd_prefix": "del ",
     "library": "var_list.py",
     "varRefreshCmd": "print(var_dic_list())"
    },
    "r": {
     "delete_cmd_postfix": ") ",
     "delete_cmd_prefix": "rm(",
     "library": "var_list.r",
     "varRefreshCmd": "cat(var_dic_list()) "
    }
   },
   "types_to_exclude": [
    "module",
    "function",
    "builtin_function_or_method",
    "instance",
    "_Feature"
   ],
   "window_display": false
  }
 },
 "nbformat": 4,
 "nbformat_minor": 4
}
