{
 "cells": [
  {
   "cell_type": "markdown",
   "metadata": {},
   "source": [
    "# 5 Modeling<a id='5_Modeling'></a>"
   ]
  },
  {
   "cell_type": "markdown",
   "metadata": {},
   "source": [
    "## 5.1 Contents<a id='5.1_Contents'></a>\n",
    "* [5 Modeling](#5_Modeling)\n",
    "  * [5.1 Contents](#5.1_Contents)\n",
    "  * [5.2 Introduction](#5.2_Introduction)\n",
    "  * [5.3 Imports](#5.3_Imports)\n",
    "  * [5.4 Load Data](#5.4_Load_Data)\n",
    "  * [5.5 Prepare Data](#5.5_Prepare_Data)\n",
    "  * [5.6 Splitting Data](#5.6_Splitting_Data)\n",
    "      * [5.6.1 Scaling data](#5.6.1_Scaling_data)\n",
    "  * [5.7 Training Modela](#5.7_Training_Models)\n",
    "     * [5.7.1 Linear Regression](#5.7.1_Linear_Regression)\n",
    "          * [5.7.1.1 OLS on Scaled data](#5.7.1.1_OLS_on_Scaled_data)\n",
    "     * [5.7.2 Lasso Regression](#5.7.2_Lasso_Regression)\n",
    "          * [5.7.2.1 Lasso on Scaled data](#5.7.2.1_Lasso_on_Scaled_data)\n",
    "     * [5.7.3 Bayesian Ridge Regression](#5.7.3_Bayesian_Ridge_Regression)\n",
    "          * [5.7.3.1 Bayesian Ridge on Scaled data](#5.7.3.1_Bayesian_Ridge_on_Scaled_data)\n",
    "     * [5.7.4 SGD Regression](#5.7.4_SGD_Regression)\n",
    "          * [5.7.4.1 SGD on Scaled data](#5.7.4.1_SGD_on_Scaled_data)\n",
    "     * [5.7.5 Decision Tree Regression](#5.7.5_Decision_Tree_Regression)\n",
    "     * [5.7.6 Random Forest Regression](#5.7.6_Random_Forest_Regression)\n",
    "  * [5.8 Using GridSearchCV & Cross-Validation](#5.8_Using_GridSearchCV_&_Cross-Validation)\n",
    "     * [5.8.1 Multiple Linear Regression without Regularization](#5.8.1_Multiple_Linear_Regression_without_Regularization)\n",
    "     * [5.8.2 GridSearchCV with Ridge](#5.8.2_GridSearchCV_with_Ridge)\n",
    "     * [5.8.3 GridSearchCV with Lasso](#5.8.3_GridSearchCV_with_Lasso)\n",
    "     * [5.8.4 GridSearchCV with ElasticNet](#5.8.4_GridSearchCV_with_ElasticNet)\n",
    "     * [5.8.5 Dataframe of Coefficients](#5.8.5_Dataframe_of_Coefficients)\n",
    "   \n"
   ]
  },
  {
   "cell_type": "markdown",
   "metadata": {},
   "source": [
    "## 5.2 Introduction<a id='5.2_Introduction'></a>"
   ]
  },
  {
   "cell_type": "markdown",
   "metadata": {},
   "source": [
    "In this notebook, we now take our two final datasets one which is original with all the features and the other a smaller version excluding two features i.e State & City. Here we will train our data in some regression models (Linear as well as non- linear) to gain insights about the duration prediction for the UFO Sightings as well as explore the sensitivity of changes to various parameters. \n"
   ]
  },
  {
   "cell_type": "markdown",
   "metadata": {},
   "source": [
    "## 5.3 Imports<a id='5.3_Imports'></a>"
   ]
  },
  {
   "cell_type": "code",
   "execution_count": 2,
   "metadata": {},
   "outputs": [],
   "source": [
    "import pandas as pd\n",
    "import numpy as np\n",
    "import os\n",
    "import pickle\n",
    "import matplotlib.pyplot as plt\n",
    "import seaborn as sns\n",
    "import category_encoders as ce\n",
    "#from sklearn.decomposition import PCA\n",
    "#from sklearn.preprocessing import sca#le\n",
    "from sklearn.model_selection import train_test_split, cross_validate, GridSearchCV, learning_curve\n",
    "from sklearn.preprocessing import StandardScaler, MinMaxScaler\n",
    "from sklearn import linear_model\n",
    "from sklearn.metrics import mean_squared_error, r2_score\n",
    "from sklearn.tree import DecisionTreeRegressor\n",
    "from sklearn.neighbors import KNeighborsRegressor\n",
    "from sklearn.ensemble import RandomForestRegressor\n",
    "from sklearn.model_selection import GridSearchCV\n",
    "from sklearn.linear_model import ElasticNet"
   ]
  },
  {
   "cell_type": "markdown",
   "metadata": {},
   "source": [
    "## 5.4 Load Data<a id='5.4_Load_Data'></a>"
   ]
  },
  {
   "cell_type": "markdown",
   "metadata": {},
   "source": [
    "Lets load the previously cleaned and preprocessed datasets, One dataset has all the featrures as in the original dataset and the second dataset has reduced features except State & City"
   ]
  },
  {
   "cell_type": "code",
   "execution_count": 3,
   "metadata": {},
   "outputs": [],
   "source": [
    "data_1 = pd.read_csv('UFO_dataset_1.csv')"
   ]
  },
  {
   "cell_type": "code",
   "execution_count": 4,
   "metadata": {},
   "outputs": [],
   "source": [
    "data_2 = pd.read_csv('UFO_dataset_2.csv')"
   ]
  },
  {
   "cell_type": "code",
   "execution_count": 5,
   "metadata": {
    "scrolled": true
   },
   "outputs": [],
   "source": [
    "data_1 = data_1.drop(['Unnamed: 0'], axis = 1)"
   ]
  },
  {
   "cell_type": "code",
   "execution_count": 6,
   "metadata": {},
   "outputs": [
    {
     "data": {
      "text/html": [
       "<div>\n",
       "<style scoped>\n",
       "    .dataframe tbody tr th:only-of-type {\n",
       "        vertical-align: middle;\n",
       "    }\n",
       "\n",
       "    .dataframe tbody tr th {\n",
       "        vertical-align: top;\n",
       "    }\n",
       "\n",
       "    .dataframe thead th {\n",
       "        text-align: right;\n",
       "    }\n",
       "</style>\n",
       "<table border=\"1\" class=\"dataframe\">\n",
       "  <thead>\n",
       "    <tr style=\"text-align: right;\">\n",
       "      <th></th>\n",
       "      <th>Duration_minutes</th>\n",
       "      <th>Country</th>\n",
       "      <th>State</th>\n",
       "      <th>City</th>\n",
       "      <th>Year</th>\n",
       "      <th>Month</th>\n",
       "      <th>sh</th>\n",
       "      <th>lat</th>\n",
       "      <th>long</th>\n",
       "      <th>Day</th>\n",
       "      <th>Hour</th>\n",
       "    </tr>\n",
       "  </thead>\n",
       "  <tbody>\n",
       "    <tr>\n",
       "      <th>0</th>\n",
       "      <td>45.00</td>\n",
       "      <td>US</td>\n",
       "      <td>Texas</td>\n",
       "      <td>San Marcos</td>\n",
       "      <td>1949</td>\n",
       "      <td>10</td>\n",
       "      <td>cylinder</td>\n",
       "      <td>29.883056</td>\n",
       "      <td>-97.941111</td>\n",
       "      <td>10</td>\n",
       "      <td>20</td>\n",
       "    </tr>\n",
       "    <tr>\n",
       "      <th>1</th>\n",
       "      <td>60.00</td>\n",
       "      <td>US</td>\n",
       "      <td>Texas</td>\n",
       "      <td>Lackland Air Force Base</td>\n",
       "      <td>1949</td>\n",
       "      <td>10</td>\n",
       "      <td>light</td>\n",
       "      <td>29.384210</td>\n",
       "      <td>-98.581082</td>\n",
       "      <td>10</td>\n",
       "      <td>21</td>\n",
       "    </tr>\n",
       "    <tr>\n",
       "      <th>2</th>\n",
       "      <td>0.33</td>\n",
       "      <td>GB</td>\n",
       "      <td>England</td>\n",
       "      <td>Blacon</td>\n",
       "      <td>1955</td>\n",
       "      <td>10</td>\n",
       "      <td>circle</td>\n",
       "      <td>53.200000</td>\n",
       "      <td>-2.916667</td>\n",
       "      <td>10</td>\n",
       "      <td>17</td>\n",
       "    </tr>\n",
       "    <tr>\n",
       "      <th>3</th>\n",
       "      <td>30.00</td>\n",
       "      <td>US</td>\n",
       "      <td>Texas</td>\n",
       "      <td>Edna</td>\n",
       "      <td>1956</td>\n",
       "      <td>10</td>\n",
       "      <td>circle</td>\n",
       "      <td>28.978333</td>\n",
       "      <td>-96.645833</td>\n",
       "      <td>10</td>\n",
       "      <td>21</td>\n",
       "    </tr>\n",
       "    <tr>\n",
       "      <th>4</th>\n",
       "      <td>15.00</td>\n",
       "      <td>US</td>\n",
       "      <td>Hawaii</td>\n",
       "      <td>Kane'ohe</td>\n",
       "      <td>1960</td>\n",
       "      <td>10</td>\n",
       "      <td>light</td>\n",
       "      <td>21.418056</td>\n",
       "      <td>-157.803611</td>\n",
       "      <td>10</td>\n",
       "      <td>20</td>\n",
       "    </tr>\n",
       "  </tbody>\n",
       "</table>\n",
       "</div>"
      ],
      "text/plain": [
       "   Duration_minutes Country    State                     City  Year  Month  \\\n",
       "0             45.00      US    Texas               San Marcos  1949     10   \n",
       "1             60.00      US    Texas  Lackland Air Force Base  1949     10   \n",
       "2              0.33      GB  England                   Blacon  1955     10   \n",
       "3             30.00      US    Texas                     Edna  1956     10   \n",
       "4             15.00      US   Hawaii                 Kane'ohe  1960     10   \n",
       "\n",
       "         sh        lat        long  Day  Hour  \n",
       "0  cylinder  29.883056  -97.941111   10    20  \n",
       "1     light  29.384210  -98.581082   10    21  \n",
       "2    circle  53.200000   -2.916667   10    17  \n",
       "3    circle  28.978333  -96.645833   10    21  \n",
       "4     light  21.418056 -157.803611   10    20  "
      ]
     },
     "execution_count": 6,
     "metadata": {},
     "output_type": "execute_result"
    }
   ],
   "source": [
    "data_1.head()"
   ]
  },
  {
   "cell_type": "code",
   "execution_count": 7,
   "metadata": {},
   "outputs": [],
   "source": [
    "data_2 = data_2.drop(['Unnamed: 0'], axis = 1)"
   ]
  },
  {
   "cell_type": "code",
   "execution_count": 8,
   "metadata": {},
   "outputs": [
    {
     "data": {
      "text/html": [
       "<div>\n",
       "<style scoped>\n",
       "    .dataframe tbody tr th:only-of-type {\n",
       "        vertical-align: middle;\n",
       "    }\n",
       "\n",
       "    .dataframe tbody tr th {\n",
       "        vertical-align: top;\n",
       "    }\n",
       "\n",
       "    .dataframe thead th {\n",
       "        text-align: right;\n",
       "    }\n",
       "</style>\n",
       "<table border=\"1\" class=\"dataframe\">\n",
       "  <thead>\n",
       "    <tr style=\"text-align: right;\">\n",
       "      <th></th>\n",
       "      <th>Duration_minutes</th>\n",
       "      <th>Country</th>\n",
       "      <th>Year</th>\n",
       "      <th>Month</th>\n",
       "      <th>sh</th>\n",
       "      <th>lat</th>\n",
       "      <th>long</th>\n",
       "      <th>Day</th>\n",
       "      <th>Hour</th>\n",
       "    </tr>\n",
       "  </thead>\n",
       "  <tbody>\n",
       "    <tr>\n",
       "      <th>0</th>\n",
       "      <td>45.00</td>\n",
       "      <td>US</td>\n",
       "      <td>1949</td>\n",
       "      <td>10</td>\n",
       "      <td>cylinder</td>\n",
       "      <td>29.883056</td>\n",
       "      <td>-97.941111</td>\n",
       "      <td>10</td>\n",
       "      <td>20</td>\n",
       "    </tr>\n",
       "    <tr>\n",
       "      <th>1</th>\n",
       "      <td>60.00</td>\n",
       "      <td>US</td>\n",
       "      <td>1949</td>\n",
       "      <td>10</td>\n",
       "      <td>light</td>\n",
       "      <td>29.384210</td>\n",
       "      <td>-98.581082</td>\n",
       "      <td>10</td>\n",
       "      <td>21</td>\n",
       "    </tr>\n",
       "    <tr>\n",
       "      <th>2</th>\n",
       "      <td>0.33</td>\n",
       "      <td>GB</td>\n",
       "      <td>1955</td>\n",
       "      <td>10</td>\n",
       "      <td>circle</td>\n",
       "      <td>53.200000</td>\n",
       "      <td>-2.916667</td>\n",
       "      <td>10</td>\n",
       "      <td>17</td>\n",
       "    </tr>\n",
       "    <tr>\n",
       "      <th>3</th>\n",
       "      <td>30.00</td>\n",
       "      <td>US</td>\n",
       "      <td>1956</td>\n",
       "      <td>10</td>\n",
       "      <td>circle</td>\n",
       "      <td>28.978333</td>\n",
       "      <td>-96.645833</td>\n",
       "      <td>10</td>\n",
       "      <td>21</td>\n",
       "    </tr>\n",
       "    <tr>\n",
       "      <th>4</th>\n",
       "      <td>15.00</td>\n",
       "      <td>US</td>\n",
       "      <td>1960</td>\n",
       "      <td>10</td>\n",
       "      <td>light</td>\n",
       "      <td>21.418056</td>\n",
       "      <td>-157.803611</td>\n",
       "      <td>10</td>\n",
       "      <td>20</td>\n",
       "    </tr>\n",
       "  </tbody>\n",
       "</table>\n",
       "</div>"
      ],
      "text/plain": [
       "   Duration_minutes Country  Year  Month        sh        lat        long  \\\n",
       "0             45.00      US  1949     10  cylinder  29.883056  -97.941111   \n",
       "1             60.00      US  1949     10     light  29.384210  -98.581082   \n",
       "2              0.33      GB  1955     10    circle  53.200000   -2.916667   \n",
       "3             30.00      US  1956     10    circle  28.978333  -96.645833   \n",
       "4             15.00      US  1960     10     light  21.418056 -157.803611   \n",
       "\n",
       "   Day  Hour  \n",
       "0   10    20  \n",
       "1   10    21  \n",
       "2   10    17  \n",
       "3   10    21  \n",
       "4   10    20  "
      ]
     },
     "execution_count": 8,
     "metadata": {},
     "output_type": "execute_result"
    }
   ],
   "source": [
    "data_2.head()"
   ]
  },
  {
   "cell_type": "markdown",
   "metadata": {},
   "source": [
    "As seen below both the daatsets have 77500 rows and one dataset has 11 features including the target variable - Duration Minutes, and other one has 9 features"
   ]
  },
  {
   "cell_type": "markdown",
   "metadata": {},
   "source": [
    "## 5.5 Prepare Data<a id='5.5_Prepare_Data'></a>"
   ]
  },
  {
   "cell_type": "code",
   "execution_count": 9,
   "metadata": {},
   "outputs": [
    {
     "data": {
      "text/plain": [
       "(77544, 11)"
      ]
     },
     "execution_count": 9,
     "metadata": {},
     "output_type": "execute_result"
    }
   ],
   "source": [
    "data_1.shape"
   ]
  },
  {
   "cell_type": "code",
   "execution_count": 10,
   "metadata": {},
   "outputs": [
    {
     "data": {
      "text/plain": [
       "(77544, 9)"
      ]
     },
     "execution_count": 10,
     "metadata": {},
     "output_type": "execute_result"
    }
   ],
   "source": [
    "data_2.shape"
   ]
  },
  {
   "cell_type": "markdown",
   "metadata": {},
   "source": [
    "Lets check the null values and datat types for the variables if they are correctly specified"
   ]
  },
  {
   "cell_type": "code",
   "execution_count": 11,
   "metadata": {},
   "outputs": [
    {
     "name": "stdout",
     "output_type": "stream",
     "text": [
      "<class 'pandas.core.frame.DataFrame'>\n",
      "RangeIndex: 77544 entries, 0 to 77543\n",
      "Data columns (total 11 columns):\n",
      " #   Column            Non-Null Count  Dtype  \n",
      "---  ------            --------------  -----  \n",
      " 0   Duration_minutes  77544 non-null  float64\n",
      " 1   Country           77544 non-null  object \n",
      " 2   State             77544 non-null  object \n",
      " 3   City              77544 non-null  object \n",
      " 4   Year              77544 non-null  int64  \n",
      " 5   Month             77544 non-null  int64  \n",
      " 6   sh                77544 non-null  object \n",
      " 7   lat               77544 non-null  float64\n",
      " 8   long              77544 non-null  float64\n",
      " 9   Day               77544 non-null  int64  \n",
      " 10  Hour              77544 non-null  int64  \n",
      "dtypes: float64(3), int64(4), object(4)\n",
      "memory usage: 6.5+ MB\n"
     ]
    }
   ],
   "source": [
    "data_1.info()"
   ]
  },
  {
   "cell_type": "code",
   "execution_count": 12,
   "metadata": {},
   "outputs": [
    {
     "name": "stdout",
     "output_type": "stream",
     "text": [
      "<class 'pandas.core.frame.DataFrame'>\n",
      "RangeIndex: 77544 entries, 0 to 77543\n",
      "Data columns (total 9 columns):\n",
      " #   Column            Non-Null Count  Dtype  \n",
      "---  ------            --------------  -----  \n",
      " 0   Duration_minutes  77544 non-null  float64\n",
      " 1   Country           77544 non-null  object \n",
      " 2   Year              77544 non-null  int64  \n",
      " 3   Month             77544 non-null  int64  \n",
      " 4   sh                77544 non-null  object \n",
      " 5   lat               77544 non-null  float64\n",
      " 6   long              77544 non-null  float64\n",
      " 7   Day               77544 non-null  int64  \n",
      " 8   Hour              77544 non-null  int64  \n",
      "dtypes: float64(3), int64(4), object(2)\n",
      "memory usage: 5.3+ MB\n"
     ]
    }
   ],
   "source": [
    "data_2.info()"
   ]
  },
  {
   "cell_type": "markdown",
   "metadata": {},
   "source": [
    "Running describe function to get a summary of the numerical features"
   ]
  },
  {
   "cell_type": "code",
   "execution_count": 13,
   "metadata": {},
   "outputs": [
    {
     "data": {
      "text/html": [
       "<div>\n",
       "<style scoped>\n",
       "    .dataframe tbody tr th:only-of-type {\n",
       "        vertical-align: middle;\n",
       "    }\n",
       "\n",
       "    .dataframe tbody tr th {\n",
       "        vertical-align: top;\n",
       "    }\n",
       "\n",
       "    .dataframe thead th {\n",
       "        text-align: right;\n",
       "    }\n",
       "</style>\n",
       "<table border=\"1\" class=\"dataframe\">\n",
       "  <thead>\n",
       "    <tr style=\"text-align: right;\">\n",
       "      <th></th>\n",
       "      <th>Duration_minutes</th>\n",
       "      <th>Year</th>\n",
       "      <th>Month</th>\n",
       "      <th>lat</th>\n",
       "      <th>long</th>\n",
       "      <th>Day</th>\n",
       "      <th>Hour</th>\n",
       "    </tr>\n",
       "  </thead>\n",
       "  <tbody>\n",
       "    <tr>\n",
       "      <th>count</th>\n",
       "      <td>77544.000000</td>\n",
       "      <td>77544.000000</td>\n",
       "      <td>77544.000000</td>\n",
       "      <td>77544.000000</td>\n",
       "      <td>77544.000000</td>\n",
       "      <td>77544.000000</td>\n",
       "      <td>77544.000000</td>\n",
       "    </tr>\n",
       "    <tr>\n",
       "      <th>mean</th>\n",
       "      <td>15.064775</td>\n",
       "      <td>2003.865483</td>\n",
       "      <td>6.846023</td>\n",
       "      <td>37.493601</td>\n",
       "      <td>-85.365670</td>\n",
       "      <td>15.011581</td>\n",
       "      <td>15.681368</td>\n",
       "    </tr>\n",
       "    <tr>\n",
       "      <th>std</th>\n",
       "      <td>72.835275</td>\n",
       "      <td>10.474986</td>\n",
       "      <td>3.234539</td>\n",
       "      <td>11.420374</td>\n",
       "      <td>40.702674</td>\n",
       "      <td>8.908286</td>\n",
       "      <td>7.640320</td>\n",
       "    </tr>\n",
       "    <tr>\n",
       "      <th>min</th>\n",
       "      <td>0.000000</td>\n",
       "      <td>1910.000000</td>\n",
       "      <td>1.000000</td>\n",
       "      <td>-82.862752</td>\n",
       "      <td>-173.985008</td>\n",
       "      <td>1.000000</td>\n",
       "      <td>0.000000</td>\n",
       "    </tr>\n",
       "    <tr>\n",
       "      <th>25%</th>\n",
       "      <td>0.500000</td>\n",
       "      <td>2001.000000</td>\n",
       "      <td>4.000000</td>\n",
       "      <td>34.052222</td>\n",
       "      <td>-112.046944</td>\n",
       "      <td>7.000000</td>\n",
       "      <td>11.000000</td>\n",
       "    </tr>\n",
       "    <tr>\n",
       "      <th>50%</th>\n",
       "      <td>3.000000</td>\n",
       "      <td>2006.000000</td>\n",
       "      <td>7.000000</td>\n",
       "      <td>39.219167</td>\n",
       "      <td>-87.671528</td>\n",
       "      <td>15.000000</td>\n",
       "      <td>19.000000</td>\n",
       "    </tr>\n",
       "    <tr>\n",
       "      <th>75%</th>\n",
       "      <td>10.000000</td>\n",
       "      <td>2011.000000</td>\n",
       "      <td>9.000000</td>\n",
       "      <td>42.679167</td>\n",
       "      <td>-77.915833</td>\n",
       "      <td>22.000000</td>\n",
       "      <td>21.000000</td>\n",
       "    </tr>\n",
       "    <tr>\n",
       "      <th>max</th>\n",
       "      <td>5760.000000</td>\n",
       "      <td>2014.000000</td>\n",
       "      <td>12.000000</td>\n",
       "      <td>72.700000</td>\n",
       "      <td>178.441900</td>\n",
       "      <td>31.000000</td>\n",
       "      <td>23.000000</td>\n",
       "    </tr>\n",
       "  </tbody>\n",
       "</table>\n",
       "</div>"
      ],
      "text/plain": [
       "       Duration_minutes          Year         Month           lat  \\\n",
       "count      77544.000000  77544.000000  77544.000000  77544.000000   \n",
       "mean          15.064775   2003.865483      6.846023     37.493601   \n",
       "std           72.835275     10.474986      3.234539     11.420374   \n",
       "min            0.000000   1910.000000      1.000000    -82.862752   \n",
       "25%            0.500000   2001.000000      4.000000     34.052222   \n",
       "50%            3.000000   2006.000000      7.000000     39.219167   \n",
       "75%           10.000000   2011.000000      9.000000     42.679167   \n",
       "max         5760.000000   2014.000000     12.000000     72.700000   \n",
       "\n",
       "               long           Day          Hour  \n",
       "count  77544.000000  77544.000000  77544.000000  \n",
       "mean     -85.365670     15.011581     15.681368  \n",
       "std       40.702674      8.908286      7.640320  \n",
       "min     -173.985008      1.000000      0.000000  \n",
       "25%     -112.046944      7.000000     11.000000  \n",
       "50%      -87.671528     15.000000     19.000000  \n",
       "75%      -77.915833     22.000000     21.000000  \n",
       "max      178.441900     31.000000     23.000000  "
      ]
     },
     "execution_count": 13,
     "metadata": {},
     "output_type": "execute_result"
    }
   ],
   "source": [
    "data_1.describe()"
   ]
  },
  {
   "cell_type": "markdown",
   "metadata": {},
   "source": [
    "In Dataset 1, we have four cateforical features i.e Country, State, City, Shape while in Datset 2 we have 2 categorical features i.e Country and Shape.\n",
    "\n",
    "As per the preprocessing done in the previous notebook, Our categorical columns have following unique values\n",
    "\n",
    "    * Country  - 10 \n",
    "    * State - 796\n",
    "    * City - >10000\n",
    "    * Shape - 28\n",
    "\n",
    "In few steps below we have encoded our categorical variables as to have all numerical features for regression modelling"
   ]
  },
  {
   "cell_type": "markdown",
   "metadata": {},
   "source": [
    "Since we have to convert aur categorical features into numerical for regressiona models, encoding for categorical features is performed below\n",
    "\n",
    "* I have used two encoding techniques - Binary Encoding for the original dataset and Ordinal encoding for the second dataset"
   ]
  },
  {
   "cell_type": "markdown",
   "metadata": {},
   "source": [
    "### 5.5.1 Dataset 1<a id='5.5.1_Dataset_1'></a>"
   ]
  },
  {
   "cell_type": "code",
   "execution_count": 15,
   "metadata": {},
   "outputs": [
    {
     "name": "stderr",
     "output_type": "stream",
     "text": [
      "D:\\Anacon\\lib\\site-packages\\category_encoders\\utils.py:21: FutureWarning: is_categorical is deprecated and will be removed in a future version.  Use is_categorical_dtype instead\n",
      "  elif pd.api.types.is_categorical(cols):\n"
     ]
    }
   ],
   "source": [
    "X_1 = data_1[['Country','State','City','Year','Month','sh','lat','long','Day','Hour']]\n",
    "y_1 = data_1['Duration_minutes']\n",
    "\n",
    "ce_Bin = ce.BinaryEncoder(cols=['Country', 'sh','City','State'])\n",
    "\n",
    "X_1 = ce_Bin.fit_transform(X_1)"
   ]
  },
  {
   "cell_type": "code",
   "execution_count": 16,
   "metadata": {},
   "outputs": [
    {
     "data": {
      "text/plain": [
       "(77544, 43)"
      ]
     },
     "execution_count": 16,
     "metadata": {},
     "output_type": "execute_result"
    }
   ],
   "source": [
    "X_1.shape"
   ]
  },
  {
   "cell_type": "markdown",
   "metadata": {},
   "source": [
    "After using Binary encoding or original data, Because Of State and City columns which have a lot of unique values,\n",
    "we have 43 columns and 77544 rows"
   ]
  },
  {
   "cell_type": "markdown",
   "metadata": {},
   "source": [
    "### 5.5.2 Dataset 2<a id='5.5.2_Dataset_2'></a>"
   ]
  },
  {
   "cell_type": "code",
   "execution_count": 17,
   "metadata": {},
   "outputs": [
    {
     "name": "stderr",
     "output_type": "stream",
     "text": [
      "D:\\Anacon\\lib\\site-packages\\category_encoders\\utils.py:21: FutureWarning: is_categorical is deprecated and will be removed in a future version.  Use is_categorical_dtype instead\n",
      "  elif pd.api.types.is_categorical(cols):\n"
     ]
    }
   ],
   "source": [
    "X_2 = data_2[['Country','Year','Month','sh','lat','long','Day','Hour']]\n",
    "y_2 = data_2['Duration_minutes']\n",
    "\n",
    "ce_ordinal = ce.OrdinalEncoder(cols = ['Country', 'sh'])\n",
    "\n",
    "X_2 = ce_ordinal.fit_transform(X_2)"
   ]
  },
  {
   "cell_type": "code",
   "execution_count": 18,
   "metadata": {},
   "outputs": [
    {
     "data": {
      "text/html": [
       "<div>\n",
       "<style scoped>\n",
       "    .dataframe tbody tr th:only-of-type {\n",
       "        vertical-align: middle;\n",
       "    }\n",
       "\n",
       "    .dataframe tbody tr th {\n",
       "        vertical-align: top;\n",
       "    }\n",
       "\n",
       "    .dataframe thead th {\n",
       "        text-align: right;\n",
       "    }\n",
       "</style>\n",
       "<table border=\"1\" class=\"dataframe\">\n",
       "  <thead>\n",
       "    <tr style=\"text-align: right;\">\n",
       "      <th></th>\n",
       "      <th>Country</th>\n",
       "      <th>Year</th>\n",
       "      <th>Month</th>\n",
       "      <th>sh</th>\n",
       "      <th>lat</th>\n",
       "      <th>long</th>\n",
       "      <th>Day</th>\n",
       "      <th>Hour</th>\n",
       "    </tr>\n",
       "  </thead>\n",
       "  <tbody>\n",
       "    <tr>\n",
       "      <th>0</th>\n",
       "      <td>1</td>\n",
       "      <td>1949</td>\n",
       "      <td>10</td>\n",
       "      <td>1</td>\n",
       "      <td>29.883056</td>\n",
       "      <td>-97.941111</td>\n",
       "      <td>10</td>\n",
       "      <td>20</td>\n",
       "    </tr>\n",
       "    <tr>\n",
       "      <th>1</th>\n",
       "      <td>1</td>\n",
       "      <td>1949</td>\n",
       "      <td>10</td>\n",
       "      <td>2</td>\n",
       "      <td>29.384210</td>\n",
       "      <td>-98.581082</td>\n",
       "      <td>10</td>\n",
       "      <td>21</td>\n",
       "    </tr>\n",
       "    <tr>\n",
       "      <th>2</th>\n",
       "      <td>2</td>\n",
       "      <td>1955</td>\n",
       "      <td>10</td>\n",
       "      <td>3</td>\n",
       "      <td>53.200000</td>\n",
       "      <td>-2.916667</td>\n",
       "      <td>10</td>\n",
       "      <td>17</td>\n",
       "    </tr>\n",
       "    <tr>\n",
       "      <th>3</th>\n",
       "      <td>1</td>\n",
       "      <td>1956</td>\n",
       "      <td>10</td>\n",
       "      <td>3</td>\n",
       "      <td>28.978333</td>\n",
       "      <td>-96.645833</td>\n",
       "      <td>10</td>\n",
       "      <td>21</td>\n",
       "    </tr>\n",
       "    <tr>\n",
       "      <th>4</th>\n",
       "      <td>1</td>\n",
       "      <td>1960</td>\n",
       "      <td>10</td>\n",
       "      <td>2</td>\n",
       "      <td>21.418056</td>\n",
       "      <td>-157.803611</td>\n",
       "      <td>10</td>\n",
       "      <td>20</td>\n",
       "    </tr>\n",
       "  </tbody>\n",
       "</table>\n",
       "</div>"
      ],
      "text/plain": [
       "   Country  Year  Month  sh        lat        long  Day  Hour\n",
       "0        1  1949     10   1  29.883056  -97.941111   10    20\n",
       "1        1  1949     10   2  29.384210  -98.581082   10    21\n",
       "2        2  1955     10   3  53.200000   -2.916667   10    17\n",
       "3        1  1956     10   3  28.978333  -96.645833   10    21\n",
       "4        1  1960     10   2  21.418056 -157.803611   10    20"
      ]
     },
     "execution_count": 18,
     "metadata": {},
     "output_type": "execute_result"
    }
   ],
   "source": [
    "X_2.head()"
   ]
  },
  {
   "cell_type": "code",
   "execution_count": 19,
   "metadata": {},
   "outputs": [
    {
     "data": {
      "text/plain": [
       "(77544, 8)"
      ]
     },
     "execution_count": 19,
     "metadata": {},
     "output_type": "execute_result"
    }
   ],
   "source": [
    "X_2.shape"
   ]
  },
  {
   "cell_type": "markdown",
   "metadata": {},
   "source": [
    "## 5.6 Splitting Data<a id='5.6_Splitting_Data'></a>"
   ]
  },
  {
   "cell_type": "code",
   "execution_count": 20,
   "metadata": {},
   "outputs": [],
   "source": [
    "X_1_train, X_1_test, y_1_train, y_1_test = train_test_split(X_1, y_1, test_size = .25, random_state = 40)"
   ]
  },
  {
   "cell_type": "code",
   "execution_count": 21,
   "metadata": {},
   "outputs": [],
   "source": [
    "X_2_train, X_2_test, y_2_train, y_2_test = train_test_split(X_2, y_2, test_size = .25, random_state = 40)"
   ]
  },
  {
   "cell_type": "markdown",
   "metadata": {},
   "source": [
    "<b> Correlation Matrix to find coefficient of correlation between the independent features</b>"
   ]
  },
  {
   "cell_type": "code",
   "execution_count": 22,
   "metadata": {},
   "outputs": [
    {
     "data": {
      "text/plain": [
       "<AxesSubplot:>"
      ]
     },
     "execution_count": 22,
     "metadata": {},
     "output_type": "execute_result"
    },
    {
     "data": {
      "image/png": "[encoded data removed]",
      "text/plain": [
       "<Figure size 1440x720 with 2 Axes>"
      ]
     },
     "metadata": {
      "needs_background": "light"
     },
     "output_type": "display_data"
    }
   ],
   "source": [
    "corr_mat=data_2.corr(method='pearson')\n",
    "plt.figure(figsize=(20,10))\n",
    "sns.heatmap(corr_mat,vmax=1,square=True,annot=True,cmap='cubehelix')\n"
   ]
  },
  {
   "cell_type": "code",
   "execution_count": 23,
   "metadata": {},
   "outputs": [
    {
     "data": {
      "text/plain": [
       "<AxesSubplot:>"
      ]
     },
     "execution_count": 23,
     "metadata": {},
     "output_type": "execute_result"
    },
    {
     "data": {
      "image/png": "[encoded data removed]",
      "text/plain": [
       "<Figure size 1440x720 with 2 Axes>"
      ]
     },
     "metadata": {
      "needs_background": "light"
     },
     "output_type": "display_data"
    }
   ],
   "source": [
    "corr_mat1=X_2.corr(method='pearson')\n",
    "plt.figure(figsize=(20,10))\n",
    "sns.heatmap(corr_mat1,vmax=1,square=True,annot=True,cmap='cubehelix')\n"
   ]
  },
  {
   "cell_type": "markdown",
   "metadata": {},
   "source": [
    "As seen above, \n",
    "In first matrix  -  there is not much correlation between the features and also the target variable doesn;t have any strong correlation with the independent variables\n",
    "\n",
    "Second Matrix - Is the encoded matrix , again not much correlation between the features"
   ]
  },
  {
   "cell_type": "markdown",
   "metadata": {},
   "source": [
    "### 5.6.1 Scaling data<a id='5.6.1_Scaling_data'></a>"
   ]
  },
  {
   "cell_type": "markdown",
   "metadata": {},
   "source": [
    "Scaling data to see if it affects our modelling in improving "
   ]
  },
  {
   "cell_type": "code",
   "execution_count": 24,
   "metadata": {},
   "outputs": [],
   "source": [
    "X_2_std = StandardScaler().fit_transform(X_2)"
   ]
  },
  {
   "cell_type": "code",
   "execution_count": 25,
   "metadata": {},
   "outputs": [],
   "source": [
    "X_2_std_train, X_2_std_test, y_2_train, y_2_test = train_test_split(X_2_std, y_2, test_size = .25, random_state = 40)"
   ]
  },
  {
   "cell_type": "markdown",
   "metadata": {},
   "source": [
    "## 5.7 Training Models<a id='5.7_Training_Models'></a>"
   ]
  },
  {
   "cell_type": "markdown",
   "metadata": {},
   "source": [
    "First Model to train is the Multiple Linear regression withoput any regulaization, Here I am using second dataset to train and predict for my test set. Metrics being used are RMSE & R2"
   ]
  },
  {
   "cell_type": "markdown",
   "metadata": {},
   "source": [
    "### 5.7.1 Linear Regression<a id='5.7.1_Linear_Regression'></a>"
   ]
  },
  {
   "cell_type": "code",
   "execution_count": 26,
   "metadata": {},
   "outputs": [],
   "source": [
    "model_1=linear_model.LinearRegression()\n",
    "model_1.fit(X_2_train,y_2_train)\n",
    "y_2_predict=model_1.predict(X_2_test)"
   ]
  },
  {
   "cell_type": "code",
   "execution_count": 27,
   "metadata": {},
   "outputs": [
    {
     "data": {
      "text/plain": [
       "86.53263474135665"
      ]
     },
     "execution_count": 27,
     "metadata": {},
     "output_type": "execute_result"
    }
   ],
   "source": [
    "np.sqrt(mean_squared_error(y_2_test, y_2_predict))"
   ]
  },
  {
   "cell_type": "code",
   "execution_count": 29,
   "metadata": {},
   "outputs": [
    {
     "data": {
      "text/plain": [
       "0.0020077443091892633"
      ]
     },
     "execution_count": 29,
     "metadata": {},
     "output_type": "execute_result"
    }
   ],
   "source": [
    "r2_score(y_2_test, y_2_predict)"
   ]
  },
  {
   "cell_type": "code",
   "execution_count": 30,
   "metadata": {},
   "outputs": [
    {
     "data": {
      "text/plain": [
       "Country    0.466328\n",
       "Year      -0.202387\n",
       "Month      0.058864\n",
       "sh        -0.124371\n",
       "lat       -0.053458\n",
       "long      -0.032195\n",
       "Day        0.027042\n",
       "Hour      -0.179296\n",
       "dtype: float64"
      ]
     },
     "execution_count": 30,
     "metadata": {},
     "output_type": "execute_result"
    }
   ],
   "source": [
    "params = pd.Series(model_1.coef_, index=X_2_train.columns)\n",
    "params"
   ]
  },
  {
   "cell_type": "code",
   "execution_count": 31,
   "metadata": {},
   "outputs": [
    {
     "data": {
      "text/plain": [
       "421.905359616978"
      ]
     },
     "execution_count": 31,
     "metadata": {},
     "output_type": "execute_result"
    }
   ],
   "source": [
    "model_1.intercept_"
   ]
  },
  {
   "cell_type": "markdown",
   "metadata": {},
   "source": [
    "AS seen above running normal multiple linear regression, gives RMSE of 86.53 Minuetes and r2 score of .002007. Except Country, Month and Day, rest all the features are negatively correlated with the target variable. Intercept seems to high at 421 Minutes\n",
    "Lets check the residual plot"
   ]
  },
  {
   "cell_type": "code",
   "execution_count": 33,
   "metadata": {},
   "outputs": [
    {
     "data": {
      "text/plain": [
       "Text(0.5, 1.0, 'Residual plot in Linear Regression')"
      ]
     },
     "execution_count": 33,
     "metadata": {},
     "output_type": "execute_result"
    },
    {
     "data": {
      "image/png": "[encoded data removed]",
      "text/plain": [
       "<Figure size 432x288 with 1 Axes>"
      ]
     },
     "metadata": {
      "needs_background": "light"
     },
     "output_type": "display_data"
    }
   ],
   "source": [
    "preds = pd.DataFrame({\"preds\":model_1.predict(X_2_train), \"true\":y_2_train})\n",
    "preds[\"residuals\"] = preds[\"true\"] - preds[\"preds\"]\n",
    "preds.plot(x = \"preds\", y = \"residuals\",kind = \"scatter\")\n",
    "plt.title(\"Residual plot in Linear Regression\")"
   ]
  },
  {
   "cell_type": "markdown",
   "metadata": {},
   "source": [
    "It can be observed there are quite a few outliers as seen above but most of the residuals are almost near 0. Lets run teh regression on scaled data"
   ]
  },
  {
   "cell_type": "markdown",
   "metadata": {},
   "source": [
    "#### 5.7.1.1 OLS on Scaled data<a id='5.7.1.1_OLS_on_Scaled_data'></a>"
   ]
  },
  {
   "cell_type": "code",
   "execution_count": 34,
   "metadata": {},
   "outputs": [],
   "source": [
    "model_std=linear_model.LinearRegression()\n",
    "model_std.fit(X_2_std_train,y_2_train)\n",
    "y_2_pred=model_std.predict(X_2_std_test)"
   ]
  },
  {
   "cell_type": "code",
   "execution_count": 35,
   "metadata": {},
   "outputs": [
    {
     "data": {
      "text/plain": [
       "86.53263474135665"
      ]
     },
     "execution_count": 35,
     "metadata": {},
     "output_type": "execute_result"
    }
   ],
   "source": [
    "np.sqrt(mean_squared_error(y_2_test, y_2_pred))"
   ]
  },
  {
   "cell_type": "code",
   "execution_count": 36,
   "metadata": {},
   "outputs": [
    {
     "data": {
      "text/plain": [
       "0.0020077443091892633"
      ]
     },
     "execution_count": 36,
     "metadata": {},
     "output_type": "execute_result"
    }
   ],
   "source": [
    "r2_score(y_2_test, y_2_pred)"
   ]
  },
  {
   "cell_type": "code",
   "execution_count": 38,
   "metadata": {},
   "outputs": [
    {
     "data": {
      "text/plain": [
       "14.806424131134227"
      ]
     },
     "execution_count": 38,
     "metadata": {},
     "output_type": "execute_result"
    }
   ],
   "source": [
    "model_std.intercept_"
   ]
  },
  {
   "cell_type": "code",
   "execution_count": 37,
   "metadata": {},
   "outputs": [
    {
     "data": {
      "text/plain": [
       "Text(0.5, 1.0, 'Residual plot in Linear Regression After Scaling')"
      ]
     },
     "execution_count": 37,
     "metadata": {},
     "output_type": "execute_result"
    },
    {
     "data": {
      "image/png": "[encoded data removed]",
      "text/plain": [
       "<Figure size 432x288 with 1 Axes>"
      ]
     },
     "metadata": {
      "needs_background": "light"
     },
     "output_type": "display_data"
    }
   ],
   "source": [
    "preds = pd.DataFrame({\"preds\":model_std.predict(X_2_std_train), \"true\":y_2_train})\n",
    "preds[\"residuals\"] = preds[\"true\"] - preds[\"preds\"]\n",
    "preds.plot(x = \"preds\", y = \"residuals\",kind = \"scatter\")\n",
    "plt.title(\"Residual plot in Linear Regression After Scaling\")"
   ]
  },
  {
   "cell_type": "markdown",
   "metadata": {},
   "source": [
    "Nothing much has changed after scaling, result is same except the intercept is now 14 minutes but RMSE is same as before 86 minutes, not much differnce"
   ]
  },
  {
   "cell_type": "markdown",
   "metadata": {},
   "source": [
    "Lets try regression with reqularization "
   ]
  },
  {
   "cell_type": "markdown",
   "metadata": {},
   "source": [
    "### 5.7.2 Lasso Regression<a id='5.7.2Lasso_Regression'></a>"
   ]
  },
  {
   "cell_type": "code",
   "execution_count": 47,
   "metadata": {},
   "outputs": [],
   "source": [
    "model_ls=linear_model.Lasso(alpha = 1)\n",
    "model_ls.fit(X_2_train,y_2_train)\n",
    "y_2_pred=model_ls.predict(X_2_test)"
   ]
  },
  {
   "cell_type": "code",
   "execution_count": 48,
   "metadata": {},
   "outputs": [
    {
     "data": {
      "text/plain": [
       "86.5333285985083"
      ]
     },
     "execution_count": 48,
     "metadata": {},
     "output_type": "execute_result"
    }
   ],
   "source": [
    "np.sqrt(mean_squared_error(y_2_test, y_2_pred))"
   ]
  },
  {
   "cell_type": "code",
   "execution_count": 49,
   "metadata": {},
   "outputs": [
    {
     "data": {
      "text/plain": [
       "67.55876295532676"
      ]
     },
     "execution_count": 49,
     "metadata": {},
     "output_type": "execute_result"
    }
   ],
   "source": [
    "np.sqrt(mean_squared_error(y_2_train, model_ls.predict(X_2_train)))"
   ]
  },
  {
   "cell_type": "code",
   "execution_count": 50,
   "metadata": {
    "scrolled": true
   },
   "outputs": [
    {
     "data": {
      "text/plain": [
       "0.0019917395534755356"
      ]
     },
     "execution_count": 50,
     "metadata": {},
     "output_type": "execute_result"
    }
   ],
   "source": [
    "r2_score(y_2_test, y_2_pred)"
   ]
  },
  {
   "cell_type": "code",
   "execution_count": 51,
   "metadata": {},
   "outputs": [
    {
     "data": {
      "text/plain": [
       "Country    0.000000\n",
       "Year      -0.194176\n",
       "Month      0.000000\n",
       "sh        -0.094793\n",
       "lat       -0.043087\n",
       "long      -0.023036\n",
       "Day        0.014643\n",
       "Hour      -0.162816\n",
       "dtype: float64"
      ]
     },
     "execution_count": 51,
     "metadata": {},
     "output_type": "execute_result"
    }
   ],
   "source": [
    "params = pd.Series(model_ls.coef_, index=X_2_train.columns)\n",
    "params"
   ]
  },
  {
   "cell_type": "code",
   "execution_count": 52,
   "metadata": {},
   "outputs": [
    {
     "data": {
      "text/plain": [
       "406.60368180489087"
      ]
     },
     "execution_count": 52,
     "metadata": {},
     "output_type": "execute_result"
    }
   ],
   "source": [
    "model_ls.intercept_"
   ]
  },
  {
   "cell_type": "code",
   "execution_count": 54,
   "metadata": {},
   "outputs": [
    {
     "data": {
      "text/plain": [
       "Text(0.5, 1.0, 'Residual plot in Lasso Regression')"
      ]
     },
     "execution_count": 54,
     "metadata": {},
     "output_type": "execute_result"
    },
    {
     "data": {
      "image/png": "[encoded data removed]",
      "text/plain": [
       "<Figure size 432x288 with 1 Axes>"
      ]
     },
     "metadata": {
      "needs_background": "light"
     },
     "output_type": "display_data"
    }
   ],
   "source": [
    "preds = pd.DataFrame({\"preds\":model_ls.predict(X_2_train), \"true\":y_2_train})\n",
    "preds[\"residuals\"] = preds[\"true\"] - preds[\"preds\"]\n",
    "preds.plot(x = \"preds\", y = \"residuals\",kind = \"scatter\")\n",
    "plt.title(\"Residual plot in Lasso Regression\")"
   ]
  },
  {
   "cell_type": "markdown",
   "metadata": {},
   "source": [
    "Running Lasso regression with Alpha being 1.0 , RMSE is still same around 86.5 minutes whicle intercept has come low to 406.6, not much change in The Lasso Residual Plot. Lets Try Lasso on Scaled data"
   ]
  },
  {
   "cell_type": "markdown",
   "metadata": {},
   "source": [
    "#### 5.7.2.1 Lasso on Scaled data<a id='5.7.2.1_Lasso_on_Scaled_data'></a>"
   ]
  },
  {
   "cell_type": "code",
   "execution_count": 55,
   "metadata": {},
   "outputs": [],
   "source": [
    "model_ls.fit(X_2_std_train,y_2_train)\n",
    "y_2_pred=model_ls.predict(X_2_std_test)"
   ]
  },
  {
   "cell_type": "code",
   "execution_count": 56,
   "metadata": {},
   "outputs": [
    {
     "data": {
      "text/plain": [
       "86.57709990848402"
      ]
     },
     "execution_count": 56,
     "metadata": {},
     "output_type": "execute_result"
    }
   ],
   "source": [
    "np.sqrt(mean_squared_error(y_2_test, y_2_pred))"
   ]
  },
  {
   "cell_type": "code",
   "execution_count": 57,
   "metadata": {},
   "outputs": [
    {
     "data": {
      "text/plain": [
       "0.0009818355535958778"
      ]
     },
     "execution_count": 57,
     "metadata": {},
     "output_type": "execute_result"
    }
   ],
   "source": [
    "r2_score(y_2_test, y_2_pred)"
   ]
  },
  {
   "cell_type": "code",
   "execution_count": 58,
   "metadata": {},
   "outputs": [
    {
     "data": {
      "text/plain": [
       "0.0009722522931218114"
      ]
     },
     "execution_count": 58,
     "metadata": {},
     "output_type": "execute_result"
    }
   ],
   "source": [
    "model_ls.score(X_2_std_train, y_2_train)"
   ]
  },
  {
   "cell_type": "markdown",
   "metadata": {},
   "source": [
    "Runnig Lasso regression on Scaled Data has brought dorn the r2 score to .00098but not much difference in terms of RMSE"
   ]
  },
  {
   "cell_type": "markdown",
   "metadata": {},
   "source": [
    "### 5.7.3 Bayesian Ridge Regression<a id='5.7.3_Bayesian_Ridge_Regression'></a>"
   ]
  },
  {
   "cell_type": "code",
   "execution_count": 60,
   "metadata": {},
   "outputs": [],
   "source": [
    "model_br=linear_model.BayesianRidge()\n",
    "model_br.fit(X_2_train,y_2_train)\n",
    "y_2_pred=model_br.predict(X_2_test)"
   ]
  },
  {
   "cell_type": "code",
   "execution_count": 61,
   "metadata": {},
   "outputs": [
    {
     "data": {
      "text/plain": [
       "86.53264157724313"
      ]
     },
     "execution_count": 61,
     "metadata": {},
     "output_type": "execute_result"
    }
   ],
   "source": [
    "np.sqrt(mean_squared_error(y_2_test, y_2_pred))"
   ]
  },
  {
   "cell_type": "code",
   "execution_count": 63,
   "metadata": {
    "scrolled": true
   },
   "outputs": [
    {
     "data": {
      "text/plain": [
       "0.0020075866308275625"
      ]
     },
     "execution_count": 63,
     "metadata": {},
     "output_type": "execute_result"
    }
   ],
   "source": [
    "r2_score(y_2_test, y_2_pred)"
   ]
  },
  {
   "cell_type": "code",
   "execution_count": 64,
   "metadata": {},
   "outputs": [
    {
     "data": {
      "text/plain": [
       "Country    0.072271\n",
       "Year      -0.193245\n",
       "Month      0.036546\n",
       "sh        -0.105906\n",
       "lat       -0.051177\n",
       "long      -0.025638\n",
       "Day        0.024845\n",
       "Hour      -0.163984\n",
       "dtype: float64"
      ]
     },
     "execution_count": 64,
     "metadata": {},
     "output_type": "execute_result"
    }
   ],
   "source": [
    "params = pd.Series(model_br.coef_, index=X_2_train.columns)\n",
    "params"
   ]
  },
  {
   "cell_type": "code",
   "execution_count": 65,
   "metadata": {},
   "outputs": [
    {
     "data": {
      "text/plain": [
       "404.41767084669715"
      ]
     },
     "execution_count": 65,
     "metadata": {},
     "output_type": "execute_result"
    }
   ],
   "source": [
    "model_br.intercept_"
   ]
  },
  {
   "cell_type": "code",
   "execution_count": 90,
   "metadata": {},
   "outputs": [
    {
     "data": {
      "text/plain": [
       "Text(0.5, 1.0, 'Residual plot in Bayesian RIdge Regression')"
      ]
     },
     "execution_count": 90,
     "metadata": {},
     "output_type": "execute_result"
    },
    {
     "data": {
      "image/png": "[encoded data removed]",
      "text/plain": [
       "<Figure size 432x288 with 1 Axes>"
      ]
     },
     "metadata": {
      "needs_background": "light"
     },
     "output_type": "display_data"
    }
   ],
   "source": [
    "preds = pd.DataFrame({\"preds\":model_br.predict(X_2_train), \"true\":y_2_train})\n",
    "preds[\"residuals\"] = preds[\"true\"] - preds[\"preds\"]\n",
    "preds.plot(x = \"preds\", y = \"residuals\",kind = \"scatter\")\n",
    "plt.title(\"Residual plot in Bayesian RIdge Regression\")"
   ]
  },
  {
   "cell_type": "markdown",
   "metadata": {},
   "source": [
    "Running Bayesian Ridge Also doesn't changes RMSE and R2 score again climbs up with intercept a bit down to 404. Running on Scaled data below"
   ]
  },
  {
   "cell_type": "markdown",
   "metadata": {},
   "source": [
    "#### 5.7.3.1 Bayesian Ridge on Scaled data<a id='5.7.3.1_Bayesian_Ridge_on_Scaled_data'></a>"
   ]
  },
  {
   "cell_type": "code",
   "execution_count": 67,
   "metadata": {},
   "outputs": [],
   "source": [
    "model_br.fit(X_2_std_train,y_2_train)\n",
    "y_2_pred=model_br.predict(X_2_std_test)"
   ]
  },
  {
   "cell_type": "code",
   "execution_count": 68,
   "metadata": {},
   "outputs": [
    {
     "data": {
      "text/plain": [
       "86.53542148514322"
      ]
     },
     "execution_count": 68,
     "metadata": {},
     "output_type": "execute_result"
    }
   ],
   "source": [
    "np.sqrt(mean_squared_error(y_2_test, y_2_pred))"
   ]
  },
  {
   "cell_type": "code",
   "execution_count": 69,
   "metadata": {},
   "outputs": [
    {
     "data": {
      "text/plain": [
       "0.001943463509032961"
      ]
     },
     "execution_count": 69,
     "metadata": {},
     "output_type": "execute_result"
    }
   ],
   "source": [
    "r2_score(y_2_test, y_2_pred)"
   ]
  },
  {
   "cell_type": "code",
   "execution_count": 89,
   "metadata": {},
   "outputs": [
    {
     "data": {
      "text/plain": [
       "Text(0.5, 1.0, 'Residual plot in Bayesian RIdge Regression')"
      ]
     },
     "execution_count": 89,
     "metadata": {},
     "output_type": "execute_result"
    },
    {
     "data": {
      "image/png": "[encoded data removed]",
      "text/plain": [
       "<Figure size 432x288 with 1 Axes>"
      ]
     },
     "metadata": {
      "needs_background": "light"
     },
     "output_type": "display_data"
    }
   ],
   "source": [
    "preds = pd.DataFrame({\"preds\":model_br.predict(X_2_std_train), \"true\":y_2_train})\n",
    "preds[\"residuals\"] = preds[\"true\"] - preds[\"preds\"]\n",
    "preds.plot(x = \"preds\", y = \"residuals\",kind = \"scatter\")\n",
    "plt.title(\"Residual plot in Bayesian RIdge Regression\")"
   ]
  },
  {
   "cell_type": "markdown",
   "metadata": {},
   "source": [
    "Nothing much has changed in terms of RMSE but R2 has come down a bit"
   ]
  },
  {
   "cell_type": "markdown",
   "metadata": {},
   "source": [
    "### 5.7.4 SGD Regression<a id='5.7.4_SGD_Regression'></a>"
   ]
  },
  {
   "cell_type": "code",
   "execution_count": 71,
   "metadata": {},
   "outputs": [],
   "source": [
    "from sklearn.linear_model import SGDRegressor\n",
    "\n",
    "model = SGDRegressor()"
   ]
  },
  {
   "cell_type": "code",
   "execution_count": 81,
   "metadata": {},
   "outputs": [],
   "source": [
    "model.fit(X_2_train,y_2_train)\n",
    "y_2_pred=model.predict(X_2_test)"
   ]
  },
  {
   "cell_type": "code",
   "execution_count": 82,
   "metadata": {},
   "outputs": [
    {
     "data": {
      "text/plain": [
       "935807891743486.4"
      ]
     },
     "execution_count": 82,
     "metadata": {},
     "output_type": "execute_result"
    }
   ],
   "source": [
    "np.sqrt(mean_squared_error(y_2_test, y_2_pred))"
   ]
  },
  {
   "cell_type": "code",
   "execution_count": 74,
   "metadata": {},
   "outputs": [
    {
     "data": {
      "text/plain": [
       "-2.916127247887981e+25"
      ]
     },
     "execution_count": 74,
     "metadata": {},
     "output_type": "execute_result"
    }
   ],
   "source": [
    "r2_score(y_2_test, y_2_pred)"
   ]
  },
  {
   "cell_type": "code",
   "execution_count": 83,
   "metadata": {},
   "outputs": [
    {
     "data": {
      "text/plain": [
       "Text(0.5, 1.0, 'Residual plot in SGD Regression')"
      ]
     },
     "execution_count": 83,
     "metadata": {},
     "output_type": "execute_result"
    },
    {
     "data": {
      "image/png": "[encoded data removed]",
      "text/plain": [
       "<Figure size 432x288 with 1 Axes>"
      ]
     },
     "metadata": {
      "needs_background": "light"
     },
     "output_type": "display_data"
    }
   ],
   "source": [
    "preds = pd.DataFrame({\"preds\":model.predict(X_2_train), \"true\":y_2_train})\n",
    "preds[\"residuals\"] = preds[\"true\"] - preds[\"preds\"]\n",
    "preds.plot(x = \"preds\", y = \"residuals\",kind = \"scatter\")\n",
    "plt.title(\"Residual plot in SGD Regression\")"
   ]
  },
  {
   "cell_type": "markdown",
   "metadata": {},
   "source": [
    "#### 5.7.4.1 SGD on Scaled data<a id='5.7.4.1_SGD_on_Scaled_data'></a>"
   ]
  },
  {
   "cell_type": "code",
   "execution_count": 84,
   "metadata": {},
   "outputs": [],
   "source": [
    "model.fit(X_2_std_train,y_2_train)\n",
    "y_2_pred=model.predict(X_2_std_test)"
   ]
  },
  {
   "cell_type": "code",
   "execution_count": 85,
   "metadata": {},
   "outputs": [
    {
     "data": {
      "text/plain": [
       "86.56918663779108"
      ]
     },
     "execution_count": 85,
     "metadata": {},
     "output_type": "execute_result"
    }
   ],
   "source": [
    "np.sqrt(mean_squared_error(y_2_test, y_2_pred))"
   ]
  },
  {
   "cell_type": "code",
   "execution_count": 86,
   "metadata": {},
   "outputs": [
    {
     "data": {
      "text/plain": [
       "0.0011644505842155484"
      ]
     },
     "execution_count": 86,
     "metadata": {},
     "output_type": "execute_result"
    }
   ],
   "source": [
    "r2_score(y_2_test, y_2_pred)"
   ]
  },
  {
   "cell_type": "code",
   "execution_count": 88,
   "metadata": {},
   "outputs": [
    {
     "data": {
      "text/plain": [
       "Text(0.5, 1.0, 'Residual plot in SGD Regression')"
      ]
     },
     "execution_count": 88,
     "metadata": {},
     "output_type": "execute_result"
    },
    {
     "data": {
      "image/png": "[encoded data removed]",
      "text/plain": [
       "<Figure size 432x288 with 1 Axes>"
      ]
     },
     "metadata": {
      "needs_background": "light"
     },
     "output_type": "display_data"
    }
   ],
   "source": [
    "preds = pd.DataFrame({\"preds\":model.predict(X_2_std_train), \"true\":y_2_train})\n",
    "preds[\"residuals\"] = preds[\"true\"] - preds[\"preds\"]\n",
    "preds.plot(x = \"preds\", y = \"residuals\",kind = \"scatter\")\n",
    "plt.title(\"Residual plot in SGD Regression\")"
   ]
  },
  {
   "cell_type": "markdown",
   "metadata": {},
   "source": [
    "In case of SGD Regressor, unscaled data , RMSE is way too large, but it makes some sense on sclaed data nut this regressor is giving negative r2 valeu so the model doesn't seem to br a right chocie for our problem"
   ]
  },
  {
   "cell_type": "markdown",
   "metadata": {},
   "source": [
    "### 5.7.5 Decision Tree Regression<a id='5.7.5_Decision_Tree_Regression'></a>"
   ]
  },
  {
   "cell_type": "code",
   "execution_count": 91,
   "metadata": {},
   "outputs": [],
   "source": [
    "regressor = DecisionTreeRegressor(random_state=0)\n",
    "regressor.fit(X_2_train,y_2_train)\n",
    "y_2_pred=regressor.predict(X_2_test)"
   ]
  },
  {
   "cell_type": "code",
   "execution_count": 92,
   "metadata": {},
   "outputs": [
    {
     "data": {
      "text/plain": [
       "118.7841637198628"
      ]
     },
     "execution_count": 92,
     "metadata": {},
     "output_type": "execute_result"
    }
   ],
   "source": [
    "np.sqrt(mean_squared_error(y_2_test, y_2_pred))"
   ]
  },
  {
   "cell_type": "code",
   "execution_count": 93,
   "metadata": {},
   "outputs": [
    {
     "data": {
      "text/plain": [
       "-0.8805479242516798"
      ]
     },
     "execution_count": 93,
     "metadata": {},
     "output_type": "execute_result"
    }
   ],
   "source": [
    "r2_score(y_2_test, y_2_pred)"
   ]
  },
  {
   "cell_type": "code",
   "execution_count": 94,
   "metadata": {},
   "outputs": [
    {
     "name": "stdout",
     "output_type": "stream",
     "text": [
      "2 0.0007123403855991972 0 118.7841637198628\n",
      "3 -0.015788642979444045 0.0007123403855991972 118.7841637198628\n",
      "4 -0.0012052548343661762 0.0007123403855991972 118.7841637198628\n",
      "5 -0.009265192703063141 0.0007123403855991972 118.7841637198628\n",
      "(2, 0.0007123403855991972)\n"
     ]
    }
   ],
   "source": [
    "max_reg = None\n",
    "max_score = 0  \n",
    "best_max_depth = None\n",
    "t=()\n",
    "for m in range(2, 6) :\n",
    "    rf_reg = DecisionTreeRegressor(max_depth=m)\n",
    "    rf_reg = rf_reg.fit(X_2_train, y_2_train) \n",
    "    rf_reg_score = rf_reg.score(X_2_test,y_2_test)\n",
    "    y_2_p = rf_reg.predict(X_2_test)\n",
    "    print (m, rf_reg_score ,max_score, np.sqrt(mean_squared_error(y_2_test, y_2_pred)) )\n",
    "    if rf_reg_score > max_score :\n",
    "        max_score = rf_reg_score\n",
    "        max_reg = rf_reg\n",
    "        \n",
    "        best_max_depth = rf_reg.max_depth\n",
    "        \n",
    "        t = (m,max_score) \n",
    "print (t)"
   ]
  },
  {
   "cell_type": "markdown",
   "metadata": {},
   "source": [
    "Decision Tree Regression also gives negative r2 value except when max dept is 2 it gives a positive r2 os .007 and RMSE of 118.78 minutes. As seebn below it still doesn;t offer much on sclaed data"
   ]
  },
  {
   "cell_type": "code",
   "execution_count": 99,
   "metadata": {},
   "outputs": [
    {
     "data": {
      "text/plain": [
       "Text(0.5, 1.0, 'Residual plot in Decision Tree')"
      ]
     },
     "execution_count": 99,
     "metadata": {},
     "output_type": "execute_result"
    },
    {
     "data": {
      "image/png": "[encoded data removed]",
      "text/plain": [
       "<Figure size 432x288 with 1 Axes>"
      ]
     },
     "metadata": {
      "needs_background": "light"
     },
     "output_type": "display_data"
    }
   ],
   "source": [
    "preds = pd.DataFrame({\"preds\":regressor.predict(X_2_train), \"true\":y_2_train})\n",
    "preds[\"residuals\"] = preds[\"true\"] - preds[\"preds\"]\n",
    "preds.plot(x = \"preds\", y = \"residuals\",kind = \"scatter\")\n",
    "plt.title(\"Residual plot in Decision Tree\")"
   ]
  },
  {
   "cell_type": "code",
   "execution_count": 100,
   "metadata": {},
   "outputs": [],
   "source": [
    "regressor_best = DecisionTreeRegressor(random_state=0, max_depth = 2)\n",
    "regressor_best.fit(X_2_train,y_2_train)\n",
    "y_2_pred=regressor_best.predict(X_2_test)"
   ]
  },
  {
   "cell_type": "code",
   "execution_count": 101,
   "metadata": {},
   "outputs": [
    {
     "data": {
      "text/plain": [
       "86.58877664150516"
      ]
     },
     "execution_count": 101,
     "metadata": {},
     "output_type": "execute_result"
    }
   ],
   "source": [
    "np.sqrt(mean_squared_error(y_2_test, y_2_pred))"
   ]
  },
  {
   "cell_type": "code",
   "execution_count": 102,
   "metadata": {},
   "outputs": [
    {
     "data": {
      "text/plain": [
       "0.0007123403855991972"
      ]
     },
     "execution_count": 102,
     "metadata": {},
     "output_type": "execute_result"
    }
   ],
   "source": [
    "r2_score(y_2_test, y_2_pred)"
   ]
  },
  {
   "cell_type": "markdown",
   "metadata": {},
   "source": [
    "Decision Tree regressor also doesn;t seem to be an ideal regression model for our dataset"
   ]
  },
  {
   "cell_type": "markdown",
   "metadata": {},
   "source": [
    "### 5.7.6 Random Forest Regression<a id='5.7.6_Random_Forest_Regression'></a>"
   ]
  },
  {
   "cell_type": "code",
   "execution_count": 103,
   "metadata": {},
   "outputs": [],
   "source": [
    "rf_regressor = RandomForestRegressor(n_estimators = 100, random_state = 0)\n",
    "rf_regressor.fit(X_2_train,y_2_train)\n",
    "y_2_pred=rf_regressor.predict(X_2_test)"
   ]
  },
  {
   "cell_type": "code",
   "execution_count": 104,
   "metadata": {},
   "outputs": [
    {
     "data": {
      "text/plain": [
       "90.74768718878622"
      ]
     },
     "execution_count": 104,
     "metadata": {},
     "output_type": "execute_result"
    }
   ],
   "source": [
    "np.sqrt(mean_squared_error(y_2_test, y_2_pred))"
   ]
  },
  {
   "cell_type": "code",
   "execution_count": 105,
   "metadata": {},
   "outputs": [
    {
     "data": {
      "text/plain": [
       "-0.09758571813311434"
      ]
     },
     "execution_count": 105,
     "metadata": {},
     "output_type": "execute_result"
    }
   ],
   "source": [
    "r2_score(y_2_test, y_2_pred)"
   ]
  },
  {
   "cell_type": "code",
   "execution_count": 106,
   "metadata": {},
   "outputs": [],
   "source": [
    "rf_regressor.fit(X_2_std_train,y_2_train)\n",
    "y_2_pred=rf_regressor.predict(X_2_std_test)"
   ]
  },
  {
   "cell_type": "code",
   "execution_count": 107,
   "metadata": {},
   "outputs": [
    {
     "data": {
      "text/plain": [
       "90.77407698381678"
      ]
     },
     "execution_count": 107,
     "metadata": {},
     "output_type": "execute_result"
    }
   ],
   "source": [
    "np.sqrt(mean_squared_error(y_2_test, y_2_pred))"
   ]
  },
  {
   "cell_type": "code",
   "execution_count": 108,
   "metadata": {},
   "outputs": [
    {
     "data": {
      "text/plain": [
       "-0.09822417569839526"
      ]
     },
     "execution_count": 108,
     "metadata": {},
     "output_type": "execute_result"
    }
   ],
   "source": [
    "r2_score(y_2_test, y_2_pred)"
   ]
  },
  {
   "cell_type": "markdown",
   "metadata": {},
   "source": [
    "Random Forest Regressor is also giving negative R2 so doesn't seem to b an ideal regression technique for our modelling"
   ]
  },
  {
   "cell_type": "markdown",
   "metadata": {},
   "source": [
    "## 5.8 Using GridSearchCV & Cross-Validation<a id='5.8_Using_GridSearchCV_&_Cross-Validation'></a>"
   ]
  },
  {
   "cell_type": "markdown",
   "metadata": {},
   "source": [
    "we have two sets X_1, X_2 , using various regression techniques to find the best parameters and model for our data using cross validation and GridsearchCV to see if we can fine tune our parmaters and improve our model. We will use R2 score as our metric for the gridsearch evaluation.\n",
    "We are using dataset without splitting"
   ]
  },
  {
   "cell_type": "markdown",
   "metadata": {},
   "source": [
    "### 5.8.1 Multiple Linear Regression without Regularization<a id='5.8.1_Multiple_Linear_Regression_without_Regularization'></a>"
   ]
  },
  {
   "cell_type": "code",
   "execution_count": 109,
   "metadata": {},
   "outputs": [],
   "source": [
    "multiple_lr = linear_model.LinearRegression()\n",
    "# Fitting the multiple_lr object to the data , this time using the whole feature matrix X\n",
    "multiple_lr = linear_model.LinearRegression().fit(X_2,y_2)\n",
    "# Importing cross_val_score function from the model_selection submodule of scikit learn\n",
    "from sklearn.model_selection import cross_val_score\n",
    "# storing the ten scores in an object called mse\n",
    "r2= cross_val_score(multiple_lr,X_2,y_2,cv=5)"
   ]
  },
  {
   "cell_type": "code",
   "execution_count": 110,
   "metadata": {},
   "outputs": [
    {
     "data": {
      "text/plain": [
       "0.0016047674374450205"
      ]
     },
     "execution_count": 110,
     "metadata": {},
     "output_type": "execute_result"
    }
   ],
   "source": [
    "r2.mean()"
   ]
  },
  {
   "cell_type": "markdown",
   "metadata": {},
   "source": [
    "MLR with Crossvalidation gives an average R2 of 0.0016047"
   ]
  },
  {
   "cell_type": "code",
   "execution_count": 114,
   "metadata": {},
   "outputs": [
    {
     "data": {
      "image/png": "[encoded data removed]",
      "text/plain": [
       "<Figure size 720x432 with 1 Axes>"
      ]
     },
     "metadata": {
      "needs_background": "light"
     },
     "output_type": "display_data"
    }
   ],
   "source": [
    "feature_names = X_2.columns\n",
    "plt.figure(figsize=(10,6))\n",
    "plt.plot(range(len(feature_names)),multiple_lr.coef_)\n",
    "plt.axhline(0, color='r', linestyle='solid')\n",
    "plt.xticks(range(len(feature_names)),feature_names,rotation=50)\n",
    "plt.title(\"Coefficients for Multiple Linear Regression\")\n",
    "plt.ylabel(\"coefficients\")\n",
    "plt.xlabel(\"features\")\n",
    "plt.show()"
   ]
  },
  {
   "cell_type": "markdown",
   "metadata": {},
   "source": [
    "### 5.8.2 GridSearchCV with Ridge<a id='5.8.2_GridSearchCV_with_Ridge'></a>"
   ]
  },
  {
   "cell_type": "code",
   "execution_count": 115,
   "metadata": {},
   "outputs": [],
   "source": [
    "alpha_values = {'alpha':[0.001, 0.01,0.02,0.03,0.04, 0.05, 0.06, 0.08, 1, 2, 3, 5, 8, 10, 20, 50,100]}\n",
    "ridge= GridSearchCV(linear_model.Ridge(), alpha_values, cv=5 )\n"
   ]
  },
  {
   "cell_type": "code",
   "execution_count": 116,
   "metadata": {},
   "outputs": [
    {
     "name": "stdout",
     "output_type": "stream",
     "text": [
      "The best value of alpha is: {'alpha': 100}\n"
     ]
    }
   ],
   "source": [
    "print('The best value of alpha is:',ridge.fit(X_2,y_2).best_params_)"
   ]
  },
  {
   "cell_type": "code",
   "execution_count": 117,
   "metadata": {},
   "outputs": [
    {
     "name": "stdout",
     "output_type": "stream",
     "text": [
      "The best score for the best Ridge estimator is: 0.0016048149494722885\n"
     ]
    }
   ],
   "source": [
    "print('The best score for the best Ridge estimator is:',ridge.fit(X_2,y_2).best_score_)"
   ]
  },
  {
   "cell_type": "code",
   "execution_count": 118,
   "metadata": {},
   "outputs": [
    {
     "data": {
      "image/png": "[encoded data removed]",
      "text/plain": [
       "<Figure size 720x432 with 1 Axes>"
      ]
     },
     "metadata": {
      "needs_background": "light"
     },
     "output_type": "display_data"
    }
   ],
   "source": [
    "best_ridge_model= linear_model.Ridge(alpha=100)\n",
    "# Extracting the coefficient estimates for all ten features\n",
    "best_ridge_coeffs = best_ridge_model.fit(X_2,y_2).coef_\n",
    "# plotting the coefficient estimates for all ten features\n",
    "plt.figure(figsize=(10,6))\n",
    "plt.plot(range(len(feature_names)),best_ridge_coeffs)\n",
    "plt.axhline(0, color='r', linestyle='solid')\n",
    "plt.xticks(range(len(feature_names)),feature_names,rotation=50)\n",
    "plt.title(\"Coefficient estimates from Ridge Regression\")\n",
    "plt.ylabel(\"coefficients\")\n",
    "plt.xlabel(\"features\")\n",
    "plt.show()"
   ]
  },
  {
   "cell_type": "markdown",
   "metadata": {},
   "source": [
    "With GRidSerchCV & ridge as the estimator, The best value for alpha came out to be 100 and r2 of .0016049 which is nearly same as MLR\n",
    "\n",
    "Lets Try Lasso With gridSearch and list of parameters"
   ]
  },
  {
   "cell_type": "markdown",
   "metadata": {},
   "source": [
    "### 5.8.3 GridSearchCV with Lasso<a id='5.8.3_GridSearchCV_with_Lasso'></a>"
   ]
  },
  {
   "cell_type": "code",
   "execution_count": 119,
   "metadata": {},
   "outputs": [],
   "source": [
    "alpha_values = {'alpha':[0.001, 0.01,0.02,0.03,0.04, 0.05, 0.06, 0.08, 1, 2, 3, 5, 8, 10, 20, 50,100]}\n",
    "lasso= GridSearchCV(linear_model.Lasso(), alpha_values, cv=5 )"
   ]
  },
  {
   "cell_type": "code",
   "execution_count": 120,
   "metadata": {},
   "outputs": [
    {
     "name": "stdout",
     "output_type": "stream",
     "text": [
      "The best value of alpha is: {'alpha': 1}\n"
     ]
    }
   ],
   "source": [
    "print('The best value of alpha is:',lasso.fit(X_2,y_2).best_params_)"
   ]
  },
  {
   "cell_type": "code",
   "execution_count": 121,
   "metadata": {},
   "outputs": [
    {
     "name": "stdout",
     "output_type": "stream",
     "text": [
      "The best score for the best Lasso estimator is: 0.0016325346963980136\n"
     ]
    }
   ],
   "source": [
    "print('The best score for the best Lasso estimator is:',lasso.fit(X_2,y_2).best_score_)"
   ]
  },
  {
   "cell_type": "code",
   "execution_count": 122,
   "metadata": {},
   "outputs": [
    {
     "data": {
      "image/png": "[encoded data removed]",
      "text/plain": [
       "<Figure size 720x432 with 1 Axes>"
      ]
     },
     "metadata": {
      "needs_background": "light"
     },
     "output_type": "display_data"
    }
   ],
   "source": [
    "\n",
    "best_lasso_model= linear_model.Lasso(alpha=1)\n",
    "# Extracting the coefficient estimates for all ten features\n",
    "best_lasso_coeffs = best_lasso_model.fit(X_2,y_2).coef_\n",
    "# plotting the coefficient estimates for all ten features\n",
    "plt.figure(figsize=(10,6))\n",
    "plt.plot(range(len(feature_names)),best_lasso_coeffs)\n",
    "plt.axhline(0, color='r', linestyle='solid')\n",
    "plt.xticks(range(len(feature_names)),feature_names,rotation=50)\n",
    "plt.title(\"Coefficient estimates from Lasso Regression\")\n",
    "plt.ylabel(\"coefficients\")\n",
    "plt.xlabel(\"features\")\n",
    "plt.show()"
   ]
  },
  {
   "cell_type": "markdown",
   "metadata": {},
   "source": [
    "Lasso Regression seems to be ideal with alpha being 1 and slight increase in r2 score with .001632, it seems better than other models\n",
    "\n",
    "NExt is ElasticNet regression"
   ]
  },
  {
   "cell_type": "markdown",
   "metadata": {},
   "source": [
    "### 5.8.4 GridSearchCV with ElasticNet<a id='5.8.4_GridSearchCV_with_ElasticNet'></a>"
   ]
  },
  {
   "cell_type": "code",
   "execution_count": 123,
   "metadata": {},
   "outputs": [],
   "source": [
    "alpha_values = {'alpha':[0.00005,0.0005,0.001, 0.01, 0.05, 0.06, 0.08, 1, 2, 3, 5, 8, 10, 20, 50, 100],\n",
    " 'l1_ratio':[0.1,0.2,0.3,0.4,0.5,0.6,0.7,0.8,1]}\n",
    "elastic= GridSearchCV(ElasticNet(), alpha_values, cv=10 )"
   ]
  },
  {
   "cell_type": "code",
   "execution_count": 124,
   "metadata": {},
   "outputs": [
    {
     "name": "stdout",
     "output_type": "stream",
     "text": [
      "The best value of alpha is: {'alpha': 5, 'l1_ratio': 0.1}\n"
     ]
    }
   ],
   "source": [
    "print('The best value of alpha is:',elastic.fit(X_2,y_2).best_params_)"
   ]
  },
  {
   "cell_type": "code",
   "execution_count": 125,
   "metadata": {},
   "outputs": [
    {
     "name": "stdout",
     "output_type": "stream",
     "text": [
      "The best score for the best elastic net estimator is: 0.0015916877881827051\n"
     ]
    }
   ],
   "source": [
    "print('The best score for the best elastic net estimator is:',elastic.fit(X_2,y_2).best_score_)"
   ]
  },
  {
   "cell_type": "code",
   "execution_count": 127,
   "metadata": {},
   "outputs": [
    {
     "data": {
      "image/png": "[encoded data removed]",
      "text/plain": [
       "<Figure size 720x432 with 1 Axes>"
      ]
     },
     "metadata": {
      "needs_background": "light"
     },
     "output_type": "display_data"
    }
   ],
   "source": [
    "best_en_model= linear_model.ElasticNet(alpha=5, l1_ratio = 0.1)\n",
    "# Extracting the coefficient estimates for all ten features\n",
    "best_en_coeffs = best_en_model.fit(X_2,y_2).coef_\n",
    "# plotting the coefficient estimates for all ten features\n",
    "plt.figure(figsize=(10,6))\n",
    "plt.plot(range(len(feature_names)),best_lasso_coeffs)\n",
    "plt.axhline(0, color='r', linestyle='solid')\n",
    "plt.xticks(range(len(feature_names)),feature_names,rotation=50)\n",
    "plt.title(\"Coefficient estimates from Lasso Regression\")\n",
    "plt.ylabel(\"coefficients\")\n",
    "plt.xlabel(\"features\")\n",
    "plt.show()"
   ]
  },
  {
   "cell_type": "markdown",
   "metadata": {},
   "source": [
    "With Elastic Net, alpha of 5 and L1 Ratio of 0.1 gives us r2 score of .001591. "
   ]
  },
  {
   "cell_type": "code",
   "execution_count": null,
   "metadata": {},
   "outputs": [],
   "source": []
  },
  {
   "cell_type": "markdown",
   "metadata": {},
   "source": [
    "### 5.8.5 Dataframe of Coefficients<a id='5.8.5_Dataframe_of_Coefficients'></a>"
   ]
  },
  {
   "cell_type": "markdown",
   "metadata": {},
   "source": [
    "A dataframe with differennt coefficients for the dependent variables is created below using various linear regression techniques  to compare the results"
   ]
  },
  {
   "cell_type": "code",
   "execution_count": 128,
   "metadata": {},
   "outputs": [
    {
     "data": {
      "text/html": [
       "<style  type=\"text/css\" >\n",
       "#T_52490_row0_col0,#T_52490_row0_col1,#T_52490_row1_col0,#T_52490_row1_col1,#T_52490_row1_col2,#T_52490_row1_col3,#T_52490_row2_col0,#T_52490_row2_col1,#T_52490_row2_col2,#T_52490_row2_col3,#T_52490_row3_col0,#T_52490_row3_col1,#T_52490_row3_col2,#T_52490_row3_col3,#T_52490_row4_col0,#T_52490_row4_col1,#T_52490_row4_col2,#T_52490_row4_col3,#T_52490_row5_col0,#T_52490_row5_col1,#T_52490_row5_col2,#T_52490_row5_col3,#T_52490_row6_col0,#T_52490_row6_col1,#T_52490_row6_col2,#T_52490_row6_col3,#T_52490_row7_col0,#T_52490_row7_col1,#T_52490_row7_col2,#T_52490_row7_col3{\n",
       "            color:  black;\n",
       "        }#T_52490_row0_col2,#T_52490_row0_col3{\n",
       "            color:  red;\n",
       "        }</style><table id=\"T_52490_\" ><thead>    <tr>        <th class=\"blank level0\" ></th>        <th class=\"col_heading level0 col0\" >without_regularization</th>        <th class=\"col_heading level0 col1\" >Ridge</th>        <th class=\"col_heading level0 col2\" >Lasso</th>        <th class=\"col_heading level0 col3\" >ElasticNet</th>    </tr></thead><tbody>\n",
       "                <tr>\n",
       "                        <th id=\"T_52490_level0_row0\" class=\"row_heading level0 row0\" >Country</th>\n",
       "                        <td id=\"T_52490_row0_col0\" class=\"data row0 col0\" >0.193134</td>\n",
       "                        <td id=\"T_52490_row0_col1\" class=\"data row0 col1\" >0.192902</td>\n",
       "                        <td id=\"T_52490_row0_col2\" class=\"data row0 col2\" >0.000000</td>\n",
       "                        <td id=\"T_52490_row0_col3\" class=\"data row0 col3\" >0.000000</td>\n",
       "            </tr>\n",
       "            <tr>\n",
       "                        <th id=\"T_52490_level0_row1\" class=\"row_heading level0 row1\" >Year</th>\n",
       "                        <td id=\"T_52490_row1_col0\" class=\"data row1 col0\" >-0.244940</td>\n",
       "                        <td id=\"T_52490_row1_col1\" class=\"data row1 col1\" >-0.244938</td>\n",
       "                        <td id=\"T_52490_row1_col2\" class=\"data row1 col2\" >-0.231375</td>\n",
       "                        <td id=\"T_52490_row1_col3\" class=\"data row1 col3\" >-0.231375</td>\n",
       "            </tr>\n",
       "            <tr>\n",
       "                        <th id=\"T_52490_level0_row2\" class=\"row_heading level0 row2\" >Month</th>\n",
       "                        <td id=\"T_52490_row2_col0\" class=\"data row2 col0\" >0.052424</td>\n",
       "                        <td id=\"T_52490_row2_col1\" class=\"data row2 col1\" >0.052417</td>\n",
       "                        <td id=\"T_52490_row2_col2\" class=\"data row2 col2\" >0.002784</td>\n",
       "                        <td id=\"T_52490_row2_col3\" class=\"data row2 col3\" >0.002784</td>\n",
       "            </tr>\n",
       "            <tr>\n",
       "                        <th id=\"T_52490_level0_row3\" class=\"row_heading level0 row3\" >sh</th>\n",
       "                        <td id=\"T_52490_row3_col0\" class=\"data row3 col0\" >-0.176838</td>\n",
       "                        <td id=\"T_52490_row3_col1\" class=\"data row3 col1\" >-0.176831</td>\n",
       "                        <td id=\"T_52490_row3_col2\" class=\"data row3 col2\" >-0.142360</td>\n",
       "                        <td id=\"T_52490_row3_col3\" class=\"data row3 col3\" >-0.142360</td>\n",
       "            </tr>\n",
       "            <tr>\n",
       "                        <th id=\"T_52490_level0_row4\" class=\"row_heading level0 row4\" >lat</th>\n",
       "                        <td id=\"T_52490_row4_col0\" class=\"data row4 col0\" >-0.056930</td>\n",
       "                        <td id=\"T_52490_row4_col1\" class=\"data row4 col1\" >-0.056930</td>\n",
       "                        <td id=\"T_52490_row4_col2\" class=\"data row4 col2\" >-0.049605</td>\n",
       "                        <td id=\"T_52490_row4_col3\" class=\"data row4 col3\" >-0.049605</td>\n",
       "            </tr>\n",
       "            <tr>\n",
       "                        <th id=\"T_52490_level0_row5\" class=\"row_heading level0 row5\" >long</th>\n",
       "                        <td id=\"T_52490_row5_col0\" class=\"data row5 col0\" >-0.025245</td>\n",
       "                        <td id=\"T_52490_row5_col1\" class=\"data row5 col1\" >-0.025241</td>\n",
       "                        <td id=\"T_52490_row5_col2\" class=\"data row5 col2\" >-0.020873</td>\n",
       "                        <td id=\"T_52490_row5_col3\" class=\"data row5 col3\" >-0.020873</td>\n",
       "            </tr>\n",
       "            <tr>\n",
       "                        <th id=\"T_52490_level0_row6\" class=\"row_heading level0 row6\" >Day</th>\n",
       "                        <td id=\"T_52490_row6_col0\" class=\"data row6 col0\" >0.033758</td>\n",
       "                        <td id=\"T_52490_row6_col1\" class=\"data row6 col1\" >0.033757</td>\n",
       "                        <td id=\"T_52490_row6_col2\" class=\"data row6 col2\" >0.025173</td>\n",
       "                        <td id=\"T_52490_row6_col3\" class=\"data row6 col3\" >0.025173</td>\n",
       "            </tr>\n",
       "            <tr>\n",
       "                        <th id=\"T_52490_level0_row7\" class=\"row_heading level0 row7\" >Hour</th>\n",
       "                        <td id=\"T_52490_row7_col0\" class=\"data row7 col0\" >-0.187759</td>\n",
       "                        <td id=\"T_52490_row7_col1\" class=\"data row7 col1\" >-0.187756</td>\n",
       "                        <td id=\"T_52490_row7_col2\" class=\"data row7 col2\" >-0.166578</td>\n",
       "                        <td id=\"T_52490_row7_col3\" class=\"data row7 col3\" >-0.166578</td>\n",
       "            </tr>\n",
       "    </tbody></table>"
      ],
      "text/plain": [
       "<pandas.io.formats.style.Styler at 0x1c31c2ccb70>"
      ]
     },
     "execution_count": 128,
     "metadata": {},
     "output_type": "execute_result"
    }
   ],
   "source": [
    "comparing_models = pd.DataFrame({'without_regularization':multiple_lr.coef_,\n",
    " 'Ridge':best_ridge_coeffs,\n",
    " 'Lasso':best_lasso_coeffs,\n",
    " 'ElasticNet' : best_en_coeffs},\n",
    " index=feature_names)\n",
    "# Highlighting coefficient estimates with value '0'\n",
    "def color_red_for_zero(value):\n",
    " color = 'red' if value == 0 else 'black'\n",
    " return 'color: %s' % color\n",
    "comparing_models= comparing_models.style.applymap(color_red_for_zero)\n",
    "comparing_models"
   ]
  },
  {
   "cell_type": "markdown",
   "metadata": {},
   "source": [
    "As seen normal Multiple Linear regression and ridge are almost same but Lasso differs a bit in terms of coefficients"
   ]
  },
  {
   "cell_type": "code",
   "execution_count": null,
   "metadata": {},
   "outputs": [],
   "source": []
  },
  {
   "cell_type": "code",
   "execution_count": null,
   "metadata": {},
   "outputs": [],
   "source": []
  }
 ],
 "metadata": {
  "kernelspec": {
   "display_name": "Python 3",
   "language": "python",
   "name": "python3"
  },
  "language_info": {
   "codemirror_mode": {
    "name": "ipython",
    "version": 3
   },
   "file_extension": ".py",
   "mimetype": "text/x-python",
   "name": "python",
   "nbconvert_exporter": "python",
   "pygments_lexer": "ipython3",
   "version": "3.7.3"
  },
  "toc": {
   "base_numbering": 1,
   "nav_menu": {},
   "number_sections": true,
   "sideBar": true,
   "skip_h1_title": false,
   "title_cell": "Table of Contents",
   "title_sidebar": "Contents",
   "toc_cell": false,
   "toc_position": {},
   "toc_section_display": true,
   "toc_window_display": true
  },
  "varInspector": {
   "cols": {
    "lenName": 16,
    "lenType": 16,
    "lenVar": 40
   },
   "kernels_config": {
    "python": {
     "delete_cmd_postfix": "",
     "delete_cmd_prefix": "del ",
     "library": "var_list.py",
     "varRefreshCmd": "print(var_dic_list())"
    },
    "r": {
     "delete_cmd_postfix": ") ",
     "delete_cmd_prefix": "rm(",
     "library": "var_list.r",
     "varRefreshCmd": "cat(var_dic_list()) "
    }
   },
   "types_to_exclude": [
    "module",
    "function",
    "builtin_function_or_method",
    "instance",
    "_Feature"
   ],
   "window_display": false
  }
 },
 "nbformat": 4,
 "nbformat_minor": 4
}
